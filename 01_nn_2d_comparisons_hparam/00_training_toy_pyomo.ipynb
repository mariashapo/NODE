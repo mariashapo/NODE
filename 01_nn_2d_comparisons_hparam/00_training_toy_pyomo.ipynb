{
 "cells": [
  {
   "cell_type": "code",
   "execution_count": 1,
   "metadata": {},
   "outputs": [],
   "source": [
    "import numpy as np\n",
    "import itertools\n",
    "\n",
    "import jax\n",
    "import jax.numpy as jnp\n",
    "\n",
    "# -------------- helper libraries -------------- #\n",
    "import sys\n",
    "import os\n",
    "import time\n",
    "import pickle\n",
    "import matplotlib.pyplot as plt\n",
    "import pandas as pd\n",
    "import importlib\n",
    "\n",
    "path_ = os.path.abspath(os.path.join('..', '00_utils'))\n",
    "\n",
    "if path_ not in sys.path:\n",
    "    sys.path.append(path_)\n",
    "    \n",
    "path_ = os.path.abspath(os.path.join('..', '00_models'))\n",
    "\n",
    "if path_ not in sys.path:\n",
    "    sys.path.append(path_)\n",
    "    \n",
    "path_ = os.path.abspath(os.path.join('..', '00_utils_training'))\n",
    "\n",
    "if path_ not in sys.path:\n",
    "    sys.path.append(path_)\n",
    "\n",
    "from data_generation import generate_ode_data\n",
    "from non_parametric_collocation import collocate_data\n",
    "import collocation_obj\n",
    "\n",
    "import run_train_toy"
   ]
  },
  {
   "cell_type": "code",
   "execution_count": 2,
   "metadata": {},
   "outputs": [],
   "source": [
    "import logging\n",
    "logging.basicConfig(level=logging.ERROR, filename='error_log.txt')"
   ]
  },
  {
   "cell_type": "code",
   "execution_count": 3,
   "metadata": {},
   "outputs": [],
   "source": [
    "importlib.reload(collocation_obj)\n",
    "Collocation = collocation_obj.Collocation"
   ]
  },
  {
   "cell_type": "markdown",
   "metadata": {},
   "source": [
    "### Set Out Hyperparameter Optimization (Shared Parameters)\n",
    "* network size\n",
    "* regularization\n",
    "* number of training points\n",
    "\n",
    "### Pyomo-specific Hyperparameters\n",
    "* number of collocation points with fixed n. of training points\n",
    "* objective tolerances\n",
    "\n",
    "### Sequential ODE Solver Hyperparameters\n",
    "* learning rate\n",
    "* number of training epochs\n",
    "* ODE-solver tolerances\n"
   ]
  },
  {
   "cell_type": "markdown",
   "metadata": {},
   "source": [
    "---\n",
    "# Generate Data"
   ]
  },
  {
   "cell_type": "code",
   "execution_count": 4,
   "metadata": {},
   "outputs": [],
   "source": [
    "importlib.reload(run_train_toy)\n",
    "TrainerToy = run_train_toy.TrainerToy\n",
    "\n",
    "def load_trainer(type_, spacing_type=\"chebyshev\"):\n",
    "    data_params_ho = {\n",
    "        'N': 200,\n",
    "        'noise_level': 0.2,\n",
    "        'ode_type': \"harmonic_oscillator\",\n",
    "        'data_param': {\"omega_squared\": 2},\n",
    "        'start_time': 0,\n",
    "        'end_time': 10,\n",
    "        'spacing_type': spacing_type,\n",
    "        'initial_state': np.array([0.0, 1.0])\n",
    "    }\n",
    "\n",
    "    data_params_vdp = {\n",
    "        'N': 200,\n",
    "        'noise_level': 0.1,\n",
    "        'ode_type': \"van_der_pol\",\n",
    "        'data_param': {\"mu\": 1, \"omega\": 1},\n",
    "        'start_time': 0,\n",
    "        'end_time': 15,\n",
    "        'spacing_type': spacing_type,\n",
    "        'initial_state': np.array([0.0, 1.0])\n",
    "    }\n",
    "\n",
    "    data_params_do = {\n",
    "        'N': 200,\n",
    "        'noise_level': 0.1,\n",
    "        'ode_type': \"damped_oscillation\",\n",
    "        'data_param': {\"damping_factor\": 0.1, \"omega_squared\": 1},\n",
    "        'start_time': 0,\n",
    "        'end_time': 10,\n",
    "        'spacing_type': spacing_type,\n",
    "        'initial_state': np.array([0.0, 1.0])\n",
    "    }\n",
    "\n",
    "    if type_ == \"ho\":\n",
    "        p_ = data_params_ho\n",
    "    elif type_ == \"vdp\":\n",
    "        p_ = data_params_vdp\n",
    "    elif type_ == \"do\":\n",
    "        p_ = data_params_do\n",
    "    else:\n",
    "        raise ValueError(f\"Invalid type {type_}\")\n",
    "\n",
    "    trainer = TrainerToy(p_, model_type=\"pyomo\")\n",
    "    trainer.prepare_inputs()\n",
    "    return trainer"
   ]
  },
  {
   "cell_type": "markdown",
   "metadata": {},
   "source": [
    "## Network Size"
   ]
  },
  {
   "cell_type": "markdown",
   "metadata": {},
   "source": [
    "####  Netwrok Sizes to be tested:\n",
    "[2, 16, 2] <br>\n",
    "[2, 32, 2] <br>\n",
    "[2, 64, 2] <br>\n",
    "[2, 16, 16, 2] <br>\n",
    "[2, 32, 32, 2] <br>\n",
    "[2, 64, 64, 2] <br>\n",
    "\n",
    "Parameters to vary:\n",
    "* Tolerance (pyomo) and epochs (sequential ODE solver)\n",
    "* Regularizarion"
   ]
  },
  {
   "cell_type": "code",
   "execution_count": 10,
   "metadata": {},
   "outputs": [
    {
     "name": "stdout",
     "output_type": "stream",
     "text": [
      "(0.001, 1e-06)\n",
      "Regularization: 0.001 Tolerance: 1e-06\n",
      "(0.001, 1e-07)\n",
      "Regularization: 0.001 Tolerance: 1e-07\n",
      "(0.001, 1e-08)\n",
      "Regularization: 0.001 Tolerance: 1e-08\n",
      "(0.01, 1e-06)\n",
      "Regularization: 0.01 Tolerance: 1e-06\n",
      "(0.01, 1e-07)\n",
      "Regularization: 0.01 Tolerance: 1e-07\n",
      "(0.01, 1e-08)\n",
      "Regularization: 0.01 Tolerance: 1e-08\n",
      "(0.1, 1e-06)\n",
      "Regularization: 0.1 Tolerance: 1e-06\n",
      "(0.1, 1e-07)\n",
      "Regularization: 0.1 Tolerance: 1e-07\n",
      "(0.1, 1e-08)\n",
      "Regularization: 0.1 Tolerance: 1e-08\n"
     ]
    }
   ],
   "source": [
    "reg_list = [0.001, 0.01, 0.1]\n",
    "tol_list = [1e-6, 1e-7, 1e-8]\n",
    "\n",
    "param_combinations = list(itertools.product(reg_list, tol_list))\n",
    "\n",
    "for c in param_combinations:\n",
    "    print(str(c))\n",
    "    print(\"Regularization:\", c[0], \"Tolerance:\", c[1])"
   ]
  },
  {
   "cell_type": "code",
   "execution_count": 224,
   "metadata": {},
   "outputs": [
    {
     "name": "stderr",
     "output_type": "stream",
     "text": [
      "/Users/mariiashapo/Library/CloudStorage/OneDrive-Personal/project_2324/NODE/00_models/nn_pyomo_base.py:82: UserWarning: y_init should be structured such that each row represents a new time point.\n",
      "  warnings.warn(\"y_init should be structured such that each row represents a new time point.\")\n"
     ]
    },
    {
     "name": "stdout",
     "output_type": "stream",
     "text": [
      "Ipopt 3.14.16: tol=1e-05\n",
      "acceptable_tol=1e-15\n",
      "acceptable_constr_viol_tol=1e-15\n",
      "acceptable_dual_inf_tol=1e-15\n",
      "acceptable_compl_inf_tol=1e-15\n",
      "acceptable_iter=0\n",
      "halt_on_ampl_error=yes\n",
      "print_level=1\n",
      "max_iter=3000\n",
      "\n",
      "\n",
      "******************************************************************************\n",
      "This program contains Ipopt, a library for large-scale nonlinear optimization.\n",
      " Ipopt is released as open source code under the Eclipse Public License (EPL).\n",
      "         For more information visit https://github.com/coin-or/Ipopt\n",
      "******************************************************************************\n",
      "\n",
      "{'solver_time': 1.1164782047271729, 'termination_condition': <TerminationCondition.optimal: 'optimal'>, 'message': 'Ipopt 3.14.16\\\\x3a Optimal Solution Found'}\n",
      "Iteration: 1 / 96\n"
     ]
    },
    {
     "name": "stderr",
     "output_type": "stream",
     "text": [
      "/Users/mariiashapo/Library/CloudStorage/OneDrive-Personal/project_2324/NODE/00_models/nn_pyomo_base.py:82: UserWarning: y_init should be structured such that each row represents a new time point.\n",
      "  warnings.warn(\"y_init should be structured such that each row represents a new time point.\")\n"
     ]
    },
    {
     "name": "stdout",
     "output_type": "stream",
     "text": [
      "Ipopt 3.14.16: tol=1e-06\n",
      "acceptable_tol=1e-15\n",
      "acceptable_constr_viol_tol=1e-15\n",
      "acceptable_dual_inf_tol=1e-15\n",
      "acceptable_compl_inf_tol=1e-15\n",
      "acceptable_iter=0\n",
      "halt_on_ampl_error=yes\n",
      "print_level=1\n",
      "max_iter=3000\n",
      "\n",
      "\n",
      "******************************************************************************\n",
      "This program contains Ipopt, a library for large-scale nonlinear optimization.\n",
      " Ipopt is released as open source code under the Eclipse Public License (EPL).\n",
      "         For more information visit https://github.com/coin-or/Ipopt\n",
      "******************************************************************************\n",
      "\n",
      "{'solver_time': 1.0297002792358398, 'termination_condition': <TerminationCondition.optimal: 'optimal'>, 'message': 'Ipopt 3.14.16\\\\x3a Optimal Solution Found'}\n",
      "Iteration: 2 / 96\n"
     ]
    },
    {
     "name": "stderr",
     "output_type": "stream",
     "text": [
      "/Users/mariiashapo/Library/CloudStorage/OneDrive-Personal/project_2324/NODE/00_models/nn_pyomo_base.py:82: UserWarning: y_init should be structured such that each row represents a new time point.\n",
      "  warnings.warn(\"y_init should be structured such that each row represents a new time point.\")\n"
     ]
    },
    {
     "name": "stdout",
     "output_type": "stream",
     "text": [
      "Ipopt 3.14.16: tol=1e-07\n",
      "acceptable_tol=1e-15\n",
      "acceptable_constr_viol_tol=1e-15\n",
      "acceptable_dual_inf_tol=1e-15\n",
      "acceptable_compl_inf_tol=1e-15\n",
      "acceptable_iter=0\n",
      "halt_on_ampl_error=yes\n",
      "print_level=1\n",
      "max_iter=3000\n",
      "\n",
      "\n",
      "******************************************************************************\n",
      "This program contains Ipopt, a library for large-scale nonlinear optimization.\n",
      " Ipopt is released as open source code under the Eclipse Public License (EPL).\n",
      "         For more information visit https://github.com/coin-or/Ipopt\n",
      "******************************************************************************\n",
      "\n",
      "{'solver_time': 0.95961594581604, 'termination_condition': <TerminationCondition.optimal: 'optimal'>, 'message': 'Ipopt 3.14.16\\\\x3a Optimal Solution Found'}\n",
      "Iteration: 3 / 96\n"
     ]
    },
    {
     "name": "stderr",
     "output_type": "stream",
     "text": [
      "/Users/mariiashapo/Library/CloudStorage/OneDrive-Personal/project_2324/NODE/00_models/nn_pyomo_base.py:82: UserWarning: y_init should be structured such that each row represents a new time point.\n",
      "  warnings.warn(\"y_init should be structured such that each row represents a new time point.\")\n"
     ]
    },
    {
     "name": "stdout",
     "output_type": "stream",
     "text": [
      "Ipopt 3.14.16: tol=1e-08\n",
      "acceptable_tol=1e-15\n",
      "acceptable_constr_viol_tol=1e-15\n",
      "acceptable_dual_inf_tol=1e-15\n",
      "acceptable_compl_inf_tol=1e-15\n",
      "acceptable_iter=0\n",
      "halt_on_ampl_error=yes\n",
      "print_level=1\n",
      "max_iter=3000\n",
      "\n",
      "\n",
      "******************************************************************************\n",
      "This program contains Ipopt, a library for large-scale nonlinear optimization.\n",
      " Ipopt is released as open source code under the Eclipse Public License (EPL).\n",
      "         For more information visit https://github.com/coin-or/Ipopt\n",
      "******************************************************************************\n",
      "\n",
      "{'solver_time': 1.1058120727539062, 'termination_condition': <TerminationCondition.optimal: 'optimal'>, 'message': 'Ipopt 3.14.16\\\\x3a Optimal Solution Found'}\n",
      "Iteration: 4 / 96\n"
     ]
    },
    {
     "name": "stderr",
     "output_type": "stream",
     "text": [
      "/Users/mariiashapo/Library/CloudStorage/OneDrive-Personal/project_2324/NODE/00_models/nn_pyomo_base.py:82: UserWarning: y_init should be structured such that each row represents a new time point.\n",
      "  warnings.warn(\"y_init should be structured such that each row represents a new time point.\")\n"
     ]
    },
    {
     "name": "stdout",
     "output_type": "stream",
     "text": [
      "Ipopt 3.14.16: tol=1e-05\n",
      "acceptable_tol=1e-15\n",
      "acceptable_constr_viol_tol=1e-15\n",
      "acceptable_dual_inf_tol=1e-15\n",
      "acceptable_compl_inf_tol=1e-15\n",
      "acceptable_iter=0\n",
      "halt_on_ampl_error=yes\n",
      "print_level=1\n",
      "max_iter=3000\n",
      "\n",
      "\n",
      "******************************************************************************\n",
      "This program contains Ipopt, a library for large-scale nonlinear optimization.\n",
      " Ipopt is released as open source code under the Eclipse Public License (EPL).\n",
      "         For more information visit https://github.com/coin-or/Ipopt\n",
      "******************************************************************************\n",
      "\n",
      "{'solver_time': 1.2296359539031982, 'termination_condition': <TerminationCondition.optimal: 'optimal'>, 'message': 'Ipopt 3.14.16\\\\x3a Optimal Solution Found'}\n",
      "Iteration: 5 / 96\n"
     ]
    },
    {
     "name": "stderr",
     "output_type": "stream",
     "text": [
      "/Users/mariiashapo/Library/CloudStorage/OneDrive-Personal/project_2324/NODE/00_models/nn_pyomo_base.py:82: UserWarning: y_init should be structured such that each row represents a new time point.\n",
      "  warnings.warn(\"y_init should be structured such that each row represents a new time point.\")\n"
     ]
    },
    {
     "name": "stdout",
     "output_type": "stream",
     "text": [
      "Ipopt 3.14.16: tol=1e-06\n",
      "acceptable_tol=1e-15\n",
      "acceptable_constr_viol_tol=1e-15\n",
      "acceptable_dual_inf_tol=1e-15\n",
      "acceptable_compl_inf_tol=1e-15\n",
      "acceptable_iter=0\n",
      "halt_on_ampl_error=yes\n",
      "print_level=1\n",
      "max_iter=3000\n",
      "\n",
      "\n",
      "******************************************************************************\n",
      "This program contains Ipopt, a library for large-scale nonlinear optimization.\n",
      " Ipopt is released as open source code under the Eclipse Public License (EPL).\n",
      "         For more information visit https://github.com/coin-or/Ipopt\n",
      "******************************************************************************\n",
      "\n",
      "{'solver_time': 1.551253080368042, 'termination_condition': <TerminationCondition.optimal: 'optimal'>, 'message': 'Ipopt 3.14.16\\\\x3a Optimal Solution Found'}\n",
      "Iteration: 6 / 96\n"
     ]
    },
    {
     "name": "stderr",
     "output_type": "stream",
     "text": [
      "/Users/mariiashapo/Library/CloudStorage/OneDrive-Personal/project_2324/NODE/00_models/nn_pyomo_base.py:82: UserWarning: y_init should be structured such that each row represents a new time point.\n",
      "  warnings.warn(\"y_init should be structured such that each row represents a new time point.\")\n"
     ]
    },
    {
     "name": "stdout",
     "output_type": "stream",
     "text": [
      "Ipopt 3.14.16: tol=1e-07\n",
      "acceptable_tol=1e-15\n",
      "acceptable_constr_viol_tol=1e-15\n",
      "acceptable_dual_inf_tol=1e-15\n",
      "acceptable_compl_inf_tol=1e-15\n",
      "acceptable_iter=0\n",
      "halt_on_ampl_error=yes\n",
      "print_level=1\n",
      "max_iter=3000\n",
      "\n",
      "\n",
      "******************************************************************************\n",
      "This program contains Ipopt, a library for large-scale nonlinear optimization.\n",
      " Ipopt is released as open source code under the Eclipse Public License (EPL).\n",
      "         For more information visit https://github.com/coin-or/Ipopt\n",
      "******************************************************************************\n",
      "\n",
      "{'solver_time': 1.3479790687561035, 'termination_condition': <TerminationCondition.optimal: 'optimal'>, 'message': 'Ipopt 3.14.16\\\\x3a Optimal Solution Found'}\n",
      "Iteration: 7 / 96\n"
     ]
    },
    {
     "name": "stderr",
     "output_type": "stream",
     "text": [
      "/Users/mariiashapo/Library/CloudStorage/OneDrive-Personal/project_2324/NODE/00_models/nn_pyomo_base.py:82: UserWarning: y_init should be structured such that each row represents a new time point.\n",
      "  warnings.warn(\"y_init should be structured such that each row represents a new time point.\")\n"
     ]
    },
    {
     "name": "stdout",
     "output_type": "stream",
     "text": [
      "Ipopt 3.14.16: tol=1e-08\n",
      "acceptable_tol=1e-15\n",
      "acceptable_constr_viol_tol=1e-15\n",
      "acceptable_dual_inf_tol=1e-15\n",
      "acceptable_compl_inf_tol=1e-15\n",
      "acceptable_iter=0\n",
      "halt_on_ampl_error=yes\n",
      "print_level=1\n",
      "max_iter=3000\n",
      "\n",
      "\n",
      "******************************************************************************\n",
      "This program contains Ipopt, a library for large-scale nonlinear optimization.\n",
      " Ipopt is released as open source code under the Eclipse Public License (EPL).\n",
      "         For more information visit https://github.com/coin-or/Ipopt\n",
      "******************************************************************************\n",
      "\n",
      "{'solver_time': 1.200070858001709, 'termination_condition': <TerminationCondition.optimal: 'optimal'>, 'message': 'Ipopt 3.14.16\\\\x3a Optimal Solution Found'}\n",
      "Iteration: 8 / 96\n"
     ]
    },
    {
     "name": "stderr",
     "output_type": "stream",
     "text": [
      "/Users/mariiashapo/Library/CloudStorage/OneDrive-Personal/project_2324/NODE/00_models/nn_pyomo_base.py:82: UserWarning: y_init should be structured such that each row represents a new time point.\n",
      "  warnings.warn(\"y_init should be structured such that each row represents a new time point.\")\n"
     ]
    },
    {
     "name": "stdout",
     "output_type": "stream",
     "text": [
      "Ipopt 3.14.16: tol=1e-05\n",
      "acceptable_tol=1e-15\n",
      "acceptable_constr_viol_tol=1e-15\n",
      "acceptable_dual_inf_tol=1e-15\n",
      "acceptable_compl_inf_tol=1e-15\n",
      "acceptable_iter=0\n",
      "halt_on_ampl_error=yes\n",
      "print_level=1\n",
      "max_iter=3000\n",
      "\n",
      "\n",
      "******************************************************************************\n",
      "This program contains Ipopt, a library for large-scale nonlinear optimization.\n",
      " Ipopt is released as open source code under the Eclipse Public License (EPL).\n",
      "         For more information visit https://github.com/coin-or/Ipopt\n",
      "******************************************************************************\n",
      "\n",
      "{'solver_time': 1.216944932937622, 'termination_condition': <TerminationCondition.optimal: 'optimal'>, 'message': 'Ipopt 3.14.16\\\\x3a Optimal Solution Found'}\n",
      "Iteration: 9 / 96\n"
     ]
    },
    {
     "name": "stderr",
     "output_type": "stream",
     "text": [
      "/Users/mariiashapo/Library/CloudStorage/OneDrive-Personal/project_2324/NODE/00_models/nn_pyomo_base.py:82: UserWarning: y_init should be structured such that each row represents a new time point.\n",
      "  warnings.warn(\"y_init should be structured such that each row represents a new time point.\")\n"
     ]
    },
    {
     "name": "stdout",
     "output_type": "stream",
     "text": [
      "Ipopt 3.14.16: tol=1e-06\n",
      "acceptable_tol=1e-15\n",
      "acceptable_constr_viol_tol=1e-15\n",
      "acceptable_dual_inf_tol=1e-15\n",
      "acceptable_compl_inf_tol=1e-15\n",
      "acceptable_iter=0\n",
      "halt_on_ampl_error=yes\n",
      "print_level=1\n",
      "max_iter=3000\n",
      "\n",
      "\n",
      "******************************************************************************\n",
      "This program contains Ipopt, a library for large-scale nonlinear optimization.\n",
      " Ipopt is released as open source code under the Eclipse Public License (EPL).\n",
      "         For more information visit https://github.com/coin-or/Ipopt\n",
      "******************************************************************************\n",
      "\n",
      "{'solver_time': 1.0490832328796387, 'termination_condition': <TerminationCondition.optimal: 'optimal'>, 'message': 'Ipopt 3.14.16\\\\x3a Optimal Solution Found'}\n",
      "Iteration: 10 / 96\n"
     ]
    },
    {
     "name": "stderr",
     "output_type": "stream",
     "text": [
      "/Users/mariiashapo/Library/CloudStorage/OneDrive-Personal/project_2324/NODE/00_models/nn_pyomo_base.py:82: UserWarning: y_init should be structured such that each row represents a new time point.\n",
      "  warnings.warn(\"y_init should be structured such that each row represents a new time point.\")\n"
     ]
    },
    {
     "name": "stdout",
     "output_type": "stream",
     "text": [
      "Ipopt 3.14.16: tol=1e-07\n",
      "acceptable_tol=1e-15\n",
      "acceptable_constr_viol_tol=1e-15\n",
      "acceptable_dual_inf_tol=1e-15\n",
      "acceptable_compl_inf_tol=1e-15\n",
      "acceptable_iter=0\n",
      "halt_on_ampl_error=yes\n",
      "print_level=1\n",
      "max_iter=3000\n",
      "\n",
      "\n",
      "******************************************************************************\n",
      "This program contains Ipopt, a library for large-scale nonlinear optimization.\n",
      " Ipopt is released as open source code under the Eclipse Public License (EPL).\n",
      "         For more information visit https://github.com/coin-or/Ipopt\n",
      "******************************************************************************\n",
      "\n",
      "{'solver_time': 1.2136204242706299, 'termination_condition': <TerminationCondition.optimal: 'optimal'>, 'message': 'Ipopt 3.14.16\\\\x3a Optimal Solution Found'}\n",
      "Iteration: 11 / 96\n"
     ]
    },
    {
     "name": "stderr",
     "output_type": "stream",
     "text": [
      "/Users/mariiashapo/Library/CloudStorage/OneDrive-Personal/project_2324/NODE/00_models/nn_pyomo_base.py:82: UserWarning: y_init should be structured such that each row represents a new time point.\n",
      "  warnings.warn(\"y_init should be structured such that each row represents a new time point.\")\n"
     ]
    },
    {
     "name": "stdout",
     "output_type": "stream",
     "text": [
      "Ipopt 3.14.16: tol=1e-08\n",
      "acceptable_tol=1e-15\n",
      "acceptable_constr_viol_tol=1e-15\n",
      "acceptable_dual_inf_tol=1e-15\n",
      "acceptable_compl_inf_tol=1e-15\n",
      "acceptable_iter=0\n",
      "halt_on_ampl_error=yes\n",
      "print_level=1\n",
      "max_iter=3000\n",
      "\n",
      "\n",
      "******************************************************************************\n",
      "This program contains Ipopt, a library for large-scale nonlinear optimization.\n",
      " Ipopt is released as open source code under the Eclipse Public License (EPL).\n",
      "         For more information visit https://github.com/coin-or/Ipopt\n",
      "******************************************************************************\n",
      "\n",
      "{'solver_time': 1.2444911003112793, 'termination_condition': <TerminationCondition.optimal: 'optimal'>, 'message': 'Ipopt 3.14.16\\\\x3a Optimal Solution Found'}\n",
      "Iteration: 12 / 96\n"
     ]
    },
    {
     "name": "stderr",
     "output_type": "stream",
     "text": [
      "/Users/mariiashapo/Library/CloudStorage/OneDrive-Personal/project_2324/NODE/00_models/nn_pyomo_base.py:82: UserWarning: y_init should be structured such that each row represents a new time point.\n",
      "  warnings.warn(\"y_init should be structured such that each row represents a new time point.\")\n"
     ]
    },
    {
     "name": "stdout",
     "output_type": "stream",
     "text": [
      "Ipopt 3.14.16: tol=1e-05\n",
      "acceptable_tol=1e-15\n",
      "acceptable_constr_viol_tol=1e-15\n",
      "acceptable_dual_inf_tol=1e-15\n",
      "acceptable_compl_inf_tol=1e-15\n",
      "acceptable_iter=0\n",
      "halt_on_ampl_error=yes\n",
      "print_level=1\n",
      "max_iter=3000\n",
      "\n",
      "\n",
      "******************************************************************************\n",
      "This program contains Ipopt, a library for large-scale nonlinear optimization.\n",
      " Ipopt is released as open source code under the Eclipse Public License (EPL).\n",
      "         For more information visit https://github.com/coin-or/Ipopt\n",
      "******************************************************************************\n",
      "\n",
      "{'solver_time': 1.6494567394256592, 'termination_condition': <TerminationCondition.optimal: 'optimal'>, 'message': 'Ipopt 3.14.16\\\\x3a Optimal Solution Found'}\n",
      "Iteration: 13 / 96\n"
     ]
    },
    {
     "name": "stderr",
     "output_type": "stream",
     "text": [
      "/Users/mariiashapo/Library/CloudStorage/OneDrive-Personal/project_2324/NODE/00_models/nn_pyomo_base.py:82: UserWarning: y_init should be structured such that each row represents a new time point.\n",
      "  warnings.warn(\"y_init should be structured such that each row represents a new time point.\")\n"
     ]
    },
    {
     "name": "stdout",
     "output_type": "stream",
     "text": [
      "Ipopt 3.14.16: tol=1e-06\n",
      "acceptable_tol=1e-15\n",
      "acceptable_constr_viol_tol=1e-15\n",
      "acceptable_dual_inf_tol=1e-15\n",
      "acceptable_compl_inf_tol=1e-15\n",
      "acceptable_iter=0\n",
      "halt_on_ampl_error=yes\n",
      "print_level=1\n",
      "max_iter=3000\n",
      "\n",
      "\n",
      "******************************************************************************\n",
      "This program contains Ipopt, a library for large-scale nonlinear optimization.\n",
      " Ipopt is released as open source code under the Eclipse Public License (EPL).\n",
      "         For more information visit https://github.com/coin-or/Ipopt\n",
      "******************************************************************************\n",
      "\n",
      "{'solver_time': 1.3762328624725342, 'termination_condition': <TerminationCondition.optimal: 'optimal'>, 'message': 'Ipopt 3.14.16\\\\x3a Optimal Solution Found'}\n",
      "Iteration: 14 / 96\n"
     ]
    },
    {
     "name": "stderr",
     "output_type": "stream",
     "text": [
      "/Users/mariiashapo/Library/CloudStorage/OneDrive-Personal/project_2324/NODE/00_models/nn_pyomo_base.py:82: UserWarning: y_init should be structured such that each row represents a new time point.\n",
      "  warnings.warn(\"y_init should be structured such that each row represents a new time point.\")\n"
     ]
    },
    {
     "name": "stdout",
     "output_type": "stream",
     "text": [
      "Ipopt 3.14.16: tol=1e-07\n",
      "acceptable_tol=1e-15\n",
      "acceptable_constr_viol_tol=1e-15\n",
      "acceptable_dual_inf_tol=1e-15\n",
      "acceptable_compl_inf_tol=1e-15\n",
      "acceptable_iter=0\n",
      "halt_on_ampl_error=yes\n",
      "print_level=1\n",
      "max_iter=3000\n",
      "\n",
      "\n",
      "******************************************************************************\n",
      "This program contains Ipopt, a library for large-scale nonlinear optimization.\n",
      " Ipopt is released as open source code under the Eclipse Public License (EPL).\n",
      "         For more information visit https://github.com/coin-or/Ipopt\n",
      "******************************************************************************\n",
      "\n",
      "{'solver_time': 1.4347000122070312, 'termination_condition': <TerminationCondition.optimal: 'optimal'>, 'message': 'Ipopt 3.14.16\\\\x3a Optimal Solution Found'}\n",
      "Iteration: 15 / 96\n"
     ]
    },
    {
     "name": "stderr",
     "output_type": "stream",
     "text": [
      "/Users/mariiashapo/Library/CloudStorage/OneDrive-Personal/project_2324/NODE/00_models/nn_pyomo_base.py:82: UserWarning: y_init should be structured such that each row represents a new time point.\n",
      "  warnings.warn(\"y_init should be structured such that each row represents a new time point.\")\n"
     ]
    },
    {
     "name": "stdout",
     "output_type": "stream",
     "text": [
      "Ipopt 3.14.16: tol=1e-08\n",
      "acceptable_tol=1e-15\n",
      "acceptable_constr_viol_tol=1e-15\n",
      "acceptable_dual_inf_tol=1e-15\n",
      "acceptable_compl_inf_tol=1e-15\n",
      "acceptable_iter=0\n",
      "halt_on_ampl_error=yes\n",
      "print_level=1\n",
      "max_iter=3000\n",
      "\n",
      "\n",
      "******************************************************************************\n",
      "This program contains Ipopt, a library for large-scale nonlinear optimization.\n",
      " Ipopt is released as open source code under the Eclipse Public License (EPL).\n",
      "         For more information visit https://github.com/coin-or/Ipopt\n",
      "******************************************************************************\n",
      "\n",
      "{'solver_time': 1.3719580173492432, 'termination_condition': <TerminationCondition.optimal: 'optimal'>, 'message': 'Ipopt 3.14.16\\\\x3a Optimal Solution Found'}\n",
      "Iteration: 16 / 96\n"
     ]
    },
    {
     "name": "stderr",
     "output_type": "stream",
     "text": [
      "/Users/mariiashapo/Library/CloudStorage/OneDrive-Personal/project_2324/NODE/00_models/nn_pyomo_base.py:82: UserWarning: y_init should be structured such that each row represents a new time point.\n",
      "  warnings.warn(\"y_init should be structured such that each row represents a new time point.\")\n"
     ]
    },
    {
     "name": "stdout",
     "output_type": "stream",
     "text": [
      "Ipopt 3.14.16: tol=1e-05\n",
      "acceptable_tol=1e-15\n",
      "acceptable_constr_viol_tol=1e-15\n",
      "acceptable_dual_inf_tol=1e-15\n",
      "acceptable_compl_inf_tol=1e-15\n",
      "acceptable_iter=0\n",
      "halt_on_ampl_error=yes\n",
      "print_level=1\n",
      "max_iter=3000\n",
      "\n",
      "\n",
      "******************************************************************************\n",
      "This program contains Ipopt, a library for large-scale nonlinear optimization.\n",
      " Ipopt is released as open source code under the Eclipse Public License (EPL).\n",
      "         For more information visit https://github.com/coin-or/Ipopt\n",
      "******************************************************************************\n",
      "\n",
      "{'solver_time': 1.5581772327423096, 'termination_condition': <TerminationCondition.optimal: 'optimal'>, 'message': 'Ipopt 3.14.16\\\\x3a Optimal Solution Found'}\n",
      "Iteration: 17 / 96\n"
     ]
    },
    {
     "name": "stderr",
     "output_type": "stream",
     "text": [
      "/Users/mariiashapo/Library/CloudStorage/OneDrive-Personal/project_2324/NODE/00_models/nn_pyomo_base.py:82: UserWarning: y_init should be structured such that each row represents a new time point.\n",
      "  warnings.warn(\"y_init should be structured such that each row represents a new time point.\")\n"
     ]
    },
    {
     "name": "stdout",
     "output_type": "stream",
     "text": [
      "Ipopt 3.14.16: tol=1e-06\n",
      "acceptable_tol=1e-15\n",
      "acceptable_constr_viol_tol=1e-15\n",
      "acceptable_dual_inf_tol=1e-15\n",
      "acceptable_compl_inf_tol=1e-15\n",
      "acceptable_iter=0\n",
      "halt_on_ampl_error=yes\n",
      "print_level=1\n",
      "max_iter=3000\n",
      "\n",
      "\n",
      "******************************************************************************\n",
      "This program contains Ipopt, a library for large-scale nonlinear optimization.\n",
      " Ipopt is released as open source code under the Eclipse Public License (EPL).\n",
      "         For more information visit https://github.com/coin-or/Ipopt\n",
      "******************************************************************************\n",
      "\n",
      "{'solver_time': 1.1906850337982178, 'termination_condition': <TerminationCondition.optimal: 'optimal'>, 'message': 'Ipopt 3.14.16\\\\x3a Optimal Solution Found'}\n",
      "Iteration: 18 / 96\n"
     ]
    },
    {
     "name": "stderr",
     "output_type": "stream",
     "text": [
      "/Users/mariiashapo/Library/CloudStorage/OneDrive-Personal/project_2324/NODE/00_models/nn_pyomo_base.py:82: UserWarning: y_init should be structured such that each row represents a new time point.\n",
      "  warnings.warn(\"y_init should be structured such that each row represents a new time point.\")\n"
     ]
    },
    {
     "name": "stdout",
     "output_type": "stream",
     "text": [
      "Ipopt 3.14.16: tol=1e-07\n",
      "acceptable_tol=1e-15\n",
      "acceptable_constr_viol_tol=1e-15\n",
      "acceptable_dual_inf_tol=1e-15\n",
      "acceptable_compl_inf_tol=1e-15\n",
      "acceptable_iter=0\n",
      "halt_on_ampl_error=yes\n",
      "print_level=1\n",
      "max_iter=3000\n",
      "\n",
      "\n",
      "******************************************************************************\n",
      "This program contains Ipopt, a library for large-scale nonlinear optimization.\n",
      " Ipopt is released as open source code under the Eclipse Public License (EPL).\n",
      "         For more information visit https://github.com/coin-or/Ipopt\n",
      "******************************************************************************\n",
      "\n",
      "{'solver_time': 1.2500429153442383, 'termination_condition': <TerminationCondition.optimal: 'optimal'>, 'message': 'Ipopt 3.14.16\\\\x3a Optimal Solution Found'}\n",
      "Iteration: 19 / 96\n"
     ]
    },
    {
     "name": "stderr",
     "output_type": "stream",
     "text": [
      "/Users/mariiashapo/Library/CloudStorage/OneDrive-Personal/project_2324/NODE/00_models/nn_pyomo_base.py:82: UserWarning: y_init should be structured such that each row represents a new time point.\n",
      "  warnings.warn(\"y_init should be structured such that each row represents a new time point.\")\n"
     ]
    },
    {
     "name": "stdout",
     "output_type": "stream",
     "text": [
      "Ipopt 3.14.16: tol=1e-08\n",
      "acceptable_tol=1e-15\n",
      "acceptable_constr_viol_tol=1e-15\n",
      "acceptable_dual_inf_tol=1e-15\n",
      "acceptable_compl_inf_tol=1e-15\n",
      "acceptable_iter=0\n",
      "halt_on_ampl_error=yes\n",
      "print_level=1\n",
      "max_iter=3000\n",
      "\n",
      "\n",
      "******************************************************************************\n",
      "This program contains Ipopt, a library for large-scale nonlinear optimization.\n",
      " Ipopt is released as open source code under the Eclipse Public License (EPL).\n",
      "         For more information visit https://github.com/coin-or/Ipopt\n",
      "******************************************************************************\n",
      "\n",
      "{'solver_time': 1.131343126296997, 'termination_condition': <TerminationCondition.optimal: 'optimal'>, 'message': 'Ipopt 3.14.16\\\\x3a Optimal Solution Found'}\n",
      "Iteration: 20 / 96\n"
     ]
    },
    {
     "name": "stderr",
     "output_type": "stream",
     "text": [
      "/Users/mariiashapo/Library/CloudStorage/OneDrive-Personal/project_2324/NODE/00_models/nn_pyomo_base.py:82: UserWarning: y_init should be structured such that each row represents a new time point.\n",
      "  warnings.warn(\"y_init should be structured such that each row represents a new time point.\")\n"
     ]
    },
    {
     "name": "stdout",
     "output_type": "stream",
     "text": [
      "Ipopt 3.14.16: tol=1e-05\n",
      "acceptable_tol=1e-15\n",
      "acceptable_constr_viol_tol=1e-15\n",
      "acceptable_dual_inf_tol=1e-15\n",
      "acceptable_compl_inf_tol=1e-15\n",
      "acceptable_iter=0\n",
      "halt_on_ampl_error=yes\n",
      "print_level=1\n",
      "max_iter=3000\n",
      "\n",
      "\n",
      "******************************************************************************\n",
      "This program contains Ipopt, a library for large-scale nonlinear optimization.\n",
      " Ipopt is released as open source code under the Eclipse Public License (EPL).\n",
      "         For more information visit https://github.com/coin-or/Ipopt\n",
      "******************************************************************************\n",
      "\n",
      "{'solver_time': 1.2001841068267822, 'termination_condition': <TerminationCondition.optimal: 'optimal'>, 'message': 'Ipopt 3.14.16\\\\x3a Optimal Solution Found'}\n",
      "Iteration: 21 / 96\n"
     ]
    },
    {
     "name": "stderr",
     "output_type": "stream",
     "text": [
      "/Users/mariiashapo/Library/CloudStorage/OneDrive-Personal/project_2324/NODE/00_models/nn_pyomo_base.py:82: UserWarning: y_init should be structured such that each row represents a new time point.\n",
      "  warnings.warn(\"y_init should be structured such that each row represents a new time point.\")\n"
     ]
    },
    {
     "name": "stdout",
     "output_type": "stream",
     "text": [
      "Ipopt 3.14.16: tol=1e-06\n",
      "acceptable_tol=1e-15\n",
      "acceptable_constr_viol_tol=1e-15\n",
      "acceptable_dual_inf_tol=1e-15\n",
      "acceptable_compl_inf_tol=1e-15\n",
      "acceptable_iter=0\n",
      "halt_on_ampl_error=yes\n",
      "print_level=1\n",
      "max_iter=3000\n",
      "\n",
      "\n",
      "******************************************************************************\n",
      "This program contains Ipopt, a library for large-scale nonlinear optimization.\n",
      " Ipopt is released as open source code under the Eclipse Public License (EPL).\n",
      "         For more information visit https://github.com/coin-or/Ipopt\n",
      "******************************************************************************\n",
      "\n",
      "{'solver_time': 1.2457759380340576, 'termination_condition': <TerminationCondition.optimal: 'optimal'>, 'message': 'Ipopt 3.14.16\\\\x3a Optimal Solution Found'}\n",
      "Iteration: 22 / 96\n"
     ]
    },
    {
     "name": "stderr",
     "output_type": "stream",
     "text": [
      "/Users/mariiashapo/Library/CloudStorage/OneDrive-Personal/project_2324/NODE/00_models/nn_pyomo_base.py:82: UserWarning: y_init should be structured such that each row represents a new time point.\n",
      "  warnings.warn(\"y_init should be structured such that each row represents a new time point.\")\n"
     ]
    },
    {
     "name": "stdout",
     "output_type": "stream",
     "text": [
      "Ipopt 3.14.16: tol=1e-07\n",
      "acceptable_tol=1e-15\n",
      "acceptable_constr_viol_tol=1e-15\n",
      "acceptable_dual_inf_tol=1e-15\n",
      "acceptable_compl_inf_tol=1e-15\n",
      "acceptable_iter=0\n",
      "halt_on_ampl_error=yes\n",
      "print_level=1\n",
      "max_iter=3000\n",
      "\n",
      "\n",
      "******************************************************************************\n",
      "This program contains Ipopt, a library for large-scale nonlinear optimization.\n",
      " Ipopt is released as open source code under the Eclipse Public License (EPL).\n",
      "         For more information visit https://github.com/coin-or/Ipopt\n",
      "******************************************************************************\n",
      "\n",
      "{'solver_time': 1.2612249851226807, 'termination_condition': <TerminationCondition.optimal: 'optimal'>, 'message': 'Ipopt 3.14.16\\\\x3a Optimal Solution Found'}\n",
      "Iteration: 23 / 96\n"
     ]
    },
    {
     "name": "stderr",
     "output_type": "stream",
     "text": [
      "/Users/mariiashapo/Library/CloudStorage/OneDrive-Personal/project_2324/NODE/00_models/nn_pyomo_base.py:82: UserWarning: y_init should be structured such that each row represents a new time point.\n",
      "  warnings.warn(\"y_init should be structured such that each row represents a new time point.\")\n"
     ]
    },
    {
     "name": "stdout",
     "output_type": "stream",
     "text": [
      "Ipopt 3.14.16: tol=1e-08\n",
      "acceptable_tol=1e-15\n",
      "acceptable_constr_viol_tol=1e-15\n",
      "acceptable_dual_inf_tol=1e-15\n",
      "acceptable_compl_inf_tol=1e-15\n",
      "acceptable_iter=0\n",
      "halt_on_ampl_error=yes\n",
      "print_level=1\n",
      "max_iter=3000\n",
      "\n",
      "\n",
      "******************************************************************************\n",
      "This program contains Ipopt, a library for large-scale nonlinear optimization.\n",
      " Ipopt is released as open source code under the Eclipse Public License (EPL).\n",
      "         For more information visit https://github.com/coin-or/Ipopt\n",
      "******************************************************************************\n",
      "\n",
      "{'solver_time': 1.2513830661773682, 'termination_condition': <TerminationCondition.optimal: 'optimal'>, 'message': 'Ipopt 3.14.16\\\\x3a Optimal Solution Found'}\n",
      "Iteration: 24 / 96\n"
     ]
    },
    {
     "name": "stderr",
     "output_type": "stream",
     "text": [
      "/Users/mariiashapo/Library/CloudStorage/OneDrive-Personal/project_2324/NODE/00_models/nn_pyomo_base.py:82: UserWarning: y_init should be structured such that each row represents a new time point.\n",
      "  warnings.warn(\"y_init should be structured such that each row represents a new time point.\")\n"
     ]
    },
    {
     "name": "stdout",
     "output_type": "stream",
     "text": [
      "Ipopt 3.14.16: tol=1e-05\n",
      "acceptable_tol=1e-15\n",
      "acceptable_constr_viol_tol=1e-15\n",
      "acceptable_dual_inf_tol=1e-15\n",
      "acceptable_compl_inf_tol=1e-15\n",
      "acceptable_iter=0\n",
      "halt_on_ampl_error=yes\n",
      "print_level=1\n",
      "max_iter=3000\n",
      "\n",
      "\n",
      "******************************************************************************\n",
      "This program contains Ipopt, a library for large-scale nonlinear optimization.\n",
      " Ipopt is released as open source code under the Eclipse Public License (EPL).\n",
      "         For more information visit https://github.com/coin-or/Ipopt\n",
      "******************************************************************************\n",
      "\n",
      "{'solver_time': 1.755439043045044, 'termination_condition': <TerminationCondition.optimal: 'optimal'>, 'message': 'Ipopt 3.14.16\\\\x3a Optimal Solution Found'}\n",
      "Iteration: 25 / 96\n"
     ]
    },
    {
     "name": "stderr",
     "output_type": "stream",
     "text": [
      "/Users/mariiashapo/Library/CloudStorage/OneDrive-Personal/project_2324/NODE/00_models/nn_pyomo_base.py:82: UserWarning: y_init should be structured such that each row represents a new time point.\n",
      "  warnings.warn(\"y_init should be structured such that each row represents a new time point.\")\n"
     ]
    },
    {
     "name": "stdout",
     "output_type": "stream",
     "text": [
      "Ipopt 3.14.16: tol=1e-06\n",
      "acceptable_tol=1e-15\n",
      "acceptable_constr_viol_tol=1e-15\n",
      "acceptable_dual_inf_tol=1e-15\n",
      "acceptable_compl_inf_tol=1e-15\n",
      "acceptable_iter=0\n",
      "halt_on_ampl_error=yes\n",
      "print_level=1\n",
      "max_iter=3000\n",
      "\n",
      "\n",
      "******************************************************************************\n",
      "This program contains Ipopt, a library for large-scale nonlinear optimization.\n",
      " Ipopt is released as open source code under the Eclipse Public License (EPL).\n",
      "         For more information visit https://github.com/coin-or/Ipopt\n",
      "******************************************************************************\n",
      "\n",
      "{'solver_time': 1.8323869705200195, 'termination_condition': <TerminationCondition.optimal: 'optimal'>, 'message': 'Ipopt 3.14.16\\\\x3a Optimal Solution Found'}\n",
      "Iteration: 26 / 96\n"
     ]
    },
    {
     "name": "stderr",
     "output_type": "stream",
     "text": [
      "/Users/mariiashapo/Library/CloudStorage/OneDrive-Personal/project_2324/NODE/00_models/nn_pyomo_base.py:82: UserWarning: y_init should be structured such that each row represents a new time point.\n",
      "  warnings.warn(\"y_init should be structured such that each row represents a new time point.\")\n"
     ]
    },
    {
     "name": "stdout",
     "output_type": "stream",
     "text": [
      "Ipopt 3.14.16: tol=1e-07\n",
      "acceptable_tol=1e-15\n",
      "acceptable_constr_viol_tol=1e-15\n",
      "acceptable_dual_inf_tol=1e-15\n",
      "acceptable_compl_inf_tol=1e-15\n",
      "acceptable_iter=0\n",
      "halt_on_ampl_error=yes\n",
      "print_level=1\n",
      "max_iter=3000\n",
      "\n",
      "\n",
      "******************************************************************************\n",
      "This program contains Ipopt, a library for large-scale nonlinear optimization.\n",
      " Ipopt is released as open source code under the Eclipse Public License (EPL).\n",
      "         For more information visit https://github.com/coin-or/Ipopt\n",
      "******************************************************************************\n",
      "\n",
      "{'solver_time': 1.737339973449707, 'termination_condition': <TerminationCondition.optimal: 'optimal'>, 'message': 'Ipopt 3.14.16\\\\x3a Optimal Solution Found'}\n",
      "Iteration: 27 / 96\n"
     ]
    },
    {
     "name": "stderr",
     "output_type": "stream",
     "text": [
      "/Users/mariiashapo/Library/CloudStorage/OneDrive-Personal/project_2324/NODE/00_models/nn_pyomo_base.py:82: UserWarning: y_init should be structured such that each row represents a new time point.\n",
      "  warnings.warn(\"y_init should be structured such that each row represents a new time point.\")\n"
     ]
    },
    {
     "name": "stdout",
     "output_type": "stream",
     "text": [
      "Ipopt 3.14.16: tol=1e-08\n",
      "acceptable_tol=1e-15\n",
      "acceptable_constr_viol_tol=1e-15\n",
      "acceptable_dual_inf_tol=1e-15\n",
      "acceptable_compl_inf_tol=1e-15\n",
      "acceptable_iter=0\n",
      "halt_on_ampl_error=yes\n",
      "print_level=1\n",
      "max_iter=3000\n",
      "\n",
      "\n",
      "******************************************************************************\n",
      "This program contains Ipopt, a library for large-scale nonlinear optimization.\n",
      " Ipopt is released as open source code under the Eclipse Public License (EPL).\n",
      "         For more information visit https://github.com/coin-or/Ipopt\n",
      "******************************************************************************\n",
      "\n",
      "{'solver_time': 1.708747148513794, 'termination_condition': <TerminationCondition.optimal: 'optimal'>, 'message': 'Ipopt 3.14.16\\\\x3a Optimal Solution Found'}\n",
      "Iteration: 28 / 96\n"
     ]
    },
    {
     "name": "stderr",
     "output_type": "stream",
     "text": [
      "/Users/mariiashapo/Library/CloudStorage/OneDrive-Personal/project_2324/NODE/00_models/nn_pyomo_base.py:82: UserWarning: y_init should be structured such that each row represents a new time point.\n",
      "  warnings.warn(\"y_init should be structured such that each row represents a new time point.\")\n"
     ]
    },
    {
     "name": "stdout",
     "output_type": "stream",
     "text": [
      "Ipopt 3.14.16: tol=1e-05\n",
      "acceptable_tol=1e-15\n",
      "acceptable_constr_viol_tol=1e-15\n",
      "acceptable_dual_inf_tol=1e-15\n",
      "acceptable_compl_inf_tol=1e-15\n",
      "acceptable_iter=0\n",
      "halt_on_ampl_error=yes\n",
      "print_level=1\n",
      "max_iter=3000\n",
      "\n",
      "\n",
      "******************************************************************************\n",
      "This program contains Ipopt, a library for large-scale nonlinear optimization.\n",
      " Ipopt is released as open source code under the Eclipse Public License (EPL).\n",
      "         For more information visit https://github.com/coin-or/Ipopt\n",
      "******************************************************************************\n",
      "\n",
      "{'solver_time': 2.1688108444213867, 'termination_condition': <TerminationCondition.optimal: 'optimal'>, 'message': 'Ipopt 3.14.16\\\\x3a Optimal Solution Found'}\n",
      "Iteration: 29 / 96\n"
     ]
    },
    {
     "name": "stderr",
     "output_type": "stream",
     "text": [
      "/Users/mariiashapo/Library/CloudStorage/OneDrive-Personal/project_2324/NODE/00_models/nn_pyomo_base.py:82: UserWarning: y_init should be structured such that each row represents a new time point.\n",
      "  warnings.warn(\"y_init should be structured such that each row represents a new time point.\")\n"
     ]
    },
    {
     "name": "stdout",
     "output_type": "stream",
     "text": [
      "Ipopt 3.14.16: tol=1e-06\n",
      "acceptable_tol=1e-15\n",
      "acceptable_constr_viol_tol=1e-15\n",
      "acceptable_dual_inf_tol=1e-15\n",
      "acceptable_compl_inf_tol=1e-15\n",
      "acceptable_iter=0\n",
      "halt_on_ampl_error=yes\n",
      "print_level=1\n",
      "max_iter=3000\n",
      "\n",
      "\n",
      "******************************************************************************\n",
      "This program contains Ipopt, a library for large-scale nonlinear optimization.\n",
      " Ipopt is released as open source code under the Eclipse Public License (EPL).\n",
      "         For more information visit https://github.com/coin-or/Ipopt\n",
      "******************************************************************************\n",
      "\n",
      "{'solver_time': 1.871001958847046, 'termination_condition': <TerminationCondition.optimal: 'optimal'>, 'message': 'Ipopt 3.14.16\\\\x3a Optimal Solution Found'}\n",
      "Iteration: 30 / 96\n"
     ]
    },
    {
     "name": "stderr",
     "output_type": "stream",
     "text": [
      "/Users/mariiashapo/Library/CloudStorage/OneDrive-Personal/project_2324/NODE/00_models/nn_pyomo_base.py:82: UserWarning: y_init should be structured such that each row represents a new time point.\n",
      "  warnings.warn(\"y_init should be structured such that each row represents a new time point.\")\n"
     ]
    },
    {
     "name": "stdout",
     "output_type": "stream",
     "text": [
      "Ipopt 3.14.16: tol=1e-07\n",
      "acceptable_tol=1e-15\n",
      "acceptable_constr_viol_tol=1e-15\n",
      "acceptable_dual_inf_tol=1e-15\n",
      "acceptable_compl_inf_tol=1e-15\n",
      "acceptable_iter=0\n",
      "halt_on_ampl_error=yes\n",
      "print_level=1\n",
      "max_iter=3000\n",
      "\n",
      "\n",
      "******************************************************************************\n",
      "This program contains Ipopt, a library for large-scale nonlinear optimization.\n",
      " Ipopt is released as open source code under the Eclipse Public License (EPL).\n",
      "         For more information visit https://github.com/coin-or/Ipopt\n",
      "******************************************************************************\n",
      "\n",
      "{'solver_time': 1.7844462394714355, 'termination_condition': <TerminationCondition.optimal: 'optimal'>, 'message': 'Ipopt 3.14.16\\\\x3a Optimal Solution Found'}\n",
      "Iteration: 31 / 96\n"
     ]
    },
    {
     "name": "stderr",
     "output_type": "stream",
     "text": [
      "/Users/mariiashapo/Library/CloudStorage/OneDrive-Personal/project_2324/NODE/00_models/nn_pyomo_base.py:82: UserWarning: y_init should be structured such that each row represents a new time point.\n",
      "  warnings.warn(\"y_init should be structured such that each row represents a new time point.\")\n"
     ]
    },
    {
     "name": "stdout",
     "output_type": "stream",
     "text": [
      "Ipopt 3.14.16: tol=1e-08\n",
      "acceptable_tol=1e-15\n",
      "acceptable_constr_viol_tol=1e-15\n",
      "acceptable_dual_inf_tol=1e-15\n",
      "acceptable_compl_inf_tol=1e-15\n",
      "acceptable_iter=0\n",
      "halt_on_ampl_error=yes\n",
      "print_level=1\n",
      "max_iter=3000\n",
      "\n",
      "\n",
      "******************************************************************************\n",
      "This program contains Ipopt, a library for large-scale nonlinear optimization.\n",
      " Ipopt is released as open source code under the Eclipse Public License (EPL).\n",
      "         For more information visit https://github.com/coin-or/Ipopt\n",
      "******************************************************************************\n",
      "\n",
      "{'solver_time': 2.3312320709228516, 'termination_condition': <TerminationCondition.optimal: 'optimal'>, 'message': 'Ipopt 3.14.16\\\\x3a Optimal Solution Found'}\n",
      "Iteration: 32 / 96\n"
     ]
    },
    {
     "name": "stderr",
     "output_type": "stream",
     "text": [
      "/Users/mariiashapo/Library/CloudStorage/OneDrive-Personal/project_2324/NODE/00_models/nn_pyomo_base.py:82: UserWarning: y_init should be structured such that each row represents a new time point.\n",
      "  warnings.warn(\"y_init should be structured such that each row represents a new time point.\")\n"
     ]
    },
    {
     "name": "stdout",
     "output_type": "stream",
     "text": [
      "Ipopt 3.14.16: tol=1e-05\n",
      "acceptable_tol=1e-15\n",
      "acceptable_constr_viol_tol=1e-15\n",
      "acceptable_dual_inf_tol=1e-15\n",
      "acceptable_compl_inf_tol=1e-15\n",
      "acceptable_iter=0\n",
      "halt_on_ampl_error=yes\n",
      "print_level=1\n",
      "max_iter=3000\n",
      "\n",
      "\n",
      "******************************************************************************\n",
      "This program contains Ipopt, a library for large-scale nonlinear optimization.\n",
      " Ipopt is released as open source code under the Eclipse Public License (EPL).\n",
      "         For more information visit https://github.com/coin-or/Ipopt\n",
      "******************************************************************************\n",
      "\n",
      "{'solver_time': 1.9427037239074707, 'termination_condition': <TerminationCondition.optimal: 'optimal'>, 'message': 'Ipopt 3.14.16\\\\x3a Optimal Solution Found'}\n",
      "Iteration: 33 / 96\n"
     ]
    },
    {
     "name": "stderr",
     "output_type": "stream",
     "text": [
      "/Users/mariiashapo/Library/CloudStorage/OneDrive-Personal/project_2324/NODE/00_models/nn_pyomo_base.py:82: UserWarning: y_init should be structured such that each row represents a new time point.\n",
      "  warnings.warn(\"y_init should be structured such that each row represents a new time point.\")\n"
     ]
    },
    {
     "name": "stdout",
     "output_type": "stream",
     "text": [
      "Ipopt 3.14.16: tol=1e-06\n",
      "acceptable_tol=1e-15\n",
      "acceptable_constr_viol_tol=1e-15\n",
      "acceptable_dual_inf_tol=1e-15\n",
      "acceptable_compl_inf_tol=1e-15\n",
      "acceptable_iter=0\n",
      "halt_on_ampl_error=yes\n",
      "print_level=1\n",
      "max_iter=3000\n",
      "\n",
      "\n",
      "******************************************************************************\n",
      "This program contains Ipopt, a library for large-scale nonlinear optimization.\n",
      " Ipopt is released as open source code under the Eclipse Public License (EPL).\n",
      "         For more information visit https://github.com/coin-or/Ipopt\n",
      "******************************************************************************\n",
      "\n",
      "{'solver_time': 1.8498420715332031, 'termination_condition': <TerminationCondition.optimal: 'optimal'>, 'message': 'Ipopt 3.14.16\\\\x3a Optimal Solution Found'}\n",
      "Iteration: 34 / 96\n"
     ]
    },
    {
     "name": "stderr",
     "output_type": "stream",
     "text": [
      "/Users/mariiashapo/Library/CloudStorage/OneDrive-Personal/project_2324/NODE/00_models/nn_pyomo_base.py:82: UserWarning: y_init should be structured such that each row represents a new time point.\n",
      "  warnings.warn(\"y_init should be structured such that each row represents a new time point.\")\n"
     ]
    },
    {
     "name": "stdout",
     "output_type": "stream",
     "text": [
      "Ipopt 3.14.16: tol=1e-07\n",
      "acceptable_tol=1e-15\n",
      "acceptable_constr_viol_tol=1e-15\n",
      "acceptable_dual_inf_tol=1e-15\n",
      "acceptable_compl_inf_tol=1e-15\n",
      "acceptable_iter=0\n",
      "halt_on_ampl_error=yes\n",
      "print_level=1\n",
      "max_iter=3000\n",
      "\n",
      "\n",
      "******************************************************************************\n",
      "This program contains Ipopt, a library for large-scale nonlinear optimization.\n",
      " Ipopt is released as open source code under the Eclipse Public License (EPL).\n",
      "         For more information visit https://github.com/coin-or/Ipopt\n",
      "******************************************************************************\n",
      "\n",
      "{'solver_time': 2.4512829780578613, 'termination_condition': <TerminationCondition.optimal: 'optimal'>, 'message': 'Ipopt 3.14.16\\\\x3a Optimal Solution Found'}\n",
      "Iteration: 35 / 96\n"
     ]
    },
    {
     "name": "stderr",
     "output_type": "stream",
     "text": [
      "/Users/mariiashapo/Library/CloudStorage/OneDrive-Personal/project_2324/NODE/00_models/nn_pyomo_base.py:82: UserWarning: y_init should be structured such that each row represents a new time point.\n",
      "  warnings.warn(\"y_init should be structured such that each row represents a new time point.\")\n"
     ]
    },
    {
     "name": "stdout",
     "output_type": "stream",
     "text": [
      "Ipopt 3.14.16: tol=1e-08\n",
      "acceptable_tol=1e-15\n",
      "acceptable_constr_viol_tol=1e-15\n",
      "acceptable_dual_inf_tol=1e-15\n",
      "acceptable_compl_inf_tol=1e-15\n",
      "acceptable_iter=0\n",
      "halt_on_ampl_error=yes\n",
      "print_level=1\n",
      "max_iter=3000\n",
      "\n",
      "\n",
      "******************************************************************************\n",
      "This program contains Ipopt, a library for large-scale nonlinear optimization.\n",
      " Ipopt is released as open source code under the Eclipse Public License (EPL).\n",
      "         For more information visit https://github.com/coin-or/Ipopt\n",
      "******************************************************************************\n",
      "\n",
      "{'solver_time': 1.4365670680999756, 'termination_condition': <TerminationCondition.optimal: 'optimal'>, 'message': 'Ipopt 3.14.16\\\\x3a Optimal Solution Found'}\n",
      "Iteration: 36 / 96\n"
     ]
    },
    {
     "name": "stderr",
     "output_type": "stream",
     "text": [
      "/Users/mariiashapo/Library/CloudStorage/OneDrive-Personal/project_2324/NODE/00_models/nn_pyomo_base.py:82: UserWarning: y_init should be structured such that each row represents a new time point.\n",
      "  warnings.warn(\"y_init should be structured such that each row represents a new time point.\")\n"
     ]
    },
    {
     "name": "stdout",
     "output_type": "stream",
     "text": [
      "Ipopt 3.14.16: tol=1e-05\n",
      "acceptable_tol=1e-15\n",
      "acceptable_constr_viol_tol=1e-15\n",
      "acceptable_dual_inf_tol=1e-15\n",
      "acceptable_compl_inf_tol=1e-15\n",
      "acceptable_iter=0\n",
      "halt_on_ampl_error=yes\n",
      "print_level=1\n",
      "max_iter=3000\n",
      "\n",
      "\n",
      "******************************************************************************\n",
      "This program contains Ipopt, a library for large-scale nonlinear optimization.\n",
      " Ipopt is released as open source code under the Eclipse Public License (EPL).\n",
      "         For more information visit https://github.com/coin-or/Ipopt\n",
      "******************************************************************************\n",
      "\n",
      "{'solver_time': 2.535449743270874, 'termination_condition': <TerminationCondition.optimal: 'optimal'>, 'message': 'Ipopt 3.14.16\\\\x3a Optimal Solution Found'}\n",
      "Iteration: 37 / 96\n"
     ]
    },
    {
     "name": "stderr",
     "output_type": "stream",
     "text": [
      "/Users/mariiashapo/Library/CloudStorage/OneDrive-Personal/project_2324/NODE/00_models/nn_pyomo_base.py:82: UserWarning: y_init should be structured such that each row represents a new time point.\n",
      "  warnings.warn(\"y_init should be structured such that each row represents a new time point.\")\n"
     ]
    },
    {
     "name": "stdout",
     "output_type": "stream",
     "text": [
      "Ipopt 3.14.16: tol=1e-06\n",
      "acceptable_tol=1e-15\n",
      "acceptable_constr_viol_tol=1e-15\n",
      "acceptable_dual_inf_tol=1e-15\n",
      "acceptable_compl_inf_tol=1e-15\n",
      "acceptable_iter=0\n",
      "halt_on_ampl_error=yes\n",
      "print_level=1\n",
      "max_iter=3000\n",
      "\n",
      "\n",
      "******************************************************************************\n",
      "This program contains Ipopt, a library for large-scale nonlinear optimization.\n",
      " Ipopt is released as open source code under the Eclipse Public License (EPL).\n",
      "         For more information visit https://github.com/coin-or/Ipopt\n",
      "******************************************************************************\n",
      "\n",
      "{'solver_time': 2.527387857437134, 'termination_condition': <TerminationCondition.optimal: 'optimal'>, 'message': 'Ipopt 3.14.16\\\\x3a Optimal Solution Found'}\n",
      "Iteration: 38 / 96\n"
     ]
    },
    {
     "name": "stderr",
     "output_type": "stream",
     "text": [
      "/Users/mariiashapo/Library/CloudStorage/OneDrive-Personal/project_2324/NODE/00_models/nn_pyomo_base.py:82: UserWarning: y_init should be structured such that each row represents a new time point.\n",
      "  warnings.warn(\"y_init should be structured such that each row represents a new time point.\")\n"
     ]
    },
    {
     "name": "stdout",
     "output_type": "stream",
     "text": [
      "Ipopt 3.14.16: tol=1e-07\n",
      "acceptable_tol=1e-15\n",
      "acceptable_constr_viol_tol=1e-15\n",
      "acceptable_dual_inf_tol=1e-15\n",
      "acceptable_compl_inf_tol=1e-15\n",
      "acceptable_iter=0\n",
      "halt_on_ampl_error=yes\n",
      "print_level=1\n",
      "max_iter=3000\n",
      "\n",
      "\n",
      "******************************************************************************\n",
      "This program contains Ipopt, a library for large-scale nonlinear optimization.\n",
      " Ipopt is released as open source code under the Eclipse Public License (EPL).\n",
      "         For more information visit https://github.com/coin-or/Ipopt\n",
      "******************************************************************************\n",
      "\n",
      "{'solver_time': 2.4827587604522705, 'termination_condition': <TerminationCondition.optimal: 'optimal'>, 'message': 'Ipopt 3.14.16\\\\x3a Optimal Solution Found'}\n",
      "Iteration: 39 / 96\n"
     ]
    },
    {
     "name": "stderr",
     "output_type": "stream",
     "text": [
      "/Users/mariiashapo/Library/CloudStorage/OneDrive-Personal/project_2324/NODE/00_models/nn_pyomo_base.py:82: UserWarning: y_init should be structured such that each row represents a new time point.\n",
      "  warnings.warn(\"y_init should be structured such that each row represents a new time point.\")\n"
     ]
    },
    {
     "name": "stdout",
     "output_type": "stream",
     "text": [
      "Ipopt 3.14.16: tol=1e-08\n",
      "acceptable_tol=1e-15\n",
      "acceptable_constr_viol_tol=1e-15\n",
      "acceptable_dual_inf_tol=1e-15\n",
      "acceptable_compl_inf_tol=1e-15\n",
      "acceptable_iter=0\n",
      "halt_on_ampl_error=yes\n",
      "print_level=1\n",
      "max_iter=3000\n",
      "\n",
      "\n",
      "******************************************************************************\n",
      "This program contains Ipopt, a library for large-scale nonlinear optimization.\n",
      " Ipopt is released as open source code under the Eclipse Public License (EPL).\n",
      "         For more information visit https://github.com/coin-or/Ipopt\n",
      "******************************************************************************\n",
      "\n",
      "{'solver_time': 2.475714921951294, 'termination_condition': <TerminationCondition.optimal: 'optimal'>, 'message': 'Ipopt 3.14.16\\\\x3a Optimal Solution Found'}\n",
      "Iteration: 40 / 96\n"
     ]
    },
    {
     "name": "stderr",
     "output_type": "stream",
     "text": [
      "/Users/mariiashapo/Library/CloudStorage/OneDrive-Personal/project_2324/NODE/00_models/nn_pyomo_base.py:82: UserWarning: y_init should be structured such that each row represents a new time point.\n",
      "  warnings.warn(\"y_init should be structured such that each row represents a new time point.\")\n"
     ]
    },
    {
     "name": "stdout",
     "output_type": "stream",
     "text": [
      "Ipopt 3.14.16: tol=1e-05\n",
      "acceptable_tol=1e-15\n",
      "acceptable_constr_viol_tol=1e-15\n",
      "acceptable_dual_inf_tol=1e-15\n",
      "acceptable_compl_inf_tol=1e-15\n",
      "acceptable_iter=0\n",
      "halt_on_ampl_error=yes\n",
      "print_level=1\n",
      "max_iter=3000\n",
      "\n",
      "\n",
      "******************************************************************************\n",
      "This program contains Ipopt, a library for large-scale nonlinear optimization.\n",
      " Ipopt is released as open source code under the Eclipse Public License (EPL).\n",
      "         For more information visit https://github.com/coin-or/Ipopt\n",
      "******************************************************************************\n",
      "\n",
      "{'solver_time': 2.547722339630127, 'termination_condition': <TerminationCondition.optimal: 'optimal'>, 'message': 'Ipopt 3.14.16\\\\x3a Optimal Solution Found'}\n",
      "Iteration: 41 / 96\n"
     ]
    },
    {
     "name": "stderr",
     "output_type": "stream",
     "text": [
      "/Users/mariiashapo/Library/CloudStorage/OneDrive-Personal/project_2324/NODE/00_models/nn_pyomo_base.py:82: UserWarning: y_init should be structured such that each row represents a new time point.\n",
      "  warnings.warn(\"y_init should be structured such that each row represents a new time point.\")\n"
     ]
    },
    {
     "name": "stdout",
     "output_type": "stream",
     "text": [
      "Ipopt 3.14.16: tol=1e-06\n",
      "acceptable_tol=1e-15\n",
      "acceptable_constr_viol_tol=1e-15\n",
      "acceptable_dual_inf_tol=1e-15\n",
      "acceptable_compl_inf_tol=1e-15\n",
      "acceptable_iter=0\n",
      "halt_on_ampl_error=yes\n",
      "print_level=1\n",
      "max_iter=3000\n",
      "\n",
      "\n",
      "******************************************************************************\n",
      "This program contains Ipopt, a library for large-scale nonlinear optimization.\n",
      " Ipopt is released as open source code under the Eclipse Public License (EPL).\n",
      "         For more information visit https://github.com/coin-or/Ipopt\n",
      "******************************************************************************\n",
      "\n",
      "{'solver_time': 3.1035828590393066, 'termination_condition': <TerminationCondition.optimal: 'optimal'>, 'message': 'Ipopt 3.14.16\\\\x3a Optimal Solution Found'}\n",
      "Iteration: 42 / 96\n"
     ]
    },
    {
     "name": "stderr",
     "output_type": "stream",
     "text": [
      "/Users/mariiashapo/Library/CloudStorage/OneDrive-Personal/project_2324/NODE/00_models/nn_pyomo_base.py:82: UserWarning: y_init should be structured such that each row represents a new time point.\n",
      "  warnings.warn(\"y_init should be structured such that each row represents a new time point.\")\n"
     ]
    },
    {
     "name": "stdout",
     "output_type": "stream",
     "text": [
      "Ipopt 3.14.16: tol=1e-07\n",
      "acceptable_tol=1e-15\n",
      "acceptable_constr_viol_tol=1e-15\n",
      "acceptable_dual_inf_tol=1e-15\n",
      "acceptable_compl_inf_tol=1e-15\n",
      "acceptable_iter=0\n",
      "halt_on_ampl_error=yes\n",
      "print_level=1\n",
      "max_iter=3000\n",
      "\n",
      "\n",
      "******************************************************************************\n",
      "This program contains Ipopt, a library for large-scale nonlinear optimization.\n",
      " Ipopt is released as open source code under the Eclipse Public License (EPL).\n",
      "         For more information visit https://github.com/coin-or/Ipopt\n",
      "******************************************************************************\n",
      "\n",
      "{'solver_time': 3.1742947101593018, 'termination_condition': <TerminationCondition.optimal: 'optimal'>, 'message': 'Ipopt 3.14.16\\\\x3a Optimal Solution Found'}\n",
      "Iteration: 43 / 96\n"
     ]
    },
    {
     "name": "stderr",
     "output_type": "stream",
     "text": [
      "/Users/mariiashapo/Library/CloudStorage/OneDrive-Personal/project_2324/NODE/00_models/nn_pyomo_base.py:82: UserWarning: y_init should be structured such that each row represents a new time point.\n",
      "  warnings.warn(\"y_init should be structured such that each row represents a new time point.\")\n"
     ]
    },
    {
     "name": "stdout",
     "output_type": "stream",
     "text": [
      "Ipopt 3.14.16: tol=1e-08\n",
      "acceptable_tol=1e-15\n",
      "acceptable_constr_viol_tol=1e-15\n",
      "acceptable_dual_inf_tol=1e-15\n",
      "acceptable_compl_inf_tol=1e-15\n",
      "acceptable_iter=0\n",
      "halt_on_ampl_error=yes\n",
      "print_level=1\n",
      "max_iter=3000\n",
      "\n",
      "\n",
      "******************************************************************************\n",
      "This program contains Ipopt, a library for large-scale nonlinear optimization.\n",
      " Ipopt is released as open source code under the Eclipse Public License (EPL).\n",
      "         For more information visit https://github.com/coin-or/Ipopt\n",
      "******************************************************************************\n",
      "\n",
      "{'solver_time': 3.2617170810699463, 'termination_condition': <TerminationCondition.optimal: 'optimal'>, 'message': 'Ipopt 3.14.16\\\\x3a Optimal Solution Found'}\n",
      "Iteration: 44 / 96\n"
     ]
    },
    {
     "name": "stderr",
     "output_type": "stream",
     "text": [
      "/Users/mariiashapo/Library/CloudStorage/OneDrive-Personal/project_2324/NODE/00_models/nn_pyomo_base.py:82: UserWarning: y_init should be structured such that each row represents a new time point.\n",
      "  warnings.warn(\"y_init should be structured such that each row represents a new time point.\")\n"
     ]
    },
    {
     "name": "stdout",
     "output_type": "stream",
     "text": [
      "Ipopt 3.14.16: tol=1e-05\n",
      "acceptable_tol=1e-15\n",
      "acceptable_constr_viol_tol=1e-15\n",
      "acceptable_dual_inf_tol=1e-15\n",
      "acceptable_compl_inf_tol=1e-15\n",
      "acceptable_iter=0\n",
      "halt_on_ampl_error=yes\n",
      "print_level=1\n",
      "max_iter=3000\n",
      "\n",
      "\n",
      "******************************************************************************\n",
      "This program contains Ipopt, a library for large-scale nonlinear optimization.\n",
      " Ipopt is released as open source code under the Eclipse Public License (EPL).\n",
      "         For more information visit https://github.com/coin-or/Ipopt\n",
      "******************************************************************************\n",
      "\n",
      "{'solver_time': 1.9469449520111084, 'termination_condition': <TerminationCondition.optimal: 'optimal'>, 'message': 'Ipopt 3.14.16\\\\x3a Optimal Solution Found'}\n",
      "Iteration: 45 / 96\n"
     ]
    },
    {
     "name": "stderr",
     "output_type": "stream",
     "text": [
      "/Users/mariiashapo/Library/CloudStorage/OneDrive-Personal/project_2324/NODE/00_models/nn_pyomo_base.py:82: UserWarning: y_init should be structured such that each row represents a new time point.\n",
      "  warnings.warn(\"y_init should be structured such that each row represents a new time point.\")\n"
     ]
    },
    {
     "name": "stdout",
     "output_type": "stream",
     "text": [
      "Ipopt 3.14.16: tol=1e-06\n",
      "acceptable_tol=1e-15\n",
      "acceptable_constr_viol_tol=1e-15\n",
      "acceptable_dual_inf_tol=1e-15\n",
      "acceptable_compl_inf_tol=1e-15\n",
      "acceptable_iter=0\n",
      "halt_on_ampl_error=yes\n",
      "print_level=1\n",
      "max_iter=3000\n",
      "\n",
      "\n",
      "******************************************************************************\n",
      "This program contains Ipopt, a library for large-scale nonlinear optimization.\n",
      " Ipopt is released as open source code under the Eclipse Public License (EPL).\n",
      "         For more information visit https://github.com/coin-or/Ipopt\n",
      "******************************************************************************\n",
      "\n",
      "{'solver_time': 2.0550332069396973, 'termination_condition': <TerminationCondition.optimal: 'optimal'>, 'message': 'Ipopt 3.14.16\\\\x3a Optimal Solution Found'}\n",
      "Iteration: 46 / 96\n"
     ]
    },
    {
     "name": "stderr",
     "output_type": "stream",
     "text": [
      "/Users/mariiashapo/Library/CloudStorage/OneDrive-Personal/project_2324/NODE/00_models/nn_pyomo_base.py:82: UserWarning: y_init should be structured such that each row represents a new time point.\n",
      "  warnings.warn(\"y_init should be structured such that each row represents a new time point.\")\n"
     ]
    },
    {
     "name": "stdout",
     "output_type": "stream",
     "text": [
      "Ipopt 3.14.16: tol=1e-07\n",
      "acceptable_tol=1e-15\n",
      "acceptable_constr_viol_tol=1e-15\n",
      "acceptable_dual_inf_tol=1e-15\n",
      "acceptable_compl_inf_tol=1e-15\n",
      "acceptable_iter=0\n",
      "halt_on_ampl_error=yes\n",
      "print_level=1\n",
      "max_iter=3000\n",
      "\n",
      "\n",
      "******************************************************************************\n",
      "This program contains Ipopt, a library for large-scale nonlinear optimization.\n",
      " Ipopt is released as open source code under the Eclipse Public License (EPL).\n",
      "         For more information visit https://github.com/coin-or/Ipopt\n",
      "******************************************************************************\n",
      "\n",
      "{'solver_time': 2.8635191917419434, 'termination_condition': <TerminationCondition.optimal: 'optimal'>, 'message': 'Ipopt 3.14.16\\\\x3a Optimal Solution Found'}\n",
      "Iteration: 47 / 96\n"
     ]
    },
    {
     "name": "stderr",
     "output_type": "stream",
     "text": [
      "/Users/mariiashapo/Library/CloudStorage/OneDrive-Personal/project_2324/NODE/00_models/nn_pyomo_base.py:82: UserWarning: y_init should be structured such that each row represents a new time point.\n",
      "  warnings.warn(\"y_init should be structured such that each row represents a new time point.\")\n"
     ]
    },
    {
     "name": "stdout",
     "output_type": "stream",
     "text": [
      "Ipopt 3.14.16: tol=1e-08\n",
      "acceptable_tol=1e-15\n",
      "acceptable_constr_viol_tol=1e-15\n",
      "acceptable_dual_inf_tol=1e-15\n",
      "acceptable_compl_inf_tol=1e-15\n",
      "acceptable_iter=0\n",
      "halt_on_ampl_error=yes\n",
      "print_level=1\n",
      "max_iter=3000\n",
      "\n",
      "\n",
      "******************************************************************************\n",
      "This program contains Ipopt, a library for large-scale nonlinear optimization.\n",
      " Ipopt is released as open source code under the Eclipse Public License (EPL).\n",
      "         For more information visit https://github.com/coin-or/Ipopt\n",
      "******************************************************************************\n",
      "\n",
      "{'solver_time': 1.958510160446167, 'termination_condition': <TerminationCondition.optimal: 'optimal'>, 'message': 'Ipopt 3.14.16\\\\x3a Optimal Solution Found'}\n",
      "Iteration: 48 / 96\n"
     ]
    },
    {
     "name": "stderr",
     "output_type": "stream",
     "text": [
      "/Users/mariiashapo/Library/CloudStorage/OneDrive-Personal/project_2324/NODE/00_models/nn_pyomo_base.py:82: UserWarning: y_init should be structured such that each row represents a new time point.\n",
      "  warnings.warn(\"y_init should be structured such that each row represents a new time point.\")\n"
     ]
    },
    {
     "name": "stdout",
     "output_type": "stream",
     "text": [
      "Ipopt 3.14.16: tol=1e-05\n",
      "acceptable_tol=1e-15\n",
      "acceptable_constr_viol_tol=1e-15\n",
      "acceptable_dual_inf_tol=1e-15\n",
      "acceptable_compl_inf_tol=1e-15\n",
      "acceptable_iter=0\n",
      "halt_on_ampl_error=yes\n",
      "print_level=1\n",
      "max_iter=3000\n",
      "\n",
      "\n",
      "******************************************************************************\n",
      "This program contains Ipopt, a library for large-scale nonlinear optimization.\n",
      " Ipopt is released as open source code under the Eclipse Public License (EPL).\n",
      "         For more information visit https://github.com/coin-or/Ipopt\n",
      "******************************************************************************\n",
      "\n",
      "{'solver_time': 13.946074962615967, 'termination_condition': <TerminationCondition.optimal: 'optimal'>, 'message': 'Ipopt 3.14.16\\\\x3a Optimal Solution Found'}\n",
      "Iteration: 49 / 96\n"
     ]
    },
    {
     "name": "stderr",
     "output_type": "stream",
     "text": [
      "/Users/mariiashapo/Library/CloudStorage/OneDrive-Personal/project_2324/NODE/00_models/nn_pyomo_base.py:82: UserWarning: y_init should be structured such that each row represents a new time point.\n",
      "  warnings.warn(\"y_init should be structured such that each row represents a new time point.\")\n"
     ]
    },
    {
     "name": "stdout",
     "output_type": "stream",
     "text": [
      "Ipopt 3.14.16: tol=1e-06\n",
      "acceptable_tol=1e-15\n",
      "acceptable_constr_viol_tol=1e-15\n",
      "acceptable_dual_inf_tol=1e-15\n",
      "acceptable_compl_inf_tol=1e-15\n",
      "acceptable_iter=0\n",
      "halt_on_ampl_error=yes\n",
      "print_level=1\n",
      "max_iter=3000\n",
      "\n",
      "\n",
      "******************************************************************************\n",
      "This program contains Ipopt, a library for large-scale nonlinear optimization.\n",
      " Ipopt is released as open source code under the Eclipse Public License (EPL).\n",
      "         For more information visit https://github.com/coin-or/Ipopt\n",
      "******************************************************************************\n",
      "\n",
      "{'solver_time': 14.83895492553711, 'termination_condition': <TerminationCondition.optimal: 'optimal'>, 'message': 'Ipopt 3.14.16\\\\x3a Optimal Solution Found'}\n",
      "Iteration: 50 / 96\n"
     ]
    },
    {
     "name": "stderr",
     "output_type": "stream",
     "text": [
      "/Users/mariiashapo/Library/CloudStorage/OneDrive-Personal/project_2324/NODE/00_models/nn_pyomo_base.py:82: UserWarning: y_init should be structured such that each row represents a new time point.\n",
      "  warnings.warn(\"y_init should be structured such that each row represents a new time point.\")\n"
     ]
    },
    {
     "name": "stdout",
     "output_type": "stream",
     "text": [
      "Ipopt 3.14.16: tol=1e-07\n",
      "acceptable_tol=1e-15\n",
      "acceptable_constr_viol_tol=1e-15\n",
      "acceptable_dual_inf_tol=1e-15\n",
      "acceptable_compl_inf_tol=1e-15\n",
      "acceptable_iter=0\n",
      "halt_on_ampl_error=yes\n",
      "print_level=1\n",
      "max_iter=3000\n",
      "\n",
      "\n",
      "******************************************************************************\n",
      "This program contains Ipopt, a library for large-scale nonlinear optimization.\n",
      " Ipopt is released as open source code under the Eclipse Public License (EPL).\n",
      "         For more information visit https://github.com/coin-or/Ipopt\n",
      "******************************************************************************\n",
      "\n",
      "{'solver_time': 14.800615787506104, 'termination_condition': <TerminationCondition.optimal: 'optimal'>, 'message': 'Ipopt 3.14.16\\\\x3a Optimal Solution Found'}\n",
      "Iteration: 51 / 96\n"
     ]
    },
    {
     "name": "stderr",
     "output_type": "stream",
     "text": [
      "/Users/mariiashapo/Library/CloudStorage/OneDrive-Personal/project_2324/NODE/00_models/nn_pyomo_base.py:82: UserWarning: y_init should be structured such that each row represents a new time point.\n",
      "  warnings.warn(\"y_init should be structured such that each row represents a new time point.\")\n"
     ]
    },
    {
     "name": "stdout",
     "output_type": "stream",
     "text": [
      "Ipopt 3.14.16: tol=1e-08\n",
      "acceptable_tol=1e-15\n",
      "acceptable_constr_viol_tol=1e-15\n",
      "acceptable_dual_inf_tol=1e-15\n",
      "acceptable_compl_inf_tol=1e-15\n",
      "acceptable_iter=0\n",
      "halt_on_ampl_error=yes\n",
      "print_level=1\n",
      "max_iter=3000\n",
      "\n",
      "\n",
      "******************************************************************************\n",
      "This program contains Ipopt, a library for large-scale nonlinear optimization.\n",
      " Ipopt is released as open source code under the Eclipse Public License (EPL).\n",
      "         For more information visit https://github.com/coin-or/Ipopt\n",
      "******************************************************************************\n",
      "\n",
      "{'solver_time': 14.077147960662842, 'termination_condition': <TerminationCondition.optimal: 'optimal'>, 'message': 'Ipopt 3.14.16\\\\x3a Optimal Solution Found'}\n",
      "Iteration: 52 / 96\n"
     ]
    },
    {
     "name": "stderr",
     "output_type": "stream",
     "text": [
      "/Users/mariiashapo/Library/CloudStorage/OneDrive-Personal/project_2324/NODE/00_models/nn_pyomo_base.py:82: UserWarning: y_init should be structured such that each row represents a new time point.\n",
      "  warnings.warn(\"y_init should be structured such that each row represents a new time point.\")\n"
     ]
    },
    {
     "name": "stdout",
     "output_type": "stream",
     "text": [
      "Ipopt 3.14.16: tol=1e-05\n",
      "acceptable_tol=1e-15\n",
      "acceptable_constr_viol_tol=1e-15\n",
      "acceptable_dual_inf_tol=1e-15\n",
      "acceptable_compl_inf_tol=1e-15\n",
      "acceptable_iter=0\n",
      "halt_on_ampl_error=yes\n",
      "print_level=1\n",
      "max_iter=3000\n",
      "\n",
      "\n",
      "******************************************************************************\n",
      "This program contains Ipopt, a library for large-scale nonlinear optimization.\n",
      " Ipopt is released as open source code under the Eclipse Public License (EPL).\n",
      "         For more information visit https://github.com/coin-or/Ipopt\n",
      "******************************************************************************\n",
      "\n",
      "{'solver_time': 5.221491098403931, 'termination_condition': <TerminationCondition.optimal: 'optimal'>, 'message': 'Ipopt 3.14.16\\\\x3a Optimal Solution Found'}\n",
      "Iteration: 53 / 96\n"
     ]
    },
    {
     "name": "stderr",
     "output_type": "stream",
     "text": [
      "/Users/mariiashapo/Library/CloudStorage/OneDrive-Personal/project_2324/NODE/00_models/nn_pyomo_base.py:82: UserWarning: y_init should be structured such that each row represents a new time point.\n",
      "  warnings.warn(\"y_init should be structured such that each row represents a new time point.\")\n"
     ]
    },
    {
     "name": "stdout",
     "output_type": "stream",
     "text": [
      "Ipopt 3.14.16: tol=1e-06\n",
      "acceptable_tol=1e-15\n",
      "acceptable_constr_viol_tol=1e-15\n",
      "acceptable_dual_inf_tol=1e-15\n",
      "acceptable_compl_inf_tol=1e-15\n",
      "acceptable_iter=0\n",
      "halt_on_ampl_error=yes\n",
      "print_level=1\n",
      "max_iter=3000\n",
      "\n",
      "\n",
      "******************************************************************************\n",
      "This program contains Ipopt, a library for large-scale nonlinear optimization.\n",
      " Ipopt is released as open source code under the Eclipse Public License (EPL).\n",
      "         For more information visit https://github.com/coin-or/Ipopt\n",
      "******************************************************************************\n",
      "\n",
      "{'solver_time': 5.516206979751587, 'termination_condition': <TerminationCondition.optimal: 'optimal'>, 'message': 'Ipopt 3.14.16\\\\x3a Optimal Solution Found'}\n",
      "Iteration: 54 / 96\n"
     ]
    },
    {
     "name": "stderr",
     "output_type": "stream",
     "text": [
      "/Users/mariiashapo/Library/CloudStorage/OneDrive-Personal/project_2324/NODE/00_models/nn_pyomo_base.py:82: UserWarning: y_init should be structured such that each row represents a new time point.\n",
      "  warnings.warn(\"y_init should be structured such that each row represents a new time point.\")\n"
     ]
    },
    {
     "name": "stdout",
     "output_type": "stream",
     "text": [
      "Ipopt 3.14.16: tol=1e-07\n",
      "acceptable_tol=1e-15\n",
      "acceptable_constr_viol_tol=1e-15\n",
      "acceptable_dual_inf_tol=1e-15\n",
      "acceptable_compl_inf_tol=1e-15\n",
      "acceptable_iter=0\n",
      "halt_on_ampl_error=yes\n",
      "print_level=1\n",
      "max_iter=3000\n",
      "\n",
      "\n",
      "******************************************************************************\n",
      "This program contains Ipopt, a library for large-scale nonlinear optimization.\n",
      " Ipopt is released as open source code under the Eclipse Public License (EPL).\n",
      "         For more information visit https://github.com/coin-or/Ipopt\n",
      "******************************************************************************\n",
      "\n",
      "{'solver_time': 4.861241102218628, 'termination_condition': <TerminationCondition.optimal: 'optimal'>, 'message': 'Ipopt 3.14.16\\\\x3a Optimal Solution Found'}\n",
      "Iteration: 55 / 96\n"
     ]
    },
    {
     "name": "stderr",
     "output_type": "stream",
     "text": [
      "/Users/mariiashapo/Library/CloudStorage/OneDrive-Personal/project_2324/NODE/00_models/nn_pyomo_base.py:82: UserWarning: y_init should be structured such that each row represents a new time point.\n",
      "  warnings.warn(\"y_init should be structured such that each row represents a new time point.\")\n"
     ]
    },
    {
     "name": "stdout",
     "output_type": "stream",
     "text": [
      "Ipopt 3.14.16: tol=1e-08\n",
      "acceptable_tol=1e-15\n",
      "acceptable_constr_viol_tol=1e-15\n",
      "acceptable_dual_inf_tol=1e-15\n",
      "acceptable_compl_inf_tol=1e-15\n",
      "acceptable_iter=0\n",
      "halt_on_ampl_error=yes\n",
      "print_level=1\n",
      "max_iter=3000\n",
      "\n",
      "\n",
      "******************************************************************************\n",
      "This program contains Ipopt, a library for large-scale nonlinear optimization.\n",
      " Ipopt is released as open source code under the Eclipse Public License (EPL).\n",
      "         For more information visit https://github.com/coin-or/Ipopt\n",
      "******************************************************************************\n",
      "\n",
      "{'solver_time': 5.088352918624878, 'termination_condition': <TerminationCondition.optimal: 'optimal'>, 'message': 'Ipopt 3.14.16\\\\x3a Optimal Solution Found'}\n",
      "Iteration: 56 / 96\n"
     ]
    },
    {
     "name": "stderr",
     "output_type": "stream",
     "text": [
      "/Users/mariiashapo/Library/CloudStorage/OneDrive-Personal/project_2324/NODE/00_models/nn_pyomo_base.py:82: UserWarning: y_init should be structured such that each row represents a new time point.\n",
      "  warnings.warn(\"y_init should be structured such that each row represents a new time point.\")\n"
     ]
    },
    {
     "name": "stdout",
     "output_type": "stream",
     "text": [
      "Ipopt 3.14.16: tol=1e-05\n",
      "acceptable_tol=1e-15\n",
      "acceptable_constr_viol_tol=1e-15\n",
      "acceptable_dual_inf_tol=1e-15\n",
      "acceptable_compl_inf_tol=1e-15\n",
      "acceptable_iter=0\n",
      "halt_on_ampl_error=yes\n",
      "print_level=1\n",
      "max_iter=3000\n",
      "\n",
      "\n",
      "******************************************************************************\n",
      "This program contains Ipopt, a library for large-scale nonlinear optimization.\n",
      " Ipopt is released as open source code under the Eclipse Public License (EPL).\n",
      "         For more information visit https://github.com/coin-or/Ipopt\n",
      "******************************************************************************\n",
      "\n",
      "{'solver_time': 4.435311794281006, 'termination_condition': <TerminationCondition.optimal: 'optimal'>, 'message': 'Ipopt 3.14.16\\\\x3a Optimal Solution Found'}\n",
      "Iteration: 57 / 96\n"
     ]
    },
    {
     "name": "stderr",
     "output_type": "stream",
     "text": [
      "/Users/mariiashapo/Library/CloudStorage/OneDrive-Personal/project_2324/NODE/00_models/nn_pyomo_base.py:82: UserWarning: y_init should be structured such that each row represents a new time point.\n",
      "  warnings.warn(\"y_init should be structured such that each row represents a new time point.\")\n"
     ]
    },
    {
     "name": "stdout",
     "output_type": "stream",
     "text": [
      "Ipopt 3.14.16: tol=1e-06\n",
      "acceptable_tol=1e-15\n",
      "acceptable_constr_viol_tol=1e-15\n",
      "acceptable_dual_inf_tol=1e-15\n",
      "acceptable_compl_inf_tol=1e-15\n",
      "acceptable_iter=0\n",
      "halt_on_ampl_error=yes\n",
      "print_level=1\n",
      "max_iter=3000\n",
      "\n",
      "\n",
      "******************************************************************************\n",
      "This program contains Ipopt, a library for large-scale nonlinear optimization.\n",
      " Ipopt is released as open source code under the Eclipse Public License (EPL).\n",
      "         For more information visit https://github.com/coin-or/Ipopt\n",
      "******************************************************************************\n",
      "\n",
      "{'solver_time': 6.827018976211548, 'termination_condition': <TerminationCondition.optimal: 'optimal'>, 'message': 'Ipopt 3.14.16\\\\x3a Optimal Solution Found'}\n",
      "Iteration: 58 / 96\n"
     ]
    },
    {
     "name": "stderr",
     "output_type": "stream",
     "text": [
      "/Users/mariiashapo/Library/CloudStorage/OneDrive-Personal/project_2324/NODE/00_models/nn_pyomo_base.py:82: UserWarning: y_init should be structured such that each row represents a new time point.\n",
      "  warnings.warn(\"y_init should be structured such that each row represents a new time point.\")\n"
     ]
    },
    {
     "name": "stdout",
     "output_type": "stream",
     "text": [
      "Ipopt 3.14.16: tol=1e-07\n",
      "acceptable_tol=1e-15\n",
      "acceptable_constr_viol_tol=1e-15\n",
      "acceptable_dual_inf_tol=1e-15\n",
      "acceptable_compl_inf_tol=1e-15\n",
      "acceptable_iter=0\n",
      "halt_on_ampl_error=yes\n",
      "print_level=1\n",
      "max_iter=3000\n",
      "\n",
      "\n",
      "******************************************************************************\n",
      "This program contains Ipopt, a library for large-scale nonlinear optimization.\n",
      " Ipopt is released as open source code under the Eclipse Public License (EPL).\n",
      "         For more information visit https://github.com/coin-or/Ipopt\n",
      "******************************************************************************\n",
      "\n",
      "{'solver_time': 6.460721969604492, 'termination_condition': <TerminationCondition.optimal: 'optimal'>, 'message': 'Ipopt 3.14.16\\\\x3a Optimal Solution Found'}\n",
      "Iteration: 59 / 96\n"
     ]
    },
    {
     "name": "stderr",
     "output_type": "stream",
     "text": [
      "/Users/mariiashapo/Library/CloudStorage/OneDrive-Personal/project_2324/NODE/00_models/nn_pyomo_base.py:82: UserWarning: y_init should be structured such that each row represents a new time point.\n",
      "  warnings.warn(\"y_init should be structured such that each row represents a new time point.\")\n"
     ]
    },
    {
     "name": "stdout",
     "output_type": "stream",
     "text": [
      "Ipopt 3.14.16: tol=1e-08\n",
      "acceptable_tol=1e-15\n",
      "acceptable_constr_viol_tol=1e-15\n",
      "acceptable_dual_inf_tol=1e-15\n",
      "acceptable_compl_inf_tol=1e-15\n",
      "acceptable_iter=0\n",
      "halt_on_ampl_error=yes\n",
      "print_level=1\n",
      "max_iter=3000\n",
      "\n",
      "\n",
      "******************************************************************************\n",
      "This program contains Ipopt, a library for large-scale nonlinear optimization.\n",
      " Ipopt is released as open source code under the Eclipse Public License (EPL).\n",
      "         For more information visit https://github.com/coin-or/Ipopt\n",
      "******************************************************************************\n",
      "\n",
      "{'solver_time': 7.497087001800537, 'termination_condition': <TerminationCondition.optimal: 'optimal'>, 'message': 'Ipopt 3.14.16\\\\x3a Optimal Solution Found'}\n",
      "Iteration: 60 / 96\n"
     ]
    },
    {
     "name": "stderr",
     "output_type": "stream",
     "text": [
      "/Users/mariiashapo/Library/CloudStorage/OneDrive-Personal/project_2324/NODE/00_models/nn_pyomo_base.py:82: UserWarning: y_init should be structured such that each row represents a new time point.\n",
      "  warnings.warn(\"y_init should be structured such that each row represents a new time point.\")\n"
     ]
    },
    {
     "name": "stdout",
     "output_type": "stream",
     "text": [
      "Ipopt 3.14.16: tol=1e-05\n",
      "acceptable_tol=1e-15\n",
      "acceptable_constr_viol_tol=1e-15\n",
      "acceptable_dual_inf_tol=1e-15\n",
      "acceptable_compl_inf_tol=1e-15\n",
      "acceptable_iter=0\n",
      "halt_on_ampl_error=yes\n",
      "print_level=1\n",
      "max_iter=3000\n",
      "\n",
      "\n",
      "******************************************************************************\n",
      "This program contains Ipopt, a library for large-scale nonlinear optimization.\n",
      " Ipopt is released as open source code under the Eclipse Public License (EPL).\n",
      "         For more information visit https://github.com/coin-or/Ipopt\n",
      "******************************************************************************\n",
      "\n",
      "{'solver_time': 51.396594762802124, 'termination_condition': <TerminationCondition.optimal: 'optimal'>, 'message': 'Ipopt 3.14.16\\\\x3a Optimal Solution Found'}\n",
      "Iteration: 61 / 96\n"
     ]
    },
    {
     "name": "stderr",
     "output_type": "stream",
     "text": [
      "/Users/mariiashapo/Library/CloudStorage/OneDrive-Personal/project_2324/NODE/00_models/nn_pyomo_base.py:82: UserWarning: y_init should be structured such that each row represents a new time point.\n",
      "  warnings.warn(\"y_init should be structured such that each row represents a new time point.\")\n"
     ]
    },
    {
     "name": "stdout",
     "output_type": "stream",
     "text": [
      "Ipopt 3.14.16: tol=1e-06\n",
      "acceptable_tol=1e-15\n",
      "acceptable_constr_viol_tol=1e-15\n",
      "acceptable_dual_inf_tol=1e-15\n",
      "acceptable_compl_inf_tol=1e-15\n",
      "acceptable_iter=0\n",
      "halt_on_ampl_error=yes\n",
      "print_level=1\n",
      "max_iter=3000\n",
      "\n",
      "\n",
      "******************************************************************************\n",
      "This program contains Ipopt, a library for large-scale nonlinear optimization.\n",
      " Ipopt is released as open source code under the Eclipse Public License (EPL).\n",
      "         For more information visit https://github.com/coin-or/Ipopt\n",
      "******************************************************************************\n",
      "\n",
      "{'solver_time': 50.558921098709106, 'termination_condition': <TerminationCondition.optimal: 'optimal'>, 'message': 'Ipopt 3.14.16\\\\x3a Optimal Solution Found'}\n",
      "Iteration: 62 / 96\n"
     ]
    },
    {
     "name": "stderr",
     "output_type": "stream",
     "text": [
      "/Users/mariiashapo/Library/CloudStorage/OneDrive-Personal/project_2324/NODE/00_models/nn_pyomo_base.py:82: UserWarning: y_init should be structured such that each row represents a new time point.\n",
      "  warnings.warn(\"y_init should be structured such that each row represents a new time point.\")\n"
     ]
    },
    {
     "name": "stdout",
     "output_type": "stream",
     "text": [
      "Ipopt 3.14.16: tol=1e-07\n",
      "acceptable_tol=1e-15\n",
      "acceptable_constr_viol_tol=1e-15\n",
      "acceptable_dual_inf_tol=1e-15\n",
      "acceptable_compl_inf_tol=1e-15\n",
      "acceptable_iter=0\n",
      "halt_on_ampl_error=yes\n",
      "print_level=1\n",
      "max_iter=3000\n",
      "\n",
      "\n",
      "******************************************************************************\n",
      "This program contains Ipopt, a library for large-scale nonlinear optimization.\n",
      " Ipopt is released as open source code under the Eclipse Public License (EPL).\n",
      "         For more information visit https://github.com/coin-or/Ipopt\n",
      "******************************************************************************\n",
      "\n",
      "{'solver_time': 50.350651025772095, 'termination_condition': <TerminationCondition.optimal: 'optimal'>, 'message': 'Ipopt 3.14.16\\\\x3a Optimal Solution Found'}\n",
      "Iteration: 63 / 96\n"
     ]
    },
    {
     "name": "stderr",
     "output_type": "stream",
     "text": [
      "/Users/mariiashapo/Library/CloudStorage/OneDrive-Personal/project_2324/NODE/00_models/nn_pyomo_base.py:82: UserWarning: y_init should be structured such that each row represents a new time point.\n",
      "  warnings.warn(\"y_init should be structured such that each row represents a new time point.\")\n"
     ]
    },
    {
     "name": "stdout",
     "output_type": "stream",
     "text": [
      "Ipopt 3.14.16: tol=1e-08\n",
      "acceptable_tol=1e-15\n",
      "acceptable_constr_viol_tol=1e-15\n",
      "acceptable_dual_inf_tol=1e-15\n",
      "acceptable_compl_inf_tol=1e-15\n",
      "acceptable_iter=0\n",
      "halt_on_ampl_error=yes\n",
      "print_level=1\n",
      "max_iter=3000\n",
      "\n",
      "\n",
      "******************************************************************************\n",
      "This program contains Ipopt, a library for large-scale nonlinear optimization.\n",
      " Ipopt is released as open source code under the Eclipse Public License (EPL).\n",
      "         For more information visit https://github.com/coin-or/Ipopt\n",
      "******************************************************************************\n",
      "\n",
      "{'solver_time': 50.979535818099976, 'termination_condition': <TerminationCondition.optimal: 'optimal'>, 'message': 'Ipopt 3.14.16\\\\x3a Optimal Solution Found'}\n",
      "Iteration: 64 / 96\n"
     ]
    },
    {
     "name": "stderr",
     "output_type": "stream",
     "text": [
      "/Users/mariiashapo/Library/CloudStorage/OneDrive-Personal/project_2324/NODE/00_models/nn_pyomo_base.py:82: UserWarning: y_init should be structured such that each row represents a new time point.\n",
      "  warnings.warn(\"y_init should be structured such that each row represents a new time point.\")\n"
     ]
    },
    {
     "name": "stdout",
     "output_type": "stream",
     "text": [
      "Ipopt 3.14.16: tol=1e-05\n",
      "acceptable_tol=1e-15\n",
      "acceptable_constr_viol_tol=1e-15\n",
      "acceptable_dual_inf_tol=1e-15\n",
      "acceptable_compl_inf_tol=1e-15\n",
      "acceptable_iter=0\n",
      "halt_on_ampl_error=yes\n",
      "print_level=1\n",
      "max_iter=3000\n",
      "\n",
      "\n",
      "******************************************************************************\n",
      "This program contains Ipopt, a library for large-scale nonlinear optimization.\n",
      " Ipopt is released as open source code under the Eclipse Public License (EPL).\n",
      "         For more information visit https://github.com/coin-or/Ipopt\n",
      "******************************************************************************\n",
      "\n",
      "{'solver_time': 30.66110110282898, 'termination_condition': <TerminationCondition.optimal: 'optimal'>, 'message': 'Ipopt 3.14.16\\\\x3a Optimal Solution Found'}\n",
      "Iteration: 65 / 96\n"
     ]
    },
    {
     "name": "stderr",
     "output_type": "stream",
     "text": [
      "/Users/mariiashapo/Library/CloudStorage/OneDrive-Personal/project_2324/NODE/00_models/nn_pyomo_base.py:82: UserWarning: y_init should be structured such that each row represents a new time point.\n",
      "  warnings.warn(\"y_init should be structured such that each row represents a new time point.\")\n"
     ]
    },
    {
     "name": "stdout",
     "output_type": "stream",
     "text": [
      "Ipopt 3.14.16: tol=1e-06\n",
      "acceptable_tol=1e-15\n",
      "acceptable_constr_viol_tol=1e-15\n",
      "acceptable_dual_inf_tol=1e-15\n",
      "acceptable_compl_inf_tol=1e-15\n",
      "acceptable_iter=0\n",
      "halt_on_ampl_error=yes\n",
      "print_level=1\n",
      "max_iter=3000\n",
      "\n",
      "\n",
      "******************************************************************************\n",
      "This program contains Ipopt, a library for large-scale nonlinear optimization.\n",
      " Ipopt is released as open source code under the Eclipse Public License (EPL).\n",
      "         For more information visit https://github.com/coin-or/Ipopt\n",
      "******************************************************************************\n",
      "\n",
      "{'solver_time': 30.70280122756958, 'termination_condition': <TerminationCondition.optimal: 'optimal'>, 'message': 'Ipopt 3.14.16\\\\x3a Optimal Solution Found'}\n",
      "Iteration: 66 / 96\n"
     ]
    },
    {
     "name": "stderr",
     "output_type": "stream",
     "text": [
      "/Users/mariiashapo/Library/CloudStorage/OneDrive-Personal/project_2324/NODE/00_models/nn_pyomo_base.py:82: UserWarning: y_init should be structured such that each row represents a new time point.\n",
      "  warnings.warn(\"y_init should be structured such that each row represents a new time point.\")\n"
     ]
    },
    {
     "name": "stdout",
     "output_type": "stream",
     "text": [
      "Ipopt 3.14.16: tol=1e-07\n",
      "acceptable_tol=1e-15\n",
      "acceptable_constr_viol_tol=1e-15\n",
      "acceptable_dual_inf_tol=1e-15\n",
      "acceptable_compl_inf_tol=1e-15\n",
      "acceptable_iter=0\n",
      "halt_on_ampl_error=yes\n",
      "print_level=1\n",
      "max_iter=3000\n",
      "\n",
      "\n",
      "******************************************************************************\n",
      "This program contains Ipopt, a library for large-scale nonlinear optimization.\n",
      " Ipopt is released as open source code under the Eclipse Public License (EPL).\n",
      "         For more information visit https://github.com/coin-or/Ipopt\n",
      "******************************************************************************\n",
      "\n",
      "{'solver_time': 57.077361822128296, 'termination_condition': <TerminationCondition.optimal: 'optimal'>, 'message': 'Ipopt 3.14.16\\\\x3a Optimal Solution Found'}\n",
      "Iteration: 67 / 96\n"
     ]
    },
    {
     "name": "stderr",
     "output_type": "stream",
     "text": [
      "/Users/mariiashapo/Library/CloudStorage/OneDrive-Personal/project_2324/NODE/00_models/nn_pyomo_base.py:82: UserWarning: y_init should be structured such that each row represents a new time point.\n",
      "  warnings.warn(\"y_init should be structured such that each row represents a new time point.\")\n"
     ]
    },
    {
     "name": "stdout",
     "output_type": "stream",
     "text": [
      "Ipopt 3.14.16: tol=1e-08\n",
      "acceptable_tol=1e-15\n",
      "acceptable_constr_viol_tol=1e-15\n",
      "acceptable_dual_inf_tol=1e-15\n",
      "acceptable_compl_inf_tol=1e-15\n",
      "acceptable_iter=0\n",
      "halt_on_ampl_error=yes\n",
      "print_level=1\n",
      "max_iter=3000\n",
      "\n",
      "\n",
      "******************************************************************************\n",
      "This program contains Ipopt, a library for large-scale nonlinear optimization.\n",
      " Ipopt is released as open source code under the Eclipse Public License (EPL).\n",
      "         For more information visit https://github.com/coin-or/Ipopt\n",
      "******************************************************************************\n",
      "\n",
      "{'solver_time': 49.744163036346436, 'termination_condition': <TerminationCondition.optimal: 'optimal'>, 'message': 'Ipopt 3.14.16\\\\x3a Optimal Solution Found'}\n",
      "Iteration: 68 / 96\n"
     ]
    },
    {
     "name": "stderr",
     "output_type": "stream",
     "text": [
      "/Users/mariiashapo/Library/CloudStorage/OneDrive-Personal/project_2324/NODE/00_models/nn_pyomo_base.py:82: UserWarning: y_init should be structured such that each row represents a new time point.\n",
      "  warnings.warn(\"y_init should be structured such that each row represents a new time point.\")\n"
     ]
    },
    {
     "name": "stdout",
     "output_type": "stream",
     "text": [
      "Ipopt 3.14.16: tol=1e-05\n",
      "acceptable_tol=1e-15\n",
      "acceptable_constr_viol_tol=1e-15\n",
      "acceptable_dual_inf_tol=1e-15\n",
      "acceptable_compl_inf_tol=1e-15\n",
      "acceptable_iter=0\n",
      "halt_on_ampl_error=yes\n",
      "print_level=1\n",
      "max_iter=3000\n",
      "\n",
      "\n",
      "******************************************************************************\n",
      "This program contains Ipopt, a library for large-scale nonlinear optimization.\n",
      " Ipopt is released as open source code under the Eclipse Public License (EPL).\n",
      "         For more information visit https://github.com/coin-or/Ipopt\n",
      "******************************************************************************\n",
      "\n",
      "{'solver_time': 21.891674041748047, 'termination_condition': <TerminationCondition.optimal: 'optimal'>, 'message': 'Ipopt 3.14.16\\\\x3a Optimal Solution Found'}\n",
      "Iteration: 69 / 96\n"
     ]
    },
    {
     "name": "stderr",
     "output_type": "stream",
     "text": [
      "/Users/mariiashapo/Library/CloudStorage/OneDrive-Personal/project_2324/NODE/00_models/nn_pyomo_base.py:82: UserWarning: y_init should be structured such that each row represents a new time point.\n",
      "  warnings.warn(\"y_init should be structured such that each row represents a new time point.\")\n"
     ]
    },
    {
     "name": "stdout",
     "output_type": "stream",
     "text": [
      "Ipopt 3.14.16: tol=1e-06\n",
      "acceptable_tol=1e-15\n",
      "acceptable_constr_viol_tol=1e-15\n",
      "acceptable_dual_inf_tol=1e-15\n",
      "acceptable_compl_inf_tol=1e-15\n",
      "acceptable_iter=0\n",
      "halt_on_ampl_error=yes\n",
      "print_level=1\n",
      "max_iter=3000\n",
      "\n",
      "\n",
      "******************************************************************************\n",
      "This program contains Ipopt, a library for large-scale nonlinear optimization.\n",
      " Ipopt is released as open source code under the Eclipse Public License (EPL).\n",
      "         For more information visit https://github.com/coin-or/Ipopt\n",
      "******************************************************************************\n",
      "\n",
      "{'solver_time': 35.60764169692993, 'termination_condition': <TerminationCondition.optimal: 'optimal'>, 'message': 'Ipopt 3.14.16\\\\x3a Optimal Solution Found'}\n",
      "Iteration: 70 / 96\n"
     ]
    },
    {
     "name": "stderr",
     "output_type": "stream",
     "text": [
      "/Users/mariiashapo/Library/CloudStorage/OneDrive-Personal/project_2324/NODE/00_models/nn_pyomo_base.py:82: UserWarning: y_init should be structured such that each row represents a new time point.\n",
      "  warnings.warn(\"y_init should be structured such that each row represents a new time point.\")\n"
     ]
    },
    {
     "name": "stdout",
     "output_type": "stream",
     "text": [
      "Ipopt 3.14.16: tol=1e-07\n",
      "acceptable_tol=1e-15\n",
      "acceptable_constr_viol_tol=1e-15\n",
      "acceptable_dual_inf_tol=1e-15\n",
      "acceptable_compl_inf_tol=1e-15\n",
      "acceptable_iter=0\n",
      "halt_on_ampl_error=yes\n",
      "print_level=1\n",
      "max_iter=3000\n",
      "\n",
      "\n",
      "******************************************************************************\n",
      "This program contains Ipopt, a library for large-scale nonlinear optimization.\n",
      " Ipopt is released as open source code under the Eclipse Public License (EPL).\n",
      "         For more information visit https://github.com/coin-or/Ipopt\n",
      "******************************************************************************\n",
      "\n",
      "{'solver_time': 48.949098110198975, 'termination_condition': <TerminationCondition.optimal: 'optimal'>, 'message': 'Ipopt 3.14.16\\\\x3a Optimal Solution Found'}\n",
      "Iteration: 71 / 96\n"
     ]
    },
    {
     "name": "stderr",
     "output_type": "stream",
     "text": [
      "/Users/mariiashapo/Library/CloudStorage/OneDrive-Personal/project_2324/NODE/00_models/nn_pyomo_base.py:82: UserWarning: y_init should be structured such that each row represents a new time point.\n",
      "  warnings.warn(\"y_init should be structured such that each row represents a new time point.\")\n"
     ]
    },
    {
     "name": "stdout",
     "output_type": "stream",
     "text": [
      "Ipopt 3.14.16: tol=1e-08\n",
      "acceptable_tol=1e-15\n",
      "acceptable_constr_viol_tol=1e-15\n",
      "acceptable_dual_inf_tol=1e-15\n",
      "acceptable_compl_inf_tol=1e-15\n",
      "acceptable_iter=0\n",
      "halt_on_ampl_error=yes\n",
      "print_level=1\n",
      "max_iter=3000\n",
      "\n",
      "\n",
      "******************************************************************************\n",
      "This program contains Ipopt, a library for large-scale nonlinear optimization.\n",
      " Ipopt is released as open source code under the Eclipse Public License (EPL).\n",
      "         For more information visit https://github.com/coin-or/Ipopt\n",
      "******************************************************************************\n",
      "\n",
      "{'solver_time': 50.659348011016846, 'termination_condition': <TerminationCondition.optimal: 'optimal'>, 'message': 'Ipopt 3.14.16\\\\x3a Optimal Solution Found'}\n",
      "Iteration: 72 / 96\n"
     ]
    },
    {
     "name": "stderr",
     "output_type": "stream",
     "text": [
      "/Users/mariiashapo/Library/CloudStorage/OneDrive-Personal/project_2324/NODE/00_models/nn_pyomo_base.py:82: UserWarning: y_init should be structured such that each row represents a new time point.\n",
      "  warnings.warn(\"y_init should be structured such that each row represents a new time point.\")\n"
     ]
    },
    {
     "name": "stdout",
     "output_type": "stream",
     "text": [
      "Ipopt 3.14.16: tol=1e-05\n",
      "acceptable_tol=1e-15\n",
      "acceptable_constr_viol_tol=1e-15\n",
      "acceptable_dual_inf_tol=1e-15\n",
      "acceptable_compl_inf_tol=1e-15\n",
      "acceptable_iter=0\n",
      "halt_on_ampl_error=yes\n",
      "print_level=1\n",
      "max_iter=3000\n",
      "\n",
      "\n",
      "******************************************************************************\n",
      "This program contains Ipopt, a library for large-scale nonlinear optimization.\n",
      " Ipopt is released as open source code under the Eclipse Public License (EPL).\n",
      "         For more information visit https://github.com/coin-or/Ipopt\n",
      "******************************************************************************\n",
      "\n",
      "{'solver_time': 361.28394889831543, 'termination_condition': <TerminationCondition.optimal: 'optimal'>, 'message': 'Ipopt 3.14.16\\\\x3a Optimal Solution Found'}\n",
      "Iteration: 73 / 96\n"
     ]
    },
    {
     "name": "stderr",
     "output_type": "stream",
     "text": [
      "/Users/mariiashapo/Library/CloudStorage/OneDrive-Personal/project_2324/NODE/00_models/nn_pyomo_base.py:82: UserWarning: y_init should be structured such that each row represents a new time point.\n",
      "  warnings.warn(\"y_init should be structured such that each row represents a new time point.\")\n"
     ]
    },
    {
     "name": "stdout",
     "output_type": "stream",
     "text": [
      "Ipopt 3.14.16: tol=1e-06\n",
      "acceptable_tol=1e-15\n",
      "acceptable_constr_viol_tol=1e-15\n",
      "acceptable_dual_inf_tol=1e-15\n",
      "acceptable_compl_inf_tol=1e-15\n",
      "acceptable_iter=0\n",
      "halt_on_ampl_error=yes\n",
      "print_level=1\n",
      "max_iter=3000\n",
      "\n",
      "\n",
      "******************************************************************************\n",
      "This program contains Ipopt, a library for large-scale nonlinear optimization.\n",
      " Ipopt is released as open source code under the Eclipse Public License (EPL).\n",
      "         For more information visit https://github.com/coin-or/Ipopt\n",
      "******************************************************************************\n",
      "\n",
      "{'solver_time': 378.6384379863739, 'termination_condition': <TerminationCondition.optimal: 'optimal'>, 'message': 'Ipopt 3.14.16\\\\x3a Optimal Solution Found'}\n",
      "Iteration: 74 / 96\n"
     ]
    },
    {
     "name": "stderr",
     "output_type": "stream",
     "text": [
      "/Users/mariiashapo/Library/CloudStorage/OneDrive-Personal/project_2324/NODE/00_models/nn_pyomo_base.py:82: UserWarning: y_init should be structured such that each row represents a new time point.\n",
      "  warnings.warn(\"y_init should be structured such that each row represents a new time point.\")\n"
     ]
    },
    {
     "name": "stdout",
     "output_type": "stream",
     "text": [
      "Ipopt 3.14.16: tol=1e-07\n",
      "acceptable_tol=1e-15\n",
      "acceptable_constr_viol_tol=1e-15\n",
      "acceptable_dual_inf_tol=1e-15\n",
      "acceptable_compl_inf_tol=1e-15\n",
      "acceptable_iter=0\n",
      "halt_on_ampl_error=yes\n",
      "print_level=1\n",
      "max_iter=3000\n",
      "\n",
      "\n",
      "******************************************************************************\n",
      "This program contains Ipopt, a library for large-scale nonlinear optimization.\n",
      " Ipopt is released as open source code under the Eclipse Public License (EPL).\n",
      "         For more information visit https://github.com/coin-or/Ipopt\n",
      "******************************************************************************\n",
      "\n",
      "{'solver_time': 384.7202308177948, 'termination_condition': <TerminationCondition.optimal: 'optimal'>, 'message': 'Ipopt 3.14.16\\\\x3a Optimal Solution Found'}\n",
      "Iteration: 75 / 96\n"
     ]
    },
    {
     "name": "stderr",
     "output_type": "stream",
     "text": [
      "/Users/mariiashapo/Library/CloudStorage/OneDrive-Personal/project_2324/NODE/00_models/nn_pyomo_base.py:82: UserWarning: y_init should be structured such that each row represents a new time point.\n",
      "  warnings.warn(\"y_init should be structured such that each row represents a new time point.\")\n"
     ]
    },
    {
     "name": "stdout",
     "output_type": "stream",
     "text": [
      "Ipopt 3.14.16: tol=1e-08\n",
      "acceptable_tol=1e-15\n",
      "acceptable_constr_viol_tol=1e-15\n",
      "acceptable_dual_inf_tol=1e-15\n",
      "acceptable_compl_inf_tol=1e-15\n",
      "acceptable_iter=0\n",
      "halt_on_ampl_error=yes\n",
      "print_level=1\n",
      "max_iter=3000\n",
      "\n",
      "\n",
      "******************************************************************************\n",
      "This program contains Ipopt, a library for large-scale nonlinear optimization.\n",
      " Ipopt is released as open source code under the Eclipse Public License (EPL).\n",
      "         For more information visit https://github.com/coin-or/Ipopt\n",
      "******************************************************************************\n",
      "\n",
      "{'solver_time': 461.2948319911957, 'termination_condition': <TerminationCondition.maxIterations: 'maxIterations'>, 'message': 'Ipopt 3.14.16\\\\x3a Maximum Number of Iterations Exceeded.'}\n",
      "Iteration: 76 / 96\n"
     ]
    },
    {
     "name": "stderr",
     "output_type": "stream",
     "text": [
      "/Users/mariiashapo/Library/CloudStorage/OneDrive-Personal/project_2324/NODE/00_models/nn_pyomo_base.py:82: UserWarning: y_init should be structured such that each row represents a new time point.\n",
      "  warnings.warn(\"y_init should be structured such that each row represents a new time point.\")\n"
     ]
    },
    {
     "name": "stdout",
     "output_type": "stream",
     "text": [
      "Ipopt 3.14.16: tol=1e-05\n",
      "acceptable_tol=1e-15\n",
      "acceptable_constr_viol_tol=1e-15\n",
      "acceptable_dual_inf_tol=1e-15\n",
      "acceptable_compl_inf_tol=1e-15\n",
      "acceptable_iter=0\n",
      "halt_on_ampl_error=yes\n",
      "print_level=1\n",
      "max_iter=3000\n",
      "\n",
      "\n",
      "******************************************************************************\n",
      "This program contains Ipopt, a library for large-scale nonlinear optimization.\n",
      " Ipopt is released as open source code under the Eclipse Public License (EPL).\n",
      "         For more information visit https://github.com/coin-or/Ipopt\n",
      "******************************************************************************\n",
      "\n",
      "{'solver_time': 129.10185289382935, 'termination_condition': <TerminationCondition.optimal: 'optimal'>, 'message': 'Ipopt 3.14.16\\\\x3a Optimal Solution Found'}\n",
      "Iteration: 77 / 96\n"
     ]
    },
    {
     "name": "stderr",
     "output_type": "stream",
     "text": [
      "/Users/mariiashapo/Library/CloudStorage/OneDrive-Personal/project_2324/NODE/00_models/nn_pyomo_base.py:82: UserWarning: y_init should be structured such that each row represents a new time point.\n",
      "  warnings.warn(\"y_init should be structured such that each row represents a new time point.\")\n"
     ]
    },
    {
     "name": "stdout",
     "output_type": "stream",
     "text": [
      "Ipopt 3.14.16: tol=1e-06\n",
      "acceptable_tol=1e-15\n",
      "acceptable_constr_viol_tol=1e-15\n",
      "acceptable_dual_inf_tol=1e-15\n",
      "acceptable_compl_inf_tol=1e-15\n",
      "acceptable_iter=0\n",
      "halt_on_ampl_error=yes\n",
      "print_level=1\n",
      "max_iter=3000\n",
      "\n",
      "\n",
      "******************************************************************************\n",
      "This program contains Ipopt, a library for large-scale nonlinear optimization.\n",
      " Ipopt is released as open source code under the Eclipse Public License (EPL).\n",
      "         For more information visit https://github.com/coin-or/Ipopt\n",
      "******************************************************************************\n",
      "\n",
      "Ipopt 3.14.16: tol=1e-07\n",
      "acceptable_tol=1e-15\n",
      "acceptable_constr_viol_tol=1e-15\n",
      "acceptable_dual_inf_tol=1e-15\n",
      "acceptable_compl_inf_tol=1e-15\n",
      "acceptable_iter=0\n",
      "halt_on_ampl_error=yes\n",
      "print_level=1\n",
      "max_iter=3000\n",
      "\n",
      "\n",
      "******************************************************************************\n",
      "This program contains Ipopt, a library for large-scale nonlinear optimization.\n",
      " Ipopt is released as open source code under the Eclipse Public License (EPL).\n",
      "         For more information visit https://github.com/coin-or/Ipopt\n",
      "******************************************************************************\n",
      "\n"
     ]
    },
    {
     "ename": "KeyboardInterrupt",
     "evalue": "",
     "output_type": "error",
     "traceback": [
      "\u001b[0;31m---------------------------------------------------------------------------\u001b[0m",
      "\u001b[0;31mKeyboardInterrupt\u001b[0m                         Traceback (most recent call last)",
      "Cell \u001b[0;32mIn[224], line 40\u001b[0m\n\u001b[1;32m     37\u001b[0m params_model[\u001b[38;5;124m'\u001b[39m\u001b[38;5;124mparams\u001b[39m\u001b[38;5;124m'\u001b[39m][\u001b[38;5;124m'\u001b[39m\u001b[38;5;124mtol\u001b[39m\u001b[38;5;124m'\u001b[39m] \u001b[38;5;241m=\u001b[39m param_comb[\u001b[38;5;241m1\u001b[39m]\n\u001b[1;32m     39\u001b[0m \u001b[38;5;28;01mtry\u001b[39;00m:\n\u001b[0;32m---> 40\u001b[0m   \u001b[43mtrainer\u001b[49m\u001b[38;5;241;43m.\u001b[39;49m\u001b[43mtrain\u001b[49m\u001b[43m(\u001b[49m\u001b[43mparams_model\u001b[49m\u001b[43m)\u001b[49m\n\u001b[1;32m     41\u001b[0m \u001b[38;5;28;01mexcept\u001b[39;00m \u001b[38;5;167;01mException\u001b[39;00m \u001b[38;5;28;01mas\u001b[39;00m e:\n\u001b[1;32m     42\u001b[0m   logging\u001b[38;5;241m.\u001b[39merror(\u001b[38;5;124m\"\u001b[39m\u001b[38;5;124mFailed to complete training: \u001b[39m\u001b[38;5;132;01m{}\u001b[39;00m\u001b[38;5;124m\"\u001b[39m\u001b[38;5;241m.\u001b[39mformat(e))\n",
      "File \u001b[0;32m~/Library/CloudStorage/OneDrive-Personal/project_2324/NODE/01_nn_2d_comparisons_hparam/run_train_toy.py:108\u001b[0m, in \u001b[0;36mPyomoTrainerToy.train\u001b[0;34m(self, params_model, params_solver)\u001b[0m\n\u001b[1;32m     94\u001b[0m \u001b[38;5;28mself\u001b[39m\u001b[38;5;241m.\u001b[39mmodel \u001b[38;5;241m=\u001b[39m PyomoModel(\n\u001b[1;32m     95\u001b[0m                 \u001b[38;5;28mself\u001b[39m\u001b[38;5;241m.\u001b[39my_noisy,\n\u001b[1;32m     96\u001b[0m                 \u001b[38;5;28mself\u001b[39m\u001b[38;5;241m.\u001b[39mt, \n\u001b[0;32m   (...)\u001b[0m\n\u001b[1;32m    104\u001b[0m                 params \u001b[38;5;241m=\u001b[39m \u001b[38;5;28mself\u001b[39m\u001b[38;5;241m.\u001b[39mparams\n\u001b[1;32m    105\u001b[0m                 )\n\u001b[1;32m    107\u001b[0m \u001b[38;5;28mself\u001b[39m\u001b[38;5;241m.\u001b[39mmodel\u001b[38;5;241m.\u001b[39mbuild_model()\n\u001b[0;32m--> 108\u001b[0m result \u001b[38;5;241m=\u001b[39m \u001b[38;5;28;43mself\u001b[39;49m\u001b[38;5;241;43m.\u001b[39;49m\u001b[43mmodel\u001b[49m\u001b[38;5;241;43m.\u001b[39;49m\u001b[43msolve_model\u001b[49m\u001b[43m(\u001b[49m\u001b[43m)\u001b[49m        \n\u001b[1;32m    109\u001b[0m \u001b[38;5;28mself\u001b[39m\u001b[38;5;241m.\u001b[39mtime_elapsed \u001b[38;5;241m=\u001b[39m result[\u001b[38;5;124m'\u001b[39m\u001b[38;5;124msolver_time\u001b[39m\u001b[38;5;124m'\u001b[39m]\n\u001b[1;32m    110\u001b[0m \u001b[38;5;28mself\u001b[39m\u001b[38;5;241m.\u001b[39mtermination \u001b[38;5;241m=\u001b[39m result[\u001b[38;5;124m'\u001b[39m\u001b[38;5;124mtermination_condition\u001b[39m\u001b[38;5;124m'\u001b[39m]\n",
      "File \u001b[0;32m~/Library/CloudStorage/OneDrive-Personal/project_2324/NODE/00_models/nn_pyomo_base.py:247\u001b[0m, in \u001b[0;36mNeuralODEPyomo.solve_model\u001b[0;34m(self)\u001b[0m\n\u001b[1;32m    244\u001b[0m \u001b[38;5;28;01mdef\u001b[39;00m \u001b[38;5;21msolve_model\u001b[39m(\u001b[38;5;28mself\u001b[39m):\n\u001b[1;32m    245\u001b[0m     solver \u001b[38;5;241m=\u001b[39m \u001b[38;5;28mself\u001b[39m\u001b[38;5;241m.\u001b[39minitialize_solver()\n\u001b[0;32m--> 247\u001b[0m     result \u001b[38;5;241m=\u001b[39m \u001b[43msolver\u001b[49m\u001b[38;5;241;43m.\u001b[39;49m\u001b[43msolve\u001b[49m\u001b[43m(\u001b[49m\u001b[38;5;28;43mself\u001b[39;49m\u001b[38;5;241;43m.\u001b[39;49m\u001b[43mmodel\u001b[49m\u001b[43m,\u001b[49m\u001b[43m \u001b[49m\u001b[43mtee\u001b[49m\u001b[38;5;241;43m=\u001b[39;49m\u001b[38;5;28;43;01mTrue\u001b[39;49;00m\u001b[43m)\u001b[49m\n\u001b[1;32m    249\u001b[0m     \u001b[38;5;28;01mreturn\u001b[39;00m \u001b[38;5;28mself\u001b[39m\u001b[38;5;241m.\u001b[39mextract_solver_info(result)\n",
      "File \u001b[0;32m~/anaconda3/envs/collocation_env/lib/python3.9/site-packages/pyomo/opt/base/solvers.py:610\u001b[0m, in \u001b[0;36mOptSolver.solve\u001b[0;34m(self, *args, **kwds)\u001b[0m\n\u001b[1;32m    607\u001b[0m \u001b[38;5;28;01mif\u001b[39;00m \u001b[38;5;129;01mnot\u001b[39;00m _model \u001b[38;5;129;01mis\u001b[39;00m \u001b[38;5;28;01mNone\u001b[39;00m:\n\u001b[1;32m    608\u001b[0m     \u001b[38;5;28mself\u001b[39m\u001b[38;5;241m.\u001b[39m_initialize_callbacks(_model)\n\u001b[0;32m--> 610\u001b[0m _status \u001b[38;5;241m=\u001b[39m \u001b[38;5;28;43mself\u001b[39;49m\u001b[38;5;241;43m.\u001b[39;49m\u001b[43m_apply_solver\u001b[49m\u001b[43m(\u001b[49m\u001b[43m)\u001b[49m\n\u001b[1;32m    611\u001b[0m \u001b[38;5;28;01mif\u001b[39;00m \u001b[38;5;28mhasattr\u001b[39m(\u001b[38;5;28mself\u001b[39m, \u001b[38;5;124m'\u001b[39m\u001b[38;5;124m_transformation_data\u001b[39m\u001b[38;5;124m'\u001b[39m):\n\u001b[1;32m    612\u001b[0m     \u001b[38;5;28;01mdel\u001b[39;00m \u001b[38;5;28mself\u001b[39m\u001b[38;5;241m.\u001b[39m_transformation_data\n",
      "File \u001b[0;32m~/anaconda3/envs/collocation_env/lib/python3.9/site-packages/pyomo/opt/solver/shellcmd.py:266\u001b[0m, in \u001b[0;36mSystemCallSolver._apply_solver\u001b[0;34m(self)\u001b[0m\n\u001b[1;32m    263\u001b[0m         \u001b[38;5;28mprint\u001b[39m(\u001b[38;5;124m\"\u001b[39m\u001b[38;5;124mSolver problem files: \u001b[39m\u001b[38;5;132;01m%s\u001b[39;00m\u001b[38;5;124m\"\u001b[39m \u001b[38;5;241m%\u001b[39m \u001b[38;5;28mstr\u001b[39m(\u001b[38;5;28mself\u001b[39m\u001b[38;5;241m.\u001b[39m_problem_files))\n\u001b[1;32m    265\u001b[0m sys\u001b[38;5;241m.\u001b[39mstdout\u001b[38;5;241m.\u001b[39mflush()\n\u001b[0;32m--> 266\u001b[0m \u001b[38;5;28mself\u001b[39m\u001b[38;5;241m.\u001b[39m_rc, \u001b[38;5;28mself\u001b[39m\u001b[38;5;241m.\u001b[39m_log \u001b[38;5;241m=\u001b[39m \u001b[38;5;28;43mself\u001b[39;49m\u001b[38;5;241;43m.\u001b[39;49m\u001b[43m_execute_command\u001b[49m\u001b[43m(\u001b[49m\u001b[38;5;28;43mself\u001b[39;49m\u001b[38;5;241;43m.\u001b[39;49m\u001b[43m_command\u001b[49m\u001b[43m)\u001b[49m\n\u001b[1;32m    267\u001b[0m sys\u001b[38;5;241m.\u001b[39mstdout\u001b[38;5;241m.\u001b[39mflush()\n\u001b[1;32m    268\u001b[0m \u001b[38;5;28;01mreturn\u001b[39;00m Bunch(rc\u001b[38;5;241m=\u001b[39m\u001b[38;5;28mself\u001b[39m\u001b[38;5;241m.\u001b[39m_rc, log\u001b[38;5;241m=\u001b[39m\u001b[38;5;28mself\u001b[39m\u001b[38;5;241m.\u001b[39m_log)\n",
      "File \u001b[0;32m~/anaconda3/envs/collocation_env/lib/python3.9/site-packages/pyomo/opt/solver/shellcmd.py:334\u001b[0m, in \u001b[0;36mSystemCallSolver._execute_command\u001b[0;34m(self, command)\u001b[0m\n\u001b[1;32m    332\u001b[0m \u001b[38;5;28;01mtry\u001b[39;00m:\n\u001b[1;32m    333\u001b[0m     \u001b[38;5;28;01mwith\u001b[39;00m TeeStream(\u001b[38;5;241m*\u001b[39mostreams) \u001b[38;5;28;01mas\u001b[39;00m t:\n\u001b[0;32m--> 334\u001b[0m         results \u001b[38;5;241m=\u001b[39m \u001b[43msubprocess\u001b[49m\u001b[38;5;241;43m.\u001b[39;49m\u001b[43mrun\u001b[49m\u001b[43m(\u001b[49m\n\u001b[1;32m    335\u001b[0m \u001b[43m            \u001b[49m\u001b[43mcommand\u001b[49m\u001b[38;5;241;43m.\u001b[39;49m\u001b[43mcmd\u001b[49m\u001b[43m,\u001b[49m\n\u001b[1;32m    336\u001b[0m \u001b[43m            \u001b[49m\u001b[38;5;28;43minput\u001b[39;49m\u001b[38;5;241;43m=\u001b[39;49m\u001b[43m_input\u001b[49m\u001b[43m,\u001b[49m\n\u001b[1;32m    337\u001b[0m \u001b[43m            \u001b[49m\u001b[43menv\u001b[49m\u001b[38;5;241;43m=\u001b[39;49m\u001b[43mcommand\u001b[49m\u001b[38;5;241;43m.\u001b[39;49m\u001b[43menv\u001b[49m\u001b[43m,\u001b[49m\n\u001b[1;32m    338\u001b[0m \u001b[43m            \u001b[49m\u001b[43mstdout\u001b[49m\u001b[38;5;241;43m=\u001b[39;49m\u001b[43mt\u001b[49m\u001b[38;5;241;43m.\u001b[39;49m\u001b[43mSTDOUT\u001b[49m\u001b[43m,\u001b[49m\n\u001b[1;32m    339\u001b[0m \u001b[43m            \u001b[49m\u001b[43mstderr\u001b[49m\u001b[38;5;241;43m=\u001b[39;49m\u001b[43mt\u001b[49m\u001b[38;5;241;43m.\u001b[39;49m\u001b[43mSTDERR\u001b[49m\u001b[43m,\u001b[49m\n\u001b[1;32m    340\u001b[0m \u001b[43m            \u001b[49m\u001b[43mtimeout\u001b[49m\u001b[38;5;241;43m=\u001b[39;49m\u001b[43mtimeout\u001b[49m\u001b[43m,\u001b[49m\n\u001b[1;32m    341\u001b[0m \u001b[43m            \u001b[49m\u001b[43muniversal_newlines\u001b[49m\u001b[38;5;241;43m=\u001b[39;49m\u001b[38;5;28;43;01mTrue\u001b[39;49;00m\u001b[43m,\u001b[49m\n\u001b[1;32m    342\u001b[0m \u001b[43m            \u001b[49m\u001b[43mcwd\u001b[49m\u001b[38;5;241;43m=\u001b[39;49m\u001b[43mcommand\u001b[49m\u001b[38;5;241;43m.\u001b[39;49m\u001b[43mcwd\u001b[49m\u001b[43m \u001b[49m\u001b[38;5;28;43;01mif\u001b[39;49;00m\u001b[43m \u001b[49m\u001b[38;5;124;43m\"\u001b[39;49m\u001b[38;5;124;43mcwd\u001b[39;49m\u001b[38;5;124;43m\"\u001b[39;49m\u001b[43m \u001b[49m\u001b[38;5;129;43;01min\u001b[39;49;00m\u001b[43m \u001b[49m\u001b[43mcommand\u001b[49m\u001b[43m \u001b[49m\u001b[38;5;28;43;01melse\u001b[39;49;00m\u001b[43m \u001b[49m\u001b[38;5;28;43;01mNone\u001b[39;49;00m\u001b[43m,\u001b[49m\n\u001b[1;32m    343\u001b[0m \u001b[43m        \u001b[49m\u001b[43m)\u001b[49m\n\u001b[1;32m    344\u001b[0m         t\u001b[38;5;241m.\u001b[39mSTDOUT\u001b[38;5;241m.\u001b[39mflush()\n\u001b[1;32m    345\u001b[0m         t\u001b[38;5;241m.\u001b[39mSTDERR\u001b[38;5;241m.\u001b[39mflush()\n",
      "File \u001b[0;32m~/anaconda3/envs/collocation_env/lib/python3.9/subprocess.py:507\u001b[0m, in \u001b[0;36mrun\u001b[0;34m(input, capture_output, timeout, check, *popenargs, **kwargs)\u001b[0m\n\u001b[1;32m    505\u001b[0m \u001b[38;5;28;01mwith\u001b[39;00m Popen(\u001b[38;5;241m*\u001b[39mpopenargs, \u001b[38;5;241m*\u001b[39m\u001b[38;5;241m*\u001b[39mkwargs) \u001b[38;5;28;01mas\u001b[39;00m process:\n\u001b[1;32m    506\u001b[0m     \u001b[38;5;28;01mtry\u001b[39;00m:\n\u001b[0;32m--> 507\u001b[0m         stdout, stderr \u001b[38;5;241m=\u001b[39m \u001b[43mprocess\u001b[49m\u001b[38;5;241;43m.\u001b[39;49m\u001b[43mcommunicate\u001b[49m\u001b[43m(\u001b[49m\u001b[38;5;28;43minput\u001b[39;49m\u001b[43m,\u001b[49m\u001b[43m \u001b[49m\u001b[43mtimeout\u001b[49m\u001b[38;5;241;43m=\u001b[39;49m\u001b[43mtimeout\u001b[49m\u001b[43m)\u001b[49m\n\u001b[1;32m    508\u001b[0m     \u001b[38;5;28;01mexcept\u001b[39;00m TimeoutExpired \u001b[38;5;28;01mas\u001b[39;00m exc:\n\u001b[1;32m    509\u001b[0m         process\u001b[38;5;241m.\u001b[39mkill()\n",
      "File \u001b[0;32m~/anaconda3/envs/collocation_env/lib/python3.9/subprocess.py:1126\u001b[0m, in \u001b[0;36mPopen.communicate\u001b[0;34m(self, input, timeout)\u001b[0m\n\u001b[1;32m   1124\u001b[0m         stderr \u001b[38;5;241m=\u001b[39m \u001b[38;5;28mself\u001b[39m\u001b[38;5;241m.\u001b[39mstderr\u001b[38;5;241m.\u001b[39mread()\n\u001b[1;32m   1125\u001b[0m         \u001b[38;5;28mself\u001b[39m\u001b[38;5;241m.\u001b[39mstderr\u001b[38;5;241m.\u001b[39mclose()\n\u001b[0;32m-> 1126\u001b[0m     \u001b[38;5;28;43mself\u001b[39;49m\u001b[38;5;241;43m.\u001b[39;49m\u001b[43mwait\u001b[49m\u001b[43m(\u001b[49m\u001b[43m)\u001b[49m\n\u001b[1;32m   1127\u001b[0m \u001b[38;5;28;01melse\u001b[39;00m:\n\u001b[1;32m   1128\u001b[0m     \u001b[38;5;28;01mif\u001b[39;00m timeout \u001b[38;5;129;01mis\u001b[39;00m \u001b[38;5;129;01mnot\u001b[39;00m \u001b[38;5;28;01mNone\u001b[39;00m:\n",
      "File \u001b[0;32m~/anaconda3/envs/collocation_env/lib/python3.9/subprocess.py:1189\u001b[0m, in \u001b[0;36mPopen.wait\u001b[0;34m(self, timeout)\u001b[0m\n\u001b[1;32m   1187\u001b[0m     endtime \u001b[38;5;241m=\u001b[39m _time() \u001b[38;5;241m+\u001b[39m timeout\n\u001b[1;32m   1188\u001b[0m \u001b[38;5;28;01mtry\u001b[39;00m:\n\u001b[0;32m-> 1189\u001b[0m     \u001b[38;5;28;01mreturn\u001b[39;00m \u001b[38;5;28;43mself\u001b[39;49m\u001b[38;5;241;43m.\u001b[39;49m\u001b[43m_wait\u001b[49m\u001b[43m(\u001b[49m\u001b[43mtimeout\u001b[49m\u001b[38;5;241;43m=\u001b[39;49m\u001b[43mtimeout\u001b[49m\u001b[43m)\u001b[49m\n\u001b[1;32m   1190\u001b[0m \u001b[38;5;28;01mexcept\u001b[39;00m \u001b[38;5;167;01mKeyboardInterrupt\u001b[39;00m:\n\u001b[1;32m   1191\u001b[0m     \u001b[38;5;66;03m# https://bugs.python.org/issue25942\u001b[39;00m\n\u001b[1;32m   1192\u001b[0m     \u001b[38;5;66;03m# The first keyboard interrupt waits briefly for the child to\u001b[39;00m\n\u001b[1;32m   1193\u001b[0m     \u001b[38;5;66;03m# exit under the common assumption that it also received the ^C\u001b[39;00m\n\u001b[1;32m   1194\u001b[0m     \u001b[38;5;66;03m# generated SIGINT and will exit rapidly.\u001b[39;00m\n\u001b[1;32m   1195\u001b[0m     \u001b[38;5;28;01mif\u001b[39;00m timeout \u001b[38;5;129;01mis\u001b[39;00m \u001b[38;5;129;01mnot\u001b[39;00m \u001b[38;5;28;01mNone\u001b[39;00m:\n",
      "File \u001b[0;32m~/anaconda3/envs/collocation_env/lib/python3.9/subprocess.py:1933\u001b[0m, in \u001b[0;36mPopen._wait\u001b[0;34m(self, timeout)\u001b[0m\n\u001b[1;32m   1931\u001b[0m \u001b[38;5;28;01mif\u001b[39;00m \u001b[38;5;28mself\u001b[39m\u001b[38;5;241m.\u001b[39mreturncode \u001b[38;5;129;01mis\u001b[39;00m \u001b[38;5;129;01mnot\u001b[39;00m \u001b[38;5;28;01mNone\u001b[39;00m:\n\u001b[1;32m   1932\u001b[0m     \u001b[38;5;28;01mbreak\u001b[39;00m  \u001b[38;5;66;03m# Another thread waited.\u001b[39;00m\n\u001b[0;32m-> 1933\u001b[0m (pid, sts) \u001b[38;5;241m=\u001b[39m \u001b[38;5;28;43mself\u001b[39;49m\u001b[38;5;241;43m.\u001b[39;49m\u001b[43m_try_wait\u001b[49m\u001b[43m(\u001b[49m\u001b[38;5;241;43m0\u001b[39;49m\u001b[43m)\u001b[49m\n\u001b[1;32m   1934\u001b[0m \u001b[38;5;66;03m# Check the pid and loop as waitpid has been known to\u001b[39;00m\n\u001b[1;32m   1935\u001b[0m \u001b[38;5;66;03m# return 0 even without WNOHANG in odd situations.\u001b[39;00m\n\u001b[1;32m   1936\u001b[0m \u001b[38;5;66;03m# http://bugs.python.org/issue14396.\u001b[39;00m\n\u001b[1;32m   1937\u001b[0m \u001b[38;5;28;01mif\u001b[39;00m pid \u001b[38;5;241m==\u001b[39m \u001b[38;5;28mself\u001b[39m\u001b[38;5;241m.\u001b[39mpid:\n",
      "File \u001b[0;32m~/anaconda3/envs/collocation_env/lib/python3.9/subprocess.py:1891\u001b[0m, in \u001b[0;36mPopen._try_wait\u001b[0;34m(self, wait_flags)\u001b[0m\n\u001b[1;32m   1889\u001b[0m \u001b[38;5;250m\u001b[39m\u001b[38;5;124;03m\"\"\"All callers to this function MUST hold self._waitpid_lock.\"\"\"\u001b[39;00m\n\u001b[1;32m   1890\u001b[0m \u001b[38;5;28;01mtry\u001b[39;00m:\n\u001b[0;32m-> 1891\u001b[0m     (pid, sts) \u001b[38;5;241m=\u001b[39m \u001b[43mos\u001b[49m\u001b[38;5;241;43m.\u001b[39;49m\u001b[43mwaitpid\u001b[49m\u001b[43m(\u001b[49m\u001b[38;5;28;43mself\u001b[39;49m\u001b[38;5;241;43m.\u001b[39;49m\u001b[43mpid\u001b[49m\u001b[43m,\u001b[49m\u001b[43m \u001b[49m\u001b[43mwait_flags\u001b[49m\u001b[43m)\u001b[49m\n\u001b[1;32m   1892\u001b[0m \u001b[38;5;28;01mexcept\u001b[39;00m \u001b[38;5;167;01mChildProcessError\u001b[39;00m:\n\u001b[1;32m   1893\u001b[0m     \u001b[38;5;66;03m# This happens if SIGCLD is set to be ignored or waiting\u001b[39;00m\n\u001b[1;32m   1894\u001b[0m     \u001b[38;5;66;03m# for child processes has otherwise been disabled for our\u001b[39;00m\n\u001b[1;32m   1895\u001b[0m     \u001b[38;5;66;03m# process.  This child is dead, we can't get the status.\u001b[39;00m\n\u001b[1;32m   1896\u001b[0m     pid \u001b[38;5;241m=\u001b[39m \u001b[38;5;28mself\u001b[39m\u001b[38;5;241m.\u001b[39mpid\n",
      "\u001b[0;31mKeyboardInterrupt\u001b[0m: "
     ]
    }
   ],
   "source": [
    "tol = 1e-8\n",
    "params_model = {\n",
    "    'layer_widths': [2, 16, 2],\n",
    "    'act_func': 'tanh',\n",
    "    'penalty_lambda_reg': 0.01,\n",
    "    'time_invariant': True,\n",
    "    'w_init_method': 'xavier',\n",
    "    'params': \n",
    "            {\n",
    "          \"tol\":1e-8, \n",
    "          #\"dual_inf_tol\": tol, \n",
    "          #\"compl_inf_tol\": tol,\n",
    "          #\"constr_viol_tol\": tol, \n",
    "          \"acceptable_tol\": 1e-15,\n",
    "          \"acceptable_constr_viol_tol\": 1e-15,\n",
    "          \"acceptable_dual_inf_tol\": 1e-15,\n",
    "          \"acceptable_compl_inf_tol\": 1e-15,\n",
    "          \"acceptable_iter\": 0,    \n",
    "          \"halt_on_ampl_error\" : 'yes',\n",
    "          \"print_level\": 1, \n",
    "          \"max_iter\": 3000}\n",
    "}\n",
    "\n",
    "results = {}\n",
    "\n",
    "lw_list = [[2, 4, 2], [2, 8, 2],[2, 16, 2], [2, 32, 2], [2, 64, 2], [2, 128, 2], [2, 8, 8, 2], [2, 16, 16, 2]]\n",
    "\n",
    "total_iter = len(param_combinations)*len(lw_list)\n",
    "i = 1\n",
    "\n",
    "for lw in lw_list:\n",
    "    params_model['layer_widths'] = lw\n",
    "    results[str(lw)] = {}\n",
    "    \n",
    "    for param_comb in param_combinations:\n",
    "      params_model['penalty_lambda_reg'] = param_comb[0]\n",
    "      params_model['params']['tol'] = param_comb[1]\n",
    "      \n",
    "      try:\n",
    "        trainer.train_pyomo(params_model)\n",
    "      except Exception as e:\n",
    "        logging.error(\"Failed to complete training: {}\".format(e))\n",
    "        continue\n",
    "      \n",
    "      try:\n",
    "        result = trainer.extract_results_pyomo()\n",
    "        results[str(lw)][str(param_comb)] = result\n",
    "      except XlaRuntimeError as e:\n",
    "        logging.error(\"An XlaRuntimeError occurred: {}\".format(e))\n",
    "        print(f\"Error during result extraction: {e}\")\n",
    "      \n",
    "      print(\"Iteration:\", i, \"/\", total_iter)\n",
    "      i+=1"
   ]
  },
  {
   "cell_type": "code",
   "execution_count": 228,
   "metadata": {},
   "outputs": [],
   "source": [
    "with open('pyomo_results.pkl', 'wb') as file:\n",
    "    pickle.dump(results, file)"
   ]
  },
  {
   "cell_type": "markdown",
   "metadata": {},
   "source": [
    "#### Regularization [X]\n",
    "#### Pre-initalization [X]\n",
    "#### Tolerances [X]\n",
    "#### Network Sizes []"
   ]
  },
  {
   "cell_type": "code",
   "execution_count": 236,
   "metadata": {},
   "outputs": [],
   "source": [
    "tol_list = [1e-2, 1e-3, 1e-4, 1e-5, 1e-6, 1e-7, 1e-8]\n",
    "param_combinations = list(itertools.product(tol_list, tol_list))"
   ]
  },
  {
   "cell_type": "code",
   "execution_count": 55,
   "metadata": {},
   "outputs": [
    {
     "name": "stderr",
     "output_type": "stream",
     "text": [
      "/Users/mariiashapo/anaconda3/envs/collocation_env/lib/python3.9/site-packages/scipy/special/_orthogonal.py:2504: RuntimeWarning: invalid value encountered in scalar divide\n",
      "  kn = _gam(2 * n + 1) / _gam(n + 1)**2 / 2.0**n\n",
      "/Users/mariiashapo/Library/CloudStorage/OneDrive-Personal/project_2324/NODE/00_utils/non_parametric_collocation.py:95: UserWarning: Data transposed to match expected dimensions.\n",
      "  warnings.warn(\"Data transposed to match expected dimensions.\")\n",
      "/Users/mariiashapo/Library/CloudStorage/OneDrive-Personal/project_2324/NODE/00_utils/non_parametric_collocation.py:95: UserWarning: Data transposed to match expected dimensions.\n",
      "  warnings.warn(\"Data transposed to match expected dimensions.\")\n"
     ]
    },
    {
     "name": "stdout",
     "output_type": "stream",
     "text": [
      "current_16_08\n"
     ]
    },
    {
     "name": "stderr",
     "output_type": "stream",
     "text": [
      "/Users/mariiashapo/Library/CloudStorage/OneDrive-Personal/project_2324/NODE/00_models/nn_pyomo_base.py:89: UserWarning: y_init should be structured such that each row represents a new time point.\n",
      "  warnings.warn(\"y_init should be structured such that each row represents a new time point.\")\n"
     ]
    },
    {
     "name": "stdout",
     "output_type": "stream",
     "text": [
      "Ipopt 3.14.16: tol=1e-08\n",
      "constr_viol_tol=0.0001\n",
      "acceptable_tol=1e-15\n",
      "acceptable_constr_viol_tol=1e-15\n",
      "acceptable_dual_inf_tol=1e-15\n",
      "acceptable_compl_inf_tol=1e-15\n",
      "acceptable_iter=0\n",
      "halt_on_ampl_error=yes\n",
      "print_level=5\n",
      "max_iter=3000\n",
      "\n",
      "\n",
      "******************************************************************************\n",
      "This program contains Ipopt, a library for large-scale nonlinear optimization.\n",
      " Ipopt is released as open source code under the Eclipse Public License (EPL).\n",
      "         For more information visit https://github.com/coin-or/Ipopt\n",
      "******************************************************************************\n",
      "\n",
      "This is Ipopt version 3.14.16, running with linear solver MUMPS 5.7.1.\n",
      "\n",
      "Number of nonzeros in equality constraint Jacobian...:   105870\n",
      "Number of nonzeros in inequality constraint Jacobian.:        0\n",
      "Number of nonzeros in Lagrangian Hessian.............:    32665\n",
      "\n",
      "Total number of variables............................:      482\n",
      "                     variables with only lower bounds:        0\n",
      "                variables with lower and upper bounds:      482\n",
      "                     variables with only upper bounds:        0\n",
      "Total number of equality constraints.................:      400\n",
      "Total number of inequality constraints...............:        0\n",
      "        inequality constraints with only lower bounds:        0\n",
      "   inequality constraints with lower and upper bounds:        0\n",
      "        inequality constraints with only upper bounds:        0\n",
      "\n",
      "iter    objective    inf_pr   inf_du lg(mu)  ||d||  lg(rg) alpha_du alpha_pr  ls\n",
      "   0  7.4126618e-02 1.66e+00 1.82e-03  -1.0 0.00e+00    -  0.00e+00 0.00e+00   0\n",
      "   1  8.5226693e-02 3.14e-01 1.66e-01  -1.0 4.65e-01    -  9.83e-01 1.00e+00h  1\n",
      "   2  8.7380749e-02 3.11e-02 8.68e-01  -1.0 1.43e-01   0.0 1.00e+00 1.00e+00h  1\n",
      "   3  8.7348607e-02 6.82e-04 2.58e-01  -1.7 3.70e-02   0.4 1.00e+00 1.00e+00h  1\n",
      "   4  8.7367350e-02 6.44e-06 5.86e-03  -1.7 2.29e-03  -0.1 1.00e+00 1.00e+00h  1\n",
      "   5  8.7113469e-02 2.84e-05 1.46e-03  -3.8 4.84e-03  -0.5 1.00e+00 1.00e+00h  1\n",
      "   6  8.6443196e-02 2.44e-04 1.41e-03  -5.7 1.43e-02  -1.0 1.00e+00 1.00e+00h  1\n",
      "   7  8.5081655e-02 1.81e-03 1.29e-03  -5.7 3.91e-02  -1.5 1.00e+00 1.00e+00h  1\n",
      "   8  8.3432283e-02 1.09e-02 1.01e-03  -5.7 9.17e-02  -2.0 1.00e+00 1.00e+00h  1\n",
      "   9  8.2481945e-02 3.36e-02 5.50e-04  -5.7 1.51e-01  -2.4 1.00e+00 1.00e+00h  1\n",
      "iter    objective    inf_pr   inf_du lg(mu)  ||d||  lg(rg) alpha_du alpha_pr  ls\n",
      "  10  8.2390745e-02 2.88e-03 3.35e-04  -5.7 3.45e-02  -2.0 1.00e+00 1.00e+00h  1\n",
      "  11  8.2256950e-02 3.13e-03 2.31e-04  -5.7 7.06e-02  -2.5 1.00e+00 1.00e+00h  1\n",
      "  12  8.2210054e-02 4.55e-04 1.91e-04  -5.7 2.21e-02  -2.1 1.00e+00 1.00e+00h  1\n",
      "  13  8.2161382e-02 6.69e-03 1.35e-04  -5.7 4.69e-02  -2.5 1.00e+00 1.00e+00h  1\n",
      "  14  8.2124501e-02 8.55e-04 1.29e-04  -5.7 1.68e-02  -2.1 1.00e+00 1.00e+00h  1\n",
      "  15  8.2093632e-02 6.69e-03 1.02e-04  -5.7 4.04e-02  -2.6 1.00e+00 1.00e+00h  1\n",
      "  16  8.1646722e-02 1.29e-01 7.73e-05  -5.7 2.79e-01  -3.1 1.00e+00 1.00e+00H  1\n",
      "  17  8.1870394e-02 4.57e-02 1.02e-04  -5.7 1.87e-01  -3.5 1.00e+00 5.00e-01h  2\n",
      "  18  8.2044837e-02 1.97e-02 1.00e-04  -5.7 1.24e-01  -3.1 1.00e+00 1.00e+00h  1\n",
      "  19  8.1981726e-02 7.69e-04 3.46e-05  -5.7 2.08e-02  -2.7 1.00e+00 1.00e+00h  1\n",
      "iter    objective    inf_pr   inf_du lg(mu)  ||d||  lg(rg) alpha_du alpha_pr  ls\n",
      "  20  8.1967588e-02 1.35e-04 2.90e-05  -5.7 4.91e-02  -3.2 1.00e+00 1.00e+00H  1\n",
      "  21  8.1956260e-02 1.21e-03 3.07e-05  -5.7 9.74e-02  -3.6 1.00e+00 1.00e+00H  1\n",
      "  22  8.1949368e-02 1.31e-03 2.78e-05  -5.7 8.80e-02  -4.1 1.00e+00 1.00e+00H  1\n",
      "  23  8.1948271e-02 5.80e-04 8.52e-06  -5.7 5.11e-02  -4.6 1.00e+00 1.00e+00H  1\n",
      "  24  8.1947594e-02 6.39e-04 1.66e-05  -5.7 9.92e-02  -5.1 1.00e+00 1.00e+00H  1\n",
      "  25  8.1948936e-02 1.53e-04 1.01e-05  -5.7 5.43e-02    -  1.00e+00 1.00e+00H  1\n",
      "  26  8.1949379e-02 1.78e-07 3.05e-07  -5.7 1.42e-02    -  1.00e+00 1.00e+00H  1\n",
      "  27  8.1949379e-02 9.14e-11 5.62e-09  -8.6 1.40e-03    -  1.00e+00 1.00e+00H  1\n",
      "\n",
      "Number of Iterations....: 27\n",
      "\n",
      "                                   (scaled)                 (unscaled)\n",
      "Objective...............:   8.1949379413719756e-02    8.1949379413719756e-02\n",
      "Dual infeasibility......:   5.6187747838152980e-09    5.6187747838152980e-09\n",
      "Constraint violation....:   9.1414313618809473e-11    9.1414313618809473e-11\n",
      "Variable bound violation:   0.0000000000000000e+00    0.0000000000000000e+00\n",
      "Complementarity.........:   2.5317095227319423e-09    2.5317095227319423e-09\n",
      "Overall NLP error.......:   5.6187747838152980e-09    5.6187747838152980e-09\n",
      "\n",
      "\n",
      "Number of objective function evaluations             = 38\n",
      "Number of objective gradient evaluations             = 28\n",
      "Number of equality constraint evaluations            = 38\n",
      "Number of inequality constraint evaluations          = 0\n",
      "Number of equality constraint Jacobian evaluations   = 28\n",
      "Number of inequality constraint Jacobian evaluations = 0\n",
      "Number of Lagrangian Hessian evaluations             = 27\n",
      "Total seconds in IPOPT                               = 1.948\n",
      "\n",
      "EXIT: Optimal Solution Found.\n",
      "{'solver_time': 2.028856039047241, 'termination_condition': <TerminationCondition.optimal: 'optimal'>, 'message': 'Ipopt 3.14.16\\\\x3a Optimal Solution Found'}\n",
      "Iteration: 1 / 6\n",
      "current_16_08\n"
     ]
    },
    {
     "name": "stderr",
     "output_type": "stream",
     "text": [
      "/Users/mariiashapo/Library/CloudStorage/OneDrive-Personal/project_2324/NODE/00_models/nn_pyomo_base.py:89: UserWarning: y_init should be structured such that each row represents a new time point.\n",
      "  warnings.warn(\"y_init should be structured such that each row represents a new time point.\")\n"
     ]
    },
    {
     "name": "stdout",
     "output_type": "stream",
     "text": [
      "Ipopt 3.14.16: tol=1e-08\n",
      "constr_viol_tol=0.0001\n",
      "acceptable_tol=1e-15\n",
      "acceptable_constr_viol_tol=1e-15\n",
      "acceptable_dual_inf_tol=1e-15\n",
      "acceptable_compl_inf_tol=1e-15\n",
      "acceptable_iter=0\n",
      "halt_on_ampl_error=yes\n",
      "print_level=5\n",
      "max_iter=3000\n",
      "\n",
      "\n",
      "******************************************************************************\n",
      "This program contains Ipopt, a library for large-scale nonlinear optimization.\n",
      " Ipopt is released as open source code under the Eclipse Public License (EPL).\n",
      "         For more information visit https://github.com/coin-or/Ipopt\n",
      "******************************************************************************\n",
      "\n",
      "This is Ipopt version 3.14.16, running with linear solver MUMPS 5.7.1.\n",
      "\n",
      "Number of nonzeros in equality constraint Jacobian...:   102146\n",
      "Number of nonzeros in inequality constraint Jacobian.:        0\n",
      "Number of nonzeros in Lagrangian Hessian.............:    31538\n",
      "\n",
      "Total number of variables............................:      482\n",
      "                     variables with only lower bounds:        0\n",
      "                variables with lower and upper bounds:      482\n",
      "                     variables with only upper bounds:        0\n",
      "Total number of equality constraints.................:      386\n",
      "Total number of inequality constraints...............:        0\n",
      "        inequality constraints with only lower bounds:        0\n",
      "   inequality constraints with lower and upper bounds:        0\n",
      "        inequality constraints with only upper bounds:        0\n",
      "\n",
      "iter    objective    inf_pr   inf_du lg(mu)  ||d||  lg(rg) alpha_du alpha_pr  ls\n",
      "   0  7.4126618e-02 1.66e+00 1.89e-03  -1.0 0.00e+00    -  0.00e+00 0.00e+00   0\n",
      "   1  8.3832106e-02 2.50e-01 3.74e-02  -1.0 4.27e-01    -  9.82e-01 1.00e+00h  1\n",
      "   2  8.4509869e-02 1.18e-02 5.80e-02  -1.0 5.77e-02   0.0 1.00e+00 1.00e+00h  1\n",
      "   3  8.4280911e-02 1.67e-05 1.50e-03  -2.5 3.94e-03  -0.5 1.00e+00 1.00e+00h  1\n",
      "   4  8.3527792e-02 2.14e-04 1.39e-03  -3.8 1.26e-02  -1.0 1.00e+00 1.00e+00h  1\n",
      "   5  8.1930859e-02 1.66e-03 1.29e-03  -5.7 3.49e-02  -1.4 1.00e+00 1.00e+00h  1\n",
      "   6  7.9892728e-02 1.01e-02 1.04e-03  -5.7 8.47e-02  -1.9 1.00e+00 1.00e+00h  1\n",
      "   7  7.8671151e-02 3.22e-02 5.82e-04  -5.7 1.46e-01  -2.4 1.00e+00 1.00e+00h  1\n",
      "   8  7.8420428e-02 1.90e-02 1.70e-04  -5.7 1.29e-01  -2.9 1.00e+00 1.00e+00h  1\n",
      "   9  7.8366906e-02 3.14e-03 5.55e-05  -5.7 1.37e-01  -3.3 1.00e+00 1.00e+00H  1\n",
      "iter    objective    inf_pr   inf_du lg(mu)  ||d||  lg(rg) alpha_du alpha_pr  ls\n",
      "  10  7.8372076e-02 1.85e-03 3.64e-05  -5.7 2.94e-02  -2.9 1.00e+00 1.00e+00h  1\n",
      "  11  7.8344680e-02 1.88e-04 2.14e-05  -5.7 5.50e-02  -3.4 1.00e+00 1.00e+00H  1\n",
      "  12  7.8344487e-02 8.92e-04 1.82e-05  -5.7 1.66e-02  -3.0 1.00e+00 1.00e+00h  1\n",
      "  13  7.8332897e-02 1.09e-04 1.25e-05  -5.7 3.31e-02  -3.4 1.00e+00 1.00e+00H  1\n",
      "  14  7.8313209e-02 6.84e-03 2.08e-05  -5.7 1.21e-01  -3.9 1.00e+00 1.00e+00H  1\n",
      "  15  7.8316927e-02 1.33e-03 7.97e-06  -5.7 7.82e-02  -4.4 1.00e+00 1.00e+00H  1\n",
      "  16  7.8320328e-02 1.78e-04 2.45e-06  -5.7 4.16e-02  -4.9 1.00e+00 1.00e+00H  1\n",
      "  17  7.8319841e-02 2.68e-05 4.43e-07  -5.7 2.26e-02  -5.4 1.00e+00 1.00e+00H  1\n",
      "  18  7.8307891e-02 3.01e-03 3.18e-06  -5.7 8.10e-02    -  1.00e+00 1.00e+00H  1\n",
      "  19  7.8313940e-02 1.49e-03 1.60e-06  -5.7 7.29e-03    -  1.00e+00 5.00e-01h  2\n",
      "iter    objective    inf_pr   inf_du lg(mu)  ||d||  lg(rg) alpha_du alpha_pr  ls\n",
      "  20  7.8316970e-02 7.36e-04 8.06e-07  -5.7 6.87e-03    -  1.00e+00 5.00e-01h  2\n",
      "  21  7.8318475e-02 3.60e-04 4.10e-07  -5.7 5.59e-03    -  1.00e+00 5.00e-01h  2\n",
      "  22  7.8319980e-02 1.70e-05 1.34e-08  -5.7 3.85e-03    -  1.00e+00 1.00e+00h  1\n",
      "  23  7.8319913e-02 5.04e-07 4.03e-10  -8.6 6.32e-04    -  1.00e+00 1.00e+00h  1\n",
      "  24  7.8319911e-02 8.85e-12 9.48e-15  -8.6 3.10e-06    -  1.00e+00 1.00e+00h  1\n",
      "\n",
      "Number of Iterations....: 24\n",
      "\n",
      "                                   (scaled)                 (unscaled)\n",
      "Objective...............:   7.8319910796154329e-02    7.8319910796154329e-02\n",
      "Dual infeasibility......:   9.4849053049080636e-15    9.4849053049080636e-15\n",
      "Constraint violation....:   8.8465137992876919e-12    8.8465137992876919e-12\n",
      "Variable bound violation:   0.0000000000000000e+00    0.0000000000000000e+00\n",
      "Complementarity.........:   2.5059035600426332e-09    2.5059035600426332e-09\n",
      "Overall NLP error.......:   2.5059035600426332e-09    2.5059035600426332e-09\n",
      "\n",
      "\n",
      "Number of objective function evaluations             = 36\n",
      "Number of objective gradient evaluations             = 25\n",
      "Number of equality constraint evaluations            = 36\n",
      "Number of inequality constraint evaluations          = 0\n",
      "Number of equality constraint Jacobian evaluations   = 25\n",
      "Number of inequality constraint Jacobian evaluations = 0\n",
      "Number of Lagrangian Hessian evaluations             = 24\n",
      "Total seconds in IPOPT                               = 1.334\n",
      "\n",
      "EXIT: Optimal Solution Found.\n",
      "{'solver_time': 1.4115569591522217, 'termination_condition': <TerminationCondition.optimal: 'optimal'>, 'message': 'Ipopt 3.14.16\\\\x3a Optimal Solution Found'}\n",
      "Iteration: 2 / 6\n",
      "current_16_08\n"
     ]
    },
    {
     "name": "stderr",
     "output_type": "stream",
     "text": [
      "/Users/mariiashapo/Library/CloudStorage/OneDrive-Personal/project_2324/NODE/00_models/nn_pyomo_base.py:89: UserWarning: y_init should be structured such that each row represents a new time point.\n",
      "  warnings.warn(\"y_init should be structured such that each row represents a new time point.\")\n"
     ]
    },
    {
     "name": "stdout",
     "output_type": "stream",
     "text": [
      "Ipopt 3.14.16: tol=1e-08\n",
      "constr_viol_tol=0.0001\n",
      "acceptable_tol=1e-15\n",
      "acceptable_constr_viol_tol=1e-15\n",
      "acceptable_dual_inf_tol=1e-15\n",
      "acceptable_compl_inf_tol=1e-15\n",
      "acceptable_iter=0\n",
      "halt_on_ampl_error=yes\n",
      "print_level=5\n",
      "max_iter=3000\n",
      "\n",
      "\n",
      "******************************************************************************\n",
      "This program contains Ipopt, a library for large-scale nonlinear optimization.\n",
      " Ipopt is released as open source code under the Eclipse Public License (EPL).\n",
      "         For more information visit https://github.com/coin-or/Ipopt\n",
      "******************************************************************************\n",
      "\n",
      "This is Ipopt version 3.14.16, running with linear solver MUMPS 5.7.1.\n",
      "\n",
      "Number of nonzeros in equality constraint Jacobian...:    95762\n",
      "Number of nonzeros in inequality constraint Jacobian.:        0\n",
      "Number of nonzeros in Lagrangian Hessian.............:    29606\n",
      "\n",
      "Total number of variables............................:      482\n",
      "                     variables with only lower bounds:        0\n",
      "                variables with lower and upper bounds:      482\n",
      "                     variables with only upper bounds:        0\n",
      "Total number of equality constraints.................:      362\n",
      "Total number of inequality constraints...............:        0\n",
      "        inequality constraints with only lower bounds:        0\n",
      "   inequality constraints with lower and upper bounds:        0\n",
      "        inequality constraints with only upper bounds:        0\n",
      "\n",
      "iter    objective    inf_pr   inf_du lg(mu)  ||d||  lg(rg) alpha_du alpha_pr  ls\n",
      "   0  7.4126618e-02 1.66e+00 2.01e-03  -1.0 0.00e+00    -  0.00e+00 0.00e+00   0\n",
      "   1  8.0342336e-02 2.09e-01 8.17e-03  -1.0 3.57e-01    -  9.82e-01 1.00e+00h  1\n",
      "   2  8.1125400e-02 2.22e-03 3.67e-02  -1.0 3.64e-02   0.0 1.00e+00 1.00e+00h  1\n",
      "   3  8.0791052e-02 3.29e-05 1.81e-03  -2.5 5.42e-03  -0.5 1.00e+00 1.00e+00h  1\n",
      "   4  7.2450239e-02 3.51e-01 2.81e-04  -3.8 5.11e-01    -  1.00e+00 1.00e+00h  1\n",
      "   5  7.3072801e-02 1.45e-02 8.77e-03  -3.8 7.18e-02  -1.0 1.00e+00 1.00e+00h  1\n",
      "   6  7.3023571e-02 5.44e-05 2.37e-04  -3.8 5.82e-03  -1.4 1.00e+00 1.00e+00h  1\n",
      "   7  7.2984761e-02 6.36e-04 1.68e-04  -5.7 1.37e-02  -1.9 1.00e+00 1.00e+00h  1\n",
      "   8  7.2952828e-02 1.21e-03 9.00e-05  -5.7 2.16e-02  -2.4 1.00e+00 1.00e+00h  1\n",
      "   9  7.2942028e-02 2.17e-03 3.69e-05  -5.7 2.67e-02  -2.9 1.00e+00 1.00e+00h  1\n",
      "iter    objective    inf_pr   inf_du lg(mu)  ||d||  lg(rg) alpha_du alpha_pr  ls\n",
      "  10  7.2905818e-02 1.12e-03 1.91e-05  -5.7 4.71e-02  -3.3 1.00e+00 1.00e+00H  1\n",
      "  11  7.2707471e-02 7.13e-02 6.10e-05  -5.7 3.27e-01  -3.8 1.00e+00 1.00e+00H  1\n",
      "  12  7.2567471e-02 1.76e-01 2.29e-04  -5.7 5.49e-01  -4.3 1.00e+00 1.00e+00H  1\n",
      "  13  7.2236418e-02 3.14e-01 4.90e-04  -5.7 1.02e+00  -4.8 1.00e+00 1.00e+00H  1\n",
      "  14  7.2615570e-02 1.36e-01 2.61e-04  -5.7 9.81e-02  -3.4 1.00e+00 5.00e-01h  2\n",
      "  15  7.2787930e-02 5.34e-02 1.42e-04  -5.7 1.98e-01  -3.9 1.00e+00 5.00e-01h  2\n",
      "  16  7.2857817e-02 1.90e-02 8.47e-05  -5.7 2.22e-01    -  1.00e+00 5.00e-01h  2\n",
      "  17  7.2855937e-02 1.04e-03 2.82e-05  -5.7 1.47e-01    -  1.00e+00 1.00e+00H  1\n",
      "  18  7.2856366e-02 5.70e-05 6.02e-06  -5.7 5.11e-02    -  1.00e+00 1.00e+00H  1\n",
      "  19  7.2856288e-02 8.00e-07 6.48e-07  -5.7 2.43e-02    -  1.00e+00 1.00e+00H  1\n",
      "iter    objective    inf_pr   inf_du lg(mu)  ||d||  lg(rg) alpha_du alpha_pr  ls\n",
      "  20  7.2856287e-02 4.29e-09 1.19e-08  -8.6 2.98e-03    -  1.00e+00 1.00e+00H  1\n",
      "  21  7.2856287e-02 1.16e-12 5.59e-12  -9.0 6.63e-05    -  1.00e+00 1.00e+00H  1\n",
      "\n",
      "Number of Iterations....: 21\n",
      "\n",
      "                                   (scaled)                 (unscaled)\n",
      "Objective...............:   7.2856287019086710e-02    7.2856287019086710e-02\n",
      "Dual infeasibility......:   5.5870847788203514e-12    5.5870847788203514e-12\n",
      "Constraint violation....:   1.4571677198205180e-13    1.1641174135768040e-12\n",
      "Variable bound violation:   0.0000000000000000e+00    0.0000000000000000e+00\n",
      "Complementarity.........:   9.0909199985229338e-10    9.0909199985229338e-10\n",
      "Overall NLP error.......:   9.0909199985229338e-10    9.0909199985229338e-10\n",
      "\n",
      "\n",
      "Number of objective function evaluations             = 34\n",
      "Number of objective gradient evaluations             = 22\n",
      "Number of equality constraint evaluations            = 34\n",
      "Number of inequality constraint evaluations          = 0\n",
      "Number of equality constraint Jacobian evaluations   = 22\n",
      "Number of inequality constraint Jacobian evaluations = 0\n",
      "Number of Lagrangian Hessian evaluations             = 21\n",
      "Total seconds in IPOPT                               = 1.060\n",
      "\n",
      "EXIT: Optimal Solution Found.\n",
      "{'solver_time': 1.1356070041656494, 'termination_condition': <TerminationCondition.optimal: 'optimal'>, 'message': 'Ipopt 3.14.16\\\\x3a Optimal Solution Found'}\n",
      "Iteration: 3 / 6\n",
      "current_16_08\n"
     ]
    },
    {
     "name": "stderr",
     "output_type": "stream",
     "text": [
      "/Users/mariiashapo/Library/CloudStorage/OneDrive-Personal/project_2324/NODE/00_models/nn_pyomo_base.py:89: UserWarning: y_init should be structured such that each row represents a new time point.\n",
      "  warnings.warn(\"y_init should be structured such that each row represents a new time point.\")\n"
     ]
    },
    {
     "name": "stdout",
     "output_type": "stream",
     "text": [
      "Ipopt 3.14.16: tol=1e-08\n",
      "constr_viol_tol=0.0001\n",
      "acceptable_tol=1e-15\n",
      "acceptable_constr_viol_tol=1e-15\n",
      "acceptable_dual_inf_tol=1e-15\n",
      "acceptable_compl_inf_tol=1e-15\n",
      "acceptable_iter=0\n",
      "halt_on_ampl_error=yes\n",
      "print_level=5\n",
      "max_iter=3000\n",
      "\n",
      "\n",
      "******************************************************************************\n",
      "This program contains Ipopt, a library for large-scale nonlinear optimization.\n",
      " Ipopt is released as open source code under the Eclipse Public License (EPL).\n",
      "         For more information visit https://github.com/coin-or/Ipopt\n",
      "******************************************************************************\n",
      "\n",
      "This is Ipopt version 3.14.16, running with linear solver MUMPS 5.7.1.\n",
      "\n",
      "Number of nonzeros in equality constraint Jacobian...:    85122\n",
      "Number of nonzeros in inequality constraint Jacobian.:        0\n",
      "Number of nonzeros in Lagrangian Hessian.............:    26386\n",
      "\n",
      "Total number of variables............................:      482\n",
      "                     variables with only lower bounds:        0\n",
      "                variables with lower and upper bounds:      482\n",
      "                     variables with only upper bounds:        0\n",
      "Total number of equality constraints.................:      322\n",
      "Total number of inequality constraints...............:        0\n",
      "        inequality constraints with only lower bounds:        0\n",
      "   inequality constraints with lower and upper bounds:        0\n",
      "        inequality constraints with only upper bounds:        0\n",
      "\n",
      "iter    objective    inf_pr   inf_du lg(mu)  ||d||  lg(rg) alpha_du alpha_pr  ls\n",
      "   0  7.4126618e-02 1.66e+00 2.82e-03  -1.0 0.00e+00    -  0.00e+00 0.00e+00   0\n",
      "   1  7.6885422e-02 1.83e-01 3.81e-03  -1.0 3.24e-01    -  9.83e-01 1.00e+00h  1\n",
      "   2  7.7290030e-02 6.84e-04 2.34e-02  -1.0 2.35e-02   0.0 1.00e+00 1.00e+00h  1\n",
      "   3  7.6725963e-02 8.89e-05 2.65e-03  -2.5 7.96e-03  -0.5 1.00e+00 1.00e+00h  1\n",
      "   4  6.3339654e-02 3.33e-01 5.25e-04  -3.8 7.63e-01    -  1.00e+00 1.00e+00h  1\n",
      "   5  6.3105836e-02 6.84e-02 1.35e-04  -3.8 2.01e-01    -  1.00e+00 1.00e+00h  1\n",
      "   6  6.3189573e-02 3.40e-05 9.33e-04  -3.8 8.40e-03  -1.0 1.00e+00 1.00e+00h  1\n",
      "   7  6.3186666e-02 2.25e-05 9.83e-05  -5.7 2.59e-03  -1.4 1.00e+00 1.00e+00h  1\n",
      "   8  6.3180840e-02 1.34e-04 8.08e-05  -5.7 6.54e-03  -1.9 1.00e+00 1.00e+00h  1\n",
      "   9  6.3174354e-02 2.62e-04 5.17e-05  -5.7 1.26e-02  -2.4 1.00e+00 1.00e+00h  1\n",
      "iter    objective    inf_pr   inf_du lg(mu)  ||d||  lg(rg) alpha_du alpha_pr  ls\n",
      "  10  6.3171543e-02 3.45e-04 2.42e-05  -5.7 1.75e-02  -2.9 1.00e+00 1.00e+00h  1\n",
      "  11  6.3167679e-02 5.92e-05 1.15e-05  -5.7 2.39e-02  -3.3 1.00e+00 1.00e+00H  1\n",
      "  12  6.3164308e-02 1.56e-04 6.72e-06  -5.7 3.78e-02  -3.8 1.00e+00 1.00e+00H  1\n",
      "  13  6.3146198e-02 6.23e-03 1.46e-05  -5.7 1.06e-01  -4.3 1.00e+00 1.00e+00H  1\n",
      "  14  6.3157959e-02 2.05e-03 1.23e-05  -5.7 2.19e-01    -  1.00e+00 2.50e-01h  3\n",
      "  15  6.3159313e-02 2.26e-04 2.78e-06  -5.7 4.91e-02    -  1.00e+00 1.00e+00H  1\n",
      "  16  6.3158912e-02 4.64e-04 7.04e-07  -5.7 2.39e-02    -  1.00e+00 1.00e+00H  1\n",
      "  17  6.3159827e-02 9.03e-05 2.93e-08  -5.7 3.76e-03    -  1.00e+00 1.00e+00h  1\n",
      "  18  6.3159675e-02 9.48e-07 3.19e-10  -5.7 5.84e-04    -  1.00e+00 1.00e+00h  1\n",
      "  19  6.3159674e-02 1.75e-09 4.46e-13  -8.6 3.57e-05    -  1.00e+00 1.00e+00h  1\n",
      "\n",
      "Number of Iterations....: 19\n",
      "\n",
      "                                   (scaled)                 (unscaled)\n",
      "Objective...............:   6.3159673631860272e-02    6.3159673631860272e-02\n",
      "Dual infeasibility......:   4.4568921998849824e-13    4.4568921998849824e-13\n",
      "Constraint violation....:   1.7497148036005328e-09    1.7497148036005328e-09\n",
      "Variable bound violation:   0.0000000000000000e+00    0.0000000000000000e+00\n",
      "Complementarity.........:   2.5143354230004547e-09    2.5143354230004547e-09\n",
      "Overall NLP error.......:   2.5143354230004547e-09    2.5143354230004547e-09\n",
      "\n",
      "\n",
      "Number of objective function evaluations             = 30\n",
      "Number of objective gradient evaluations             = 20\n",
      "Number of equality constraint evaluations            = 30\n",
      "Number of inequality constraint evaluations          = 0\n",
      "Number of equality constraint Jacobian evaluations   = 20\n",
      "Number of inequality constraint Jacobian evaluations = 0\n",
      "Number of Lagrangian Hessian evaluations             = 19\n",
      "Total seconds in IPOPT                               = 0.806\n",
      "\n",
      "EXIT: Optimal Solution Found.\n",
      "{'solver_time': 0.8751406669616699, 'termination_condition': <TerminationCondition.optimal: 'optimal'>, 'message': 'Ipopt 3.14.16\\\\x3a Optimal Solution Found'}\n",
      "Iteration: 4 / 6\n",
      "current_16_08\n"
     ]
    },
    {
     "name": "stderr",
     "output_type": "stream",
     "text": [
      "/Users/mariiashapo/Library/CloudStorage/OneDrive-Personal/project_2324/NODE/00_models/nn_pyomo_base.py:89: UserWarning: y_init should be structured such that each row represents a new time point.\n",
      "  warnings.warn(\"y_init should be structured such that each row represents a new time point.\")\n"
     ]
    },
    {
     "name": "stdout",
     "output_type": "stream",
     "text": [
      "Ipopt 3.14.16: tol=1e-08\n",
      "constr_viol_tol=0.0001\n",
      "acceptable_tol=1e-15\n",
      "acceptable_constr_viol_tol=1e-15\n",
      "acceptable_dual_inf_tol=1e-15\n",
      "acceptable_compl_inf_tol=1e-15\n",
      "acceptable_iter=0\n",
      "halt_on_ampl_error=yes\n",
      "print_level=5\n",
      "max_iter=3000\n",
      "\n",
      "\n",
      "******************************************************************************\n",
      "This program contains Ipopt, a library for large-scale nonlinear optimization.\n",
      " Ipopt is released as open source code under the Eclipse Public License (EPL).\n",
      "         For more information visit https://github.com/coin-or/Ipopt\n",
      "******************************************************************************\n",
      "\n",
      "This is Ipopt version 3.14.16, running with linear solver MUMPS 5.7.1.\n",
      "\n",
      "Number of nonzeros in equality constraint Jacobian...:    53202\n",
      "Number of nonzeros in inequality constraint Jacobian.:        0\n",
      "Number of nonzeros in Lagrangian Hessian.............:    16726\n",
      "\n",
      "Total number of variables............................:      482\n",
      "                     variables with only lower bounds:        0\n",
      "                variables with lower and upper bounds:      482\n",
      "                     variables with only upper bounds:        0\n",
      "Total number of equality constraints.................:      202\n",
      "Total number of inequality constraints...............:        0\n",
      "        inequality constraints with only lower bounds:        0\n",
      "   inequality constraints with lower and upper bounds:        0\n",
      "        inequality constraints with only upper bounds:        0\n",
      "\n",
      "iter    objective    inf_pr   inf_du lg(mu)  ||d||  lg(rg) alpha_du alpha_pr  ls\n",
      "   0  7.4126618e-02 1.64e+00 4.45e-03  -1.0 0.00e+00    -  0.00e+00 0.00e+00   0\n",
      "   1  7.4237956e-02 8.32e-02 1.50e-03  -1.0 1.93e-01    -  9.80e-01 1.00e+00h  1\n",
      "   2  1.0298668e-01 2.36e-01 2.76e-03  -1.0 2.74e-01  -2.0 1.00e+00 1.00e+00h  1\n",
      "   3  6.5410761e-02 4.57e-01 9.71e-05  -1.7 6.85e-01    -  1.00e+00 1.00e+00h  1\n",
      "   4  5.2635836e-02 5.75e-03 1.14e-05  -1.7 1.17e-01    -  1.00e+00 1.00e+00h  1\n",
      "   5  3.8193565e-02 8.53e-05 4.25e-05  -3.8 1.73e-01    -  9.80e-01 1.00e+00h  1\n",
      "   6  3.7849356e-02 6.95e-08 1.34e-09  -5.7 3.37e-02    -  1.00e+00 1.00e+00h  1\n",
      "   7  3.7849338e-02 1.75e-12 5.21e-14  -8.6 3.54e-04    -  1.00e+00 1.00e+00h  1\n",
      "\n",
      "Number of Iterations....: 7\n",
      "\n",
      "                                   (scaled)                 (unscaled)\n",
      "Objective...............:   3.7849337743916016e-02    3.7849337743916016e-02\n",
      "Dual infeasibility......:   5.2074134548417388e-14    5.2074134548417388e-14\n",
      "Constraint violation....:   1.7491841308725498e-12    1.7491841308725498e-12\n",
      "Variable bound violation:   0.0000000000000000e+00    0.0000000000000000e+00\n",
      "Complementarity.........:   3.9383014294032875e-09    3.9383014294032875e-09\n",
      "Overall NLP error.......:   3.9383014294032875e-09    3.9383014294032875e-09\n",
      "\n",
      "\n",
      "Number of objective function evaluations             = 8\n",
      "Number of objective gradient evaluations             = 8\n",
      "Number of equality constraint evaluations            = 8\n",
      "Number of inequality constraint evaluations          = 0\n",
      "Number of equality constraint Jacobian evaluations   = 8\n",
      "Number of inequality constraint Jacobian evaluations = 0\n",
      "Number of Lagrangian Hessian evaluations             = 7\n",
      "Total seconds in IPOPT                               = 0.103\n",
      "\n",
      "EXIT: Optimal Solution Found.\n",
      "{'solver_time': 0.15735912322998047, 'termination_condition': <TerminationCondition.optimal: 'optimal'>, 'message': 'Ipopt 3.14.16\\\\x3a Optimal Solution Found'}\n",
      "Iteration: 5 / 6\n",
      "current_16_08\n",
      "Ipopt 3.14.16: tol=1e-08\n",
      "constr_viol_tol=0.0001\n",
      "acceptable_tol=1e-15\n",
      "acceptable_constr_viol_tol=1e-15\n",
      "acceptable_dual_inf_tol=1e-15\n",
      "acceptable_compl_inf_tol=1e-15\n",
      "acceptable_iter=0\n",
      "halt_on_ampl_error=yes\n",
      "print_level=5\n",
      "max_iter=3000\n",
      "\n",
      "\n",
      "******************************************************************************\n",
      "This program contains Ipopt, a library for large-scale nonlinear optimization.\n",
      " Ipopt is released as open source code under the Eclipse Public License (EPL).\n",
      "         For more information visit https://github.com/coin-or/Ipopt\n",
      "******************************************************************************\n",
      "\n",
      "This is Ipopt version 3.14.16, running with linear solver MUMPS 5.7.1.\n",
      "\n",
      "Number of nonzeros in equality constraint Jacobian...:        2\n",
      "Number of nonzeros in inequality constraint Jacobian.:        0\n",
      "Number of nonzeros in Lagrangian Hessian.............:      482\n",
      "\n",
      "Total number of variables............................:      482\n",
      "                     variables with only lower bounds:        0\n",
      "                variables with lower and upper bounds:      482\n",
      "                     variables with only upper bounds:        0\n",
      "Total number of equality constraints.................:        2\n",
      "Total number of inequality constraints...............:        0\n",
      "        inequality constraints with only lower bounds:        0\n",
      "   inequality constraints with lower and upper bounds:        0\n",
      "        inequality constraints with only upper bounds:        0\n",
      "\n",
      "iter    objective    inf_pr   inf_du lg(mu)  ||d||  lg(rg) alpha_du alpha_pr  ls\n",
      "   0  7.4126618e-02 1.28e-01 6.09e-03  -1.0 0.00e+00    -  0.00e+00 0.00e+00   0\n",
      "   1  7.1056001e-02 0.00e+00 9.05e-04  -1.0 1.28e-01    -  9.85e-01 1.00e+00h  1\n",
      "   2  1.1340226e-01 0.00e+00 6.94e-18  -1.0 7.72e-01    -  1.00e+00 1.00e+00f  1\n",
      "   3  2.5360638e-02 0.00e+00 2.52e-04  -2.5 3.08e-01    -  9.73e-01 1.00e+00f  1\n",
      "   4  9.0015897e-05 0.00e+00 1.60e-18  -3.8 2.62e-01    -  1.00e+00 1.00e+00f  1\n",
      "   5  2.2123558e-09 0.00e+00 1.01e-18  -5.7 2.15e-02    -  1.00e+00 1.00e+00f  1\n",
      "   6  3.8686828e-16 0.00e+00 1.10e-18  -8.6 1.72e-04    -  1.00e+00 1.00e+00f  1\n",
      "\n",
      "Number of Iterations....: 6\n",
      "\n",
      "                                   (scaled)                 (unscaled)\n",
      "Objective...............:   3.8686827803321049e-16    3.8686827803321049e-16\n",
      "Dual infeasibility......:   1.0973946692799595e-18    1.0973946692799595e-18\n",
      "Constraint violation....:   0.0000000000000000e+00    0.0000000000000000e+00\n",
      "Variable bound violation:   0.0000000000000000e+00    0.0000000000000000e+00\n",
      "Complementarity.........:   2.8380038988064995e-09    2.8380038988064995e-09\n",
      "Overall NLP error.......:   2.8380038988064995e-09    2.8380038988064995e-09\n",
      "\n",
      "\n",
      "Number of objective function evaluations             = 7\n",
      "Number of objective gradient evaluations             = 7\n",
      "Number of equality constraint evaluations            = 7\n",
      "Number of inequality constraint evaluations          = 0\n",
      "Number of equality constraint Jacobian evaluations   = 7\n",
      "Number of inequality constraint Jacobian evaluations = 0\n",
      "Number of Lagrangian Hessian evaluations             = 6\n",
      "Total seconds in IPOPT                               = 0.004\n",
      "\n",
      "EXIT: Optimal Solution Found.\n",
      "{'solver_time': 0.0289762020111084, 'termination_condition': <TerminationCondition.optimal: 'optimal'>, 'message': 'Ipopt 3.14.16\\\\x3a Optimal Solution Found'}\n"
     ]
    },
    {
     "name": "stderr",
     "output_type": "stream",
     "text": [
      "/Users/mariiashapo/Library/CloudStorage/OneDrive-Personal/project_2324/NODE/00_models/nn_pyomo_base.py:89: UserWarning: y_init should be structured such that each row represents a new time point.\n",
      "  warnings.warn(\"y_init should be structured such that each row represents a new time point.\")\n"
     ]
    },
    {
     "name": "stdout",
     "output_type": "stream",
     "text": [
      "Iteration: 6 / 6\n"
     ]
    }
   ],
   "source": [
    "tol = 1e-8\n",
    "params_model = {\n",
    "    'layer_widths': [2, 16, 2],\n",
    "    'act_func': 'tanh',\n",
    "    'penalty_lambda_reg': 0.001,\n",
    "    'time_invariant': True,\n",
    "    'w_init_method': 'xavier',\n",
    "    \"reg_norm\": False,\n",
    "    \"skip_collocation\": np.inf,\n",
    "    'params': \n",
    "            {\n",
    "          \"tol\":tol, \n",
    "          #\"dual_inf_tol\": tol, \n",
    "          #\"compl_inf_tol\": tol,\n",
    "          \"constr_viol_tol\": 1e-4, \n",
    "          \"acceptable_tol\": 1e-15,\n",
    "          \"acceptable_constr_viol_tol\": 1e-15,\n",
    "          \"acceptable_dual_inf_tol\": 1e-15,\n",
    "          \"acceptable_compl_inf_tol\": 1e-15,\n",
    "          \"acceptable_iter\": 0,    \n",
    "          \"halt_on_ampl_error\" : 'yes',\n",
    "          \"print_level\": 5, \n",
    "          \"max_iter\": 3000}}\n",
    "\n",
    "TRAINER = load_trainer(\"do\", spacing_type=\"gauss_legendre\")\n",
    "TRAINER = load_trainer(\"ho\")\n",
    "#TRAINER.est_sol = None\n",
    "RESULTS = {}\n",
    "\n",
    "optimization_type = 'skip_collocation'\n",
    "\n",
    "if optimization_type == 'regularization':\n",
    "  param_combinations = [0, 1e-6, 0.0001, 0.01, 0.1, 1]\n",
    "elif optimization_type == 'tolerances':\n",
    "  tol_list = [1, 1e-1, 1e-2, 1e-4, 1e-6, 1e-8]\n",
    "  param_combinations = list(itertools.product(tol_list, tol_list))\n",
    "elif optimization_type == 'reg_tol': \n",
    "  reg_list = [0.001, 0.01, 0.1]\n",
    "  tol_list = [1e-6, 1e-7, 1e-8]\n",
    "  param_combinations = list(itertools.product(reg_list, tol_list))\n",
    "elif optimization_type == 'skip_collocation':\n",
    "  param_combinations = [np.inf, 25, 10, 5, 2, 1]\n",
    "  \n",
    "total_iter = len(param_combinations)\n",
    "i = 1\n",
    "\n",
    "for param_comb in param_combinations:\n",
    "    # PARAMETER UPDATE\n",
    "    if optimization_type == 'regularization':\n",
    "        params_model['penalty_lambda_reg'] = param_comb\n",
    "    elif optimization_type == 'tolerances': \n",
    "        params_model['params']['tol'] = param_comb[0]\n",
    "        params_model['params']['constr_viol_tol'] = param_comb[1]\n",
    "        params_model['params']['compl_inf_tol'] = param_comb[1]\n",
    "        params_model['params']['dual_inf_tol'] = param_comb[1]    \n",
    "    elif optimization_type == 'skip_collocation':\n",
    "        params_model['skip_collocation'] = param_comb\n",
    "    \n",
    "    try:\n",
    "      TRAINER.train_pyomo(params_model)\n",
    "    except Exception as e:\n",
    "      RESULTS[param_comb] = {'time_elapsed': np.array(np.nan), 'mse_train': np.array(np.nan), 'mse_test': np.array(np.nan)}\n",
    "      logging.error(\"Failed to complete training: {}\".format(e))\n",
    "      print(f\"{e}\")\n",
    "      continue\n",
    "    \n",
    "    try:\n",
    "      RESULTS[param_comb] = TRAINER.extract_results_pyomo()\n",
    "    except Exception as e:\n",
    "      RESULTS[param_comb] = {'time_elapsed': np.array(np.nan), 'mse_train': np.array(np.nan), 'mse_test': np.array(np.nan)}\n",
    "      logging.error(\"Failed to extract results: {}\".format(e))\n",
    "      print(f\"{e}\")\n",
    "    \n",
    "    print(\"Iteration:\", i, \"/\", total_iter)\n",
    "    i+=1"
   ]
  },
  {
   "cell_type": "code",
   "execution_count": 53,
   "metadata": {},
   "outputs": [
    {
     "name": "stdout",
     "output_type": "stream",
     "text": [
      "[0.01938484545814872, 1.4797963243445085, 7.465346145639726, 2.494628679954974, 3.6462075660574387, 2.9319172117263266]\n",
      "[0.4675382289165351, 2.5361955739609794, 0.3484978838955694, 1.1716627129912085, 8.777612491784494, 5.160670107362349]\n"
     ]
    }
   ],
   "source": [
    "print([RESULTS[k]['mse_train'].item() for k in RESULTS.keys()])\n",
    "print([RESULTS[k]['mse_test'].item() for k in RESULTS.keys()])"
   ]
  },
  {
   "cell_type": "code",
   "execution_count": 56,
   "metadata": {},
   "outputs": [],
   "source": [
    "reload = True\n",
    "if reload:\n",
    "    formatted_time = time.strftime('%Y-%m-%d_%H-%M-%S')\n",
    "    filename = f'results/{formatted_time}_ho_constr_n.pkl'\n",
    "    with open(filename, 'wb') as file:\n",
    "        pickle.dump(RESULTS, file)"
   ]
  },
  {
   "cell_type": "code",
   "execution_count": 22,
   "metadata": {},
   "outputs": [
    {
     "data": {
      "text/plain": [
       "dict_keys([inf, 25, 10, 5, 2])"
      ]
     },
     "execution_count": 22,
     "metadata": {},
     "output_type": "execute_result"
    }
   ],
   "source": [
    "RESULTS.keys()"
   ]
  },
  {
   "cell_type": "code",
   "execution_count": 54,
   "metadata": {},
   "outputs": [
    {
     "data": {
      "image/png": "[encoded data removed]",
      "text/plain": [
       "<Figure size 1500x600 with 1 Axes>"
      ]
     },
     "metadata": {},
     "output_type": "display_data"
    }
   ],
   "source": [
    "result = RESULTS[25]\n",
    "\n",
    "#\n",
    "y_pred = result['odeint_pred']\n",
    "y_pred_test = result['odeint_pred_test']\n",
    "\n",
    "plt.figure(figsize=(15, 6))\n",
    "\n",
    "plt.plot(TRAINER.t, TRAINER.y[:,0], color = 'green', label='True Data (Train)', alpha = 0.6)\n",
    "plt.plot(TRAINER.t, TRAINER.y[:,1], color = 'green', alpha = 0.6)\n",
    "plt.scatter(TRAINER.t, y_pred[:,0], color = 'blue', label='Predicted Trajectory (Train)', alpha = 0.6)\n",
    "plt.scatter(TRAINER.t, y_pred[:,1], color = 'blue', alpha = 0.6)\n",
    "\n",
    "plt.plot(TRAINER.t_test, TRAINER.y_test[:,0], color='green', label='True Data (Test)', alpha = 0.6)\n",
    "plt.plot(TRAINER.t_test, TRAINER.y_test[:,1], color='green', alpha = 0.6)\n",
    "plt.scatter(TRAINER.t_test, y_pred_test[:,0], color='#FF8C00', label='Predicted Trajectory (Test)', alpha = 0.6)\n",
    "plt.scatter(TRAINER.t_test, y_pred_test[:,1], color='#FF8C00', alpha = 0.6)\n",
    "\n",
    "plt.title(f\"Collocation-based neural ODE training (Harmonic Oscilltor)\")\n",
    "plt.xlabel(\"Time\")\n",
    "plt.ylabel(\"State\")\n",
    "plt.legend(loc =\"upper left\")\n",
    "plt.grid(True)\n",
    "plt.show()"
   ]
  },
  {
   "cell_type": "code",
   "execution_count": null,
   "metadata": {},
   "outputs": [],
   "source": []
  },
  {
   "cell_type": "code",
   "execution_count": null,
   "metadata": {},
   "outputs": [],
   "source": []
  },
  {
   "cell_type": "markdown",
   "metadata": {},
   "source": [
    "----"
   ]
  },
  {
   "cell_type": "code",
   "execution_count": 5,
   "metadata": {},
   "outputs": [
    {
     "name": "stderr",
     "output_type": "stream",
     "text": [
      "/Users/mariiashapo/Library/CloudStorage/OneDrive-Personal/project_2324/NODE/00_utils/non_parametric_collocation.py:95: UserWarning: Data transposed to match expected dimensions.\n",
      "  warnings.warn(\"Data transposed to match expected dimensions.\")\n"
     ]
    },
    {
     "name": "stdout",
     "output_type": "stream",
     "text": [
      "-----\n"
     ]
    },
    {
     "name": "stderr",
     "output_type": "stream",
     "text": [
      "/Users/mariiashapo/Library/CloudStorage/OneDrive-Personal/project_2324/NODE/00_utils/non_parametric_collocation.py:95: UserWarning: Data transposed to match expected dimensions.\n",
      "  warnings.warn(\"Data transposed to match expected dimensions.\")\n"
     ]
    },
    {
     "data": {
      "image/png": "[encoded data removed]",
      "text/plain": [
       "<Figure size 1000x600 with 1 Axes>"
      ]
     },
     "metadata": {},
     "output_type": "display_data"
    },
    {
     "data": {
      "image/png": "[encoded data removed]",
      "text/plain": [
       "<Figure size 1000x600 with 1 Axes>"
      ]
     },
     "metadata": {},
     "output_type": "display_data"
    }
   ],
   "source": [
    "trainer_ch = load_trainer(\"vdp\")\n",
    "print('-----')\n",
    "trainer_gl = load_trainer(\"vdp\", 'gauss_legendre')\n",
    "\n",
    "k = 200\n",
    "D = trainer_ch.D\n",
    "\n",
    "dy_dt_0 = []\n",
    "dy_dt_1 = []\n",
    "\n",
    "for i in range(len(trainer_ch.t)):\n",
    "    dy_dt = (D[i] @ trainer_ch.y)\n",
    "    dy_dt_0.append(dy_dt[0])\n",
    "    dy_dt_1.append(dy_dt[1])\n",
    "    \n",
    "plt.figure(figsize=(10, 6))\n",
    "\n",
    "plt.plot(trainer_ch.t, trainer_ch.true_derivative[:,0], color = 'red', alpha = 0.6, label = 'True Derivative')\n",
    "plt.plot(trainer_ch.t, trainer_ch.true_derivative[:,1], color = 'red', alpha = 0.6)\n",
    "plt.plot(trainer_ch.t[:k], dy_dt_0[:k], 'o', color = 'blue', alpha = 0.25, label = 'Chebyshev')\n",
    "plt.plot(trainer_ch.t[:k], dy_dt_1[:k], 'o', color = 'blue', alpha = 0.25)\n",
    "\n",
    "plt.title(f\"True Derivative vs. Collocated Derivative (Chebyshev) for Van der Pol\")\n",
    "plt.xlabel(\"Time\")\n",
    "plt.ylabel(\"du/dt\")\n",
    "plt.legend(loc =\"upper left\")\n",
    "plt.grid(True)\n",
    "plt.show()\n",
    "\n",
    "D = trainer_gl.D\n",
    "\n",
    "dy_dt_0 = []\n",
    "dy_dt_1 = []\n",
    "\n",
    "for i in range(len(trainer_gl.t)):\n",
    "    dy_dt = (D[i] @ trainer_gl.y)\n",
    "    dy_dt_0.append(dy_dt[0])\n",
    "    dy_dt_1.append(dy_dt[1])\n",
    "    \n",
    "k = 200\n",
    "plt.figure(figsize=(10, 6))\n",
    "\n",
    "plt.plot(trainer_gl.t, trainer_gl.true_derivative[:,0], color = 'red', alpha = 0.6, label = 'True Derivative')\n",
    "plt.plot(trainer_gl.t, trainer_gl.true_derivative[:,1], color = 'red', alpha = 0.6)\n",
    "plt.plot(trainer_gl.t[:k], dy_dt_0[:k], 'o',color = 'blue', alpha = 0.25)\n",
    "plt.plot(trainer_gl.t[:k], dy_dt_1[:k], 'o',color = 'blue', alpha = 0.25)\n",
    "\n",
    "plt.title(f\"Collocation-based neural ODE training (Damped Oscilltor)\")\n",
    "plt.xlabel(\"Time\")\n",
    "plt.ylabel(\"State\")\n",
    "plt.legend(loc =\"upper left\")\n",
    "plt.grid(True)\n",
    "plt.show()"
   ]
  },
  {
   "cell_type": "code",
   "execution_count": null,
   "metadata": {},
   "outputs": [],
   "source": []
  }
 ],
 "metadata": {
  "kernelspec": {
   "display_name": "collocation_env",
   "language": "python",
   "name": "python3"
  },
  "language_info": {
   "codemirror_mode": {
    "name": "ipython",
    "version": 3
   },
   "file_extension": ".py",
   "mimetype": "text/x-python",
   "name": "python",
   "nbconvert_exporter": "python",
   "pygments_lexer": "ipython3",
   "version": "3.9.18"
  }
 },
 "nbformat": 4,
 "nbformat_minor": 2
}
