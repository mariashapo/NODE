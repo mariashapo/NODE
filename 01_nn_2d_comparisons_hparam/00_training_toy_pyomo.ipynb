{
 "cells": [
  {
   "cell_type": "code",
   "execution_count": 2,
   "metadata": {},
   "outputs": [],
   "source": [
    "import numpy as np\n",
    "\n",
    "import jax\n",
    "import jax.numpy as jnp\n",
    "\n",
    "# -------------- helper libraries -------------- #\n",
    "import sys\n",
    "import os\n",
    "import time\n",
    "import pickle\n",
    "import matplotlib.pyplot as plt\n",
    "import pandas as pd\n",
    "import importlib\n",
    "\n",
    "path_ = os.path.abspath(os.path.join('..', '00_utils'))\n",
    "\n",
    "# Add the directory to sys.path\n",
    "if path_ not in sys.path:\n",
    "    sys.path.append(path_)\n",
    "\n",
    "from data_generation import generate_ode_data\n",
    "import collocation_obj\n"
   ]
  },
  {
   "cell_type": "markdown",
   "metadata": {},
   "source": [
    "### Set Out Hyperparameter Optimization (Shared Parameters)\n",
    "* network size\n",
    "* regularization\n",
    "* number of training points\n",
    "\n",
    "### Pyomo-specific Hyperparameters\n",
    "* number of collocation points with fixed n. of training points\n",
    "* objective tolerances\n",
    "\n",
    "### Sequential ODE Solver Hyperparameters\n",
    "* learning rate\n",
    "* number of training epochs\n",
    "* ODE-solver tolerances\n"
   ]
  },
  {
   "cell_type": "code",
   "execution_count": null,
   "metadata": {},
   "outputs": [],
   "source": [
    "#---------------------------------------------DATA PARAMS---------------------------------------------#\n",
    "N = 200\n",
    "noise_level = 0.2\n",
    "ode_type, params = \"harmonic_oscillator\", {\"omega_squared\": 2}\n",
    "start_time, end_time = 0, 10\n",
    "spacing_type = \"chebyshev\" # \"equally_spaced\" or \"chebyshev\"\n",
    "initial_state = jnp.array([0.0, 1.0])\n",
    "\n",
    "#--------------------------------------------GENERATE DATA--------------------------------------------#\n",
    "t_ho_cheb, y_ho_cheb, y_noisy_ho_cheb, true_derivatives_ho_cheb = generate_ode_data(N, noise_level, ode_type, params, start_time, end_time, spacing_type, initial_state)\n",
    "\n",
    "# numpy array is required for pyomo\n",
    "y_noisy_ho_cheb = np.array(jnp.squeeze(y_noisy_ho_cheb))\n",
    "t_ho_cheb = np.array(jnp.squeeze(t_ho_cheb))\n",
    "\n",
    "#-----------------------------------------COLLOCATION MATRIX PREPARATION-------------------------------------------#\n",
    "weights_ho_cheb = compute_weights(t_ho_cheb)\n",
    "D_ho_cheb = np.array(lagrange_derivative(t_ho_cheb, weights_ho_cheb))\n",
    "\n",
    "#---------------------------------------------------TEST DATA--------------------------------------------#\n",
    "t_test_ho_cheb, y_test_ho_cheb, _, _ = generate_ode_data(N*2, noise_level, ode_type, params, start_time, 20, \"uniform\", initial_state)\n",
    "\n",
    "#--------------------------------------------NON-PARAMETRIC COLLOCATION--------------------------------------------#\n",
    "estimated_derivative_ho_cheb, estimated_solution_ho_cheb = collocate_data(y_noisy_ho_cheb, t_ho_cheb, 'EpanechnikovKernel', bandwidth=0.5)"
   ]
  }
 ],
 "metadata": {
  "kernelspec": {
   "display_name": "collocation_env",
   "language": "python",
   "name": "python3"
  },
  "language_info": {
   "codemirror_mode": {
    "name": "ipython",
    "version": 3
   },
   "file_extension": ".py",
   "mimetype": "text/x-python",
   "name": "python",
   "nbconvert_exporter": "python",
   "pygments_lexer": "ipython3",
   "version": "3.9.18"
  }
 },
 "nbformat": 4,
 "nbformat_minor": 2
}
