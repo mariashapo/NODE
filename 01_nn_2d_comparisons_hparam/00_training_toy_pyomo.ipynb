{
 "cells": [
  {
   "cell_type": "code",
   "execution_count": 16,
   "metadata": {},
   "outputs": [],
   "source": [
    "import numpy as np\n",
    "\n",
    "import jax\n",
    "import jax.numpy as jnp\n",
    "\n",
    "# -------------- helper libraries -------------- #\n",
    "import sys\n",
    "import os\n",
    "import time\n",
    "import pickle\n",
    "import matplotlib.pyplot as plt\n",
    "import pandas as pd\n",
    "import importlib\n",
    "\n",
    "path_ = os.path.abspath(os.path.join('..', '00_utils'))\n",
    "\n",
    "if path_ not in sys.path:\n",
    "    sys.path.append(path_)\n",
    "    \n",
    "path_ = os.path.abspath(os.path.join('..', '00_models'))\n",
    "\n",
    "if path_ not in sys.path:\n",
    "    sys.path.append(path_)\n",
    "\n",
    "from data_generation import generate_ode_data\n",
    "from non_parametric_collocation import collocate_data\n",
    "import collocation_obj"
   ]
  },
  {
   "cell_type": "code",
   "execution_count": 11,
   "metadata": {},
   "outputs": [],
   "source": [
    "importlib.reload(collocation_obj)\n",
    "Collocation = collocation_obj.Collocation"
   ]
  },
  {
   "cell_type": "markdown",
   "metadata": {},
   "source": [
    "### Set Out Hyperparameter Optimization (Shared Parameters)\n",
    "* network size\n",
    "* regularization\n",
    "* number of training points\n",
    "\n",
    "### Pyomo-specific Hyperparameters\n",
    "* number of collocation points with fixed n. of training points\n",
    "* objective tolerances\n",
    "\n",
    "### Sequential ODE Solver Hyperparameters\n",
    "* learning rate\n",
    "* number of training epochs\n",
    "* ODE-solver tolerances\n"
   ]
  },
  {
   "cell_type": "markdown",
   "metadata": {},
   "source": [
    "### `Generate Training Data`"
   ]
  },
  {
   "cell_type": "code",
   "execution_count": 105,
   "metadata": {},
   "outputs": [
    {
     "name": "stderr",
     "output_type": "stream",
     "text": [
      "/Users/mariiashapo/Library/CloudStorage/OneDrive-Personal/project_2324/NODE/00_utils/non_parametric_collocation.py:95: UserWarning: Data transposed to match expected dimensions.\n",
      "  warnings.warn(\"Data transposed to match expected dimensions.\")\n"
     ]
    }
   ],
   "source": [
    "import run_train_toy\n",
    "importlib.reload(run_train_toy)\n",
    "PyomoTrainerToy = run_train_toy.PyomoTrainerToy\n",
    "\n",
    "data_params = {\n",
    "    'N': 200,\n",
    "    'noise_level': 0.2,\n",
    "    'ode_type': \"harmonic_oscillator\",\n",
    "    'data_param': {\"omega_squared\": 2},\n",
    "    'start_time': 0,\n",
    "    'end_time': 10,\n",
    "    'spacing_type': \"chebyshev\",\n",
    "    'initial_state': np.array([0.0, 1.0])\n",
    "}\n",
    "\n",
    "trainer = PyomoTrainerToy(data_params, model_type=\"pyomo\")\n",
    "trainer.pretrain()"
   ]
  },
  {
   "cell_type": "markdown",
   "metadata": {},
   "source": [
    "### Netwrok Sizes to be tested:\n",
    "[2, 16, 2] <br>\n",
    "[2, 32, 2] <br>\n",
    "[2, 64, 2] <br>\n",
    "[2, 16, 16, 2] <br>\n",
    "[2, 32, 32, 2] <br>\n",
    "[2, 64, 64, 2] <br>\n",
    "\n",
    "Parameters to vary:\n",
    "* Tolerance (pyomo) and epochs (sequential ODE solver)\n",
    "* Regularizarion"
   ]
  },
  {
   "cell_type": "code",
   "execution_count": 135,
   "metadata": {},
   "outputs": [
    {
     "name": "stdout",
     "output_type": "stream",
     "text": [
      "(0.01, 1e-05)\n",
      "Regularization: 0.01 Tolerance: 1e-05\n",
      "(0.01, 1e-06)\n",
      "Regularization: 0.01 Tolerance: 1e-06\n",
      "(0.01, 1e-07)\n",
      "Regularization: 0.01 Tolerance: 1e-07\n",
      "(0.01, 1e-08)\n",
      "Regularization: 0.01 Tolerance: 1e-08\n",
      "(0.1, 1e-05)\n",
      "Regularization: 0.1 Tolerance: 1e-05\n",
      "(0.1, 1e-06)\n",
      "Regularization: 0.1 Tolerance: 1e-06\n",
      "(0.1, 1e-07)\n",
      "Regularization: 0.1 Tolerance: 1e-07\n",
      "(0.1, 1e-08)\n",
      "Regularization: 0.1 Tolerance: 1e-08\n",
      "(1, 1e-05)\n",
      "Regularization: 1 Tolerance: 1e-05\n",
      "(1, 1e-06)\n",
      "Regularization: 1 Tolerance: 1e-06\n",
      "(1, 1e-07)\n",
      "Regularization: 1 Tolerance: 1e-07\n",
      "(1, 1e-08)\n",
      "Regularization: 1 Tolerance: 1e-08\n"
     ]
    }
   ],
   "source": [
    "import itertools\n",
    "\n",
    "reg_list = [1e-2, 1e-1, 1]\n",
    "tol_list = [1e-5, 1e-6, 1e-7, 1e-8]\n",
    "\n",
    "param_combinations = list(itertools.product(reg_list, tol_list))\n",
    "\n",
    "for c in param_combinations:\n",
    "    print(str(c))\n",
    "    print(\"Regularization:\", c[0], \"Tolerance:\", c[1])"
   ]
  },
  {
   "cell_type": "code",
   "execution_count": 223,
   "metadata": {},
   "outputs": [],
   "source": [
    "import logging\n",
    "logging.basicConfig(level=logging.ERROR, filename='error_log.txt')"
   ]
  },
  {
   "cell_type": "code",
   "execution_count": 224,
   "metadata": {},
   "outputs": [
    {
     "name": "stderr",
     "output_type": "stream",
     "text": [
      "/Users/mariiashapo/Library/CloudStorage/OneDrive-Personal/project_2324/NODE/00_models/nn_pyomo_base.py:82: UserWarning: y_init should be structured such that each row represents a new time point.\n",
      "  warnings.warn(\"y_init should be structured such that each row represents a new time point.\")\n"
     ]
    },
    {
     "name": "stdout",
     "output_type": "stream",
     "text": [
      "Ipopt 3.14.16: tol=1e-05\n",
      "acceptable_tol=1e-15\n",
      "acceptable_constr_viol_tol=1e-15\n",
      "acceptable_dual_inf_tol=1e-15\n",
      "acceptable_compl_inf_tol=1e-15\n",
      "acceptable_iter=0\n",
      "halt_on_ampl_error=yes\n",
      "print_level=1\n",
      "max_iter=3000\n",
      "\n",
      "\n",
      "******************************************************************************\n",
      "This program contains Ipopt, a library for large-scale nonlinear optimization.\n",
      " Ipopt is released as open source code under the Eclipse Public License (EPL).\n",
      "         For more information visit https://github.com/coin-or/Ipopt\n",
      "******************************************************************************\n",
      "\n",
      "{'solver_time': 1.1164782047271729, 'termination_condition': <TerminationCondition.optimal: 'optimal'>, 'message': 'Ipopt 3.14.16\\\\x3a Optimal Solution Found'}\n",
      "Iteration: 1 / 96\n"
     ]
    },
    {
     "name": "stderr",
     "output_type": "stream",
     "text": [
      "/Users/mariiashapo/Library/CloudStorage/OneDrive-Personal/project_2324/NODE/00_models/nn_pyomo_base.py:82: UserWarning: y_init should be structured such that each row represents a new time point.\n",
      "  warnings.warn(\"y_init should be structured such that each row represents a new time point.\")\n"
     ]
    },
    {
     "name": "stdout",
     "output_type": "stream",
     "text": [
      "Ipopt 3.14.16: tol=1e-06\n",
      "acceptable_tol=1e-15\n",
      "acceptable_constr_viol_tol=1e-15\n",
      "acceptable_dual_inf_tol=1e-15\n",
      "acceptable_compl_inf_tol=1e-15\n",
      "acceptable_iter=0\n",
      "halt_on_ampl_error=yes\n",
      "print_level=1\n",
      "max_iter=3000\n",
      "\n",
      "\n",
      "******************************************************************************\n",
      "This program contains Ipopt, a library for large-scale nonlinear optimization.\n",
      " Ipopt is released as open source code under the Eclipse Public License (EPL).\n",
      "         For more information visit https://github.com/coin-or/Ipopt\n",
      "******************************************************************************\n",
      "\n",
      "{'solver_time': 1.0297002792358398, 'termination_condition': <TerminationCondition.optimal: 'optimal'>, 'message': 'Ipopt 3.14.16\\\\x3a Optimal Solution Found'}\n",
      "Iteration: 2 / 96\n"
     ]
    },
    {
     "name": "stderr",
     "output_type": "stream",
     "text": [
      "/Users/mariiashapo/Library/CloudStorage/OneDrive-Personal/project_2324/NODE/00_models/nn_pyomo_base.py:82: UserWarning: y_init should be structured such that each row represents a new time point.\n",
      "  warnings.warn(\"y_init should be structured such that each row represents a new time point.\")\n"
     ]
    },
    {
     "name": "stdout",
     "output_type": "stream",
     "text": [
      "Ipopt 3.14.16: tol=1e-07\n",
      "acceptable_tol=1e-15\n",
      "acceptable_constr_viol_tol=1e-15\n",
      "acceptable_dual_inf_tol=1e-15\n",
      "acceptable_compl_inf_tol=1e-15\n",
      "acceptable_iter=0\n",
      "halt_on_ampl_error=yes\n",
      "print_level=1\n",
      "max_iter=3000\n",
      "\n",
      "\n",
      "******************************************************************************\n",
      "This program contains Ipopt, a library for large-scale nonlinear optimization.\n",
      " Ipopt is released as open source code under the Eclipse Public License (EPL).\n",
      "         For more information visit https://github.com/coin-or/Ipopt\n",
      "******************************************************************************\n",
      "\n",
      "{'solver_time': 0.95961594581604, 'termination_condition': <TerminationCondition.optimal: 'optimal'>, 'message': 'Ipopt 3.14.16\\\\x3a Optimal Solution Found'}\n",
      "Iteration: 3 / 96\n"
     ]
    },
    {
     "name": "stderr",
     "output_type": "stream",
     "text": [
      "/Users/mariiashapo/Library/CloudStorage/OneDrive-Personal/project_2324/NODE/00_models/nn_pyomo_base.py:82: UserWarning: y_init should be structured such that each row represents a new time point.\n",
      "  warnings.warn(\"y_init should be structured such that each row represents a new time point.\")\n"
     ]
    },
    {
     "name": "stdout",
     "output_type": "stream",
     "text": [
      "Ipopt 3.14.16: tol=1e-08\n",
      "acceptable_tol=1e-15\n",
      "acceptable_constr_viol_tol=1e-15\n",
      "acceptable_dual_inf_tol=1e-15\n",
      "acceptable_compl_inf_tol=1e-15\n",
      "acceptable_iter=0\n",
      "halt_on_ampl_error=yes\n",
      "print_level=1\n",
      "max_iter=3000\n",
      "\n",
      "\n",
      "******************************************************************************\n",
      "This program contains Ipopt, a library for large-scale nonlinear optimization.\n",
      " Ipopt is released as open source code under the Eclipse Public License (EPL).\n",
      "         For more information visit https://github.com/coin-or/Ipopt\n",
      "******************************************************************************\n",
      "\n",
      "{'solver_time': 1.1058120727539062, 'termination_condition': <TerminationCondition.optimal: 'optimal'>, 'message': 'Ipopt 3.14.16\\\\x3a Optimal Solution Found'}\n",
      "Iteration: 4 / 96\n"
     ]
    },
    {
     "name": "stderr",
     "output_type": "stream",
     "text": [
      "/Users/mariiashapo/Library/CloudStorage/OneDrive-Personal/project_2324/NODE/00_models/nn_pyomo_base.py:82: UserWarning: y_init should be structured such that each row represents a new time point.\n",
      "  warnings.warn(\"y_init should be structured such that each row represents a new time point.\")\n"
     ]
    },
    {
     "name": "stdout",
     "output_type": "stream",
     "text": [
      "Ipopt 3.14.16: tol=1e-05\n",
      "acceptable_tol=1e-15\n",
      "acceptable_constr_viol_tol=1e-15\n",
      "acceptable_dual_inf_tol=1e-15\n",
      "acceptable_compl_inf_tol=1e-15\n",
      "acceptable_iter=0\n",
      "halt_on_ampl_error=yes\n",
      "print_level=1\n",
      "max_iter=3000\n",
      "\n",
      "\n",
      "******************************************************************************\n",
      "This program contains Ipopt, a library for large-scale nonlinear optimization.\n",
      " Ipopt is released as open source code under the Eclipse Public License (EPL).\n",
      "         For more information visit https://github.com/coin-or/Ipopt\n",
      "******************************************************************************\n",
      "\n",
      "{'solver_time': 1.2296359539031982, 'termination_condition': <TerminationCondition.optimal: 'optimal'>, 'message': 'Ipopt 3.14.16\\\\x3a Optimal Solution Found'}\n",
      "Iteration: 5 / 96\n"
     ]
    },
    {
     "name": "stderr",
     "output_type": "stream",
     "text": [
      "/Users/mariiashapo/Library/CloudStorage/OneDrive-Personal/project_2324/NODE/00_models/nn_pyomo_base.py:82: UserWarning: y_init should be structured such that each row represents a new time point.\n",
      "  warnings.warn(\"y_init should be structured such that each row represents a new time point.\")\n"
     ]
    },
    {
     "name": "stdout",
     "output_type": "stream",
     "text": [
      "Ipopt 3.14.16: tol=1e-06\n",
      "acceptable_tol=1e-15\n",
      "acceptable_constr_viol_tol=1e-15\n",
      "acceptable_dual_inf_tol=1e-15\n",
      "acceptable_compl_inf_tol=1e-15\n",
      "acceptable_iter=0\n",
      "halt_on_ampl_error=yes\n",
      "print_level=1\n",
      "max_iter=3000\n",
      "\n",
      "\n",
      "******************************************************************************\n",
      "This program contains Ipopt, a library for large-scale nonlinear optimization.\n",
      " Ipopt is released as open source code under the Eclipse Public License (EPL).\n",
      "         For more information visit https://github.com/coin-or/Ipopt\n",
      "******************************************************************************\n",
      "\n",
      "{'solver_time': 1.551253080368042, 'termination_condition': <TerminationCondition.optimal: 'optimal'>, 'message': 'Ipopt 3.14.16\\\\x3a Optimal Solution Found'}\n",
      "Iteration: 6 / 96\n"
     ]
    },
    {
     "name": "stderr",
     "output_type": "stream",
     "text": [
      "/Users/mariiashapo/Library/CloudStorage/OneDrive-Personal/project_2324/NODE/00_models/nn_pyomo_base.py:82: UserWarning: y_init should be structured such that each row represents a new time point.\n",
      "  warnings.warn(\"y_init should be structured such that each row represents a new time point.\")\n"
     ]
    },
    {
     "name": "stdout",
     "output_type": "stream",
     "text": [
      "Ipopt 3.14.16: tol=1e-07\n",
      "acceptable_tol=1e-15\n",
      "acceptable_constr_viol_tol=1e-15\n",
      "acceptable_dual_inf_tol=1e-15\n",
      "acceptable_compl_inf_tol=1e-15\n",
      "acceptable_iter=0\n",
      "halt_on_ampl_error=yes\n",
      "print_level=1\n",
      "max_iter=3000\n",
      "\n",
      "\n",
      "******************************************************************************\n",
      "This program contains Ipopt, a library for large-scale nonlinear optimization.\n",
      " Ipopt is released as open source code under the Eclipse Public License (EPL).\n",
      "         For more information visit https://github.com/coin-or/Ipopt\n",
      "******************************************************************************\n",
      "\n",
      "{'solver_time': 1.3479790687561035, 'termination_condition': <TerminationCondition.optimal: 'optimal'>, 'message': 'Ipopt 3.14.16\\\\x3a Optimal Solution Found'}\n",
      "Iteration: 7 / 96\n"
     ]
    },
    {
     "name": "stderr",
     "output_type": "stream",
     "text": [
      "/Users/mariiashapo/Library/CloudStorage/OneDrive-Personal/project_2324/NODE/00_models/nn_pyomo_base.py:82: UserWarning: y_init should be structured such that each row represents a new time point.\n",
      "  warnings.warn(\"y_init should be structured such that each row represents a new time point.\")\n"
     ]
    },
    {
     "name": "stdout",
     "output_type": "stream",
     "text": [
      "Ipopt 3.14.16: tol=1e-08\n",
      "acceptable_tol=1e-15\n",
      "acceptable_constr_viol_tol=1e-15\n",
      "acceptable_dual_inf_tol=1e-15\n",
      "acceptable_compl_inf_tol=1e-15\n",
      "acceptable_iter=0\n",
      "halt_on_ampl_error=yes\n",
      "print_level=1\n",
      "max_iter=3000\n",
      "\n",
      "\n",
      "******************************************************************************\n",
      "This program contains Ipopt, a library for large-scale nonlinear optimization.\n",
      " Ipopt is released as open source code under the Eclipse Public License (EPL).\n",
      "         For more information visit https://github.com/coin-or/Ipopt\n",
      "******************************************************************************\n",
      "\n",
      "{'solver_time': 1.200070858001709, 'termination_condition': <TerminationCondition.optimal: 'optimal'>, 'message': 'Ipopt 3.14.16\\\\x3a Optimal Solution Found'}\n",
      "Iteration: 8 / 96\n"
     ]
    },
    {
     "name": "stderr",
     "output_type": "stream",
     "text": [
      "/Users/mariiashapo/Library/CloudStorage/OneDrive-Personal/project_2324/NODE/00_models/nn_pyomo_base.py:82: UserWarning: y_init should be structured such that each row represents a new time point.\n",
      "  warnings.warn(\"y_init should be structured such that each row represents a new time point.\")\n"
     ]
    },
    {
     "name": "stdout",
     "output_type": "stream",
     "text": [
      "Ipopt 3.14.16: tol=1e-05\n",
      "acceptable_tol=1e-15\n",
      "acceptable_constr_viol_tol=1e-15\n",
      "acceptable_dual_inf_tol=1e-15\n",
      "acceptable_compl_inf_tol=1e-15\n",
      "acceptable_iter=0\n",
      "halt_on_ampl_error=yes\n",
      "print_level=1\n",
      "max_iter=3000\n",
      "\n",
      "\n",
      "******************************************************************************\n",
      "This program contains Ipopt, a library for large-scale nonlinear optimization.\n",
      " Ipopt is released as open source code under the Eclipse Public License (EPL).\n",
      "         For more information visit https://github.com/coin-or/Ipopt\n",
      "******************************************************************************\n",
      "\n",
      "{'solver_time': 1.216944932937622, 'termination_condition': <TerminationCondition.optimal: 'optimal'>, 'message': 'Ipopt 3.14.16\\\\x3a Optimal Solution Found'}\n",
      "Iteration: 9 / 96\n"
     ]
    },
    {
     "name": "stderr",
     "output_type": "stream",
     "text": [
      "/Users/mariiashapo/Library/CloudStorage/OneDrive-Personal/project_2324/NODE/00_models/nn_pyomo_base.py:82: UserWarning: y_init should be structured such that each row represents a new time point.\n",
      "  warnings.warn(\"y_init should be structured such that each row represents a new time point.\")\n"
     ]
    },
    {
     "name": "stdout",
     "output_type": "stream",
     "text": [
      "Ipopt 3.14.16: tol=1e-06\n",
      "acceptable_tol=1e-15\n",
      "acceptable_constr_viol_tol=1e-15\n",
      "acceptable_dual_inf_tol=1e-15\n",
      "acceptable_compl_inf_tol=1e-15\n",
      "acceptable_iter=0\n",
      "halt_on_ampl_error=yes\n",
      "print_level=1\n",
      "max_iter=3000\n",
      "\n",
      "\n",
      "******************************************************************************\n",
      "This program contains Ipopt, a library for large-scale nonlinear optimization.\n",
      " Ipopt is released as open source code under the Eclipse Public License (EPL).\n",
      "         For more information visit https://github.com/coin-or/Ipopt\n",
      "******************************************************************************\n",
      "\n",
      "{'solver_time': 1.0490832328796387, 'termination_condition': <TerminationCondition.optimal: 'optimal'>, 'message': 'Ipopt 3.14.16\\\\x3a Optimal Solution Found'}\n",
      "Iteration: 10 / 96\n"
     ]
    },
    {
     "name": "stderr",
     "output_type": "stream",
     "text": [
      "/Users/mariiashapo/Library/CloudStorage/OneDrive-Personal/project_2324/NODE/00_models/nn_pyomo_base.py:82: UserWarning: y_init should be structured such that each row represents a new time point.\n",
      "  warnings.warn(\"y_init should be structured such that each row represents a new time point.\")\n"
     ]
    },
    {
     "name": "stdout",
     "output_type": "stream",
     "text": [
      "Ipopt 3.14.16: tol=1e-07\n",
      "acceptable_tol=1e-15\n",
      "acceptable_constr_viol_tol=1e-15\n",
      "acceptable_dual_inf_tol=1e-15\n",
      "acceptable_compl_inf_tol=1e-15\n",
      "acceptable_iter=0\n",
      "halt_on_ampl_error=yes\n",
      "print_level=1\n",
      "max_iter=3000\n",
      "\n",
      "\n",
      "******************************************************************************\n",
      "This program contains Ipopt, a library for large-scale nonlinear optimization.\n",
      " Ipopt is released as open source code under the Eclipse Public License (EPL).\n",
      "         For more information visit https://github.com/coin-or/Ipopt\n",
      "******************************************************************************\n",
      "\n",
      "{'solver_time': 1.2136204242706299, 'termination_condition': <TerminationCondition.optimal: 'optimal'>, 'message': 'Ipopt 3.14.16\\\\x3a Optimal Solution Found'}\n",
      "Iteration: 11 / 96\n"
     ]
    },
    {
     "name": "stderr",
     "output_type": "stream",
     "text": [
      "/Users/mariiashapo/Library/CloudStorage/OneDrive-Personal/project_2324/NODE/00_models/nn_pyomo_base.py:82: UserWarning: y_init should be structured such that each row represents a new time point.\n",
      "  warnings.warn(\"y_init should be structured such that each row represents a new time point.\")\n"
     ]
    },
    {
     "name": "stdout",
     "output_type": "stream",
     "text": [
      "Ipopt 3.14.16: tol=1e-08\n",
      "acceptable_tol=1e-15\n",
      "acceptable_constr_viol_tol=1e-15\n",
      "acceptable_dual_inf_tol=1e-15\n",
      "acceptable_compl_inf_tol=1e-15\n",
      "acceptable_iter=0\n",
      "halt_on_ampl_error=yes\n",
      "print_level=1\n",
      "max_iter=3000\n",
      "\n",
      "\n",
      "******************************************************************************\n",
      "This program contains Ipopt, a library for large-scale nonlinear optimization.\n",
      " Ipopt is released as open source code under the Eclipse Public License (EPL).\n",
      "         For more information visit https://github.com/coin-or/Ipopt\n",
      "******************************************************************************\n",
      "\n",
      "{'solver_time': 1.2444911003112793, 'termination_condition': <TerminationCondition.optimal: 'optimal'>, 'message': 'Ipopt 3.14.16\\\\x3a Optimal Solution Found'}\n",
      "Iteration: 12 / 96\n"
     ]
    },
    {
     "name": "stderr",
     "output_type": "stream",
     "text": [
      "/Users/mariiashapo/Library/CloudStorage/OneDrive-Personal/project_2324/NODE/00_models/nn_pyomo_base.py:82: UserWarning: y_init should be structured such that each row represents a new time point.\n",
      "  warnings.warn(\"y_init should be structured such that each row represents a new time point.\")\n"
     ]
    },
    {
     "name": "stdout",
     "output_type": "stream",
     "text": [
      "Ipopt 3.14.16: tol=1e-05\n",
      "acceptable_tol=1e-15\n",
      "acceptable_constr_viol_tol=1e-15\n",
      "acceptable_dual_inf_tol=1e-15\n",
      "acceptable_compl_inf_tol=1e-15\n",
      "acceptable_iter=0\n",
      "halt_on_ampl_error=yes\n",
      "print_level=1\n",
      "max_iter=3000\n",
      "\n",
      "\n",
      "******************************************************************************\n",
      "This program contains Ipopt, a library for large-scale nonlinear optimization.\n",
      " Ipopt is released as open source code under the Eclipse Public License (EPL).\n",
      "         For more information visit https://github.com/coin-or/Ipopt\n",
      "******************************************************************************\n",
      "\n",
      "{'solver_time': 1.6494567394256592, 'termination_condition': <TerminationCondition.optimal: 'optimal'>, 'message': 'Ipopt 3.14.16\\\\x3a Optimal Solution Found'}\n",
      "Iteration: 13 / 96\n"
     ]
    },
    {
     "name": "stderr",
     "output_type": "stream",
     "text": [
      "/Users/mariiashapo/Library/CloudStorage/OneDrive-Personal/project_2324/NODE/00_models/nn_pyomo_base.py:82: UserWarning: y_init should be structured such that each row represents a new time point.\n",
      "  warnings.warn(\"y_init should be structured such that each row represents a new time point.\")\n"
     ]
    },
    {
     "name": "stdout",
     "output_type": "stream",
     "text": [
      "Ipopt 3.14.16: tol=1e-06\n",
      "acceptable_tol=1e-15\n",
      "acceptable_constr_viol_tol=1e-15\n",
      "acceptable_dual_inf_tol=1e-15\n",
      "acceptable_compl_inf_tol=1e-15\n",
      "acceptable_iter=0\n",
      "halt_on_ampl_error=yes\n",
      "print_level=1\n",
      "max_iter=3000\n",
      "\n",
      "\n",
      "******************************************************************************\n",
      "This program contains Ipopt, a library for large-scale nonlinear optimization.\n",
      " Ipopt is released as open source code under the Eclipse Public License (EPL).\n",
      "         For more information visit https://github.com/coin-or/Ipopt\n",
      "******************************************************************************\n",
      "\n",
      "{'solver_time': 1.3762328624725342, 'termination_condition': <TerminationCondition.optimal: 'optimal'>, 'message': 'Ipopt 3.14.16\\\\x3a Optimal Solution Found'}\n",
      "Iteration: 14 / 96\n"
     ]
    },
    {
     "name": "stderr",
     "output_type": "stream",
     "text": [
      "/Users/mariiashapo/Library/CloudStorage/OneDrive-Personal/project_2324/NODE/00_models/nn_pyomo_base.py:82: UserWarning: y_init should be structured such that each row represents a new time point.\n",
      "  warnings.warn(\"y_init should be structured such that each row represents a new time point.\")\n"
     ]
    },
    {
     "name": "stdout",
     "output_type": "stream",
     "text": [
      "Ipopt 3.14.16: tol=1e-07\n",
      "acceptable_tol=1e-15\n",
      "acceptable_constr_viol_tol=1e-15\n",
      "acceptable_dual_inf_tol=1e-15\n",
      "acceptable_compl_inf_tol=1e-15\n",
      "acceptable_iter=0\n",
      "halt_on_ampl_error=yes\n",
      "print_level=1\n",
      "max_iter=3000\n",
      "\n",
      "\n",
      "******************************************************************************\n",
      "This program contains Ipopt, a library for large-scale nonlinear optimization.\n",
      " Ipopt is released as open source code under the Eclipse Public License (EPL).\n",
      "         For more information visit https://github.com/coin-or/Ipopt\n",
      "******************************************************************************\n",
      "\n",
      "{'solver_time': 1.4347000122070312, 'termination_condition': <TerminationCondition.optimal: 'optimal'>, 'message': 'Ipopt 3.14.16\\\\x3a Optimal Solution Found'}\n",
      "Iteration: 15 / 96\n"
     ]
    },
    {
     "name": "stderr",
     "output_type": "stream",
     "text": [
      "/Users/mariiashapo/Library/CloudStorage/OneDrive-Personal/project_2324/NODE/00_models/nn_pyomo_base.py:82: UserWarning: y_init should be structured such that each row represents a new time point.\n",
      "  warnings.warn(\"y_init should be structured such that each row represents a new time point.\")\n"
     ]
    },
    {
     "name": "stdout",
     "output_type": "stream",
     "text": [
      "Ipopt 3.14.16: tol=1e-08\n",
      "acceptable_tol=1e-15\n",
      "acceptable_constr_viol_tol=1e-15\n",
      "acceptable_dual_inf_tol=1e-15\n",
      "acceptable_compl_inf_tol=1e-15\n",
      "acceptable_iter=0\n",
      "halt_on_ampl_error=yes\n",
      "print_level=1\n",
      "max_iter=3000\n",
      "\n",
      "\n",
      "******************************************************************************\n",
      "This program contains Ipopt, a library for large-scale nonlinear optimization.\n",
      " Ipopt is released as open source code under the Eclipse Public License (EPL).\n",
      "         For more information visit https://github.com/coin-or/Ipopt\n",
      "******************************************************************************\n",
      "\n",
      "{'solver_time': 1.3719580173492432, 'termination_condition': <TerminationCondition.optimal: 'optimal'>, 'message': 'Ipopt 3.14.16\\\\x3a Optimal Solution Found'}\n",
      "Iteration: 16 / 96\n"
     ]
    },
    {
     "name": "stderr",
     "output_type": "stream",
     "text": [
      "/Users/mariiashapo/Library/CloudStorage/OneDrive-Personal/project_2324/NODE/00_models/nn_pyomo_base.py:82: UserWarning: y_init should be structured such that each row represents a new time point.\n",
      "  warnings.warn(\"y_init should be structured such that each row represents a new time point.\")\n"
     ]
    },
    {
     "name": "stdout",
     "output_type": "stream",
     "text": [
      "Ipopt 3.14.16: tol=1e-05\n",
      "acceptable_tol=1e-15\n",
      "acceptable_constr_viol_tol=1e-15\n",
      "acceptable_dual_inf_tol=1e-15\n",
      "acceptable_compl_inf_tol=1e-15\n",
      "acceptable_iter=0\n",
      "halt_on_ampl_error=yes\n",
      "print_level=1\n",
      "max_iter=3000\n",
      "\n",
      "\n",
      "******************************************************************************\n",
      "This program contains Ipopt, a library for large-scale nonlinear optimization.\n",
      " Ipopt is released as open source code under the Eclipse Public License (EPL).\n",
      "         For more information visit https://github.com/coin-or/Ipopt\n",
      "******************************************************************************\n",
      "\n",
      "{'solver_time': 1.5581772327423096, 'termination_condition': <TerminationCondition.optimal: 'optimal'>, 'message': 'Ipopt 3.14.16\\\\x3a Optimal Solution Found'}\n",
      "Iteration: 17 / 96\n"
     ]
    },
    {
     "name": "stderr",
     "output_type": "stream",
     "text": [
      "/Users/mariiashapo/Library/CloudStorage/OneDrive-Personal/project_2324/NODE/00_models/nn_pyomo_base.py:82: UserWarning: y_init should be structured such that each row represents a new time point.\n",
      "  warnings.warn(\"y_init should be structured such that each row represents a new time point.\")\n"
     ]
    },
    {
     "name": "stdout",
     "output_type": "stream",
     "text": [
      "Ipopt 3.14.16: tol=1e-06\n",
      "acceptable_tol=1e-15\n",
      "acceptable_constr_viol_tol=1e-15\n",
      "acceptable_dual_inf_tol=1e-15\n",
      "acceptable_compl_inf_tol=1e-15\n",
      "acceptable_iter=0\n",
      "halt_on_ampl_error=yes\n",
      "print_level=1\n",
      "max_iter=3000\n",
      "\n",
      "\n",
      "******************************************************************************\n",
      "This program contains Ipopt, a library for large-scale nonlinear optimization.\n",
      " Ipopt is released as open source code under the Eclipse Public License (EPL).\n",
      "         For more information visit https://github.com/coin-or/Ipopt\n",
      "******************************************************************************\n",
      "\n",
      "{'solver_time': 1.1906850337982178, 'termination_condition': <TerminationCondition.optimal: 'optimal'>, 'message': 'Ipopt 3.14.16\\\\x3a Optimal Solution Found'}\n",
      "Iteration: 18 / 96\n"
     ]
    },
    {
     "name": "stderr",
     "output_type": "stream",
     "text": [
      "/Users/mariiashapo/Library/CloudStorage/OneDrive-Personal/project_2324/NODE/00_models/nn_pyomo_base.py:82: UserWarning: y_init should be structured such that each row represents a new time point.\n",
      "  warnings.warn(\"y_init should be structured such that each row represents a new time point.\")\n"
     ]
    },
    {
     "name": "stdout",
     "output_type": "stream",
     "text": [
      "Ipopt 3.14.16: tol=1e-07\n",
      "acceptable_tol=1e-15\n",
      "acceptable_constr_viol_tol=1e-15\n",
      "acceptable_dual_inf_tol=1e-15\n",
      "acceptable_compl_inf_tol=1e-15\n",
      "acceptable_iter=0\n",
      "halt_on_ampl_error=yes\n",
      "print_level=1\n",
      "max_iter=3000\n",
      "\n",
      "\n",
      "******************************************************************************\n",
      "This program contains Ipopt, a library for large-scale nonlinear optimization.\n",
      " Ipopt is released as open source code under the Eclipse Public License (EPL).\n",
      "         For more information visit https://github.com/coin-or/Ipopt\n",
      "******************************************************************************\n",
      "\n",
      "{'solver_time': 1.2500429153442383, 'termination_condition': <TerminationCondition.optimal: 'optimal'>, 'message': 'Ipopt 3.14.16\\\\x3a Optimal Solution Found'}\n",
      "Iteration: 19 / 96\n"
     ]
    },
    {
     "name": "stderr",
     "output_type": "stream",
     "text": [
      "/Users/mariiashapo/Library/CloudStorage/OneDrive-Personal/project_2324/NODE/00_models/nn_pyomo_base.py:82: UserWarning: y_init should be structured such that each row represents a new time point.\n",
      "  warnings.warn(\"y_init should be structured such that each row represents a new time point.\")\n"
     ]
    },
    {
     "name": "stdout",
     "output_type": "stream",
     "text": [
      "Ipopt 3.14.16: tol=1e-08\n",
      "acceptable_tol=1e-15\n",
      "acceptable_constr_viol_tol=1e-15\n",
      "acceptable_dual_inf_tol=1e-15\n",
      "acceptable_compl_inf_tol=1e-15\n",
      "acceptable_iter=0\n",
      "halt_on_ampl_error=yes\n",
      "print_level=1\n",
      "max_iter=3000\n",
      "\n",
      "\n",
      "******************************************************************************\n",
      "This program contains Ipopt, a library for large-scale nonlinear optimization.\n",
      " Ipopt is released as open source code under the Eclipse Public License (EPL).\n",
      "         For more information visit https://github.com/coin-or/Ipopt\n",
      "******************************************************************************\n",
      "\n",
      "{'solver_time': 1.131343126296997, 'termination_condition': <TerminationCondition.optimal: 'optimal'>, 'message': 'Ipopt 3.14.16\\\\x3a Optimal Solution Found'}\n",
      "Iteration: 20 / 96\n"
     ]
    },
    {
     "name": "stderr",
     "output_type": "stream",
     "text": [
      "/Users/mariiashapo/Library/CloudStorage/OneDrive-Personal/project_2324/NODE/00_models/nn_pyomo_base.py:82: UserWarning: y_init should be structured such that each row represents a new time point.\n",
      "  warnings.warn(\"y_init should be structured such that each row represents a new time point.\")\n"
     ]
    },
    {
     "name": "stdout",
     "output_type": "stream",
     "text": [
      "Ipopt 3.14.16: tol=1e-05\n",
      "acceptable_tol=1e-15\n",
      "acceptable_constr_viol_tol=1e-15\n",
      "acceptable_dual_inf_tol=1e-15\n",
      "acceptable_compl_inf_tol=1e-15\n",
      "acceptable_iter=0\n",
      "halt_on_ampl_error=yes\n",
      "print_level=1\n",
      "max_iter=3000\n",
      "\n",
      "\n",
      "******************************************************************************\n",
      "This program contains Ipopt, a library for large-scale nonlinear optimization.\n",
      " Ipopt is released as open source code under the Eclipse Public License (EPL).\n",
      "         For more information visit https://github.com/coin-or/Ipopt\n",
      "******************************************************************************\n",
      "\n",
      "{'solver_time': 1.2001841068267822, 'termination_condition': <TerminationCondition.optimal: 'optimal'>, 'message': 'Ipopt 3.14.16\\\\x3a Optimal Solution Found'}\n",
      "Iteration: 21 / 96\n"
     ]
    },
    {
     "name": "stderr",
     "output_type": "stream",
     "text": [
      "/Users/mariiashapo/Library/CloudStorage/OneDrive-Personal/project_2324/NODE/00_models/nn_pyomo_base.py:82: UserWarning: y_init should be structured such that each row represents a new time point.\n",
      "  warnings.warn(\"y_init should be structured such that each row represents a new time point.\")\n"
     ]
    },
    {
     "name": "stdout",
     "output_type": "stream",
     "text": [
      "Ipopt 3.14.16: tol=1e-06\n",
      "acceptable_tol=1e-15\n",
      "acceptable_constr_viol_tol=1e-15\n",
      "acceptable_dual_inf_tol=1e-15\n",
      "acceptable_compl_inf_tol=1e-15\n",
      "acceptable_iter=0\n",
      "halt_on_ampl_error=yes\n",
      "print_level=1\n",
      "max_iter=3000\n",
      "\n",
      "\n",
      "******************************************************************************\n",
      "This program contains Ipopt, a library for large-scale nonlinear optimization.\n",
      " Ipopt is released as open source code under the Eclipse Public License (EPL).\n",
      "         For more information visit https://github.com/coin-or/Ipopt\n",
      "******************************************************************************\n",
      "\n",
      "{'solver_time': 1.2457759380340576, 'termination_condition': <TerminationCondition.optimal: 'optimal'>, 'message': 'Ipopt 3.14.16\\\\x3a Optimal Solution Found'}\n",
      "Iteration: 22 / 96\n"
     ]
    },
    {
     "name": "stderr",
     "output_type": "stream",
     "text": [
      "/Users/mariiashapo/Library/CloudStorage/OneDrive-Personal/project_2324/NODE/00_models/nn_pyomo_base.py:82: UserWarning: y_init should be structured such that each row represents a new time point.\n",
      "  warnings.warn(\"y_init should be structured such that each row represents a new time point.\")\n"
     ]
    },
    {
     "name": "stdout",
     "output_type": "stream",
     "text": [
      "Ipopt 3.14.16: tol=1e-07\n",
      "acceptable_tol=1e-15\n",
      "acceptable_constr_viol_tol=1e-15\n",
      "acceptable_dual_inf_tol=1e-15\n",
      "acceptable_compl_inf_tol=1e-15\n",
      "acceptable_iter=0\n",
      "halt_on_ampl_error=yes\n",
      "print_level=1\n",
      "max_iter=3000\n",
      "\n",
      "\n",
      "******************************************************************************\n",
      "This program contains Ipopt, a library for large-scale nonlinear optimization.\n",
      " Ipopt is released as open source code under the Eclipse Public License (EPL).\n",
      "         For more information visit https://github.com/coin-or/Ipopt\n",
      "******************************************************************************\n",
      "\n",
      "{'solver_time': 1.2612249851226807, 'termination_condition': <TerminationCondition.optimal: 'optimal'>, 'message': 'Ipopt 3.14.16\\\\x3a Optimal Solution Found'}\n",
      "Iteration: 23 / 96\n"
     ]
    },
    {
     "name": "stderr",
     "output_type": "stream",
     "text": [
      "/Users/mariiashapo/Library/CloudStorage/OneDrive-Personal/project_2324/NODE/00_models/nn_pyomo_base.py:82: UserWarning: y_init should be structured such that each row represents a new time point.\n",
      "  warnings.warn(\"y_init should be structured such that each row represents a new time point.\")\n"
     ]
    },
    {
     "name": "stdout",
     "output_type": "stream",
     "text": [
      "Ipopt 3.14.16: tol=1e-08\n",
      "acceptable_tol=1e-15\n",
      "acceptable_constr_viol_tol=1e-15\n",
      "acceptable_dual_inf_tol=1e-15\n",
      "acceptable_compl_inf_tol=1e-15\n",
      "acceptable_iter=0\n",
      "halt_on_ampl_error=yes\n",
      "print_level=1\n",
      "max_iter=3000\n",
      "\n",
      "\n",
      "******************************************************************************\n",
      "This program contains Ipopt, a library for large-scale nonlinear optimization.\n",
      " Ipopt is released as open source code under the Eclipse Public License (EPL).\n",
      "         For more information visit https://github.com/coin-or/Ipopt\n",
      "******************************************************************************\n",
      "\n",
      "{'solver_time': 1.2513830661773682, 'termination_condition': <TerminationCondition.optimal: 'optimal'>, 'message': 'Ipopt 3.14.16\\\\x3a Optimal Solution Found'}\n",
      "Iteration: 24 / 96\n"
     ]
    },
    {
     "name": "stderr",
     "output_type": "stream",
     "text": [
      "/Users/mariiashapo/Library/CloudStorage/OneDrive-Personal/project_2324/NODE/00_models/nn_pyomo_base.py:82: UserWarning: y_init should be structured such that each row represents a new time point.\n",
      "  warnings.warn(\"y_init should be structured such that each row represents a new time point.\")\n"
     ]
    },
    {
     "name": "stdout",
     "output_type": "stream",
     "text": [
      "Ipopt 3.14.16: tol=1e-05\n",
      "acceptable_tol=1e-15\n",
      "acceptable_constr_viol_tol=1e-15\n",
      "acceptable_dual_inf_tol=1e-15\n",
      "acceptable_compl_inf_tol=1e-15\n",
      "acceptable_iter=0\n",
      "halt_on_ampl_error=yes\n",
      "print_level=1\n",
      "max_iter=3000\n",
      "\n",
      "\n",
      "******************************************************************************\n",
      "This program contains Ipopt, a library for large-scale nonlinear optimization.\n",
      " Ipopt is released as open source code under the Eclipse Public License (EPL).\n",
      "         For more information visit https://github.com/coin-or/Ipopt\n",
      "******************************************************************************\n",
      "\n",
      "{'solver_time': 1.755439043045044, 'termination_condition': <TerminationCondition.optimal: 'optimal'>, 'message': 'Ipopt 3.14.16\\\\x3a Optimal Solution Found'}\n",
      "Iteration: 25 / 96\n"
     ]
    },
    {
     "name": "stderr",
     "output_type": "stream",
     "text": [
      "/Users/mariiashapo/Library/CloudStorage/OneDrive-Personal/project_2324/NODE/00_models/nn_pyomo_base.py:82: UserWarning: y_init should be structured such that each row represents a new time point.\n",
      "  warnings.warn(\"y_init should be structured such that each row represents a new time point.\")\n"
     ]
    },
    {
     "name": "stdout",
     "output_type": "stream",
     "text": [
      "Ipopt 3.14.16: tol=1e-06\n",
      "acceptable_tol=1e-15\n",
      "acceptable_constr_viol_tol=1e-15\n",
      "acceptable_dual_inf_tol=1e-15\n",
      "acceptable_compl_inf_tol=1e-15\n",
      "acceptable_iter=0\n",
      "halt_on_ampl_error=yes\n",
      "print_level=1\n",
      "max_iter=3000\n",
      "\n",
      "\n",
      "******************************************************************************\n",
      "This program contains Ipopt, a library for large-scale nonlinear optimization.\n",
      " Ipopt is released as open source code under the Eclipse Public License (EPL).\n",
      "         For more information visit https://github.com/coin-or/Ipopt\n",
      "******************************************************************************\n",
      "\n",
      "{'solver_time': 1.8323869705200195, 'termination_condition': <TerminationCondition.optimal: 'optimal'>, 'message': 'Ipopt 3.14.16\\\\x3a Optimal Solution Found'}\n",
      "Iteration: 26 / 96\n"
     ]
    },
    {
     "name": "stderr",
     "output_type": "stream",
     "text": [
      "/Users/mariiashapo/Library/CloudStorage/OneDrive-Personal/project_2324/NODE/00_models/nn_pyomo_base.py:82: UserWarning: y_init should be structured such that each row represents a new time point.\n",
      "  warnings.warn(\"y_init should be structured such that each row represents a new time point.\")\n"
     ]
    },
    {
     "name": "stdout",
     "output_type": "stream",
     "text": [
      "Ipopt 3.14.16: tol=1e-07\n",
      "acceptable_tol=1e-15\n",
      "acceptable_constr_viol_tol=1e-15\n",
      "acceptable_dual_inf_tol=1e-15\n",
      "acceptable_compl_inf_tol=1e-15\n",
      "acceptable_iter=0\n",
      "halt_on_ampl_error=yes\n",
      "print_level=1\n",
      "max_iter=3000\n",
      "\n",
      "\n",
      "******************************************************************************\n",
      "This program contains Ipopt, a library for large-scale nonlinear optimization.\n",
      " Ipopt is released as open source code under the Eclipse Public License (EPL).\n",
      "         For more information visit https://github.com/coin-or/Ipopt\n",
      "******************************************************************************\n",
      "\n",
      "{'solver_time': 1.737339973449707, 'termination_condition': <TerminationCondition.optimal: 'optimal'>, 'message': 'Ipopt 3.14.16\\\\x3a Optimal Solution Found'}\n",
      "Iteration: 27 / 96\n"
     ]
    },
    {
     "name": "stderr",
     "output_type": "stream",
     "text": [
      "/Users/mariiashapo/Library/CloudStorage/OneDrive-Personal/project_2324/NODE/00_models/nn_pyomo_base.py:82: UserWarning: y_init should be structured such that each row represents a new time point.\n",
      "  warnings.warn(\"y_init should be structured such that each row represents a new time point.\")\n"
     ]
    },
    {
     "name": "stdout",
     "output_type": "stream",
     "text": [
      "Ipopt 3.14.16: tol=1e-08\n",
      "acceptable_tol=1e-15\n",
      "acceptable_constr_viol_tol=1e-15\n",
      "acceptable_dual_inf_tol=1e-15\n",
      "acceptable_compl_inf_tol=1e-15\n",
      "acceptable_iter=0\n",
      "halt_on_ampl_error=yes\n",
      "print_level=1\n",
      "max_iter=3000\n",
      "\n",
      "\n",
      "******************************************************************************\n",
      "This program contains Ipopt, a library for large-scale nonlinear optimization.\n",
      " Ipopt is released as open source code under the Eclipse Public License (EPL).\n",
      "         For more information visit https://github.com/coin-or/Ipopt\n",
      "******************************************************************************\n",
      "\n",
      "{'solver_time': 1.708747148513794, 'termination_condition': <TerminationCondition.optimal: 'optimal'>, 'message': 'Ipopt 3.14.16\\\\x3a Optimal Solution Found'}\n",
      "Iteration: 28 / 96\n"
     ]
    },
    {
     "name": "stderr",
     "output_type": "stream",
     "text": [
      "/Users/mariiashapo/Library/CloudStorage/OneDrive-Personal/project_2324/NODE/00_models/nn_pyomo_base.py:82: UserWarning: y_init should be structured such that each row represents a new time point.\n",
      "  warnings.warn(\"y_init should be structured such that each row represents a new time point.\")\n"
     ]
    },
    {
     "name": "stdout",
     "output_type": "stream",
     "text": [
      "Ipopt 3.14.16: tol=1e-05\n",
      "acceptable_tol=1e-15\n",
      "acceptable_constr_viol_tol=1e-15\n",
      "acceptable_dual_inf_tol=1e-15\n",
      "acceptable_compl_inf_tol=1e-15\n",
      "acceptable_iter=0\n",
      "halt_on_ampl_error=yes\n",
      "print_level=1\n",
      "max_iter=3000\n",
      "\n",
      "\n",
      "******************************************************************************\n",
      "This program contains Ipopt, a library for large-scale nonlinear optimization.\n",
      " Ipopt is released as open source code under the Eclipse Public License (EPL).\n",
      "         For more information visit https://github.com/coin-or/Ipopt\n",
      "******************************************************************************\n",
      "\n",
      "{'solver_time': 2.1688108444213867, 'termination_condition': <TerminationCondition.optimal: 'optimal'>, 'message': 'Ipopt 3.14.16\\\\x3a Optimal Solution Found'}\n",
      "Iteration: 29 / 96\n"
     ]
    },
    {
     "name": "stderr",
     "output_type": "stream",
     "text": [
      "/Users/mariiashapo/Library/CloudStorage/OneDrive-Personal/project_2324/NODE/00_models/nn_pyomo_base.py:82: UserWarning: y_init should be structured such that each row represents a new time point.\n",
      "  warnings.warn(\"y_init should be structured such that each row represents a new time point.\")\n"
     ]
    },
    {
     "name": "stdout",
     "output_type": "stream",
     "text": [
      "Ipopt 3.14.16: tol=1e-06\n",
      "acceptable_tol=1e-15\n",
      "acceptable_constr_viol_tol=1e-15\n",
      "acceptable_dual_inf_tol=1e-15\n",
      "acceptable_compl_inf_tol=1e-15\n",
      "acceptable_iter=0\n",
      "halt_on_ampl_error=yes\n",
      "print_level=1\n",
      "max_iter=3000\n",
      "\n",
      "\n",
      "******************************************************************************\n",
      "This program contains Ipopt, a library for large-scale nonlinear optimization.\n",
      " Ipopt is released as open source code under the Eclipse Public License (EPL).\n",
      "         For more information visit https://github.com/coin-or/Ipopt\n",
      "******************************************************************************\n",
      "\n",
      "{'solver_time': 1.871001958847046, 'termination_condition': <TerminationCondition.optimal: 'optimal'>, 'message': 'Ipopt 3.14.16\\\\x3a Optimal Solution Found'}\n",
      "Iteration: 30 / 96\n"
     ]
    },
    {
     "name": "stderr",
     "output_type": "stream",
     "text": [
      "/Users/mariiashapo/Library/CloudStorage/OneDrive-Personal/project_2324/NODE/00_models/nn_pyomo_base.py:82: UserWarning: y_init should be structured such that each row represents a new time point.\n",
      "  warnings.warn(\"y_init should be structured such that each row represents a new time point.\")\n"
     ]
    },
    {
     "name": "stdout",
     "output_type": "stream",
     "text": [
      "Ipopt 3.14.16: tol=1e-07\n",
      "acceptable_tol=1e-15\n",
      "acceptable_constr_viol_tol=1e-15\n",
      "acceptable_dual_inf_tol=1e-15\n",
      "acceptable_compl_inf_tol=1e-15\n",
      "acceptable_iter=0\n",
      "halt_on_ampl_error=yes\n",
      "print_level=1\n",
      "max_iter=3000\n",
      "\n",
      "\n",
      "******************************************************************************\n",
      "This program contains Ipopt, a library for large-scale nonlinear optimization.\n",
      " Ipopt is released as open source code under the Eclipse Public License (EPL).\n",
      "         For more information visit https://github.com/coin-or/Ipopt\n",
      "******************************************************************************\n",
      "\n",
      "{'solver_time': 1.7844462394714355, 'termination_condition': <TerminationCondition.optimal: 'optimal'>, 'message': 'Ipopt 3.14.16\\\\x3a Optimal Solution Found'}\n",
      "Iteration: 31 / 96\n"
     ]
    },
    {
     "name": "stderr",
     "output_type": "stream",
     "text": [
      "/Users/mariiashapo/Library/CloudStorage/OneDrive-Personal/project_2324/NODE/00_models/nn_pyomo_base.py:82: UserWarning: y_init should be structured such that each row represents a new time point.\n",
      "  warnings.warn(\"y_init should be structured such that each row represents a new time point.\")\n"
     ]
    },
    {
     "name": "stdout",
     "output_type": "stream",
     "text": [
      "Ipopt 3.14.16: tol=1e-08\n",
      "acceptable_tol=1e-15\n",
      "acceptable_constr_viol_tol=1e-15\n",
      "acceptable_dual_inf_tol=1e-15\n",
      "acceptable_compl_inf_tol=1e-15\n",
      "acceptable_iter=0\n",
      "halt_on_ampl_error=yes\n",
      "print_level=1\n",
      "max_iter=3000\n",
      "\n",
      "\n",
      "******************************************************************************\n",
      "This program contains Ipopt, a library for large-scale nonlinear optimization.\n",
      " Ipopt is released as open source code under the Eclipse Public License (EPL).\n",
      "         For more information visit https://github.com/coin-or/Ipopt\n",
      "******************************************************************************\n",
      "\n",
      "{'solver_time': 2.3312320709228516, 'termination_condition': <TerminationCondition.optimal: 'optimal'>, 'message': 'Ipopt 3.14.16\\\\x3a Optimal Solution Found'}\n",
      "Iteration: 32 / 96\n"
     ]
    },
    {
     "name": "stderr",
     "output_type": "stream",
     "text": [
      "/Users/mariiashapo/Library/CloudStorage/OneDrive-Personal/project_2324/NODE/00_models/nn_pyomo_base.py:82: UserWarning: y_init should be structured such that each row represents a new time point.\n",
      "  warnings.warn(\"y_init should be structured such that each row represents a new time point.\")\n"
     ]
    },
    {
     "name": "stdout",
     "output_type": "stream",
     "text": [
      "Ipopt 3.14.16: tol=1e-05\n",
      "acceptable_tol=1e-15\n",
      "acceptable_constr_viol_tol=1e-15\n",
      "acceptable_dual_inf_tol=1e-15\n",
      "acceptable_compl_inf_tol=1e-15\n",
      "acceptable_iter=0\n",
      "halt_on_ampl_error=yes\n",
      "print_level=1\n",
      "max_iter=3000\n",
      "\n",
      "\n",
      "******************************************************************************\n",
      "This program contains Ipopt, a library for large-scale nonlinear optimization.\n",
      " Ipopt is released as open source code under the Eclipse Public License (EPL).\n",
      "         For more information visit https://github.com/coin-or/Ipopt\n",
      "******************************************************************************\n",
      "\n",
      "{'solver_time': 1.9427037239074707, 'termination_condition': <TerminationCondition.optimal: 'optimal'>, 'message': 'Ipopt 3.14.16\\\\x3a Optimal Solution Found'}\n",
      "Iteration: 33 / 96\n"
     ]
    },
    {
     "name": "stderr",
     "output_type": "stream",
     "text": [
      "/Users/mariiashapo/Library/CloudStorage/OneDrive-Personal/project_2324/NODE/00_models/nn_pyomo_base.py:82: UserWarning: y_init should be structured such that each row represents a new time point.\n",
      "  warnings.warn(\"y_init should be structured such that each row represents a new time point.\")\n"
     ]
    },
    {
     "name": "stdout",
     "output_type": "stream",
     "text": [
      "Ipopt 3.14.16: tol=1e-06\n",
      "acceptable_tol=1e-15\n",
      "acceptable_constr_viol_tol=1e-15\n",
      "acceptable_dual_inf_tol=1e-15\n",
      "acceptable_compl_inf_tol=1e-15\n",
      "acceptable_iter=0\n",
      "halt_on_ampl_error=yes\n",
      "print_level=1\n",
      "max_iter=3000\n",
      "\n",
      "\n",
      "******************************************************************************\n",
      "This program contains Ipopt, a library for large-scale nonlinear optimization.\n",
      " Ipopt is released as open source code under the Eclipse Public License (EPL).\n",
      "         For more information visit https://github.com/coin-or/Ipopt\n",
      "******************************************************************************\n",
      "\n",
      "{'solver_time': 1.8498420715332031, 'termination_condition': <TerminationCondition.optimal: 'optimal'>, 'message': 'Ipopt 3.14.16\\\\x3a Optimal Solution Found'}\n",
      "Iteration: 34 / 96\n"
     ]
    },
    {
     "name": "stderr",
     "output_type": "stream",
     "text": [
      "/Users/mariiashapo/Library/CloudStorage/OneDrive-Personal/project_2324/NODE/00_models/nn_pyomo_base.py:82: UserWarning: y_init should be structured such that each row represents a new time point.\n",
      "  warnings.warn(\"y_init should be structured such that each row represents a new time point.\")\n"
     ]
    },
    {
     "name": "stdout",
     "output_type": "stream",
     "text": [
      "Ipopt 3.14.16: tol=1e-07\n",
      "acceptable_tol=1e-15\n",
      "acceptable_constr_viol_tol=1e-15\n",
      "acceptable_dual_inf_tol=1e-15\n",
      "acceptable_compl_inf_tol=1e-15\n",
      "acceptable_iter=0\n",
      "halt_on_ampl_error=yes\n",
      "print_level=1\n",
      "max_iter=3000\n",
      "\n",
      "\n",
      "******************************************************************************\n",
      "This program contains Ipopt, a library for large-scale nonlinear optimization.\n",
      " Ipopt is released as open source code under the Eclipse Public License (EPL).\n",
      "         For more information visit https://github.com/coin-or/Ipopt\n",
      "******************************************************************************\n",
      "\n",
      "{'solver_time': 2.4512829780578613, 'termination_condition': <TerminationCondition.optimal: 'optimal'>, 'message': 'Ipopt 3.14.16\\\\x3a Optimal Solution Found'}\n",
      "Iteration: 35 / 96\n"
     ]
    },
    {
     "name": "stderr",
     "output_type": "stream",
     "text": [
      "/Users/mariiashapo/Library/CloudStorage/OneDrive-Personal/project_2324/NODE/00_models/nn_pyomo_base.py:82: UserWarning: y_init should be structured such that each row represents a new time point.\n",
      "  warnings.warn(\"y_init should be structured such that each row represents a new time point.\")\n"
     ]
    },
    {
     "name": "stdout",
     "output_type": "stream",
     "text": [
      "Ipopt 3.14.16: tol=1e-08\n",
      "acceptable_tol=1e-15\n",
      "acceptable_constr_viol_tol=1e-15\n",
      "acceptable_dual_inf_tol=1e-15\n",
      "acceptable_compl_inf_tol=1e-15\n",
      "acceptable_iter=0\n",
      "halt_on_ampl_error=yes\n",
      "print_level=1\n",
      "max_iter=3000\n",
      "\n",
      "\n",
      "******************************************************************************\n",
      "This program contains Ipopt, a library for large-scale nonlinear optimization.\n",
      " Ipopt is released as open source code under the Eclipse Public License (EPL).\n",
      "         For more information visit https://github.com/coin-or/Ipopt\n",
      "******************************************************************************\n",
      "\n",
      "{'solver_time': 1.4365670680999756, 'termination_condition': <TerminationCondition.optimal: 'optimal'>, 'message': 'Ipopt 3.14.16\\\\x3a Optimal Solution Found'}\n",
      "Iteration: 36 / 96\n"
     ]
    },
    {
     "name": "stderr",
     "output_type": "stream",
     "text": [
      "/Users/mariiashapo/Library/CloudStorage/OneDrive-Personal/project_2324/NODE/00_models/nn_pyomo_base.py:82: UserWarning: y_init should be structured such that each row represents a new time point.\n",
      "  warnings.warn(\"y_init should be structured such that each row represents a new time point.\")\n"
     ]
    },
    {
     "name": "stdout",
     "output_type": "stream",
     "text": [
      "Ipopt 3.14.16: tol=1e-05\n",
      "acceptable_tol=1e-15\n",
      "acceptable_constr_viol_tol=1e-15\n",
      "acceptable_dual_inf_tol=1e-15\n",
      "acceptable_compl_inf_tol=1e-15\n",
      "acceptable_iter=0\n",
      "halt_on_ampl_error=yes\n",
      "print_level=1\n",
      "max_iter=3000\n",
      "\n",
      "\n",
      "******************************************************************************\n",
      "This program contains Ipopt, a library for large-scale nonlinear optimization.\n",
      " Ipopt is released as open source code under the Eclipse Public License (EPL).\n",
      "         For more information visit https://github.com/coin-or/Ipopt\n",
      "******************************************************************************\n",
      "\n",
      "{'solver_time': 2.535449743270874, 'termination_condition': <TerminationCondition.optimal: 'optimal'>, 'message': 'Ipopt 3.14.16\\\\x3a Optimal Solution Found'}\n",
      "Iteration: 37 / 96\n"
     ]
    },
    {
     "name": "stderr",
     "output_type": "stream",
     "text": [
      "/Users/mariiashapo/Library/CloudStorage/OneDrive-Personal/project_2324/NODE/00_models/nn_pyomo_base.py:82: UserWarning: y_init should be structured such that each row represents a new time point.\n",
      "  warnings.warn(\"y_init should be structured such that each row represents a new time point.\")\n"
     ]
    },
    {
     "name": "stdout",
     "output_type": "stream",
     "text": [
      "Ipopt 3.14.16: tol=1e-06\n",
      "acceptable_tol=1e-15\n",
      "acceptable_constr_viol_tol=1e-15\n",
      "acceptable_dual_inf_tol=1e-15\n",
      "acceptable_compl_inf_tol=1e-15\n",
      "acceptable_iter=0\n",
      "halt_on_ampl_error=yes\n",
      "print_level=1\n",
      "max_iter=3000\n",
      "\n",
      "\n",
      "******************************************************************************\n",
      "This program contains Ipopt, a library for large-scale nonlinear optimization.\n",
      " Ipopt is released as open source code under the Eclipse Public License (EPL).\n",
      "         For more information visit https://github.com/coin-or/Ipopt\n",
      "******************************************************************************\n",
      "\n",
      "{'solver_time': 2.527387857437134, 'termination_condition': <TerminationCondition.optimal: 'optimal'>, 'message': 'Ipopt 3.14.16\\\\x3a Optimal Solution Found'}\n",
      "Iteration: 38 / 96\n"
     ]
    },
    {
     "name": "stderr",
     "output_type": "stream",
     "text": [
      "/Users/mariiashapo/Library/CloudStorage/OneDrive-Personal/project_2324/NODE/00_models/nn_pyomo_base.py:82: UserWarning: y_init should be structured such that each row represents a new time point.\n",
      "  warnings.warn(\"y_init should be structured such that each row represents a new time point.\")\n"
     ]
    },
    {
     "name": "stdout",
     "output_type": "stream",
     "text": [
      "Ipopt 3.14.16: tol=1e-07\n",
      "acceptable_tol=1e-15\n",
      "acceptable_constr_viol_tol=1e-15\n",
      "acceptable_dual_inf_tol=1e-15\n",
      "acceptable_compl_inf_tol=1e-15\n",
      "acceptable_iter=0\n",
      "halt_on_ampl_error=yes\n",
      "print_level=1\n",
      "max_iter=3000\n",
      "\n",
      "\n",
      "******************************************************************************\n",
      "This program contains Ipopt, a library for large-scale nonlinear optimization.\n",
      " Ipopt is released as open source code under the Eclipse Public License (EPL).\n",
      "         For more information visit https://github.com/coin-or/Ipopt\n",
      "******************************************************************************\n",
      "\n",
      "{'solver_time': 2.4827587604522705, 'termination_condition': <TerminationCondition.optimal: 'optimal'>, 'message': 'Ipopt 3.14.16\\\\x3a Optimal Solution Found'}\n",
      "Iteration: 39 / 96\n"
     ]
    },
    {
     "name": "stderr",
     "output_type": "stream",
     "text": [
      "/Users/mariiashapo/Library/CloudStorage/OneDrive-Personal/project_2324/NODE/00_models/nn_pyomo_base.py:82: UserWarning: y_init should be structured such that each row represents a new time point.\n",
      "  warnings.warn(\"y_init should be structured such that each row represents a new time point.\")\n"
     ]
    },
    {
     "name": "stdout",
     "output_type": "stream",
     "text": [
      "Ipopt 3.14.16: tol=1e-08\n",
      "acceptable_tol=1e-15\n",
      "acceptable_constr_viol_tol=1e-15\n",
      "acceptable_dual_inf_tol=1e-15\n",
      "acceptable_compl_inf_tol=1e-15\n",
      "acceptable_iter=0\n",
      "halt_on_ampl_error=yes\n",
      "print_level=1\n",
      "max_iter=3000\n",
      "\n",
      "\n",
      "******************************************************************************\n",
      "This program contains Ipopt, a library for large-scale nonlinear optimization.\n",
      " Ipopt is released as open source code under the Eclipse Public License (EPL).\n",
      "         For more information visit https://github.com/coin-or/Ipopt\n",
      "******************************************************************************\n",
      "\n",
      "{'solver_time': 2.475714921951294, 'termination_condition': <TerminationCondition.optimal: 'optimal'>, 'message': 'Ipopt 3.14.16\\\\x3a Optimal Solution Found'}\n",
      "Iteration: 40 / 96\n"
     ]
    },
    {
     "name": "stderr",
     "output_type": "stream",
     "text": [
      "/Users/mariiashapo/Library/CloudStorage/OneDrive-Personal/project_2324/NODE/00_models/nn_pyomo_base.py:82: UserWarning: y_init should be structured such that each row represents a new time point.\n",
      "  warnings.warn(\"y_init should be structured such that each row represents a new time point.\")\n"
     ]
    },
    {
     "name": "stdout",
     "output_type": "stream",
     "text": [
      "Ipopt 3.14.16: tol=1e-05\n",
      "acceptable_tol=1e-15\n",
      "acceptable_constr_viol_tol=1e-15\n",
      "acceptable_dual_inf_tol=1e-15\n",
      "acceptable_compl_inf_tol=1e-15\n",
      "acceptable_iter=0\n",
      "halt_on_ampl_error=yes\n",
      "print_level=1\n",
      "max_iter=3000\n",
      "\n",
      "\n",
      "******************************************************************************\n",
      "This program contains Ipopt, a library for large-scale nonlinear optimization.\n",
      " Ipopt is released as open source code under the Eclipse Public License (EPL).\n",
      "         For more information visit https://github.com/coin-or/Ipopt\n",
      "******************************************************************************\n",
      "\n",
      "{'solver_time': 2.547722339630127, 'termination_condition': <TerminationCondition.optimal: 'optimal'>, 'message': 'Ipopt 3.14.16\\\\x3a Optimal Solution Found'}\n",
      "Iteration: 41 / 96\n"
     ]
    },
    {
     "name": "stderr",
     "output_type": "stream",
     "text": [
      "/Users/mariiashapo/Library/CloudStorage/OneDrive-Personal/project_2324/NODE/00_models/nn_pyomo_base.py:82: UserWarning: y_init should be structured such that each row represents a new time point.\n",
      "  warnings.warn(\"y_init should be structured such that each row represents a new time point.\")\n"
     ]
    },
    {
     "name": "stdout",
     "output_type": "stream",
     "text": [
      "Ipopt 3.14.16: tol=1e-06\n",
      "acceptable_tol=1e-15\n",
      "acceptable_constr_viol_tol=1e-15\n",
      "acceptable_dual_inf_tol=1e-15\n",
      "acceptable_compl_inf_tol=1e-15\n",
      "acceptable_iter=0\n",
      "halt_on_ampl_error=yes\n",
      "print_level=1\n",
      "max_iter=3000\n",
      "\n",
      "\n",
      "******************************************************************************\n",
      "This program contains Ipopt, a library for large-scale nonlinear optimization.\n",
      " Ipopt is released as open source code under the Eclipse Public License (EPL).\n",
      "         For more information visit https://github.com/coin-or/Ipopt\n",
      "******************************************************************************\n",
      "\n",
      "{'solver_time': 3.1035828590393066, 'termination_condition': <TerminationCondition.optimal: 'optimal'>, 'message': 'Ipopt 3.14.16\\\\x3a Optimal Solution Found'}\n",
      "Iteration: 42 / 96\n"
     ]
    },
    {
     "name": "stderr",
     "output_type": "stream",
     "text": [
      "/Users/mariiashapo/Library/CloudStorage/OneDrive-Personal/project_2324/NODE/00_models/nn_pyomo_base.py:82: UserWarning: y_init should be structured such that each row represents a new time point.\n",
      "  warnings.warn(\"y_init should be structured such that each row represents a new time point.\")\n"
     ]
    },
    {
     "name": "stdout",
     "output_type": "stream",
     "text": [
      "Ipopt 3.14.16: tol=1e-07\n",
      "acceptable_tol=1e-15\n",
      "acceptable_constr_viol_tol=1e-15\n",
      "acceptable_dual_inf_tol=1e-15\n",
      "acceptable_compl_inf_tol=1e-15\n",
      "acceptable_iter=0\n",
      "halt_on_ampl_error=yes\n",
      "print_level=1\n",
      "max_iter=3000\n",
      "\n",
      "\n",
      "******************************************************************************\n",
      "This program contains Ipopt, a library for large-scale nonlinear optimization.\n",
      " Ipopt is released as open source code under the Eclipse Public License (EPL).\n",
      "         For more information visit https://github.com/coin-or/Ipopt\n",
      "******************************************************************************\n",
      "\n",
      "{'solver_time': 3.1742947101593018, 'termination_condition': <TerminationCondition.optimal: 'optimal'>, 'message': 'Ipopt 3.14.16\\\\x3a Optimal Solution Found'}\n",
      "Iteration: 43 / 96\n"
     ]
    },
    {
     "name": "stderr",
     "output_type": "stream",
     "text": [
      "/Users/mariiashapo/Library/CloudStorage/OneDrive-Personal/project_2324/NODE/00_models/nn_pyomo_base.py:82: UserWarning: y_init should be structured such that each row represents a new time point.\n",
      "  warnings.warn(\"y_init should be structured such that each row represents a new time point.\")\n"
     ]
    },
    {
     "name": "stdout",
     "output_type": "stream",
     "text": [
      "Ipopt 3.14.16: tol=1e-08\n",
      "acceptable_tol=1e-15\n",
      "acceptable_constr_viol_tol=1e-15\n",
      "acceptable_dual_inf_tol=1e-15\n",
      "acceptable_compl_inf_tol=1e-15\n",
      "acceptable_iter=0\n",
      "halt_on_ampl_error=yes\n",
      "print_level=1\n",
      "max_iter=3000\n",
      "\n",
      "\n",
      "******************************************************************************\n",
      "This program contains Ipopt, a library for large-scale nonlinear optimization.\n",
      " Ipopt is released as open source code under the Eclipse Public License (EPL).\n",
      "         For more information visit https://github.com/coin-or/Ipopt\n",
      "******************************************************************************\n",
      "\n",
      "{'solver_time': 3.2617170810699463, 'termination_condition': <TerminationCondition.optimal: 'optimal'>, 'message': 'Ipopt 3.14.16\\\\x3a Optimal Solution Found'}\n",
      "Iteration: 44 / 96\n"
     ]
    },
    {
     "name": "stderr",
     "output_type": "stream",
     "text": [
      "/Users/mariiashapo/Library/CloudStorage/OneDrive-Personal/project_2324/NODE/00_models/nn_pyomo_base.py:82: UserWarning: y_init should be structured such that each row represents a new time point.\n",
      "  warnings.warn(\"y_init should be structured such that each row represents a new time point.\")\n"
     ]
    },
    {
     "name": "stdout",
     "output_type": "stream",
     "text": [
      "Ipopt 3.14.16: tol=1e-05\n",
      "acceptable_tol=1e-15\n",
      "acceptable_constr_viol_tol=1e-15\n",
      "acceptable_dual_inf_tol=1e-15\n",
      "acceptable_compl_inf_tol=1e-15\n",
      "acceptable_iter=0\n",
      "halt_on_ampl_error=yes\n",
      "print_level=1\n",
      "max_iter=3000\n",
      "\n",
      "\n",
      "******************************************************************************\n",
      "This program contains Ipopt, a library for large-scale nonlinear optimization.\n",
      " Ipopt is released as open source code under the Eclipse Public License (EPL).\n",
      "         For more information visit https://github.com/coin-or/Ipopt\n",
      "******************************************************************************\n",
      "\n",
      "{'solver_time': 1.9469449520111084, 'termination_condition': <TerminationCondition.optimal: 'optimal'>, 'message': 'Ipopt 3.14.16\\\\x3a Optimal Solution Found'}\n",
      "Iteration: 45 / 96\n"
     ]
    },
    {
     "name": "stderr",
     "output_type": "stream",
     "text": [
      "/Users/mariiashapo/Library/CloudStorage/OneDrive-Personal/project_2324/NODE/00_models/nn_pyomo_base.py:82: UserWarning: y_init should be structured such that each row represents a new time point.\n",
      "  warnings.warn(\"y_init should be structured such that each row represents a new time point.\")\n"
     ]
    },
    {
     "name": "stdout",
     "output_type": "stream",
     "text": [
      "Ipopt 3.14.16: tol=1e-06\n",
      "acceptable_tol=1e-15\n",
      "acceptable_constr_viol_tol=1e-15\n",
      "acceptable_dual_inf_tol=1e-15\n",
      "acceptable_compl_inf_tol=1e-15\n",
      "acceptable_iter=0\n",
      "halt_on_ampl_error=yes\n",
      "print_level=1\n",
      "max_iter=3000\n",
      "\n",
      "\n",
      "******************************************************************************\n",
      "This program contains Ipopt, a library for large-scale nonlinear optimization.\n",
      " Ipopt is released as open source code under the Eclipse Public License (EPL).\n",
      "         For more information visit https://github.com/coin-or/Ipopt\n",
      "******************************************************************************\n",
      "\n",
      "{'solver_time': 2.0550332069396973, 'termination_condition': <TerminationCondition.optimal: 'optimal'>, 'message': 'Ipopt 3.14.16\\\\x3a Optimal Solution Found'}\n",
      "Iteration: 46 / 96\n"
     ]
    },
    {
     "name": "stderr",
     "output_type": "stream",
     "text": [
      "/Users/mariiashapo/Library/CloudStorage/OneDrive-Personal/project_2324/NODE/00_models/nn_pyomo_base.py:82: UserWarning: y_init should be structured such that each row represents a new time point.\n",
      "  warnings.warn(\"y_init should be structured such that each row represents a new time point.\")\n"
     ]
    },
    {
     "name": "stdout",
     "output_type": "stream",
     "text": [
      "Ipopt 3.14.16: tol=1e-07\n",
      "acceptable_tol=1e-15\n",
      "acceptable_constr_viol_tol=1e-15\n",
      "acceptable_dual_inf_tol=1e-15\n",
      "acceptable_compl_inf_tol=1e-15\n",
      "acceptable_iter=0\n",
      "halt_on_ampl_error=yes\n",
      "print_level=1\n",
      "max_iter=3000\n",
      "\n",
      "\n",
      "******************************************************************************\n",
      "This program contains Ipopt, a library for large-scale nonlinear optimization.\n",
      " Ipopt is released as open source code under the Eclipse Public License (EPL).\n",
      "         For more information visit https://github.com/coin-or/Ipopt\n",
      "******************************************************************************\n",
      "\n",
      "{'solver_time': 2.8635191917419434, 'termination_condition': <TerminationCondition.optimal: 'optimal'>, 'message': 'Ipopt 3.14.16\\\\x3a Optimal Solution Found'}\n",
      "Iteration: 47 / 96\n"
     ]
    },
    {
     "name": "stderr",
     "output_type": "stream",
     "text": [
      "/Users/mariiashapo/Library/CloudStorage/OneDrive-Personal/project_2324/NODE/00_models/nn_pyomo_base.py:82: UserWarning: y_init should be structured such that each row represents a new time point.\n",
      "  warnings.warn(\"y_init should be structured such that each row represents a new time point.\")\n"
     ]
    },
    {
     "name": "stdout",
     "output_type": "stream",
     "text": [
      "Ipopt 3.14.16: tol=1e-08\n",
      "acceptable_tol=1e-15\n",
      "acceptable_constr_viol_tol=1e-15\n",
      "acceptable_dual_inf_tol=1e-15\n",
      "acceptable_compl_inf_tol=1e-15\n",
      "acceptable_iter=0\n",
      "halt_on_ampl_error=yes\n",
      "print_level=1\n",
      "max_iter=3000\n",
      "\n",
      "\n",
      "******************************************************************************\n",
      "This program contains Ipopt, a library for large-scale nonlinear optimization.\n",
      " Ipopt is released as open source code under the Eclipse Public License (EPL).\n",
      "         For more information visit https://github.com/coin-or/Ipopt\n",
      "******************************************************************************\n",
      "\n",
      "{'solver_time': 1.958510160446167, 'termination_condition': <TerminationCondition.optimal: 'optimal'>, 'message': 'Ipopt 3.14.16\\\\x3a Optimal Solution Found'}\n",
      "Iteration: 48 / 96\n"
     ]
    },
    {
     "name": "stderr",
     "output_type": "stream",
     "text": [
      "/Users/mariiashapo/Library/CloudStorage/OneDrive-Personal/project_2324/NODE/00_models/nn_pyomo_base.py:82: UserWarning: y_init should be structured such that each row represents a new time point.\n",
      "  warnings.warn(\"y_init should be structured such that each row represents a new time point.\")\n"
     ]
    },
    {
     "name": "stdout",
     "output_type": "stream",
     "text": [
      "Ipopt 3.14.16: tol=1e-05\n",
      "acceptable_tol=1e-15\n",
      "acceptable_constr_viol_tol=1e-15\n",
      "acceptable_dual_inf_tol=1e-15\n",
      "acceptable_compl_inf_tol=1e-15\n",
      "acceptable_iter=0\n",
      "halt_on_ampl_error=yes\n",
      "print_level=1\n",
      "max_iter=3000\n",
      "\n",
      "\n",
      "******************************************************************************\n",
      "This program contains Ipopt, a library for large-scale nonlinear optimization.\n",
      " Ipopt is released as open source code under the Eclipse Public License (EPL).\n",
      "         For more information visit https://github.com/coin-or/Ipopt\n",
      "******************************************************************************\n",
      "\n",
      "{'solver_time': 13.946074962615967, 'termination_condition': <TerminationCondition.optimal: 'optimal'>, 'message': 'Ipopt 3.14.16\\\\x3a Optimal Solution Found'}\n",
      "Iteration: 49 / 96\n"
     ]
    },
    {
     "name": "stderr",
     "output_type": "stream",
     "text": [
      "/Users/mariiashapo/Library/CloudStorage/OneDrive-Personal/project_2324/NODE/00_models/nn_pyomo_base.py:82: UserWarning: y_init should be structured such that each row represents a new time point.\n",
      "  warnings.warn(\"y_init should be structured such that each row represents a new time point.\")\n"
     ]
    },
    {
     "name": "stdout",
     "output_type": "stream",
     "text": [
      "Ipopt 3.14.16: tol=1e-06\n",
      "acceptable_tol=1e-15\n",
      "acceptable_constr_viol_tol=1e-15\n",
      "acceptable_dual_inf_tol=1e-15\n",
      "acceptable_compl_inf_tol=1e-15\n",
      "acceptable_iter=0\n",
      "halt_on_ampl_error=yes\n",
      "print_level=1\n",
      "max_iter=3000\n",
      "\n",
      "\n",
      "******************************************************************************\n",
      "This program contains Ipopt, a library for large-scale nonlinear optimization.\n",
      " Ipopt is released as open source code under the Eclipse Public License (EPL).\n",
      "         For more information visit https://github.com/coin-or/Ipopt\n",
      "******************************************************************************\n",
      "\n",
      "{'solver_time': 14.83895492553711, 'termination_condition': <TerminationCondition.optimal: 'optimal'>, 'message': 'Ipopt 3.14.16\\\\x3a Optimal Solution Found'}\n",
      "Iteration: 50 / 96\n"
     ]
    },
    {
     "name": "stderr",
     "output_type": "stream",
     "text": [
      "/Users/mariiashapo/Library/CloudStorage/OneDrive-Personal/project_2324/NODE/00_models/nn_pyomo_base.py:82: UserWarning: y_init should be structured such that each row represents a new time point.\n",
      "  warnings.warn(\"y_init should be structured such that each row represents a new time point.\")\n"
     ]
    },
    {
     "name": "stdout",
     "output_type": "stream",
     "text": [
      "Ipopt 3.14.16: tol=1e-07\n",
      "acceptable_tol=1e-15\n",
      "acceptable_constr_viol_tol=1e-15\n",
      "acceptable_dual_inf_tol=1e-15\n",
      "acceptable_compl_inf_tol=1e-15\n",
      "acceptable_iter=0\n",
      "halt_on_ampl_error=yes\n",
      "print_level=1\n",
      "max_iter=3000\n",
      "\n",
      "\n",
      "******************************************************************************\n",
      "This program contains Ipopt, a library for large-scale nonlinear optimization.\n",
      " Ipopt is released as open source code under the Eclipse Public License (EPL).\n",
      "         For more information visit https://github.com/coin-or/Ipopt\n",
      "******************************************************************************\n",
      "\n",
      "{'solver_time': 14.800615787506104, 'termination_condition': <TerminationCondition.optimal: 'optimal'>, 'message': 'Ipopt 3.14.16\\\\x3a Optimal Solution Found'}\n",
      "Iteration: 51 / 96\n"
     ]
    },
    {
     "name": "stderr",
     "output_type": "stream",
     "text": [
      "/Users/mariiashapo/Library/CloudStorage/OneDrive-Personal/project_2324/NODE/00_models/nn_pyomo_base.py:82: UserWarning: y_init should be structured such that each row represents a new time point.\n",
      "  warnings.warn(\"y_init should be structured such that each row represents a new time point.\")\n"
     ]
    },
    {
     "name": "stdout",
     "output_type": "stream",
     "text": [
      "Ipopt 3.14.16: tol=1e-08\n",
      "acceptable_tol=1e-15\n",
      "acceptable_constr_viol_tol=1e-15\n",
      "acceptable_dual_inf_tol=1e-15\n",
      "acceptable_compl_inf_tol=1e-15\n",
      "acceptable_iter=0\n",
      "halt_on_ampl_error=yes\n",
      "print_level=1\n",
      "max_iter=3000\n",
      "\n",
      "\n",
      "******************************************************************************\n",
      "This program contains Ipopt, a library for large-scale nonlinear optimization.\n",
      " Ipopt is released as open source code under the Eclipse Public License (EPL).\n",
      "         For more information visit https://github.com/coin-or/Ipopt\n",
      "******************************************************************************\n",
      "\n",
      "{'solver_time': 14.077147960662842, 'termination_condition': <TerminationCondition.optimal: 'optimal'>, 'message': 'Ipopt 3.14.16\\\\x3a Optimal Solution Found'}\n",
      "Iteration: 52 / 96\n"
     ]
    },
    {
     "name": "stderr",
     "output_type": "stream",
     "text": [
      "/Users/mariiashapo/Library/CloudStorage/OneDrive-Personal/project_2324/NODE/00_models/nn_pyomo_base.py:82: UserWarning: y_init should be structured such that each row represents a new time point.\n",
      "  warnings.warn(\"y_init should be structured such that each row represents a new time point.\")\n"
     ]
    },
    {
     "name": "stdout",
     "output_type": "stream",
     "text": [
      "Ipopt 3.14.16: tol=1e-05\n",
      "acceptable_tol=1e-15\n",
      "acceptable_constr_viol_tol=1e-15\n",
      "acceptable_dual_inf_tol=1e-15\n",
      "acceptable_compl_inf_tol=1e-15\n",
      "acceptable_iter=0\n",
      "halt_on_ampl_error=yes\n",
      "print_level=1\n",
      "max_iter=3000\n",
      "\n",
      "\n",
      "******************************************************************************\n",
      "This program contains Ipopt, a library for large-scale nonlinear optimization.\n",
      " Ipopt is released as open source code under the Eclipse Public License (EPL).\n",
      "         For more information visit https://github.com/coin-or/Ipopt\n",
      "******************************************************************************\n",
      "\n",
      "{'solver_time': 5.221491098403931, 'termination_condition': <TerminationCondition.optimal: 'optimal'>, 'message': 'Ipopt 3.14.16\\\\x3a Optimal Solution Found'}\n",
      "Iteration: 53 / 96\n"
     ]
    },
    {
     "name": "stderr",
     "output_type": "stream",
     "text": [
      "/Users/mariiashapo/Library/CloudStorage/OneDrive-Personal/project_2324/NODE/00_models/nn_pyomo_base.py:82: UserWarning: y_init should be structured such that each row represents a new time point.\n",
      "  warnings.warn(\"y_init should be structured such that each row represents a new time point.\")\n"
     ]
    },
    {
     "name": "stdout",
     "output_type": "stream",
     "text": [
      "Ipopt 3.14.16: tol=1e-06\n",
      "acceptable_tol=1e-15\n",
      "acceptable_constr_viol_tol=1e-15\n",
      "acceptable_dual_inf_tol=1e-15\n",
      "acceptable_compl_inf_tol=1e-15\n",
      "acceptable_iter=0\n",
      "halt_on_ampl_error=yes\n",
      "print_level=1\n",
      "max_iter=3000\n",
      "\n",
      "\n",
      "******************************************************************************\n",
      "This program contains Ipopt, a library for large-scale nonlinear optimization.\n",
      " Ipopt is released as open source code under the Eclipse Public License (EPL).\n",
      "         For more information visit https://github.com/coin-or/Ipopt\n",
      "******************************************************************************\n",
      "\n",
      "{'solver_time': 5.516206979751587, 'termination_condition': <TerminationCondition.optimal: 'optimal'>, 'message': 'Ipopt 3.14.16\\\\x3a Optimal Solution Found'}\n",
      "Iteration: 54 / 96\n"
     ]
    },
    {
     "name": "stderr",
     "output_type": "stream",
     "text": [
      "/Users/mariiashapo/Library/CloudStorage/OneDrive-Personal/project_2324/NODE/00_models/nn_pyomo_base.py:82: UserWarning: y_init should be structured such that each row represents a new time point.\n",
      "  warnings.warn(\"y_init should be structured such that each row represents a new time point.\")\n"
     ]
    },
    {
     "name": "stdout",
     "output_type": "stream",
     "text": [
      "Ipopt 3.14.16: tol=1e-07\n",
      "acceptable_tol=1e-15\n",
      "acceptable_constr_viol_tol=1e-15\n",
      "acceptable_dual_inf_tol=1e-15\n",
      "acceptable_compl_inf_tol=1e-15\n",
      "acceptable_iter=0\n",
      "halt_on_ampl_error=yes\n",
      "print_level=1\n",
      "max_iter=3000\n",
      "\n",
      "\n",
      "******************************************************************************\n",
      "This program contains Ipopt, a library for large-scale nonlinear optimization.\n",
      " Ipopt is released as open source code under the Eclipse Public License (EPL).\n",
      "         For more information visit https://github.com/coin-or/Ipopt\n",
      "******************************************************************************\n",
      "\n",
      "{'solver_time': 4.861241102218628, 'termination_condition': <TerminationCondition.optimal: 'optimal'>, 'message': 'Ipopt 3.14.16\\\\x3a Optimal Solution Found'}\n",
      "Iteration: 55 / 96\n"
     ]
    },
    {
     "name": "stderr",
     "output_type": "stream",
     "text": [
      "/Users/mariiashapo/Library/CloudStorage/OneDrive-Personal/project_2324/NODE/00_models/nn_pyomo_base.py:82: UserWarning: y_init should be structured such that each row represents a new time point.\n",
      "  warnings.warn(\"y_init should be structured such that each row represents a new time point.\")\n"
     ]
    },
    {
     "name": "stdout",
     "output_type": "stream",
     "text": [
      "Ipopt 3.14.16: tol=1e-08\n",
      "acceptable_tol=1e-15\n",
      "acceptable_constr_viol_tol=1e-15\n",
      "acceptable_dual_inf_tol=1e-15\n",
      "acceptable_compl_inf_tol=1e-15\n",
      "acceptable_iter=0\n",
      "halt_on_ampl_error=yes\n",
      "print_level=1\n",
      "max_iter=3000\n",
      "\n",
      "\n",
      "******************************************************************************\n",
      "This program contains Ipopt, a library for large-scale nonlinear optimization.\n",
      " Ipopt is released as open source code under the Eclipse Public License (EPL).\n",
      "         For more information visit https://github.com/coin-or/Ipopt\n",
      "******************************************************************************\n",
      "\n",
      "{'solver_time': 5.088352918624878, 'termination_condition': <TerminationCondition.optimal: 'optimal'>, 'message': 'Ipopt 3.14.16\\\\x3a Optimal Solution Found'}\n",
      "Iteration: 56 / 96\n"
     ]
    },
    {
     "name": "stderr",
     "output_type": "stream",
     "text": [
      "/Users/mariiashapo/Library/CloudStorage/OneDrive-Personal/project_2324/NODE/00_models/nn_pyomo_base.py:82: UserWarning: y_init should be structured such that each row represents a new time point.\n",
      "  warnings.warn(\"y_init should be structured such that each row represents a new time point.\")\n"
     ]
    },
    {
     "name": "stdout",
     "output_type": "stream",
     "text": [
      "Ipopt 3.14.16: tol=1e-05\n",
      "acceptable_tol=1e-15\n",
      "acceptable_constr_viol_tol=1e-15\n",
      "acceptable_dual_inf_tol=1e-15\n",
      "acceptable_compl_inf_tol=1e-15\n",
      "acceptable_iter=0\n",
      "halt_on_ampl_error=yes\n",
      "print_level=1\n",
      "max_iter=3000\n",
      "\n",
      "\n",
      "******************************************************************************\n",
      "This program contains Ipopt, a library for large-scale nonlinear optimization.\n",
      " Ipopt is released as open source code under the Eclipse Public License (EPL).\n",
      "         For more information visit https://github.com/coin-or/Ipopt\n",
      "******************************************************************************\n",
      "\n",
      "{'solver_time': 4.435311794281006, 'termination_condition': <TerminationCondition.optimal: 'optimal'>, 'message': 'Ipopt 3.14.16\\\\x3a Optimal Solution Found'}\n",
      "Iteration: 57 / 96\n"
     ]
    },
    {
     "name": "stderr",
     "output_type": "stream",
     "text": [
      "/Users/mariiashapo/Library/CloudStorage/OneDrive-Personal/project_2324/NODE/00_models/nn_pyomo_base.py:82: UserWarning: y_init should be structured such that each row represents a new time point.\n",
      "  warnings.warn(\"y_init should be structured such that each row represents a new time point.\")\n"
     ]
    },
    {
     "name": "stdout",
     "output_type": "stream",
     "text": [
      "Ipopt 3.14.16: tol=1e-06\n",
      "acceptable_tol=1e-15\n",
      "acceptable_constr_viol_tol=1e-15\n",
      "acceptable_dual_inf_tol=1e-15\n",
      "acceptable_compl_inf_tol=1e-15\n",
      "acceptable_iter=0\n",
      "halt_on_ampl_error=yes\n",
      "print_level=1\n",
      "max_iter=3000\n",
      "\n",
      "\n",
      "******************************************************************************\n",
      "This program contains Ipopt, a library for large-scale nonlinear optimization.\n",
      " Ipopt is released as open source code under the Eclipse Public License (EPL).\n",
      "         For more information visit https://github.com/coin-or/Ipopt\n",
      "******************************************************************************\n",
      "\n",
      "{'solver_time': 6.827018976211548, 'termination_condition': <TerminationCondition.optimal: 'optimal'>, 'message': 'Ipopt 3.14.16\\\\x3a Optimal Solution Found'}\n",
      "Iteration: 58 / 96\n"
     ]
    },
    {
     "name": "stderr",
     "output_type": "stream",
     "text": [
      "/Users/mariiashapo/Library/CloudStorage/OneDrive-Personal/project_2324/NODE/00_models/nn_pyomo_base.py:82: UserWarning: y_init should be structured such that each row represents a new time point.\n",
      "  warnings.warn(\"y_init should be structured such that each row represents a new time point.\")\n"
     ]
    },
    {
     "name": "stdout",
     "output_type": "stream",
     "text": [
      "Ipopt 3.14.16: tol=1e-07\n",
      "acceptable_tol=1e-15\n",
      "acceptable_constr_viol_tol=1e-15\n",
      "acceptable_dual_inf_tol=1e-15\n",
      "acceptable_compl_inf_tol=1e-15\n",
      "acceptable_iter=0\n",
      "halt_on_ampl_error=yes\n",
      "print_level=1\n",
      "max_iter=3000\n",
      "\n",
      "\n",
      "******************************************************************************\n",
      "This program contains Ipopt, a library for large-scale nonlinear optimization.\n",
      " Ipopt is released as open source code under the Eclipse Public License (EPL).\n",
      "         For more information visit https://github.com/coin-or/Ipopt\n",
      "******************************************************************************\n",
      "\n",
      "{'solver_time': 6.460721969604492, 'termination_condition': <TerminationCondition.optimal: 'optimal'>, 'message': 'Ipopt 3.14.16\\\\x3a Optimal Solution Found'}\n",
      "Iteration: 59 / 96\n"
     ]
    },
    {
     "name": "stderr",
     "output_type": "stream",
     "text": [
      "/Users/mariiashapo/Library/CloudStorage/OneDrive-Personal/project_2324/NODE/00_models/nn_pyomo_base.py:82: UserWarning: y_init should be structured such that each row represents a new time point.\n",
      "  warnings.warn(\"y_init should be structured such that each row represents a new time point.\")\n"
     ]
    },
    {
     "name": "stdout",
     "output_type": "stream",
     "text": [
      "Ipopt 3.14.16: tol=1e-08\n",
      "acceptable_tol=1e-15\n",
      "acceptable_constr_viol_tol=1e-15\n",
      "acceptable_dual_inf_tol=1e-15\n",
      "acceptable_compl_inf_tol=1e-15\n",
      "acceptable_iter=0\n",
      "halt_on_ampl_error=yes\n",
      "print_level=1\n",
      "max_iter=3000\n",
      "\n",
      "\n",
      "******************************************************************************\n",
      "This program contains Ipopt, a library for large-scale nonlinear optimization.\n",
      " Ipopt is released as open source code under the Eclipse Public License (EPL).\n",
      "         For more information visit https://github.com/coin-or/Ipopt\n",
      "******************************************************************************\n",
      "\n",
      "{'solver_time': 7.497087001800537, 'termination_condition': <TerminationCondition.optimal: 'optimal'>, 'message': 'Ipopt 3.14.16\\\\x3a Optimal Solution Found'}\n",
      "Iteration: 60 / 96\n"
     ]
    },
    {
     "name": "stderr",
     "output_type": "stream",
     "text": [
      "/Users/mariiashapo/Library/CloudStorage/OneDrive-Personal/project_2324/NODE/00_models/nn_pyomo_base.py:82: UserWarning: y_init should be structured such that each row represents a new time point.\n",
      "  warnings.warn(\"y_init should be structured such that each row represents a new time point.\")\n"
     ]
    },
    {
     "name": "stdout",
     "output_type": "stream",
     "text": [
      "Ipopt 3.14.16: tol=1e-05\n",
      "acceptable_tol=1e-15\n",
      "acceptable_constr_viol_tol=1e-15\n",
      "acceptable_dual_inf_tol=1e-15\n",
      "acceptable_compl_inf_tol=1e-15\n",
      "acceptable_iter=0\n",
      "halt_on_ampl_error=yes\n",
      "print_level=1\n",
      "max_iter=3000\n",
      "\n",
      "\n",
      "******************************************************************************\n",
      "This program contains Ipopt, a library for large-scale nonlinear optimization.\n",
      " Ipopt is released as open source code under the Eclipse Public License (EPL).\n",
      "         For more information visit https://github.com/coin-or/Ipopt\n",
      "******************************************************************************\n",
      "\n",
      "{'solver_time': 51.396594762802124, 'termination_condition': <TerminationCondition.optimal: 'optimal'>, 'message': 'Ipopt 3.14.16\\\\x3a Optimal Solution Found'}\n",
      "Iteration: 61 / 96\n"
     ]
    },
    {
     "name": "stderr",
     "output_type": "stream",
     "text": [
      "/Users/mariiashapo/Library/CloudStorage/OneDrive-Personal/project_2324/NODE/00_models/nn_pyomo_base.py:82: UserWarning: y_init should be structured such that each row represents a new time point.\n",
      "  warnings.warn(\"y_init should be structured such that each row represents a new time point.\")\n"
     ]
    },
    {
     "name": "stdout",
     "output_type": "stream",
     "text": [
      "Ipopt 3.14.16: tol=1e-06\n",
      "acceptable_tol=1e-15\n",
      "acceptable_constr_viol_tol=1e-15\n",
      "acceptable_dual_inf_tol=1e-15\n",
      "acceptable_compl_inf_tol=1e-15\n",
      "acceptable_iter=0\n",
      "halt_on_ampl_error=yes\n",
      "print_level=1\n",
      "max_iter=3000\n",
      "\n",
      "\n",
      "******************************************************************************\n",
      "This program contains Ipopt, a library for large-scale nonlinear optimization.\n",
      " Ipopt is released as open source code under the Eclipse Public License (EPL).\n",
      "         For more information visit https://github.com/coin-or/Ipopt\n",
      "******************************************************************************\n",
      "\n",
      "{'solver_time': 50.558921098709106, 'termination_condition': <TerminationCondition.optimal: 'optimal'>, 'message': 'Ipopt 3.14.16\\\\x3a Optimal Solution Found'}\n",
      "Iteration: 62 / 96\n"
     ]
    },
    {
     "name": "stderr",
     "output_type": "stream",
     "text": [
      "/Users/mariiashapo/Library/CloudStorage/OneDrive-Personal/project_2324/NODE/00_models/nn_pyomo_base.py:82: UserWarning: y_init should be structured such that each row represents a new time point.\n",
      "  warnings.warn(\"y_init should be structured such that each row represents a new time point.\")\n"
     ]
    },
    {
     "name": "stdout",
     "output_type": "stream",
     "text": [
      "Ipopt 3.14.16: tol=1e-07\n",
      "acceptable_tol=1e-15\n",
      "acceptable_constr_viol_tol=1e-15\n",
      "acceptable_dual_inf_tol=1e-15\n",
      "acceptable_compl_inf_tol=1e-15\n",
      "acceptable_iter=0\n",
      "halt_on_ampl_error=yes\n",
      "print_level=1\n",
      "max_iter=3000\n",
      "\n",
      "\n",
      "******************************************************************************\n",
      "This program contains Ipopt, a library for large-scale nonlinear optimization.\n",
      " Ipopt is released as open source code under the Eclipse Public License (EPL).\n",
      "         For more information visit https://github.com/coin-or/Ipopt\n",
      "******************************************************************************\n",
      "\n",
      "{'solver_time': 50.350651025772095, 'termination_condition': <TerminationCondition.optimal: 'optimal'>, 'message': 'Ipopt 3.14.16\\\\x3a Optimal Solution Found'}\n",
      "Iteration: 63 / 96\n"
     ]
    },
    {
     "name": "stderr",
     "output_type": "stream",
     "text": [
      "/Users/mariiashapo/Library/CloudStorage/OneDrive-Personal/project_2324/NODE/00_models/nn_pyomo_base.py:82: UserWarning: y_init should be structured such that each row represents a new time point.\n",
      "  warnings.warn(\"y_init should be structured such that each row represents a new time point.\")\n"
     ]
    },
    {
     "name": "stdout",
     "output_type": "stream",
     "text": [
      "Ipopt 3.14.16: tol=1e-08\n",
      "acceptable_tol=1e-15\n",
      "acceptable_constr_viol_tol=1e-15\n",
      "acceptable_dual_inf_tol=1e-15\n",
      "acceptable_compl_inf_tol=1e-15\n",
      "acceptable_iter=0\n",
      "halt_on_ampl_error=yes\n",
      "print_level=1\n",
      "max_iter=3000\n",
      "\n",
      "\n",
      "******************************************************************************\n",
      "This program contains Ipopt, a library for large-scale nonlinear optimization.\n",
      " Ipopt is released as open source code under the Eclipse Public License (EPL).\n",
      "         For more information visit https://github.com/coin-or/Ipopt\n",
      "******************************************************************************\n",
      "\n",
      "{'solver_time': 50.979535818099976, 'termination_condition': <TerminationCondition.optimal: 'optimal'>, 'message': 'Ipopt 3.14.16\\\\x3a Optimal Solution Found'}\n",
      "Iteration: 64 / 96\n"
     ]
    },
    {
     "name": "stderr",
     "output_type": "stream",
     "text": [
      "/Users/mariiashapo/Library/CloudStorage/OneDrive-Personal/project_2324/NODE/00_models/nn_pyomo_base.py:82: UserWarning: y_init should be structured such that each row represents a new time point.\n",
      "  warnings.warn(\"y_init should be structured such that each row represents a new time point.\")\n"
     ]
    },
    {
     "name": "stdout",
     "output_type": "stream",
     "text": [
      "Ipopt 3.14.16: tol=1e-05\n",
      "acceptable_tol=1e-15\n",
      "acceptable_constr_viol_tol=1e-15\n",
      "acceptable_dual_inf_tol=1e-15\n",
      "acceptable_compl_inf_tol=1e-15\n",
      "acceptable_iter=0\n",
      "halt_on_ampl_error=yes\n",
      "print_level=1\n",
      "max_iter=3000\n",
      "\n",
      "\n",
      "******************************************************************************\n",
      "This program contains Ipopt, a library for large-scale nonlinear optimization.\n",
      " Ipopt is released as open source code under the Eclipse Public License (EPL).\n",
      "         For more information visit https://github.com/coin-or/Ipopt\n",
      "******************************************************************************\n",
      "\n",
      "{'solver_time': 30.66110110282898, 'termination_condition': <TerminationCondition.optimal: 'optimal'>, 'message': 'Ipopt 3.14.16\\\\x3a Optimal Solution Found'}\n",
      "Iteration: 65 / 96\n"
     ]
    },
    {
     "name": "stderr",
     "output_type": "stream",
     "text": [
      "/Users/mariiashapo/Library/CloudStorage/OneDrive-Personal/project_2324/NODE/00_models/nn_pyomo_base.py:82: UserWarning: y_init should be structured such that each row represents a new time point.\n",
      "  warnings.warn(\"y_init should be structured such that each row represents a new time point.\")\n"
     ]
    },
    {
     "name": "stdout",
     "output_type": "stream",
     "text": [
      "Ipopt 3.14.16: tol=1e-06\n",
      "acceptable_tol=1e-15\n",
      "acceptable_constr_viol_tol=1e-15\n",
      "acceptable_dual_inf_tol=1e-15\n",
      "acceptable_compl_inf_tol=1e-15\n",
      "acceptable_iter=0\n",
      "halt_on_ampl_error=yes\n",
      "print_level=1\n",
      "max_iter=3000\n",
      "\n",
      "\n",
      "******************************************************************************\n",
      "This program contains Ipopt, a library for large-scale nonlinear optimization.\n",
      " Ipopt is released as open source code under the Eclipse Public License (EPL).\n",
      "         For more information visit https://github.com/coin-or/Ipopt\n",
      "******************************************************************************\n",
      "\n",
      "{'solver_time': 30.70280122756958, 'termination_condition': <TerminationCondition.optimal: 'optimal'>, 'message': 'Ipopt 3.14.16\\\\x3a Optimal Solution Found'}\n",
      "Iteration: 66 / 96\n"
     ]
    },
    {
     "name": "stderr",
     "output_type": "stream",
     "text": [
      "/Users/mariiashapo/Library/CloudStorage/OneDrive-Personal/project_2324/NODE/00_models/nn_pyomo_base.py:82: UserWarning: y_init should be structured such that each row represents a new time point.\n",
      "  warnings.warn(\"y_init should be structured such that each row represents a new time point.\")\n"
     ]
    },
    {
     "name": "stdout",
     "output_type": "stream",
     "text": [
      "Ipopt 3.14.16: tol=1e-07\n",
      "acceptable_tol=1e-15\n",
      "acceptable_constr_viol_tol=1e-15\n",
      "acceptable_dual_inf_tol=1e-15\n",
      "acceptable_compl_inf_tol=1e-15\n",
      "acceptable_iter=0\n",
      "halt_on_ampl_error=yes\n",
      "print_level=1\n",
      "max_iter=3000\n",
      "\n",
      "\n",
      "******************************************************************************\n",
      "This program contains Ipopt, a library for large-scale nonlinear optimization.\n",
      " Ipopt is released as open source code under the Eclipse Public License (EPL).\n",
      "         For more information visit https://github.com/coin-or/Ipopt\n",
      "******************************************************************************\n",
      "\n",
      "{'solver_time': 57.077361822128296, 'termination_condition': <TerminationCondition.optimal: 'optimal'>, 'message': 'Ipopt 3.14.16\\\\x3a Optimal Solution Found'}\n",
      "Iteration: 67 / 96\n"
     ]
    },
    {
     "name": "stderr",
     "output_type": "stream",
     "text": [
      "/Users/mariiashapo/Library/CloudStorage/OneDrive-Personal/project_2324/NODE/00_models/nn_pyomo_base.py:82: UserWarning: y_init should be structured such that each row represents a new time point.\n",
      "  warnings.warn(\"y_init should be structured such that each row represents a new time point.\")\n"
     ]
    },
    {
     "name": "stdout",
     "output_type": "stream",
     "text": [
      "Ipopt 3.14.16: tol=1e-08\n",
      "acceptable_tol=1e-15\n",
      "acceptable_constr_viol_tol=1e-15\n",
      "acceptable_dual_inf_tol=1e-15\n",
      "acceptable_compl_inf_tol=1e-15\n",
      "acceptable_iter=0\n",
      "halt_on_ampl_error=yes\n",
      "print_level=1\n",
      "max_iter=3000\n",
      "\n",
      "\n",
      "******************************************************************************\n",
      "This program contains Ipopt, a library for large-scale nonlinear optimization.\n",
      " Ipopt is released as open source code under the Eclipse Public License (EPL).\n",
      "         For more information visit https://github.com/coin-or/Ipopt\n",
      "******************************************************************************\n",
      "\n",
      "{'solver_time': 49.744163036346436, 'termination_condition': <TerminationCondition.optimal: 'optimal'>, 'message': 'Ipopt 3.14.16\\\\x3a Optimal Solution Found'}\n",
      "Iteration: 68 / 96\n"
     ]
    },
    {
     "name": "stderr",
     "output_type": "stream",
     "text": [
      "/Users/mariiashapo/Library/CloudStorage/OneDrive-Personal/project_2324/NODE/00_models/nn_pyomo_base.py:82: UserWarning: y_init should be structured such that each row represents a new time point.\n",
      "  warnings.warn(\"y_init should be structured such that each row represents a new time point.\")\n"
     ]
    },
    {
     "name": "stdout",
     "output_type": "stream",
     "text": [
      "Ipopt 3.14.16: tol=1e-05\n",
      "acceptable_tol=1e-15\n",
      "acceptable_constr_viol_tol=1e-15\n",
      "acceptable_dual_inf_tol=1e-15\n",
      "acceptable_compl_inf_tol=1e-15\n",
      "acceptable_iter=0\n",
      "halt_on_ampl_error=yes\n",
      "print_level=1\n",
      "max_iter=3000\n",
      "\n",
      "\n",
      "******************************************************************************\n",
      "This program contains Ipopt, a library for large-scale nonlinear optimization.\n",
      " Ipopt is released as open source code under the Eclipse Public License (EPL).\n",
      "         For more information visit https://github.com/coin-or/Ipopt\n",
      "******************************************************************************\n",
      "\n",
      "{'solver_time': 21.891674041748047, 'termination_condition': <TerminationCondition.optimal: 'optimal'>, 'message': 'Ipopt 3.14.16\\\\x3a Optimal Solution Found'}\n",
      "Iteration: 69 / 96\n"
     ]
    },
    {
     "name": "stderr",
     "output_type": "stream",
     "text": [
      "/Users/mariiashapo/Library/CloudStorage/OneDrive-Personal/project_2324/NODE/00_models/nn_pyomo_base.py:82: UserWarning: y_init should be structured such that each row represents a new time point.\n",
      "  warnings.warn(\"y_init should be structured such that each row represents a new time point.\")\n"
     ]
    },
    {
     "name": "stdout",
     "output_type": "stream",
     "text": [
      "Ipopt 3.14.16: tol=1e-06\n",
      "acceptable_tol=1e-15\n",
      "acceptable_constr_viol_tol=1e-15\n",
      "acceptable_dual_inf_tol=1e-15\n",
      "acceptable_compl_inf_tol=1e-15\n",
      "acceptable_iter=0\n",
      "halt_on_ampl_error=yes\n",
      "print_level=1\n",
      "max_iter=3000\n",
      "\n",
      "\n",
      "******************************************************************************\n",
      "This program contains Ipopt, a library for large-scale nonlinear optimization.\n",
      " Ipopt is released as open source code under the Eclipse Public License (EPL).\n",
      "         For more information visit https://github.com/coin-or/Ipopt\n",
      "******************************************************************************\n",
      "\n",
      "{'solver_time': 35.60764169692993, 'termination_condition': <TerminationCondition.optimal: 'optimal'>, 'message': 'Ipopt 3.14.16\\\\x3a Optimal Solution Found'}\n",
      "Iteration: 70 / 96\n"
     ]
    },
    {
     "name": "stderr",
     "output_type": "stream",
     "text": [
      "/Users/mariiashapo/Library/CloudStorage/OneDrive-Personal/project_2324/NODE/00_models/nn_pyomo_base.py:82: UserWarning: y_init should be structured such that each row represents a new time point.\n",
      "  warnings.warn(\"y_init should be structured such that each row represents a new time point.\")\n"
     ]
    },
    {
     "name": "stdout",
     "output_type": "stream",
     "text": [
      "Ipopt 3.14.16: tol=1e-07\n",
      "acceptable_tol=1e-15\n",
      "acceptable_constr_viol_tol=1e-15\n",
      "acceptable_dual_inf_tol=1e-15\n",
      "acceptable_compl_inf_tol=1e-15\n",
      "acceptable_iter=0\n",
      "halt_on_ampl_error=yes\n",
      "print_level=1\n",
      "max_iter=3000\n",
      "\n",
      "\n",
      "******************************************************************************\n",
      "This program contains Ipopt, a library for large-scale nonlinear optimization.\n",
      " Ipopt is released as open source code under the Eclipse Public License (EPL).\n",
      "         For more information visit https://github.com/coin-or/Ipopt\n",
      "******************************************************************************\n",
      "\n",
      "{'solver_time': 48.949098110198975, 'termination_condition': <TerminationCondition.optimal: 'optimal'>, 'message': 'Ipopt 3.14.16\\\\x3a Optimal Solution Found'}\n",
      "Iteration: 71 / 96\n"
     ]
    },
    {
     "name": "stderr",
     "output_type": "stream",
     "text": [
      "/Users/mariiashapo/Library/CloudStorage/OneDrive-Personal/project_2324/NODE/00_models/nn_pyomo_base.py:82: UserWarning: y_init should be structured such that each row represents a new time point.\n",
      "  warnings.warn(\"y_init should be structured such that each row represents a new time point.\")\n"
     ]
    },
    {
     "name": "stdout",
     "output_type": "stream",
     "text": [
      "Ipopt 3.14.16: tol=1e-08\n",
      "acceptable_tol=1e-15\n",
      "acceptable_constr_viol_tol=1e-15\n",
      "acceptable_dual_inf_tol=1e-15\n",
      "acceptable_compl_inf_tol=1e-15\n",
      "acceptable_iter=0\n",
      "halt_on_ampl_error=yes\n",
      "print_level=1\n",
      "max_iter=3000\n",
      "\n",
      "\n",
      "******************************************************************************\n",
      "This program contains Ipopt, a library for large-scale nonlinear optimization.\n",
      " Ipopt is released as open source code under the Eclipse Public License (EPL).\n",
      "         For more information visit https://github.com/coin-or/Ipopt\n",
      "******************************************************************************\n",
      "\n",
      "{'solver_time': 50.659348011016846, 'termination_condition': <TerminationCondition.optimal: 'optimal'>, 'message': 'Ipopt 3.14.16\\\\x3a Optimal Solution Found'}\n",
      "Iteration: 72 / 96\n"
     ]
    },
    {
     "name": "stderr",
     "output_type": "stream",
     "text": [
      "/Users/mariiashapo/Library/CloudStorage/OneDrive-Personal/project_2324/NODE/00_models/nn_pyomo_base.py:82: UserWarning: y_init should be structured such that each row represents a new time point.\n",
      "  warnings.warn(\"y_init should be structured such that each row represents a new time point.\")\n"
     ]
    },
    {
     "name": "stdout",
     "output_type": "stream",
     "text": [
      "Ipopt 3.14.16: tol=1e-05\n",
      "acceptable_tol=1e-15\n",
      "acceptable_constr_viol_tol=1e-15\n",
      "acceptable_dual_inf_tol=1e-15\n",
      "acceptable_compl_inf_tol=1e-15\n",
      "acceptable_iter=0\n",
      "halt_on_ampl_error=yes\n",
      "print_level=1\n",
      "max_iter=3000\n",
      "\n",
      "\n",
      "******************************************************************************\n",
      "This program contains Ipopt, a library for large-scale nonlinear optimization.\n",
      " Ipopt is released as open source code under the Eclipse Public License (EPL).\n",
      "         For more information visit https://github.com/coin-or/Ipopt\n",
      "******************************************************************************\n",
      "\n",
      "{'solver_time': 361.28394889831543, 'termination_condition': <TerminationCondition.optimal: 'optimal'>, 'message': 'Ipopt 3.14.16\\\\x3a Optimal Solution Found'}\n",
      "Iteration: 73 / 96\n"
     ]
    },
    {
     "name": "stderr",
     "output_type": "stream",
     "text": [
      "/Users/mariiashapo/Library/CloudStorage/OneDrive-Personal/project_2324/NODE/00_models/nn_pyomo_base.py:82: UserWarning: y_init should be structured such that each row represents a new time point.\n",
      "  warnings.warn(\"y_init should be structured such that each row represents a new time point.\")\n"
     ]
    },
    {
     "name": "stdout",
     "output_type": "stream",
     "text": [
      "Ipopt 3.14.16: tol=1e-06\n",
      "acceptable_tol=1e-15\n",
      "acceptable_constr_viol_tol=1e-15\n",
      "acceptable_dual_inf_tol=1e-15\n",
      "acceptable_compl_inf_tol=1e-15\n",
      "acceptable_iter=0\n",
      "halt_on_ampl_error=yes\n",
      "print_level=1\n",
      "max_iter=3000\n",
      "\n",
      "\n",
      "******************************************************************************\n",
      "This program contains Ipopt, a library for large-scale nonlinear optimization.\n",
      " Ipopt is released as open source code under the Eclipse Public License (EPL).\n",
      "         For more information visit https://github.com/coin-or/Ipopt\n",
      "******************************************************************************\n",
      "\n",
      "{'solver_time': 378.6384379863739, 'termination_condition': <TerminationCondition.optimal: 'optimal'>, 'message': 'Ipopt 3.14.16\\\\x3a Optimal Solution Found'}\n",
      "Iteration: 74 / 96\n"
     ]
    },
    {
     "name": "stderr",
     "output_type": "stream",
     "text": [
      "/Users/mariiashapo/Library/CloudStorage/OneDrive-Personal/project_2324/NODE/00_models/nn_pyomo_base.py:82: UserWarning: y_init should be structured such that each row represents a new time point.\n",
      "  warnings.warn(\"y_init should be structured such that each row represents a new time point.\")\n"
     ]
    },
    {
     "name": "stdout",
     "output_type": "stream",
     "text": [
      "Ipopt 3.14.16: tol=1e-07\n",
      "acceptable_tol=1e-15\n",
      "acceptable_constr_viol_tol=1e-15\n",
      "acceptable_dual_inf_tol=1e-15\n",
      "acceptable_compl_inf_tol=1e-15\n",
      "acceptable_iter=0\n",
      "halt_on_ampl_error=yes\n",
      "print_level=1\n",
      "max_iter=3000\n",
      "\n",
      "\n",
      "******************************************************************************\n",
      "This program contains Ipopt, a library for large-scale nonlinear optimization.\n",
      " Ipopt is released as open source code under the Eclipse Public License (EPL).\n",
      "         For more information visit https://github.com/coin-or/Ipopt\n",
      "******************************************************************************\n",
      "\n",
      "{'solver_time': 384.7202308177948, 'termination_condition': <TerminationCondition.optimal: 'optimal'>, 'message': 'Ipopt 3.14.16\\\\x3a Optimal Solution Found'}\n",
      "Iteration: 75 / 96\n"
     ]
    },
    {
     "name": "stderr",
     "output_type": "stream",
     "text": [
      "/Users/mariiashapo/Library/CloudStorage/OneDrive-Personal/project_2324/NODE/00_models/nn_pyomo_base.py:82: UserWarning: y_init should be structured such that each row represents a new time point.\n",
      "  warnings.warn(\"y_init should be structured such that each row represents a new time point.\")\n"
     ]
    },
    {
     "name": "stdout",
     "output_type": "stream",
     "text": [
      "Ipopt 3.14.16: tol=1e-08\n",
      "acceptable_tol=1e-15\n",
      "acceptable_constr_viol_tol=1e-15\n",
      "acceptable_dual_inf_tol=1e-15\n",
      "acceptable_compl_inf_tol=1e-15\n",
      "acceptable_iter=0\n",
      "halt_on_ampl_error=yes\n",
      "print_level=1\n",
      "max_iter=3000\n",
      "\n",
      "\n",
      "******************************************************************************\n",
      "This program contains Ipopt, a library for large-scale nonlinear optimization.\n",
      " Ipopt is released as open source code under the Eclipse Public License (EPL).\n",
      "         For more information visit https://github.com/coin-or/Ipopt\n",
      "******************************************************************************\n",
      "\n",
      "{'solver_time': 461.2948319911957, 'termination_condition': <TerminationCondition.maxIterations: 'maxIterations'>, 'message': 'Ipopt 3.14.16\\\\x3a Maximum Number of Iterations Exceeded.'}\n",
      "Iteration: 76 / 96\n"
     ]
    },
    {
     "name": "stderr",
     "output_type": "stream",
     "text": [
      "/Users/mariiashapo/Library/CloudStorage/OneDrive-Personal/project_2324/NODE/00_models/nn_pyomo_base.py:82: UserWarning: y_init should be structured such that each row represents a new time point.\n",
      "  warnings.warn(\"y_init should be structured such that each row represents a new time point.\")\n"
     ]
    },
    {
     "name": "stdout",
     "output_type": "stream",
     "text": [
      "Ipopt 3.14.16: tol=1e-05\n",
      "acceptable_tol=1e-15\n",
      "acceptable_constr_viol_tol=1e-15\n",
      "acceptable_dual_inf_tol=1e-15\n",
      "acceptable_compl_inf_tol=1e-15\n",
      "acceptable_iter=0\n",
      "halt_on_ampl_error=yes\n",
      "print_level=1\n",
      "max_iter=3000\n",
      "\n",
      "\n",
      "******************************************************************************\n",
      "This program contains Ipopt, a library for large-scale nonlinear optimization.\n",
      " Ipopt is released as open source code under the Eclipse Public License (EPL).\n",
      "         For more information visit https://github.com/coin-or/Ipopt\n",
      "******************************************************************************\n",
      "\n",
      "{'solver_time': 129.10185289382935, 'termination_condition': <TerminationCondition.optimal: 'optimal'>, 'message': 'Ipopt 3.14.16\\\\x3a Optimal Solution Found'}\n",
      "Iteration: 77 / 96\n"
     ]
    },
    {
     "name": "stderr",
     "output_type": "stream",
     "text": [
      "/Users/mariiashapo/Library/CloudStorage/OneDrive-Personal/project_2324/NODE/00_models/nn_pyomo_base.py:82: UserWarning: y_init should be structured such that each row represents a new time point.\n",
      "  warnings.warn(\"y_init should be structured such that each row represents a new time point.\")\n"
     ]
    },
    {
     "name": "stdout",
     "output_type": "stream",
     "text": [
      "Ipopt 3.14.16: tol=1e-06\n",
      "acceptable_tol=1e-15\n",
      "acceptable_constr_viol_tol=1e-15\n",
      "acceptable_dual_inf_tol=1e-15\n",
      "acceptable_compl_inf_tol=1e-15\n",
      "acceptable_iter=0\n",
      "halt_on_ampl_error=yes\n",
      "print_level=1\n",
      "max_iter=3000\n",
      "\n",
      "\n",
      "******************************************************************************\n",
      "This program contains Ipopt, a library for large-scale nonlinear optimization.\n",
      " Ipopt is released as open source code under the Eclipse Public License (EPL).\n",
      "         For more information visit https://github.com/coin-or/Ipopt\n",
      "******************************************************************************\n",
      "\n",
      "Ipopt 3.14.16: tol=1e-07\n",
      "acceptable_tol=1e-15\n",
      "acceptable_constr_viol_tol=1e-15\n",
      "acceptable_dual_inf_tol=1e-15\n",
      "acceptable_compl_inf_tol=1e-15\n",
      "acceptable_iter=0\n",
      "halt_on_ampl_error=yes\n",
      "print_level=1\n",
      "max_iter=3000\n",
      "\n",
      "\n",
      "******************************************************************************\n",
      "This program contains Ipopt, a library for large-scale nonlinear optimization.\n",
      " Ipopt is released as open source code under the Eclipse Public License (EPL).\n",
      "         For more information visit https://github.com/coin-or/Ipopt\n",
      "******************************************************************************\n",
      "\n"
     ]
    },
    {
     "ename": "KeyboardInterrupt",
     "evalue": "",
     "output_type": "error",
     "traceback": [
      "\u001b[0;31m---------------------------------------------------------------------------\u001b[0m",
      "\u001b[0;31mKeyboardInterrupt\u001b[0m                         Traceback (most recent call last)",
      "Cell \u001b[0;32mIn[224], line 40\u001b[0m\n\u001b[1;32m     37\u001b[0m params_model[\u001b[38;5;124m'\u001b[39m\u001b[38;5;124mparams\u001b[39m\u001b[38;5;124m'\u001b[39m][\u001b[38;5;124m'\u001b[39m\u001b[38;5;124mtol\u001b[39m\u001b[38;5;124m'\u001b[39m] \u001b[38;5;241m=\u001b[39m param_comb[\u001b[38;5;241m1\u001b[39m]\n\u001b[1;32m     39\u001b[0m \u001b[38;5;28;01mtry\u001b[39;00m:\n\u001b[0;32m---> 40\u001b[0m   \u001b[43mtrainer\u001b[49m\u001b[38;5;241;43m.\u001b[39;49m\u001b[43mtrain\u001b[49m\u001b[43m(\u001b[49m\u001b[43mparams_model\u001b[49m\u001b[43m)\u001b[49m\n\u001b[1;32m     41\u001b[0m \u001b[38;5;28;01mexcept\u001b[39;00m \u001b[38;5;167;01mException\u001b[39;00m \u001b[38;5;28;01mas\u001b[39;00m e:\n\u001b[1;32m     42\u001b[0m   logging\u001b[38;5;241m.\u001b[39merror(\u001b[38;5;124m\"\u001b[39m\u001b[38;5;124mFailed to complete training: \u001b[39m\u001b[38;5;132;01m{}\u001b[39;00m\u001b[38;5;124m\"\u001b[39m\u001b[38;5;241m.\u001b[39mformat(e))\n",
      "File \u001b[0;32m~/Library/CloudStorage/OneDrive-Personal/project_2324/NODE/01_nn_2d_comparisons_hparam/run_train_toy.py:108\u001b[0m, in \u001b[0;36mPyomoTrainerToy.train\u001b[0;34m(self, params_model, params_solver)\u001b[0m\n\u001b[1;32m     94\u001b[0m \u001b[38;5;28mself\u001b[39m\u001b[38;5;241m.\u001b[39mmodel \u001b[38;5;241m=\u001b[39m PyomoModel(\n\u001b[1;32m     95\u001b[0m                 \u001b[38;5;28mself\u001b[39m\u001b[38;5;241m.\u001b[39my_noisy,\n\u001b[1;32m     96\u001b[0m                 \u001b[38;5;28mself\u001b[39m\u001b[38;5;241m.\u001b[39mt, \n\u001b[0;32m   (...)\u001b[0m\n\u001b[1;32m    104\u001b[0m                 params \u001b[38;5;241m=\u001b[39m \u001b[38;5;28mself\u001b[39m\u001b[38;5;241m.\u001b[39mparams\n\u001b[1;32m    105\u001b[0m                 )\n\u001b[1;32m    107\u001b[0m \u001b[38;5;28mself\u001b[39m\u001b[38;5;241m.\u001b[39mmodel\u001b[38;5;241m.\u001b[39mbuild_model()\n\u001b[0;32m--> 108\u001b[0m result \u001b[38;5;241m=\u001b[39m \u001b[38;5;28;43mself\u001b[39;49m\u001b[38;5;241;43m.\u001b[39;49m\u001b[43mmodel\u001b[49m\u001b[38;5;241;43m.\u001b[39;49m\u001b[43msolve_model\u001b[49m\u001b[43m(\u001b[49m\u001b[43m)\u001b[49m        \n\u001b[1;32m    109\u001b[0m \u001b[38;5;28mself\u001b[39m\u001b[38;5;241m.\u001b[39mtime_elapsed \u001b[38;5;241m=\u001b[39m result[\u001b[38;5;124m'\u001b[39m\u001b[38;5;124msolver_time\u001b[39m\u001b[38;5;124m'\u001b[39m]\n\u001b[1;32m    110\u001b[0m \u001b[38;5;28mself\u001b[39m\u001b[38;5;241m.\u001b[39mtermination \u001b[38;5;241m=\u001b[39m result[\u001b[38;5;124m'\u001b[39m\u001b[38;5;124mtermination_condition\u001b[39m\u001b[38;5;124m'\u001b[39m]\n",
      "File \u001b[0;32m~/Library/CloudStorage/OneDrive-Personal/project_2324/NODE/00_models/nn_pyomo_base.py:247\u001b[0m, in \u001b[0;36mNeuralODEPyomo.solve_model\u001b[0;34m(self)\u001b[0m\n\u001b[1;32m    244\u001b[0m \u001b[38;5;28;01mdef\u001b[39;00m \u001b[38;5;21msolve_model\u001b[39m(\u001b[38;5;28mself\u001b[39m):\n\u001b[1;32m    245\u001b[0m     solver \u001b[38;5;241m=\u001b[39m \u001b[38;5;28mself\u001b[39m\u001b[38;5;241m.\u001b[39minitialize_solver()\n\u001b[0;32m--> 247\u001b[0m     result \u001b[38;5;241m=\u001b[39m \u001b[43msolver\u001b[49m\u001b[38;5;241;43m.\u001b[39;49m\u001b[43msolve\u001b[49m\u001b[43m(\u001b[49m\u001b[38;5;28;43mself\u001b[39;49m\u001b[38;5;241;43m.\u001b[39;49m\u001b[43mmodel\u001b[49m\u001b[43m,\u001b[49m\u001b[43m \u001b[49m\u001b[43mtee\u001b[49m\u001b[38;5;241;43m=\u001b[39;49m\u001b[38;5;28;43;01mTrue\u001b[39;49;00m\u001b[43m)\u001b[49m\n\u001b[1;32m    249\u001b[0m     \u001b[38;5;28;01mreturn\u001b[39;00m \u001b[38;5;28mself\u001b[39m\u001b[38;5;241m.\u001b[39mextract_solver_info(result)\n",
      "File \u001b[0;32m~/anaconda3/envs/collocation_env/lib/python3.9/site-packages/pyomo/opt/base/solvers.py:610\u001b[0m, in \u001b[0;36mOptSolver.solve\u001b[0;34m(self, *args, **kwds)\u001b[0m\n\u001b[1;32m    607\u001b[0m \u001b[38;5;28;01mif\u001b[39;00m \u001b[38;5;129;01mnot\u001b[39;00m _model \u001b[38;5;129;01mis\u001b[39;00m \u001b[38;5;28;01mNone\u001b[39;00m:\n\u001b[1;32m    608\u001b[0m     \u001b[38;5;28mself\u001b[39m\u001b[38;5;241m.\u001b[39m_initialize_callbacks(_model)\n\u001b[0;32m--> 610\u001b[0m _status \u001b[38;5;241m=\u001b[39m \u001b[38;5;28;43mself\u001b[39;49m\u001b[38;5;241;43m.\u001b[39;49m\u001b[43m_apply_solver\u001b[49m\u001b[43m(\u001b[49m\u001b[43m)\u001b[49m\n\u001b[1;32m    611\u001b[0m \u001b[38;5;28;01mif\u001b[39;00m \u001b[38;5;28mhasattr\u001b[39m(\u001b[38;5;28mself\u001b[39m, \u001b[38;5;124m'\u001b[39m\u001b[38;5;124m_transformation_data\u001b[39m\u001b[38;5;124m'\u001b[39m):\n\u001b[1;32m    612\u001b[0m     \u001b[38;5;28;01mdel\u001b[39;00m \u001b[38;5;28mself\u001b[39m\u001b[38;5;241m.\u001b[39m_transformation_data\n",
      "File \u001b[0;32m~/anaconda3/envs/collocation_env/lib/python3.9/site-packages/pyomo/opt/solver/shellcmd.py:266\u001b[0m, in \u001b[0;36mSystemCallSolver._apply_solver\u001b[0;34m(self)\u001b[0m\n\u001b[1;32m    263\u001b[0m         \u001b[38;5;28mprint\u001b[39m(\u001b[38;5;124m\"\u001b[39m\u001b[38;5;124mSolver problem files: \u001b[39m\u001b[38;5;132;01m%s\u001b[39;00m\u001b[38;5;124m\"\u001b[39m \u001b[38;5;241m%\u001b[39m \u001b[38;5;28mstr\u001b[39m(\u001b[38;5;28mself\u001b[39m\u001b[38;5;241m.\u001b[39m_problem_files))\n\u001b[1;32m    265\u001b[0m sys\u001b[38;5;241m.\u001b[39mstdout\u001b[38;5;241m.\u001b[39mflush()\n\u001b[0;32m--> 266\u001b[0m \u001b[38;5;28mself\u001b[39m\u001b[38;5;241m.\u001b[39m_rc, \u001b[38;5;28mself\u001b[39m\u001b[38;5;241m.\u001b[39m_log \u001b[38;5;241m=\u001b[39m \u001b[38;5;28;43mself\u001b[39;49m\u001b[38;5;241;43m.\u001b[39;49m\u001b[43m_execute_command\u001b[49m\u001b[43m(\u001b[49m\u001b[38;5;28;43mself\u001b[39;49m\u001b[38;5;241;43m.\u001b[39;49m\u001b[43m_command\u001b[49m\u001b[43m)\u001b[49m\n\u001b[1;32m    267\u001b[0m sys\u001b[38;5;241m.\u001b[39mstdout\u001b[38;5;241m.\u001b[39mflush()\n\u001b[1;32m    268\u001b[0m \u001b[38;5;28;01mreturn\u001b[39;00m Bunch(rc\u001b[38;5;241m=\u001b[39m\u001b[38;5;28mself\u001b[39m\u001b[38;5;241m.\u001b[39m_rc, log\u001b[38;5;241m=\u001b[39m\u001b[38;5;28mself\u001b[39m\u001b[38;5;241m.\u001b[39m_log)\n",
      "File \u001b[0;32m~/anaconda3/envs/collocation_env/lib/python3.9/site-packages/pyomo/opt/solver/shellcmd.py:334\u001b[0m, in \u001b[0;36mSystemCallSolver._execute_command\u001b[0;34m(self, command)\u001b[0m\n\u001b[1;32m    332\u001b[0m \u001b[38;5;28;01mtry\u001b[39;00m:\n\u001b[1;32m    333\u001b[0m     \u001b[38;5;28;01mwith\u001b[39;00m TeeStream(\u001b[38;5;241m*\u001b[39mostreams) \u001b[38;5;28;01mas\u001b[39;00m t:\n\u001b[0;32m--> 334\u001b[0m         results \u001b[38;5;241m=\u001b[39m \u001b[43msubprocess\u001b[49m\u001b[38;5;241;43m.\u001b[39;49m\u001b[43mrun\u001b[49m\u001b[43m(\u001b[49m\n\u001b[1;32m    335\u001b[0m \u001b[43m            \u001b[49m\u001b[43mcommand\u001b[49m\u001b[38;5;241;43m.\u001b[39;49m\u001b[43mcmd\u001b[49m\u001b[43m,\u001b[49m\n\u001b[1;32m    336\u001b[0m \u001b[43m            \u001b[49m\u001b[38;5;28;43minput\u001b[39;49m\u001b[38;5;241;43m=\u001b[39;49m\u001b[43m_input\u001b[49m\u001b[43m,\u001b[49m\n\u001b[1;32m    337\u001b[0m \u001b[43m            \u001b[49m\u001b[43menv\u001b[49m\u001b[38;5;241;43m=\u001b[39;49m\u001b[43mcommand\u001b[49m\u001b[38;5;241;43m.\u001b[39;49m\u001b[43menv\u001b[49m\u001b[43m,\u001b[49m\n\u001b[1;32m    338\u001b[0m \u001b[43m            \u001b[49m\u001b[43mstdout\u001b[49m\u001b[38;5;241;43m=\u001b[39;49m\u001b[43mt\u001b[49m\u001b[38;5;241;43m.\u001b[39;49m\u001b[43mSTDOUT\u001b[49m\u001b[43m,\u001b[49m\n\u001b[1;32m    339\u001b[0m \u001b[43m            \u001b[49m\u001b[43mstderr\u001b[49m\u001b[38;5;241;43m=\u001b[39;49m\u001b[43mt\u001b[49m\u001b[38;5;241;43m.\u001b[39;49m\u001b[43mSTDERR\u001b[49m\u001b[43m,\u001b[49m\n\u001b[1;32m    340\u001b[0m \u001b[43m            \u001b[49m\u001b[43mtimeout\u001b[49m\u001b[38;5;241;43m=\u001b[39;49m\u001b[43mtimeout\u001b[49m\u001b[43m,\u001b[49m\n\u001b[1;32m    341\u001b[0m \u001b[43m            \u001b[49m\u001b[43muniversal_newlines\u001b[49m\u001b[38;5;241;43m=\u001b[39;49m\u001b[38;5;28;43;01mTrue\u001b[39;49;00m\u001b[43m,\u001b[49m\n\u001b[1;32m    342\u001b[0m \u001b[43m            \u001b[49m\u001b[43mcwd\u001b[49m\u001b[38;5;241;43m=\u001b[39;49m\u001b[43mcommand\u001b[49m\u001b[38;5;241;43m.\u001b[39;49m\u001b[43mcwd\u001b[49m\u001b[43m \u001b[49m\u001b[38;5;28;43;01mif\u001b[39;49;00m\u001b[43m \u001b[49m\u001b[38;5;124;43m\"\u001b[39;49m\u001b[38;5;124;43mcwd\u001b[39;49m\u001b[38;5;124;43m\"\u001b[39;49m\u001b[43m \u001b[49m\u001b[38;5;129;43;01min\u001b[39;49;00m\u001b[43m \u001b[49m\u001b[43mcommand\u001b[49m\u001b[43m \u001b[49m\u001b[38;5;28;43;01melse\u001b[39;49;00m\u001b[43m \u001b[49m\u001b[38;5;28;43;01mNone\u001b[39;49;00m\u001b[43m,\u001b[49m\n\u001b[1;32m    343\u001b[0m \u001b[43m        \u001b[49m\u001b[43m)\u001b[49m\n\u001b[1;32m    344\u001b[0m         t\u001b[38;5;241m.\u001b[39mSTDOUT\u001b[38;5;241m.\u001b[39mflush()\n\u001b[1;32m    345\u001b[0m         t\u001b[38;5;241m.\u001b[39mSTDERR\u001b[38;5;241m.\u001b[39mflush()\n",
      "File \u001b[0;32m~/anaconda3/envs/collocation_env/lib/python3.9/subprocess.py:507\u001b[0m, in \u001b[0;36mrun\u001b[0;34m(input, capture_output, timeout, check, *popenargs, **kwargs)\u001b[0m\n\u001b[1;32m    505\u001b[0m \u001b[38;5;28;01mwith\u001b[39;00m Popen(\u001b[38;5;241m*\u001b[39mpopenargs, \u001b[38;5;241m*\u001b[39m\u001b[38;5;241m*\u001b[39mkwargs) \u001b[38;5;28;01mas\u001b[39;00m process:\n\u001b[1;32m    506\u001b[0m     \u001b[38;5;28;01mtry\u001b[39;00m:\n\u001b[0;32m--> 507\u001b[0m         stdout, stderr \u001b[38;5;241m=\u001b[39m \u001b[43mprocess\u001b[49m\u001b[38;5;241;43m.\u001b[39;49m\u001b[43mcommunicate\u001b[49m\u001b[43m(\u001b[49m\u001b[38;5;28;43minput\u001b[39;49m\u001b[43m,\u001b[49m\u001b[43m \u001b[49m\u001b[43mtimeout\u001b[49m\u001b[38;5;241;43m=\u001b[39;49m\u001b[43mtimeout\u001b[49m\u001b[43m)\u001b[49m\n\u001b[1;32m    508\u001b[0m     \u001b[38;5;28;01mexcept\u001b[39;00m TimeoutExpired \u001b[38;5;28;01mas\u001b[39;00m exc:\n\u001b[1;32m    509\u001b[0m         process\u001b[38;5;241m.\u001b[39mkill()\n",
      "File \u001b[0;32m~/anaconda3/envs/collocation_env/lib/python3.9/subprocess.py:1126\u001b[0m, in \u001b[0;36mPopen.communicate\u001b[0;34m(self, input, timeout)\u001b[0m\n\u001b[1;32m   1124\u001b[0m         stderr \u001b[38;5;241m=\u001b[39m \u001b[38;5;28mself\u001b[39m\u001b[38;5;241m.\u001b[39mstderr\u001b[38;5;241m.\u001b[39mread()\n\u001b[1;32m   1125\u001b[0m         \u001b[38;5;28mself\u001b[39m\u001b[38;5;241m.\u001b[39mstderr\u001b[38;5;241m.\u001b[39mclose()\n\u001b[0;32m-> 1126\u001b[0m     \u001b[38;5;28;43mself\u001b[39;49m\u001b[38;5;241;43m.\u001b[39;49m\u001b[43mwait\u001b[49m\u001b[43m(\u001b[49m\u001b[43m)\u001b[49m\n\u001b[1;32m   1127\u001b[0m \u001b[38;5;28;01melse\u001b[39;00m:\n\u001b[1;32m   1128\u001b[0m     \u001b[38;5;28;01mif\u001b[39;00m timeout \u001b[38;5;129;01mis\u001b[39;00m \u001b[38;5;129;01mnot\u001b[39;00m \u001b[38;5;28;01mNone\u001b[39;00m:\n",
      "File \u001b[0;32m~/anaconda3/envs/collocation_env/lib/python3.9/subprocess.py:1189\u001b[0m, in \u001b[0;36mPopen.wait\u001b[0;34m(self, timeout)\u001b[0m\n\u001b[1;32m   1187\u001b[0m     endtime \u001b[38;5;241m=\u001b[39m _time() \u001b[38;5;241m+\u001b[39m timeout\n\u001b[1;32m   1188\u001b[0m \u001b[38;5;28;01mtry\u001b[39;00m:\n\u001b[0;32m-> 1189\u001b[0m     \u001b[38;5;28;01mreturn\u001b[39;00m \u001b[38;5;28;43mself\u001b[39;49m\u001b[38;5;241;43m.\u001b[39;49m\u001b[43m_wait\u001b[49m\u001b[43m(\u001b[49m\u001b[43mtimeout\u001b[49m\u001b[38;5;241;43m=\u001b[39;49m\u001b[43mtimeout\u001b[49m\u001b[43m)\u001b[49m\n\u001b[1;32m   1190\u001b[0m \u001b[38;5;28;01mexcept\u001b[39;00m \u001b[38;5;167;01mKeyboardInterrupt\u001b[39;00m:\n\u001b[1;32m   1191\u001b[0m     \u001b[38;5;66;03m# https://bugs.python.org/issue25942\u001b[39;00m\n\u001b[1;32m   1192\u001b[0m     \u001b[38;5;66;03m# The first keyboard interrupt waits briefly for the child to\u001b[39;00m\n\u001b[1;32m   1193\u001b[0m     \u001b[38;5;66;03m# exit under the common assumption that it also received the ^C\u001b[39;00m\n\u001b[1;32m   1194\u001b[0m     \u001b[38;5;66;03m# generated SIGINT and will exit rapidly.\u001b[39;00m\n\u001b[1;32m   1195\u001b[0m     \u001b[38;5;28;01mif\u001b[39;00m timeout \u001b[38;5;129;01mis\u001b[39;00m \u001b[38;5;129;01mnot\u001b[39;00m \u001b[38;5;28;01mNone\u001b[39;00m:\n",
      "File \u001b[0;32m~/anaconda3/envs/collocation_env/lib/python3.9/subprocess.py:1933\u001b[0m, in \u001b[0;36mPopen._wait\u001b[0;34m(self, timeout)\u001b[0m\n\u001b[1;32m   1931\u001b[0m \u001b[38;5;28;01mif\u001b[39;00m \u001b[38;5;28mself\u001b[39m\u001b[38;5;241m.\u001b[39mreturncode \u001b[38;5;129;01mis\u001b[39;00m \u001b[38;5;129;01mnot\u001b[39;00m \u001b[38;5;28;01mNone\u001b[39;00m:\n\u001b[1;32m   1932\u001b[0m     \u001b[38;5;28;01mbreak\u001b[39;00m  \u001b[38;5;66;03m# Another thread waited.\u001b[39;00m\n\u001b[0;32m-> 1933\u001b[0m (pid, sts) \u001b[38;5;241m=\u001b[39m \u001b[38;5;28;43mself\u001b[39;49m\u001b[38;5;241;43m.\u001b[39;49m\u001b[43m_try_wait\u001b[49m\u001b[43m(\u001b[49m\u001b[38;5;241;43m0\u001b[39;49m\u001b[43m)\u001b[49m\n\u001b[1;32m   1934\u001b[0m \u001b[38;5;66;03m# Check the pid and loop as waitpid has been known to\u001b[39;00m\n\u001b[1;32m   1935\u001b[0m \u001b[38;5;66;03m# return 0 even without WNOHANG in odd situations.\u001b[39;00m\n\u001b[1;32m   1936\u001b[0m \u001b[38;5;66;03m# http://bugs.python.org/issue14396.\u001b[39;00m\n\u001b[1;32m   1937\u001b[0m \u001b[38;5;28;01mif\u001b[39;00m pid \u001b[38;5;241m==\u001b[39m \u001b[38;5;28mself\u001b[39m\u001b[38;5;241m.\u001b[39mpid:\n",
      "File \u001b[0;32m~/anaconda3/envs/collocation_env/lib/python3.9/subprocess.py:1891\u001b[0m, in \u001b[0;36mPopen._try_wait\u001b[0;34m(self, wait_flags)\u001b[0m\n\u001b[1;32m   1889\u001b[0m \u001b[38;5;250m\u001b[39m\u001b[38;5;124;03m\"\"\"All callers to this function MUST hold self._waitpid_lock.\"\"\"\u001b[39;00m\n\u001b[1;32m   1890\u001b[0m \u001b[38;5;28;01mtry\u001b[39;00m:\n\u001b[0;32m-> 1891\u001b[0m     (pid, sts) \u001b[38;5;241m=\u001b[39m \u001b[43mos\u001b[49m\u001b[38;5;241;43m.\u001b[39;49m\u001b[43mwaitpid\u001b[49m\u001b[43m(\u001b[49m\u001b[38;5;28;43mself\u001b[39;49m\u001b[38;5;241;43m.\u001b[39;49m\u001b[43mpid\u001b[49m\u001b[43m,\u001b[49m\u001b[43m \u001b[49m\u001b[43mwait_flags\u001b[49m\u001b[43m)\u001b[49m\n\u001b[1;32m   1892\u001b[0m \u001b[38;5;28;01mexcept\u001b[39;00m \u001b[38;5;167;01mChildProcessError\u001b[39;00m:\n\u001b[1;32m   1893\u001b[0m     \u001b[38;5;66;03m# This happens if SIGCLD is set to be ignored or waiting\u001b[39;00m\n\u001b[1;32m   1894\u001b[0m     \u001b[38;5;66;03m# for child processes has otherwise been disabled for our\u001b[39;00m\n\u001b[1;32m   1895\u001b[0m     \u001b[38;5;66;03m# process.  This child is dead, we can't get the status.\u001b[39;00m\n\u001b[1;32m   1896\u001b[0m     pid \u001b[38;5;241m=\u001b[39m \u001b[38;5;28mself\u001b[39m\u001b[38;5;241m.\u001b[39mpid\n",
      "\u001b[0;31mKeyboardInterrupt\u001b[0m: "
     ]
    }
   ],
   "source": [
    "tol = 1e-7\n",
    "params_model = {\n",
    "    'layer_widths': [2, 16, 2],\n",
    "    'act_func': 'tanh',\n",
    "    'penalty_lambda_reg': 0.01,\n",
    "    'time_invariant': True,\n",
    "    'w_init_method': 'xavier',\n",
    "    'params': \n",
    "            {\n",
    "          \"tol\":1e-7, \n",
    "          #\"dual_inf_tol\": tol, \n",
    "          #\"compl_inf_tol\": tol,\n",
    "          #\"constr_viol_tol\": tol, \n",
    "          \"acceptable_tol\": 1e-15,\n",
    "          \"acceptable_constr_viol_tol\": 1e-15,\n",
    "          \"acceptable_dual_inf_tol\": 1e-15,\n",
    "          \"acceptable_compl_inf_tol\": 1e-15,\n",
    "          \"acceptable_iter\": 0,    \n",
    "          \"halt_on_ampl_error\" : 'yes',\n",
    "          \"print_level\": 1, \n",
    "          \"max_iter\": 3000}\n",
    "}\n",
    "\n",
    "results = {}\n",
    "\n",
    "lw_list = [[2, 4, 2], [2, 8, 2],[2, 16, 2], [2, 32, 2], [2, 64, 2], [2, 128, 2], [2, 8, 8, 2], [2, 16, 16, 2]]\n",
    "\n",
    "total_iter = len(param_combinations)*len(lw_list)\n",
    "i = 1\n",
    "\n",
    "for lw in lw_list:\n",
    "    params_model['layer_widths'] = lw\n",
    "    results[str(lw)] = {}\n",
    "    \n",
    "    for param_comb in param_combinations:\n",
    "      params_model['penalty_lambda_reg'] = param_comb[0]\n",
    "      params_model['params']['tol'] = param_comb[1]\n",
    "      \n",
    "      try:\n",
    "        trainer.train_pyomo(params_model)\n",
    "      except Exception as e:\n",
    "        logging.error(\"Failed to complete training: {}\".format(e))\n",
    "        continue\n",
    "      \n",
    "      try:\n",
    "        result = trainer.extract_results_pyomo()\n",
    "        results[str(lw)][str(param_comb)] = result\n",
    "      except XlaRuntimeError as e:\n",
    "        logging.error(\"An XlaRuntimeError occurred: {}\".format(e))\n",
    "        print(f\"Error during result extraction: {e}\")\n",
    "      \n",
    "      print(\"Iteration:\", i, \"/\", total_iter)\n",
    "      i+=1"
   ]
  },
  {
   "cell_type": "code",
   "execution_count": 236,
   "metadata": {},
   "outputs": [],
   "source": [
    "# box plots of accuracy and time elapsed for each layer width\n",
    "# x axis: layer width\n",
    "acc = []\n",
    "time = []\n",
    "\n",
    "for lw in results.keys():\n",
    "    acc_temp = []\n",
    "    time_temp = []\n",
    "    for param_comb in results[lw].keys():\n",
    "        acc_temp.append(results[lw][param_comb]['mse_test'].item())\n",
    "        time_temp.append(results[lw][param_comb]['time_elapsed'])\n",
    "        \n",
    "    acc.append(acc_temp)\n",
    "    time.append(time_temp)"
   ]
  },
  {
   "cell_type": "code",
   "execution_count": 247,
   "metadata": {},
   "outputs": [
    {
     "data": {
      "image/png": "[encoded data removed]",
      "text/plain": [
       "<Figure size 1000x600 with 1 Axes>"
      ]
     },
     "metadata": {},
     "output_type": "display_data"
    }
   ],
   "source": [
    "n_groups = len(acc)\n",
    "\n",
    "# Create positions for each boxplot\n",
    "positions_1 = [2 * i + 1.1 for i in range(n_groups)]  # Odd positions for accuracy\n",
    "positions_2 = [2 * i + 1.9 for i in range(n_groups)]\n",
    "\n",
    "plt.figure(figsize=(10, 6))\n",
    "\n",
    "plt.boxplot(acc, positions=positions_1, widths=0.6, patch_artist=True, boxprops=dict(facecolor='blue'))\n",
    "plt.boxplot(acc, positions=positions_2, widths=0.6, patch_artist=True, boxprops=dict(facecolor='green'))\n",
    "\n",
    "plt.title('Boxplot of MSE (train set) for different model sizes')\n",
    "plt.xlabel('Model Size Configuration')\n",
    "plt.ylabel('MSE (train set)')\n",
    "plt.yscale('log')\n",
    "\n",
    "labels = list(results.keys())\n",
    "xticks = [2 * i + 1.5 for i in range(n_groups)]  # positions halfway between the boxes\n",
    "plt.xticks(ticks=xticks, labels=labels)\n",
    "\n",
    "plt.legend(['Pyomo', 'Diffrax'], loc='upper right')\n",
    "\n",
    "plt.show()"
   ]
  },
  {
   "cell_type": "code",
   "execution_count": 226,
   "metadata": {},
   "outputs": [
    {
     "data": {
      "image/png": "[encoded data removed]",
      "text/plain": [
       "<Figure size 1000x600 with 1 Axes>"
      ]
     },
     "metadata": {},
     "output_type": "display_data"
    }
   ],
   "source": [
    "plt.figure(figsize=(10, 6))\n",
    "plt.boxplot(time)\n",
    "\n",
    "plt.title('Boxplot of Training Time (sec) for different model sizes')\n",
    "plt.xlabel('Model Configuration')\n",
    "plt.ylabel('Training Time (s)')\n",
    "\n",
    "labels = list(results.keys())\n",
    "ticks = range(1, len(labels) + 1)\n",
    "plt.xticks(ticks=ticks, labels=labels)\n",
    "\n",
    "plt.yscale('log')\n",
    "plt.show()"
   ]
  },
  {
   "cell_type": "code",
   "execution_count": 228,
   "metadata": {},
   "outputs": [],
   "source": [
    "with open('pyomo_results.pkl', 'wb') as file:\n",
    "    pickle.dump(results, file)"
   ]
  },
  {
   "cell_type": "markdown",
   "metadata": {},
   "source": [
    "---"
   ]
  },
  {
   "cell_type": "code",
   "execution_count": 261,
   "metadata": {},
   "outputs": [],
   "source": [
    "import run_train_toy\n",
    "importlib.reload(run_train_toy)\n",
    "PyomoTrainerToy = run_train_toy.PyomoTrainerToy\n",
    "\n",
    "data_params = {\n",
    "    'N': 200,\n",
    "    'noise_level': 0.1,\n",
    "    'ode_type': \"van_der_pol\",\n",
    "    'data_param': {\"mu\": 1, \"omega\": 1},\n",
    "    'start_time': 0,\n",
    "    'end_time': 10,\n",
    "    'spacing_type': \"chebyshev\",\n",
    "    'initial_state': np.array([0.0, 1.0])\n",
    "}\n",
    "\n",
    "trainer = PyomoTrainerToy(data_params, model_type=\"pyomo\")\n",
    "trainer.prepare_inputs()"
   ]
  },
  {
   "cell_type": "code",
   "execution_count": 257,
   "metadata": {},
   "outputs": [
    {
     "name": "stdout",
     "output_type": "stream",
     "text": [
      "(0.01, 1e-08)\n",
      "Regularization: 0.01 Tolerance: 1e-08\n"
     ]
    }
   ],
   "source": [
    "import itertools\n",
    "\n",
    "reg_list = [1e-3, 1e-2, 1e-1]\n",
    "tol_list = [1e-5, 1e-6, 1e-7, 1e-8]\n",
    "reg_list = [1e-2]\n",
    "tol_list = [1e-8]\n",
    "\n",
    "param_combinations = list(itertools.product(reg_list, tol_list))\n",
    "\n",
    "for c in param_combinations:\n",
    "    print(str(c))\n",
    "    print(\"Regularization:\", c[0], \"Tolerance:\", c[1])"
   ]
  },
  {
   "cell_type": "code",
   "execution_count": 252,
   "metadata": {},
   "outputs": [
    {
     "data": {
      "text/plain": [
       "[(0.01, 1e-05)]"
      ]
     },
     "execution_count": 252,
     "metadata": {},
     "output_type": "execute_result"
    }
   ],
   "source": [
    "param_combinations"
   ]
  },
  {
   "cell_type": "code",
   "execution_count": 258,
   "metadata": {},
   "outputs": [
    {
     "name": "stderr",
     "output_type": "stream",
     "text": [
      "/Users/mariiashapo/Library/CloudStorage/OneDrive-Personal/project_2324/NODE/00_models/nn_pyomo_base.py:82: UserWarning: y_init should be structured such that each row represents a new time point.\n",
      "  warnings.warn(\"y_init should be structured such that each row represents a new time point.\")\n"
     ]
    },
    {
     "name": "stdout",
     "output_type": "stream",
     "text": [
      "Ipopt 3.14.16: tol=1e-08\n",
      "acceptable_tol=1e-15\n",
      "acceptable_constr_viol_tol=1e-15\n",
      "acceptable_dual_inf_tol=1e-15\n",
      "acceptable_compl_inf_tol=1e-15\n",
      "acceptable_iter=0\n",
      "halt_on_ampl_error=yes\n",
      "print_level=1\n",
      "max_iter=3000\n",
      "\n",
      "\n",
      "******************************************************************************\n",
      "This program contains Ipopt, a library for large-scale nonlinear optimization.\n",
      " Ipopt is released as open source code under the Eclipse Public License (EPL).\n",
      "         For more information visit https://github.com/coin-or/Ipopt\n",
      "******************************************************************************\n",
      "\n",
      "{'solver_time': 0.8910398483276367, 'termination_condition': <TerminationCondition.optimal: 'optimal'>, 'message': 'Ipopt 3.14.16\\\\x3a Optimal Solution Found'}\n",
      "Iteration: 1 / 1\n"
     ]
    }
   ],
   "source": [
    "tol = 1e-7\n",
    "params_model = {\n",
    "    'layer_widths': [2, 16, 2],\n",
    "    'act_func': 'tanh',\n",
    "    'penalty_lambda_reg': 0.01,\n",
    "    'time_invariant': True,\n",
    "    'w_init_method': 'xavier',\n",
    "    'params': \n",
    "            {\n",
    "          \"tol\":1e-7, \n",
    "          \"acceptable_tol\": 1e-15,\n",
    "          \"acceptable_constr_viol_tol\": 1e-15,\n",
    "          \"acceptable_dual_inf_tol\": 1e-15,\n",
    "          \"acceptable_compl_inf_tol\": 1e-15,\n",
    "          \"acceptable_iter\": 0,    \n",
    "          \"halt_on_ampl_error\" : 'yes',\n",
    "          \"print_level\": 1, \n",
    "          \"max_iter\": 3000}\n",
    "}\n",
    "\n",
    "results = {}\n",
    "\n",
    "lw_list = [[2, 16, 2], [2, 32, 2], [2, 64, 2], [2, 16, 16, 2], [2, 32, 32, 2], [2, 64, 64, 2]]\n",
    "lw_list = [[2, 16, 2]]\n",
    "\n",
    "total_iter = len(param_combinations)*len(lw_list)\n",
    "i = 1\n",
    "\n",
    "for lw in lw_list:\n",
    "    params_model['layer_widths'] = lw\n",
    "    results[str(lw)] = {}\n",
    "    \n",
    "    for param_comb in param_combinations:\n",
    "      params_model['penalty_lambda_reg'] = param_comb[0]\n",
    "      params_model['params']['tol'] = param_comb[1]\n",
    "      \n",
    "      try:\n",
    "        trainer.train_pyomo(params_model)\n",
    "      except Exception as e:\n",
    "        logging.error(\"Failed to complete training: {}\".format(e))\n",
    "        print(f\"Error during model training: {e}\")\n",
    "        continue\n",
    "      \n",
    "      try:\n",
    "        result = trainer.extract_results_pyomo()\n",
    "        results[str(lw)][str(param_comb)] = result\n",
    "      except XlaRuntimeError as e:\n",
    "        logging.error(\"An XlaRuntimeError occurred: {}\".format(e))\n",
    "        print(f\"Error during result extraction: {e}\")\n",
    "      \n",
    "      print(\"Iteration:\", i, \"/\", total_iter)\n",
    "      i+=1"
   ]
  },
  {
   "cell_type": "code",
   "execution_count": 260,
   "metadata": {},
   "outputs": [
    {
     "data": {
      "text/plain": [
       "{'[2, 16, 2]': {'(0.01, 1e-08)': {'time_elapsed': 0.8910398483276367,\n",
       "   'direct_model_pred': [array([ 0.06604595,  0.06758534,  0.07017661,  0.07635334,  0.08461945,\n",
       "            0.09808402,  0.11589234,  0.14186654,  0.17594375,  0.22277787,\n",
       "            0.2831292 ,  0.36226393,  0.46103476,  0.5835581 ,  0.72748356,\n",
       "            0.89089241,  1.06297916,  1.23301569,  1.38543468,  1.5133904 ,\n",
       "            1.61396007,  1.69485876,  1.76022493,  1.8130961 ,  1.84836979,\n",
       "            1.8655407 ,  1.86168489,  1.83939719,  1.79748339,  1.73868596,\n",
       "            1.66118699,  1.56627567,  1.4500108 ,  1.30982513,  1.13496188,\n",
       "            0.91069083,  0.61162299,  0.22757039, -0.22168888, -0.70550476,\n",
       "           -1.20234419, -1.67302745, -2.03584309, -2.26027557, -2.38061861,\n",
       "           -2.41460632, -2.39620492, -2.34492789, -2.27794385, -2.19627158,\n",
       "           -2.10719631, -2.00554259, -1.8946391 , -1.76490353, -1.61587109,\n",
       "           -1.43367236, -1.21990769, -0.96774697, -0.68521807, -0.35157599,\n",
       "            0.05844705,  0.58692207,  1.18072636,  1.76304263,  2.1401926 ,\n",
       "            2.29129249,  2.37292455,  2.40366454,  2.39743479,  2.36086854,\n",
       "            2.30855567,  2.24282139,  2.17107594,  2.09295091,  2.01232195,\n",
       "            1.9279505 ,  1.84198651,  1.75301067,  1.66220452,  1.5681062 ,\n",
       "            1.47115031,  1.3697145 ,  1.26351493,  1.15073394,  1.03072939,\n",
       "            0.90228215,  0.76604833,  0.62356885,  0.47858086,  0.33517628,\n",
       "            0.19768868,  0.06933004, -0.04733032, -0.15067596, -0.23947145,\n",
       "           -0.31296473, -0.37057797, -0.41196437, -0.43688002, -0.44519949]),\n",
       "    array([ 1.01825532,  1.02382183,  1.03754281,  1.06265214,  1.09638813,\n",
       "            1.1421652 ,  1.19728106,  1.26512484,  1.34274297,  1.43307624,\n",
       "            1.53221821,  1.64138164,  1.75318371,  1.86245161,  1.95133112,\n",
       "            2.00192469,  1.98858524,  1.90147711,  1.73844688,  1.51301037,\n",
       "            1.2342587 ,  0.92903056,  0.62644832,  0.35823486,  0.12927093,\n",
       "           -0.05843787, -0.21853386, -0.35421889, -0.47978325, -0.59604111,\n",
       "           -0.7166621 , -0.84099983, -0.98506168, -1.1507834 , -1.36565802,\n",
       "           -1.64732233, -2.04592408, -2.54619418, -3.0858152 , -3.51594979,\n",
       "           -3.68145887, -3.16162664, -1.98541885, -0.89661028, -0.27123796,\n",
       "            0.02587415,  0.20081284,  0.31034431,  0.40050138,  0.4748963 ,\n",
       "            0.55342978,  0.63367483,  0.73200266,  0.84979573,  1.00881739,\n",
       "            1.21740934,  1.49252395,  1.8192142 ,  2.19553892,  2.62197094,\n",
       "            3.14789602,  3.64879575,  3.70569369,  3.07105127,  2.04149482,\n",
       "            1.06207521,  0.39295266,  0.00623431, -0.23246248, -0.38605186,\n",
       "           -0.49529365, -0.57657129, -0.64371395, -0.70238099, -0.75883411,\n",
       "           -0.8154461 , -0.87549027, -0.94006618, -1.01115593, -1.08955023,\n",
       "           -1.17695039, -1.27453657, -1.38439394, -1.50833494, -1.64851878,\n",
       "           -1.80586408, -1.97952938, -2.16525846, -2.35602264, -2.54333646,\n",
       "           -2.71977553, -2.87994188, -3.02077039, -3.14089187, -3.24019477,\n",
       "           -3.31927736, -3.37914837, -3.42090309, -3.44551422, -3.45364008])],\n",
       "   'odeint_pred': Array([[ 0.00000000e+00,  1.00000000e+00],\n",
       "          [ 8.67806344e-04,  1.00501655e+00],\n",
       "          [ 3.60090496e-03,  1.02013590e+00],\n",
       "          [ 8.59450676e-03,  1.04556028e+00],\n",
       "          [ 1.65275852e-02,  1.08160321e+00],\n",
       "          [ 2.83917019e-02,  1.12865375e+00],\n",
       "          [ 4.55275913e-02,  1.18712707e+00],\n",
       "          [ 6.96440224e-02,  1.25737133e+00],\n",
       "          [ 1.02698412e-01,  1.33942107e+00],\n",
       "          [ 1.47470345e-01,  1.43364936e+00],\n",
       "          [ 2.07308010e-01,  1.54005249e+00],\n",
       "          [ 2.85788698e-01,  1.65735858e+00],\n",
       "          [ 3.86282213e-01,  1.78188037e+00],\n",
       "          [ 5.11289627e-01,  1.90590936e+00],\n",
       "          [ 6.61518506e-01,  2.01557853e+00],\n",
       "          [ 8.33287508e-01,  2.08842137e+00],\n",
       "          [ 1.01845905e+00,  2.09752107e+00],\n",
       "          [ 1.20643821e+00,  2.02251730e+00],\n",
       "          [ 1.38079491e+00,  1.85797058e+00],\n",
       "          [ 1.52261354e+00,  1.61961205e+00],\n",
       "          [ 1.63276100e+00,  1.32523747e+00],\n",
       "          [ 1.71839520e+00,  9.97666087e-01],\n",
       "          [ 1.78701003e+00,  6.75279105e-01],\n",
       "          [ 1.84179122e+00,  3.90551306e-01],\n",
       "          [ 1.87957993e+00,  1.51700533e-01],\n",
       "          [ 1.89794982e+00, -4.28806260e-02],\n",
       "          [ 1.89591181e+00, -2.03876339e-01],\n",
       "          [ 1.87409300e+00, -3.40771490e-01],\n",
       "          [ 1.83435410e+00, -4.62954732e-01],\n",
       "          [ 1.77766672e+00, -5.78502124e-01],\n",
       "          [ 1.70368712e+00, -6.93275330e-01],\n",
       "          [ 1.61151020e+00, -8.13866575e-01],\n",
       "          [ 1.50063348e+00, -9.46967550e-01],\n",
       "          [ 1.36742710e+00, -1.10236591e+00],\n",
       "          [ 1.20392013e+00, -1.29622107e+00],\n",
       "          [ 9.97998374e-01, -1.54958507e+00],\n",
       "          [ 7.26195547e-01, -1.90179247e+00],\n",
       "          [ 3.66131577e-01, -2.38103388e+00],\n",
       "          [-7.12624427e-02, -2.92971118e+00],\n",
       "          [-5.49590085e-01, -3.41841332e+00],\n",
       "          [-1.04782625e+00, -3.70043579e+00],\n",
       "          [-1.53730270e+00, -3.45492810e+00],\n",
       "          [-1.94785115e+00, -2.42398417e+00],\n",
       "          [-2.21599284e+00, -1.22060018e+00],\n",
       "          [-2.36871717e+00, -4.38065364e-01],\n",
       "          [-2.42850856e+00, -5.70457545e-02],\n",
       "          [-2.42303245e+00,  1.45271448e-01],\n",
       "          [-2.38070066e+00,  2.71930504e-01],\n",
       "          [-2.31721884e+00,  3.64580309e-01],\n",
       "          [-2.24007341e+00,  4.41990650e-01],\n",
       "          [-2.15380778e+00,  5.15719754e-01],\n",
       "          [-2.05868559e+00,  5.93618518e-01],\n",
       "          [-1.95243470e+00,  6.81669296e-01],\n",
       "          [-1.83265225e+00,  7.87923230e-01],\n",
       "          [-1.69420387e+00,  9.23823550e-01],\n",
       "          [-1.52993693e+00,  1.10490327e+00],\n",
       "          [-1.33316615e+00,  1.34465685e+00],\n",
       "          [-1.10128912e+00,  1.64562171e+00],\n",
       "          [-8.35240970e-01,  1.99696696e+00],\n",
       "          [-5.31997614e-01,  2.39324874e+00],\n",
       "          [-1.69292333e-01,  2.86058730e+00],\n",
       "          [ 2.93870599e-01,  3.41179685e+00],\n",
       "          [ 8.58468877e-01,  3.75874343e+00],\n",
       "          [ 1.45146345e+00,  3.49134651e+00],\n",
       "          [ 1.97554170e+00,  2.62973536e+00],\n",
       "          [ 2.22843065e+00,  1.57880315e+00],\n",
       "          [ 2.33896056e+00,  7.25732115e-01],\n",
       "          [ 2.39759096e+00,  2.02567454e-01],\n",
       "          [ 2.41159610e+00, -1.08787399e-01],\n",
       "          [ 2.39100724e+00, -3.03594382e-01],\n",
       "          [ 2.34783308e+00, -4.34951081e-01],\n",
       "          [ 2.28998401e+00, -5.29822653e-01],\n",
       "          [ 2.22276298e+00, -6.03411590e-01],\n",
       "          [ 2.14932425e+00, -6.65413294e-01],\n",
       "          [ 2.07121059e+00, -7.22232595e-01],\n",
       "          [ 1.99014970e+00, -7.76846126e-01],\n",
       "          [ 1.90717852e+00, -8.31764797e-01],\n",
       "          [ 1.82267054e+00, -8.89333465e-01],\n",
       "          [ 1.73653646e+00, -9.51633878e-01],\n",
       "          [ 1.64840367e+00, -1.02040500e+00],\n",
       "          [ 1.55777297e+00, -1.09698133e+00],\n",
       "          [ 1.46415095e+00, -1.18224953e+00],\n",
       "          [ 1.36715767e+00, -1.27662301e+00],\n",
       "          [ 1.26847114e+00, -1.37588951e+00],\n",
       "          [ 1.16731597e+00, -1.48162374e+00],\n",
       "          [ 1.05901697e+00, -1.60411258e+00],\n",
       "          [ 9.42414447e-01, -1.74573368e+00],\n",
       "          [ 8.18791548e-01, -1.90358031e+00],\n",
       "          [ 6.90894057e-01, -2.07180240e+00],\n",
       "          [ 5.62174772e-01, -2.24337423e+00],\n",
       "          [ 4.36239553e-01, -2.41134972e+00],\n",
       "          [ 3.16469449e-01, -2.56967294e+00],\n",
       "          [ 2.05791602e-01, -2.71361576e+00],\n",
       "          [ 1.06570762e-01, -2.83991689e+00],\n",
       "          [ 2.05933496e-02, -2.94669571e+00],\n",
       "          [-5.08830390e-02, -3.03321210e+00],\n",
       "          [-1.07040028e-01, -3.09953854e+00],\n",
       "          [-1.47391547e-01, -3.14620397e+00],\n",
       "          [-1.71679224e-01, -3.17386087e+00],\n",
       "          [-1.79785943e-01, -3.18301679e+00]], dtype=float64),\n",
       "   'odeint_pred_test': Array([[-0.40402322, -3.45687249],\n",
       "          [-0.57149363, -3.61699827],\n",
       "          [-0.74065371, -3.75689183],\n",
       "          [-0.91088448, -3.86940301],\n",
       "          [-1.08154185, -3.94522539],\n",
       "          [-1.25169297, -3.97167208],\n",
       "          [-1.41990896, -3.93164954],\n",
       "          [-1.58417872, -3.80480114],\n",
       "          [-1.74137816, -3.57688064],\n",
       "          [-1.88804074, -3.25379508],\n",
       "          [-2.02070525, -2.86463738],\n",
       "          [-2.13625333, -2.44509803],\n",
       "          [-2.23544539, -2.02251872],\n",
       "          [-2.31971323, -1.61981901],\n",
       "          [-2.39040389, -1.25521014],\n",
       "          [-2.44877967, -0.94219502],\n",
       "          [-2.49598591, -0.68913595],\n",
       "          [-2.53256403, -0.49116456],\n",
       "          [-2.5589704 , -0.33633581],\n",
       "          [-2.5759867 , -0.21461177],\n",
       "          [-2.58478752, -0.11771969],\n",
       "          [-2.58689663, -0.039293  ],\n",
       "          [-2.58357978,  0.02536201],\n",
       "          [-2.5758364 ,  0.07965369],\n",
       "          [-2.56447155,  0.125908  ],\n",
       "          [-2.55018195,  0.1659194 ],\n",
       "          [-2.53349977,  0.20106549],\n",
       "          [-2.51486046,  0.23246007],\n",
       "          [-2.49460333,  0.26095453],\n",
       "          [-2.47297296,  0.28714172],\n",
       "          [-2.45016055,  0.31147072],\n",
       "          [-2.42633426,  0.33434843],\n",
       "          [-2.40163322,  0.35613513],\n",
       "          [-2.37616915,  0.37714948],\n",
       "          [-2.35002643,  0.39766858],\n",
       "          [-2.32326207,  0.41792791],\n",
       "          [-2.29590568,  0.43812137],\n",
       "          [-2.26795954,  0.45840128],\n",
       "          [-2.23939852,  0.47887834],\n",
       "          [-2.21017204,  0.49962879],\n",
       "          [-2.18026524,  0.52085988],\n",
       "          [-2.14967112,  0.5427224 ],\n",
       "          [-2.11835407,  0.56533448],\n",
       "          [-2.08625951,  0.58884391],\n",
       "          [-2.05331389,  0.61342815],\n",
       "          [-2.0194247 ,  0.63929433],\n",
       "          [-1.98448045,  0.66667927],\n",
       "          [-1.94835068,  0.69584943],\n",
       "          [-1.91088597,  0.72710097],\n",
       "          [-1.87191792,  0.7607597 ],\n",
       "          [-1.83125918,  0.7971811 ],\n",
       "          [-1.78876891,  0.83661453],\n",
       "          [-1.74437531,  0.87920952],\n",
       "          [-1.69763542,  0.92593006],\n",
       "          [-1.64813326,  0.97765381],\n",
       "          [-1.59551904,  1.03508686],\n",
       "          [-1.53950924,  1.09876379],\n",
       "          [-1.47988655,  1.16904759],\n",
       "          [-1.4164999 ,  1.24612975],\n",
       "          [-1.34926444,  1.33003019],\n",
       "          [-1.27816157,  1.42059729],\n",
       "          [-1.2032389 ,  1.51750788],\n",
       "          [-1.12461029,  1.62026726],\n",
       "          [-1.04241832,  1.72816861],\n",
       "          [-0.9565261 ,  1.840577  ],\n",
       "          [-0.86684904,  1.95804374],\n",
       "          [-0.7731235 ,  2.08127974],\n",
       "          [-0.67483317,  2.21098457],\n",
       "          [-0.57120903,  2.34784647],\n",
       "          [-0.46122938,  2.49254238],\n",
       "          [-0.34361982,  2.64573791],\n",
       "          [-0.21685326,  2.80808736],\n",
       "          [-0.07914994,  2.9802337 ],\n",
       "          [ 0.07152264,  3.16280859],\n",
       "          [ 0.23685122,  3.35300723],\n",
       "          [ 0.41586813,  3.53000047],\n",
       "          [ 0.60659467,  3.67005878],\n",
       "          [ 0.80643857,  3.75291122],\n",
       "          [ 1.01204365,  3.76307365],\n",
       "          [ 1.22023574,  3.69066297],\n",
       "          [ 1.42775719,  3.52851896],\n",
       "          [ 1.62847918,  3.28241514],\n",
       "          [ 1.81326103,  2.9717542 ],\n",
       "          [ 1.96915064,  2.62611492],\n",
       "          [ 2.08719275,  2.25968986],\n",
       "          [ 2.17364592,  1.88501252],\n",
       "          [ 2.23589965,  1.51739253],\n",
       "          [ 2.28133538,  1.17403375],\n",
       "          [ 2.31730599,  0.87395412],\n",
       "          [ 2.3477415 ,  0.62463323],\n",
       "          [ 2.37217237,  0.41750838],\n",
       "          [ 2.39041628,  0.24572023],\n",
       "          [ 2.40238675,  0.1033208 ],\n",
       "          [ 2.40811448, -0.01478044],\n",
       "          [ 2.40819325, -0.11358335],\n",
       "          [ 2.40341447, -0.19702899],\n",
       "          [ 2.39441166, -0.26821686],\n",
       "          [ 2.38170184, -0.32963723],\n",
       "          [ 2.36568561, -0.38317118],\n",
       "          [ 2.34674322, -0.43021909],\n",
       "          [ 2.32528938, -0.47195019],\n",
       "          [ 2.30163231, -0.50932469],\n",
       "          [ 2.27603561, -0.54318225],\n",
       "          [ 2.24871846, -0.57424227],\n",
       "          [ 2.21985562, -0.60310381],\n",
       "          [ 2.18955851, -0.63029062],\n",
       "          [ 2.15788643, -0.65629735],\n",
       "          [ 2.12495527, -0.68143898],\n",
       "          [ 2.09086269, -0.70601862],\n",
       "          [ 2.05568301, -0.73033833],\n",
       "          [ 2.01946726, -0.75469912],\n",
       "          [ 1.98224314, -0.77940092],\n",
       "          [ 1.94401505, -0.80474265],\n",
       "          [ 1.90476408, -0.83102215],\n",
       "          [ 1.864448  , -0.85853621],\n",
       "          [ 1.82300126, -0.88758057],\n",
       "          [ 1.78033502, -0.91844992],\n",
       "          [ 1.7363371 , -0.95143788],\n",
       "          [ 1.69087205, -0.98683705],\n",
       "          [ 1.64378106, -1.02493894],\n",
       "          [ 1.59488204, -1.06603402],\n",
       "          [ 1.54396958, -1.11041173],\n",
       "          [ 1.49087059, -1.15824535],\n",
       "          [ 1.43690844, -1.20666811],\n",
       "          [ 1.38129868, -1.25737776],\n",
       "          [ 1.32227321, -1.31402529],\n",
       "          [ 1.25829474, -1.3796506 ],\n",
       "          [ 1.18805679, -1.45668249],\n",
       "          [ 1.11048371, -1.5469387 ],\n",
       "          [ 1.02473066, -1.65162588],\n",
       "          [ 0.93018359, -1.77133957],\n",
       "          [ 0.82645928, -1.90606426],\n",
       "          [ 0.71340533, -2.05517333],\n",
       "          [ 0.59110015, -2.21742908],\n",
       "          [ 0.45985294, -2.39098273],\n",
       "          [ 0.32020374, -2.57337441],\n",
       "          [ 0.1729234 , -2.76153316],\n",
       "          [ 0.01901527, -2.95177223],\n",
       "          [-0.13995234, -3.13902124],\n",
       "          [-0.3026485 , -3.31890687],\n",
       "          [-0.46818832, -3.48709865],\n",
       "          [-0.63578644, -3.63813372],\n",
       "          [-0.80475704, -3.76541684],\n",
       "          [-0.97451304, -3.86134342],\n",
       "          [-1.14438577, -3.91600148],\n",
       "          [-1.31310918, -3.9104313 ],\n",
       "          [-1.47878955, -3.82721446],\n",
       "          [-1.63892426, -3.65288959],\n",
       "          [-1.7903926 , -3.37866831],\n",
       "          [-1.92951891, -3.02186256],\n",
       "          [-2.05346748, -2.61669236],\n",
       "          [-2.16082979, -2.19291567],\n",
       "          [-2.25158761, -1.77685326],\n",
       "          [-2.327113  , -1.39138872],\n",
       "          [-2.39007451, -1.05592236],\n",
       "          [-2.44222778, -0.77975754],\n",
       "          [-2.48373385, -0.559186  ],\n",
       "          [-2.51490391, -0.38694496],\n",
       "          [-2.53628511, -0.2529194 ],\n",
       "          [-2.5488626 , -0.14639918],\n",
       "          [-2.55418848, -0.06069897],\n",
       "          [-2.5535893 ,  0.00956493],\n",
       "          [-2.54809874,  0.06822863],\n",
       "          [-2.53858606,  0.11790609],\n",
       "          [-2.52583659,  0.16064993],\n",
       "          [-2.51043904,  0.19801724],\n",
       "          [-2.49287194,  0.23124552],\n",
       "          [-2.4735037 ,  0.2612528 ],\n",
       "          [-2.45255334,  0.28862954],\n",
       "          [-2.43021663,  0.31386202],\n",
       "          [-2.40674839,  0.33745491],\n",
       "          [-2.38235551,  0.35985291],\n",
       "          [-2.35719623,  0.38144024],\n",
       "          [-2.33138013,  0.40254071],\n",
       "          [-2.30496816,  0.42341762],\n",
       "          [-2.27797257,  0.44427386],\n",
       "          [-2.250357  ,  0.46525182],\n",
       "          [-2.22203639,  0.48643346],\n",
       "          [-2.19287855,  0.50784211],\n",
       "          [-2.16290841,  0.52968084],\n",
       "          [-2.13219448,  0.55217625],\n",
       "          [-2.1006981 ,  0.57546224],\n",
       "          [-2.06836088,  0.59970254],\n",
       "          [-2.03510478,  0.62509072],\n",
       "          [-2.00083205,  0.65185021],\n",
       "          [-1.96542528,  0.68023428],\n",
       "          [-1.92874735,  0.71052604],\n",
       "          [-1.89064148,  0.74303845],\n",
       "          [-1.85093119,  0.77811433],\n",
       "          [-1.80943102,  0.81610897],\n",
       "          [-1.76602737,  0.85729472],\n",
       "          [-1.7203749 ,  0.90238374],\n",
       "          [-1.67210368,  0.95210803],\n",
       "          [-1.62089399,  1.00708691],\n",
       "          [-1.56647637,  1.06782698],\n",
       "          [-1.50863161,  1.13472215],\n",
       "          [-1.44719075,  1.20805364],\n",
       "          [-1.38203508,  1.28798994],\n",
       "          [-1.31309613,  1.37458686],\n",
       "          [-1.24035568,  1.46778751]], dtype=float64),\n",
       "   'mse_train': Array(0.0246317, dtype=float64),\n",
       "   'mse_test': Array(1.85079218, dtype=float64),\n",
       "   'termination': <TerminationCondition.optimal: 'optimal'>}}}"
      ]
     },
     "execution_count": 260,
     "metadata": {},
     "output_type": "execute_result"
    }
   ],
   "source": [
    "results"
   ]
  },
  {
   "cell_type": "code",
   "execution_count": null,
   "metadata": {},
   "outputs": [],
   "source": []
  }
 ],
 "metadata": {
  "kernelspec": {
   "display_name": "collocation_env",
   "language": "python",
   "name": "python3"
  },
  "language_info": {
   "codemirror_mode": {
    "name": "ipython",
    "version": 3
   },
   "file_extension": ".py",
   "mimetype": "text/x-python",
   "name": "python",
   "nbconvert_exporter": "python",
   "pygments_lexer": "ipython3",
   "version": "3.9.18"
  }
 },
 "nbformat": 4,
 "nbformat_minor": 2
}
