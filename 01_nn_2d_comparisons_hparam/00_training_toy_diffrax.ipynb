{
 "cells": [
  {
   "cell_type": "code",
   "execution_count": 1,
   "metadata": {},
   "outputs": [],
   "source": [
    "import numpy as np\n",
    "\n",
    "import jax\n",
    "import jax.numpy as jnp\n",
    "\n",
    "# -------------- helper libraries -------------- #\n",
    "import sys\n",
    "import os\n",
    "import time\n",
    "import pickle\n",
    "\n",
    "import matplotlib.pyplot as plt\n",
    "import pandas as pd\n",
    "import importlib\n",
    "import itertools\n",
    "\n",
    "path_ = os.path.abspath(os.path.join('..', '00_utils'))\n",
    "\n",
    "if path_ not in sys.path:\n",
    "    sys.path.append(path_)\n",
    "    \n",
    "path_ = os.path.abspath(os.path.join('..', '00_models'))\n",
    "\n",
    "if path_ not in sys.path:\n",
    "    sys.path.append(path_)\n",
    "\n",
    "path_ = os.path.abspath(os.path.join('..', '00_utils_training'))\n",
    "\n",
    "if path_ not in sys.path:\n",
    "    sys.path.append(path_)\n",
    "\n",
    "import run_train_toy\n",
    "import logging\n",
    "logging.basicConfig(level=logging.ERROR, filename='error_log.txt')"
   ]
  },
  {
   "cell_type": "code",
   "execution_count": 2,
   "metadata": {},
   "outputs": [],
   "source": [
    "def load_trainer(type_, spacing_type=\"uniform\"):\n",
    "    importlib.reload(run_train_toy)\n",
    "    TrainerToy = run_train_toy.TrainerToy\n",
    "    \n",
    "    data_params_ho = {\n",
    "        'N': 200,\n",
    "        'noise_level': 0.2,\n",
    "        'ode_type': \"harmonic_oscillator\",\n",
    "        'data_param': {\"omega_squared\": 2},\n",
    "        'start_time': 0,\n",
    "        'end_time': 10,\n",
    "        'spacing_type': spacing_type,\n",
    "        'initial_state': np.array([0.0, 1.0])\n",
    "    }\n",
    "\n",
    "    data_params_vdp = {\n",
    "        'N': 200,\n",
    "        'noise_level': 0.1,\n",
    "        'ode_type': \"van_der_pol\",\n",
    "        'data_param': {\"mu\": 1, \"omega\": 1},\n",
    "        'start_time': 0,\n",
    "        'end_time': 15,\n",
    "        'spacing_type': spacing_type,\n",
    "        'initial_state': np.array([0.0, 1.0])\n",
    "    }\n",
    "\n",
    "    data_params_do = {\n",
    "        'N': 200,\n",
    "        'noise_level': 0.1,\n",
    "        'ode_type': \"damped_oscillation\",\n",
    "        'data_param': {\"damping_factor\": 0.1, \"omega_squared\": 1},\n",
    "        'start_time': 0,\n",
    "        'end_time': 10,\n",
    "        'spacing_type': spacing_type,\n",
    "        'initial_state': np.array([0.0, 1.0])\n",
    "    }\n",
    "\n",
    "    if type_ == \"ho\":\n",
    "        p_ = data_params_ho\n",
    "    elif type_ == \"vdp\":\n",
    "        p_ = data_params_vdp\n",
    "    elif type_ == \"do\":\n",
    "        p_ = data_params_do\n",
    "    else:\n",
    "        raise ValueError(f\"Invalid type {type_}\")\n",
    "\n",
    "    trainer = TrainerToy(p_, model_type=\"jax_diffrax\")\n",
    "    trainer.prepare_inputs()\n",
    "    return trainer"
   ]
  },
  {
   "cell_type": "code",
   "execution_count": 3,
   "metadata": {},
   "outputs": [
    {
     "name": "stdout",
     "output_type": "stream",
     "text": [
      "(1e-05, 500)\n",
      "reg: 1e-05 max_iter: 500\n",
      "(1e-05, 1000)\n",
      "reg: 1e-05 max_iter: 1000\n",
      "(1e-05, 1500)\n",
      "reg: 1e-05 max_iter: 1500\n",
      "(0.0001, 500)\n",
      "reg: 0.0001 max_iter: 500\n",
      "(0.0001, 1000)\n",
      "reg: 0.0001 max_iter: 1000\n",
      "(0.0001, 1500)\n",
      "reg: 0.0001 max_iter: 1500\n",
      "(0.001, 500)\n",
      "reg: 0.001 max_iter: 500\n",
      "(0.001, 1000)\n",
      "reg: 0.001 max_iter: 1000\n",
      "(0.001, 1500)\n",
      "reg: 0.001 max_iter: 1500\n"
     ]
    }
   ],
   "source": [
    "reg_list = [1e-5, 1e-4, 1e-3]\n",
    "max_iter_li = [500, 1000, 1500]\n",
    "\n",
    "param_combinations = list(itertools.product(reg_list, max_iter_li))\n",
    "\n",
    "for c in param_combinations:\n",
    "    print(str(c))\n",
    "    print(\"reg:\", c[0], \"max_iter:\", c[1])"
   ]
  },
  {
   "cell_type": "code",
   "execution_count": 85,
   "metadata": {},
   "outputs": [
    {
     "name": "stdout",
     "output_type": "stream",
     "text": [
      "False\n"
     ]
    },
    {
     "ename": "TypeError",
     "evalue": "unhashable type: 'list'",
     "output_type": "error",
     "traceback": [
      "\u001b[0;31m---------------------------------------------------------------------------\u001b[0m",
      "\u001b[0;31mTypeError\u001b[0m                                 Traceback (most recent call last)",
      "Cell \u001b[0;32mIn[85], line 63\u001b[0m\n\u001b[1;32m     60\u001b[0m   \u001b[38;5;28;01mcontinue\u001b[39;00m\n\u001b[1;32m     62\u001b[0m result \u001b[38;5;241m=\u001b[39m TRAINER\u001b[38;5;241m.\u001b[39mextract_results()\n\u001b[0;32m---> 63\u001b[0m \u001b[43mRESULTS\u001b[49m\u001b[43m[\u001b[49m\u001b[43mparam_comb\u001b[49m\u001b[43m]\u001b[49m \u001b[38;5;241m=\u001b[39m result\n\u001b[1;32m     65\u001b[0m \u001b[38;5;28mprint\u001b[39m(RESULTS[param_comb][\u001b[38;5;124m'\u001b[39m\u001b[38;5;124mmse_train\u001b[39m\u001b[38;5;124m'\u001b[39m])\n\u001b[1;32m     66\u001b[0m \u001b[38;5;28mprint\u001b[39m(RESULTS[param_comb][\u001b[38;5;124m'\u001b[39m\u001b[38;5;124mmse_test\u001b[39m\u001b[38;5;124m'\u001b[39m])\n",
      "\u001b[0;31mTypeError\u001b[0m: unhashable type: 'list'"
     ]
    }
   ],
   "source": [
    "TRAINER = load_trainer(\"ho\")\n",
    "RESULTS = {}\n",
    "AVERAGED = False\n",
    "\n",
    "optimization_type = 'network_size'\n",
    "\n",
    "params_model = {\n",
    "    'layer_widths': [2, 64, 2],\n",
    "    'penalty_lambda_reg': 1e-5,\n",
    "    'time_invariant': True,\n",
    "    'learning_rate': 1e-3,\n",
    "    'max_iter': 500,\n",
    "    'pretrain': [0.2, 1],\n",
    "    'verbose': False,\n",
    "    'rtol': 1e-3,\n",
    "    'atol': 1e-6,\n",
    "    \"log\": False\n",
    "}\n",
    "\n",
    "if optimization_type == 'network_size':\n",
    "  lw = [[2, 16, 2], [2, 32, 2], [2, 16, 16, 2], [2, 32, 32, 2]]\n",
    "  lw_list = [[2, 16, 2], [2, 32, 2], [2, 64, 2], [2, 128, 2]]\n",
    "  reg_list = [1e-5, 1e-4, 1e-3]\n",
    "  max_iter_li = [500, 1000, 1500]\n",
    "  param_combinations = list(itertools.product(lw, reg_list, max_iter_li))\n",
    "elif optimization_type == 'tolerance':\n",
    "  rtol = [1e-1, 1e-2, 1e-3, 1e-4, 1e-5]\n",
    "  atol = [1e-3, 1e-4, 1e-5, 1e-6, 1e-7]\n",
    "  param_combinations = list(itertools.product(rtol, atol))\n",
    "elif optimization_type == 'none':\n",
    "  param_combinations = [0]\n",
    "\n",
    "  \n",
    "\n",
    "total_iter = len(param_combinations)\n",
    "i = 1\n",
    "\n",
    "for param_comb in param_combinations:\n",
    "    if optimization_type == 'network_size':\n",
    "      lw = param_comb[0]\n",
    "      params_model['layer_widths'] = lw\n",
    "      params_model['penalty_lambda_reg'] = param_comb[1]\n",
    "      params_model['max_iter'] = param_comb[2]\n",
    "    elif optimization_type == 'tolerance':\n",
    "      params_model['rtol'] = param_comb[0]\n",
    "      params_model['atol'] = param_comb[1]\n",
    "    else:\n",
    "      if optimization_type != 'none':\n",
    "        raise ValueError(\"Invalid optimization type\")\n",
    "      else:\n",
    "        params_model['log'] = True\n",
    "    \n",
    "    print(params_model['log'])\n",
    "    if not AVERAGED:\n",
    "      try:\n",
    "        TRAINER.train(params_model)\n",
    "      except Exception as e:\n",
    "        print(\"Failed to complete training: {}\".format(e))\n",
    "        logging.error(\"Failed to complete training: {}\".format(e))\n",
    "        continue\n",
    "      \n",
    "      result = TRAINER.extract_results()\n",
    "      RESULTS[param_comb] = result\n",
    "      \n",
    "      print(RESULTS[param_comb]['mse_train'])\n",
    "      print(RESULTS[param_comb]['mse_test'])\n",
    "      \n",
    "    if AVERAGED:\n",
    "      mse_train = []\n",
    "      mse_test = []\n",
    "      time_elapsed = []\n",
    "      for _ in range(5):\n",
    "        try:\n",
    "          TRAINER.train(params_model)\n",
    "        except Exception as e:\n",
    "          print(\"Failed to complete training: {}\".format(e))\n",
    "          logging.error(\"Failed to complete training: {}\".format(e))\n",
    "          continue\n",
    "          \n",
    "        result = TRAINER.extract_results()\n",
    "        mse_train.append(result['mse_train'])\n",
    "        mse_test.append(result['mse_test'])\n",
    "        time_elapsed.append(result['time_elapsed'])\n",
    "      \n",
    "      if optimization_type == 'network_size' and len(params_model[0]) == 3:\n",
    "        k = (param_comb[0][1], param_comb[1], param_comb[2])\n",
    "        param_comb = k\n",
    "        \n",
    "      RESULTS[param_comb] = {\n",
    "          'mse_train': np.mean(mse_train),\n",
    "          'mse_test': np.mean(mse_test),\n",
    "          'time_elapsed': np.mean(time_elapsed)\n",
    "      }\n",
    "      \n",
    "      print(RESULTS[param_comb]['mse_train'])\n",
    "      print(RESULTS[param_comb]['mse_test'])\n",
    "    \n",
    "    print(\"Iteration:\", i, \"/\", total_iter)\n",
    "    i+=1"
   ]
  },
  {
   "cell_type": "code",
   "execution_count": 80,
   "metadata": {},
   "outputs": [],
   "source": [
    "losses = TRAINER.losses\n",
    "c = RESULTS[0]['time_elapsed'][1]/len(losses[0])"
   ]
  },
  {
   "cell_type": "code",
   "execution_count": 81,
   "metadata": {},
   "outputs": [],
   "source": [
    "# losses = np.concatenate(losses)\n",
    "times = np.array([i*c for i in range(len(losses[1]))])"
   ]
  },
  {
   "cell_type": "code",
   "execution_count": 84,
   "metadata": {},
   "outputs": [
    {
     "data": {
      "text/plain": [
       "[]"
      ]
     },
     "execution_count": 84,
     "metadata": {},
     "output_type": "execute_result"
    },
    {
     "data": {
      "image/png": "[encoded data removed]",
      "text/plain": [
       "<Figure size 1000x500 with 1 Axes>"
      ]
     },
     "metadata": {},
     "output_type": "display_data"
    }
   ],
   "source": [
    "plt.figure(figsize=(10, 5))\n",
    "plt.grid()\n",
    "plt.plot([i*c for i in range(len(losses[1]))], losses[1], label='MSE Train')\n",
    "plt.legend()\n",
    "plt.plot()"
   ]
  },
  {
   "cell_type": "code",
   "execution_count": 23,
   "metadata": {},
   "outputs": [
    {
     "data": {
      "text/plain": [
       "dict_keys(['time_elapsed', 'odeint_pred', 'odeint_pred_test', 'mse_train', 'mse_test'])"
      ]
     },
     "execution_count": 23,
     "metadata": {},
     "output_type": "execute_result"
    }
   ],
   "source": [
    "RESULTS[(0.1, 0.001)].keys()"
   ]
  },
  {
   "cell_type": "code",
   "execution_count": 20,
   "metadata": {},
   "outputs": [],
   "source": [
    "reload = True\n",
    "if reload:\n",
    "    formatted_time = time.strftime('%Y-%m-%d_%H-%M-%S')\n",
    "    filename = f'results/diffrax_{formatted_time}_tolerances.pkl'\n",
    "    with open(filename, 'wb') as file:\n",
    "        pickle.dump(RESULTS, file)"
   ]
  },
  {
   "cell_type": "code",
   "execution_count": null,
   "metadata": {},
   "outputs": [],
   "source": []
  }
 ],
 "metadata": {
  "kernelspec": {
   "display_name": "collocation_env",
   "language": "python",
   "name": "python3"
  },
  "language_info": {
   "codemirror_mode": {
    "name": "ipython",
    "version": 3
   },
   "file_extension": ".py",
   "mimetype": "text/x-python",
   "name": "python",
   "nbconvert_exporter": "python",
   "pygments_lexer": "ipython3",
   "version": "3.9.18"
  }
 },
 "nbformat": 4,
 "nbformat_minor": 2
}
