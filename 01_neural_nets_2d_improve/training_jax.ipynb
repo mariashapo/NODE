{
 "cells": [
  {
   "cell_type": "code",
   "execution_count": 5,
   "metadata": {},
   "outputs": [],
   "source": [
    "import jax\n",
    "import jax.numpy as jnp\n",
    "from jax import jit, random\n",
    "from jax.random import PRNGKey\n",
    "from jax.experimental.ode import odeint\n",
    "from flax import linen as nn\n",
    "from flax.training import train_state\n",
    "import optax\n",
    "\n",
    "# -------------- helper libraries -------------- #\n",
    "import sys\n",
    "import os\n",
    "import time\n",
    "import pickle\n",
    "import matplotlib.pyplot as plt\n",
    "import pandas as pd\n",
    "import numpy as np\n",
    "\n",
    "collocation2_path = os.path.abspath(os.path.join('..', 'utils'))\n",
    "\n",
    "# Add the directory to sys.path\n",
    "if collocation2_path not in sys.path:\n",
    "    sys.path.append(collocation2_path)\n",
    "\n",
    "from collocation import compute_weights, lagrange_derivative\n",
    "from interpolation import BarycentricInterpolation\n",
    "from data_generation import generate_ode_data\n",
    "from non_parametric_collocation import collocate_data\n",
    "from optimization_pyomo import ODEOptimizationModel as ODEOptimizationModel\n",
    "from pickle_func import pickle_data, unpickle_data\n",
    "\n",
    "# -------------- regular neural nets --------------\n",
    "from neural_net import NeuralODE"
   ]
  },
  {
   "cell_type": "code",
   "execution_count": 2,
   "metadata": {},
   "outputs": [],
   "source": [
    "import importlib\n",
    "import neural_net\n",
    "\n",
    "importlib.reload(neural_net)\n",
    "NeuralODE = neural_net.NeuralODE\n",
    "\n",
    "import data_generation\n",
    "importlib.reload(data_generation)\n",
    "generate_ode_data = data_generation.generate_ode_data\n",
    "\n",
    "import non_parametric_collocation\n",
    "importlib.reload(non_parametric_collocation)\n",
    "collocate_data = non_parametric_collocation.collocate_data"
   ]
  },
  {
   "cell_type": "code",
   "execution_count": 3,
   "metadata": {},
   "outputs": [
    {
     "name": "stderr",
     "output_type": "stream",
     "text": [
      "/Users/mariiashapo/Library/CloudStorage/OneDrive-Personal/project_2324/NODE/utils/non_parametric_collocation.py:95: UserWarning: Data transposed to match expected dimensions.\n",
      "  warnings.warn(\"Data transposed to match expected dimensions.\")\n"
     ]
    }
   ],
   "source": [
    "#---------------------------------------------DATA PARAMS---------------------------------------------#\n",
    "N = 200\n",
    "noise_level = 0.1\n",
    "ode_type, params = \"van_der_pol\", {\"mu\": 1, \"omega\": 1}\n",
    "start_time, end_time = 0, 15\n",
    "spacing_type = \"equally_spaced\" # \"equally_spaced\" or \"chebyshev\"\n",
    "initial_state = jnp.array([0.0, 1.0])\n",
    "\n",
    "#--------------------------------------------GENERATE DATA--------------------------------------------#\n",
    "t_vdp, y_vdp, y_noisy_vdp, true_derivatives_vdp = generate_ode_data(N, noise_level, ode_type, params, start_time, end_time, spacing_type, initial_state)\n",
    "\n",
    "# numpy array is required for pyomo\n",
    "y_noisy_vdp = np.array(jnp.squeeze(y_noisy_vdp))\n",
    "t_vdp = np.array(jnp.squeeze(t_vdp))\n",
    "\n",
    "#-----------------------------------------COLLOCATION MATRIX PREPARATION-------------------------------------------#\n",
    "weights = compute_weights(t_vdp)\n",
    "D_vdp = np.array(lagrange_derivative(t_vdp, weights))\n",
    "\n",
    "#---------------------------------------------------TEST DATA--------------------------------------------#\n",
    "t_test_vdp, y_test_vdp, _, _ = generate_ode_data(N*2, noise_level, ode_type, params, start_time, end_time*2, \"uniform\", initial_state)\n",
    "\n",
    "#--------------------------------------------NON-PARAMETRIC COLLOCATION--------------------------------------------#\n",
    "estimated_derivative_vdp, estimated_solution_vdp = collocate_data(y_noisy_vdp, t_vdp, 'EpanechnikovKernel', bandwidth=0.5)"
   ]
  },
  {
   "cell_type": "code",
   "execution_count": 4,
   "metadata": {},
   "outputs": [
    {
     "name": "stdout",
     "output_type": "stream",
     "text": [
      "Epoch 0, Loss: 16.379037209220407\n",
      "Epoch 100, Loss: 2.881042494026358\n",
      "Epoch 200, Loss: 2.854533803414634\n"
     ]
    },
    {
     "ename": "KeyboardInterrupt",
     "evalue": "",
     "output_type": "error",
     "traceback": [
      "\u001b[0;31m---------------------------------------------------------------------------\u001b[0m",
      "\u001b[0;31mKeyboardInterrupt\u001b[0m                         Traceback (most recent call last)",
      "Cell \u001b[0;32mIn[4], line 12\u001b[0m\n\u001b[1;32m     10\u001b[0m start_timer \u001b[38;5;241m=\u001b[39m time\u001b[38;5;241m.\u001b[39mtime()\n\u001b[1;32m     11\u001b[0m \u001b[38;5;66;03m# train(self, state, t, observed_data, y0, num_epochs=1000):\u001b[39;00m\n\u001b[0;32m---> 12\u001b[0m trained_state \u001b[38;5;241m=\u001b[39m \u001b[43mneural_ode_model\u001b[49m\u001b[38;5;241;43m.\u001b[39;49m\u001b[43mtrain\u001b[49m\u001b[43m(\u001b[49m\u001b[43mstate\u001b[49m\u001b[43m,\u001b[49m\u001b[43m \u001b[49m\u001b[43mt_vdp\u001b[49m\u001b[43m,\u001b[49m\u001b[43m \u001b[49m\u001b[43my_noisy_vdp\u001b[49m\u001b[43m,\u001b[49m\u001b[43m \u001b[49m\u001b[43minitial_state\u001b[49m\u001b[43m,\u001b[49m\u001b[43m \u001b[49m\u001b[43mnum_epochs\u001b[49m\u001b[38;5;241;43m=\u001b[39;49m\u001b[38;5;241;43m1000\u001b[39;49m\u001b[43m)\u001b[49m\n\u001b[1;32m     13\u001b[0m end_timer \u001b[38;5;241m=\u001b[39m time\u001b[38;5;241m.\u001b[39mtime()\n\u001b[1;32m     14\u001b[0m timer \u001b[38;5;241m=\u001b[39m end_timer \u001b[38;5;241m-\u001b[39m start_timer\n",
      "File \u001b[0;32m~/anaconda3/envs/collocation_env/lib/python3.9/site-packages/flax/linen/module.py:701\u001b[0m, in \u001b[0;36mwrap_method_once.<locals>.wrapped_module_method\u001b[0;34m(*args, **kwargs)\u001b[0m\n\u001b[1;32m    699\u001b[0m \u001b[38;5;28;01mif\u001b[39;00m args \u001b[38;5;129;01mand\u001b[39;00m \u001b[38;5;28misinstance\u001b[39m(args[\u001b[38;5;241m0\u001b[39m], Module):\n\u001b[1;32m    700\u001b[0m   \u001b[38;5;28mself\u001b[39m, args \u001b[38;5;241m=\u001b[39m args[\u001b[38;5;241m0\u001b[39m], args[\u001b[38;5;241m1\u001b[39m:]\n\u001b[0;32m--> 701\u001b[0m   \u001b[38;5;28;01mreturn\u001b[39;00m \u001b[38;5;28;43mself\u001b[39;49m\u001b[38;5;241;43m.\u001b[39;49m\u001b[43m_call_wrapped_method\u001b[49m\u001b[43m(\u001b[49m\u001b[43mfun\u001b[49m\u001b[43m,\u001b[49m\u001b[43m \u001b[49m\u001b[43margs\u001b[49m\u001b[43m,\u001b[49m\u001b[43m \u001b[49m\u001b[43mkwargs\u001b[49m\u001b[43m)\u001b[49m\n\u001b[1;32m    702\u001b[0m \u001b[38;5;28;01melse\u001b[39;00m:\n\u001b[1;32m    703\u001b[0m   \u001b[38;5;28;01mreturn\u001b[39;00m fun(\u001b[38;5;241m*\u001b[39margs, \u001b[38;5;241m*\u001b[39m\u001b[38;5;241m*\u001b[39mkwargs)\n",
      "File \u001b[0;32m~/anaconda3/envs/collocation_env/lib/python3.9/site-packages/flax/linen/module.py:1233\u001b[0m, in \u001b[0;36mModule._call_wrapped_method\u001b[0;34m(self, fun, args, kwargs)\u001b[0m\n\u001b[1;32m   1231\u001b[0m \u001b[38;5;28;01mif\u001b[39;00m _use_named_call:\n\u001b[1;32m   1232\u001b[0m   \u001b[38;5;28;01mwith\u001b[39;00m jax\u001b[38;5;241m.\u001b[39mnamed_scope(_derive_profiling_name(\u001b[38;5;28mself\u001b[39m, fun)):\n\u001b[0;32m-> 1233\u001b[0m     y \u001b[38;5;241m=\u001b[39m \u001b[43mrun_fun\u001b[49m\u001b[43m(\u001b[49m\u001b[38;5;28;43mself\u001b[39;49m\u001b[43m,\u001b[49m\u001b[43m \u001b[49m\u001b[38;5;241;43m*\u001b[39;49m\u001b[43margs\u001b[49m\u001b[43m,\u001b[49m\u001b[43m \u001b[49m\u001b[38;5;241;43m*\u001b[39;49m\u001b[38;5;241;43m*\u001b[39;49m\u001b[43mkwargs\u001b[49m\u001b[43m)\u001b[49m\n\u001b[1;32m   1234\u001b[0m \u001b[38;5;28;01melse\u001b[39;00m:\n\u001b[1;32m   1235\u001b[0m   y \u001b[38;5;241m=\u001b[39m run_fun(\u001b[38;5;28mself\u001b[39m, \u001b[38;5;241m*\u001b[39margs, \u001b[38;5;241m*\u001b[39m\u001b[38;5;241m*\u001b[39mkwargs)\n",
      "File \u001b[0;32m~/Library/CloudStorage/OneDrive-Personal/project_2324/NODE/utils/neural_net.py:110\u001b[0m, in \u001b[0;36mNeuralODE.train\u001b[0;34m(self, state, t, observed_data, y0, num_epochs)\u001b[0m\n\u001b[1;32m    107\u001b[0m     \u001b[38;5;28;01mreturn\u001b[39;00m \u001b[38;5;28mself\u001b[39m\u001b[38;5;241m.\u001b[39mtrain_step(state, t, observed_data, y0)\n\u001b[1;32m    109\u001b[0m \u001b[38;5;28;01mfor\u001b[39;00m epoch \u001b[38;5;129;01min\u001b[39;00m \u001b[38;5;28mrange\u001b[39m(num_epochs):\n\u001b[0;32m--> 110\u001b[0m     state, loss \u001b[38;5;241m=\u001b[39m \u001b[43mtrain_step_jit\u001b[49m\u001b[43m(\u001b[49m\u001b[43mstate\u001b[49m\u001b[43m,\u001b[49m\u001b[43m \u001b[49m\u001b[43mt\u001b[49m\u001b[43m,\u001b[49m\u001b[43m \u001b[49m\u001b[43mobserved_data\u001b[49m\u001b[43m,\u001b[49m\u001b[43m \u001b[49m\u001b[43my0\u001b[49m\u001b[43m)\u001b[49m\n\u001b[1;32m    111\u001b[0m     \u001b[38;5;28;01mif\u001b[39;00m epoch \u001b[38;5;241m%\u001b[39m \u001b[38;5;241m100\u001b[39m \u001b[38;5;241m==\u001b[39m \u001b[38;5;241m0\u001b[39m:\n\u001b[1;32m    112\u001b[0m         \u001b[38;5;28mprint\u001b[39m(\u001b[38;5;124mf\u001b[39m\u001b[38;5;124m'\u001b[39m\u001b[38;5;124mEpoch \u001b[39m\u001b[38;5;132;01m{\u001b[39;00mepoch\u001b[38;5;132;01m}\u001b[39;00m\u001b[38;5;124m, Loss: \u001b[39m\u001b[38;5;132;01m{\u001b[39;00mloss\u001b[38;5;132;01m}\u001b[39;00m\u001b[38;5;124m'\u001b[39m)\n",
      "File \u001b[0;32m<string>:1\u001b[0m, in \u001b[0;36m<lambda>\u001b[0;34m(_cls, count, mu, nu)\u001b[0m\n",
      "\u001b[0;31mKeyboardInterrupt\u001b[0m: "
     ]
    }
   ],
   "source": [
    "y_pred_results = {}\n",
    "\n",
    "layer_widths = [3, 64, 64, 2]\n",
    "learning_rate = 1e-3\n",
    "rng = PRNGKey(0)\n",
    "\n",
    "neural_ode_model = NeuralODE(layer_widths=layer_widths, time_invariant=False)\n",
    "state = neural_ode_model.create_train_state(rng, learning_rate)\n",
    "\n",
    "start_timer = time.time()\n",
    "# train(self, state, t, observed_data, y0, num_epochs=1000):\n",
    "trained_state = neural_ode_model.train(state, t_vdp, y_noisy_vdp, initial_state, num_epochs=1000)\n",
    "end_timer = time.time()\n",
    "timer = end_timer - start_timer\n",
    "print(f\"Time elapsed: {timer}\")\n",
    "\n",
    "y_train_pred = neural_ode_model.neural_ode(trained_state.params, initial_state, t_vdp, trained_state)\n",
    "\n",
    "#---------------------------------------------SAVE RESULT---------------------------------------------#\n",
    "y1 = y_train_pred[-1, :]\n",
    "# def neural_ode(self, params, y0, t, state):\n",
    "y_test_pred = neural_ode_model.neural_ode(trained_state.params, y1, t_test_vdp[N-1:], trained_state)\n",
    "y_pred_results[1] = {\"y_train_pred\": y_train_pred, \"y_test_pred\": y_test_pred,\n",
    "                            \"time_elapsed\": timer, \"y_noisy\":y_noisy_vdp}\n"
   ]
  },
  {
   "cell_type": "code",
   "execution_count": null,
   "metadata": {},
   "outputs": [],
   "source": []
  },
  {
   "cell_type": "code",
   "execution_count": null,
   "metadata": {},
   "outputs": [],
   "source": [
    "# Data generation function\n",
    "def generate_data(ts, key):\n",
    "    y0 = jax.random.uniform(key, (2,), minval=-0.6, maxval=1)\n",
    "\n",
    "    def f(t, y, args):\n",
    "        return jnp.array([y[1], -y[0]])\n",
    "\n",
    "    solver = diffrax.Tsit5()\n",
    "    saveat = diffrax.SaveAt(ts=ts)\n",
    "    sol = diffrax.diffeqsolve(diffrax.ODETerm(f), solver, t0=ts[0], t1=ts[-1], dt0=ts[1] - ts[0], y0=y0, saveat=saveat)\n",
    "    return sol.ys\n",
    "\n",
    "# Main function to train the model\n",
    "def main():\n",
    "    key = random.PRNGKey(0)\n",
    "    ts = jnp.linspace(0, 10, 100)\n",
    "    key, subkey = random.split(key)\n",
    "    observed_data = generate_data(ts, subkey)\n",
    "    y0 = observed_data[0]\n",
    "\n",
    "    layer_widths = [2, 64, 64, 2]"
   ]
  }
 ],
 "metadata": {
  "kernelspec": {
   "display_name": "collocation_env",
   "language": "python",
   "name": "python3"
  },
  "language_info": {
   "codemirror_mode": {
    "name": "ipython",
    "version": 3
   },
   "file_extension": ".py",
   "mimetype": "text/x-python",
   "name": "python",
   "nbconvert_exporter": "python",
   "pygments_lexer": "ipython3",
   "version": "3.9.18"
  }
 },
 "nbformat": 4,
 "nbformat_minor": 2
}
