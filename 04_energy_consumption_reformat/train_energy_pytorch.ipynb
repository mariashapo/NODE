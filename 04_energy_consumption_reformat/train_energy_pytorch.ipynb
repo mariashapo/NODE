{
 "cells": [
  {
   "cell_type": "code",
   "execution_count": 2,
   "metadata": {},
   "outputs": [],
   "source": [
    "import pandas as pd\n",
    "import matplotlib.pyplot as plt\n",
    "import seaborn as sns\n",
    "import numpy as np\n",
    "\n",
    "# jax\n",
    "import jax.numpy as jnp\n",
    "from jax import random\n",
    "import time\n",
    "\n",
    "# stats\n",
    "from statsmodels.api import tsa # time series analysis\n",
    "import statsmodels.api as sm\n",
    "\n",
    "# interpolation\n",
    "from scipy.interpolate import CubicSpline\n",
    "\n",
    "# pre-processing\n",
    "from sklearn.preprocessing import StandardScaler\n",
    "\n",
    "# collocation\n",
    "import sys\n",
    "import os\n",
    "p_ = os.path.abspath(os.path.join('..', '00_utils'))\n",
    "if p_ not in sys.path:\n",
    "    sys.path.append(p_)\n",
    "    \n",
    "p_ = os.path.abspath(os.path.join('..', '00_models'))\n",
    "if p_ not in sys.path:\n",
    "    sys.path.append(p_)\n",
    "\n",
    "import preprocess # helper preprocessing class\n",
    "\n",
    "# pyomo\n",
    "import importlib"
   ]
  },
  {
   "cell_type": "code",
   "execution_count": null,
   "metadata": {},
   "outputs": [],
   "source": []
  }
 ],
 "metadata": {
  "kernelspec": {
   "display_name": "collocation_env",
   "language": "python",
   "name": "python3"
  },
  "language_info": {
   "codemirror_mode": {
    "name": "ipython",
    "version": 3
   },
   "file_extension": ".py",
   "mimetype": "text/x-python",
   "name": "python",
   "nbconvert_exporter": "python",
   "pygments_lexer": "ipython3",
   "version": "3.9.18"
  }
 },
 "nbformat": 4,
 "nbformat_minor": 2
}
