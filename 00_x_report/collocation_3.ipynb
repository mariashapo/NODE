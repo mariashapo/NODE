{
 "cells": [
  {
   "cell_type": "code",
   "execution_count": 1,
   "metadata": {},
   "outputs": [],
   "source": [
    "import pandas as pd\n",
    "import matplotlib.pyplot as plt\n",
    "import seaborn as sns\n",
    "import numpy as np\n",
    "\n",
    "# jax\n",
    "import jax.numpy as jnp\n",
    "from jax import random\n",
    "import time\n",
    "\n",
    "# collocation\n",
    "import sys\n",
    "import os\n",
    "p_ = os.path.abspath(os.path.join('..', '00_utils'))\n",
    "if p_ not in sys.path:\n",
    "    sys.path.append(p_)\n",
    "    \n",
    "import collocation_obj\n",
    "import importlib"
   ]
  },
  {
   "cell_type": "code",
   "execution_count": 2,
   "metadata": {},
   "outputs": [
    {
     "name": "stdout",
     "output_type": "stream",
     "text": [
      "Maximum error: 0.09501322546375748\n"
     ]
    }
   ],
   "source": [
    "def f(x):\n",
    "    return x * np.sin(x)\n",
    "    # return np.sin(x)\n",
    "\n",
    "def df(x):\n",
    "    return np.sin(x) + x*np.cos(x)\n",
    "    # return np.cos(x)\n",
    "\n",
    "eval_pt = np.linspace(0, 2*np.pi, 100)\n",
    "f_values = f(eval_pt)\n",
    "df_analytical = df(eval_pt)\n",
    "df_numerical = np.gradient(f_values, eval_pt)\n",
    "error = np.linalg.norm(df_analytical - df_numerical)\n",
    "\n",
    "print(\"Maximum error:\", np.max(error))"
   ]
  },
  {
   "cell_type": "code",
   "execution_count": 4,
   "metadata": {},
   "outputs": [],
   "source": [
    "import numpy as np\n",
    "from scipy.special import roots_jacobi\n",
    "\n",
    "# https://scicomp.stackexchange.com/questions/32918/need-an-example-legendre-gauss-radau-pseudospectral-differentiation-matrix-or-ma\n",
    "def OCnonsymGLReig(n, meth, a=0.0, b=1.0, include_endpoints=True):\n",
    "    # meth = 1,2,3,4 for Gauss, Lobatto, Radau (right), Radau (left)\n",
    "    na = [1, 0, 0, 1]  # Defines alpha offset for the weight formula\n",
    "    nb = [1, 0, 1, 0]  # Defines beta offset for the weight formula\n",
    "    nt = n + 2 if include_endpoints else n\n",
    "\n",
    "    # Adjust alpha and beta based on the method\n",
    "    alpha = 1.0 - na[meth-1]\n",
    "    beta = 1.0 - nb[meth-1]\n",
    "\n",
    "    # Get roots and weights for the Jacobi polynomial\n",
    "    roots, weights = roots_jacobi(n, alpha, beta)\n",
    "\n",
    "    # Define the transformation for the points from [-1, 1] to [a, b]\n",
    "    x = 0.5 * (roots + 1)  # First transform to [0, 1]\n",
    "    x = a + (b - a) * x  # Then scale to [a, b]\n",
    "    \n",
    "    if include_endpoints:\n",
    "        x = np.hstack(([a], x, [b]))  # Include a and b as endpoints\n",
    "\n",
    "    # Compute the first derivative matrix A\n",
    "    xdif = x[:, np.newaxis] - x\n",
    "    np.fill_diagonal(xdif, 1)  # Avoid division by zero\n",
    "    dpx = np.prod(xdif, axis=1)\n",
    "\n",
    "    A = dpx[:, np.newaxis] / (dpx * xdif)\n",
    "    np.fill_diagonal(A, 1 - np.sum(A, axis=1))\n",
    "\n",
    "    return x, A\n",
    "\n",
    "# Usage Example\n",
    "n = 20\n",
    "meth = 4  # For example, using Gauss\n",
    "x, A = OCnonsymGLReig(n, meth, a=0.0, b=10.0, include_endpoints=True)\n"
   ]
  },
  {
   "cell_type": "markdown",
   "metadata": {},
   "source": [
    "## Nodes"
   ]
  },
  {
   "cell_type": "code",
   "execution_count": 22,
   "metadata": {},
   "outputs": [],
   "source": [
    "importlib.reload(collocation_obj)\n",
    "Collocation = collocation_obj.Collocation\n",
    "\n",
    "x_cheb = Collocation.chebyshev_nodes_second_kind(20, 0 , 10)\n",
    "x_jacobi, D_jacobi = OCnonsymGLReig(20, 4, a=0.0, b=10.0, include_endpoints=True)\n",
    "legendre = Collocation(20, 0, 10, \"gauss_legendre\", include_init = True)\n",
    "x_leg = legendre.compute_nodes()"
   ]
  },
  {
   "cell_type": "code",
   "execution_count": 20,
   "metadata": {},
   "outputs": [
    {
     "data": {
      "image/png": "[encoded data removed]",
      "text/plain": [
       "<Figure size 1000x200 with 1 Axes>"
      ]
     },
     "metadata": {},
     "output_type": "display_data"
    }
   ],
   "source": [
    "plt.figure(figsize=(10, 2))\n",
    "plt.plot(x_cheb, np.zeros_like(x_cheb), 'o', label=f'Chebyshev', alpha = 0.5)\n",
    "plt.plot(x_jacobi, np.ones_like(x_jacobi)/20, 'o', label=f'Jacobi', alpha = 0.5)\n",
    "plt.plot(x_leg, np.ones_like(x_leg)/10, 'o', label=f'Legendre', alpha = 0.5)\n",
    "plt.grid()\n",
    "plt.legend()\n",
    "plt.show();\n"
   ]
  },
  {
   "cell_type": "code",
   "execution_count": 25,
   "metadata": {},
   "outputs": [],
   "source": [
    "def first_deriv(nodes):\n",
    "    xdif = nodes[:, np.newaxis] - nodes\n",
    "    np.fill_diagonal(xdif, 1)  # Avoid division by zero\n",
    "    dpx = np.prod(xdif, axis=1)\n",
    "\n",
    "    A = dpx[:, np.newaxis] / (dpx * xdif)\n",
    "    np.fill_diagonal(A, 1 - np.sum(A, axis=1))\n",
    "    return A\n",
    "\n",
    "D_leg = first_deriv(x_leg) "
   ]
  },
  {
   "cell_type": "code",
   "execution_count": 28,
   "metadata": {},
   "outputs": [
    {
     "data": {
      "text/plain": [
       "(20, 20)"
      ]
     },
     "execution_count": 28,
     "metadata": {},
     "output_type": "execute_result"
    }
   ],
   "source": [
    "D_leg.shape"
   ]
  },
  {
   "cell_type": "code",
   "execution_count": 29,
   "metadata": {},
   "outputs": [],
   "source": [
    "dy_dt_jacobi = []\n",
    "for i in range(len(x_jacobi)):\n",
    "    dy_dt_jacobi.append(D_jacobi[i] @ f(x_jacobi))\n",
    "\n",
    "dy_dt_leg = []\n",
    "for i in range(len(x_leg)):\n",
    "    dy_dt_leg.append(D_leg[i] @ f(x_leg))"
   ]
  },
  {
   "cell_type": "code",
   "execution_count": null,
   "metadata": {},
   "outputs": [],
   "source": [
    "plt.figure(figsize=(10, 5))\n",
    "plt.plot(x_leg, df(x_leg), color='red', label=f'Derivative Analytical')\n",
    "plt.plot(x, dy_dt, '--', label=f'Derivative Numerical')\n",
    "plt.title('Derivative of $f(x) = x \\sin(x)$; Analytical vs. Numerical')\n",
    "plt.grid()\n",
    "plt.legend()\n",
    "plt.show();\n",
    "\n",
    "# error = np.mean((df(nodes) - dy_dt)**2)\n",
    "\n",
    "print(\"Maximum error:\", np.max(error))"
   ]
  }
 ],
 "metadata": {
  "kernelspec": {
   "display_name": "collocation_env",
   "language": "python",
   "name": "python3"
  },
  "language_info": {
   "codemirror_mode": {
    "name": "ipython",
    "version": 3
   },
   "file_extension": ".py",
   "mimetype": "text/x-python",
   "name": "python",
   "nbconvert_exporter": "python",
   "pygments_lexer": "ipython3",
   "version": "3.9.18"
  }
 },
 "nbformat": 4,
 "nbformat_minor": 2
}
