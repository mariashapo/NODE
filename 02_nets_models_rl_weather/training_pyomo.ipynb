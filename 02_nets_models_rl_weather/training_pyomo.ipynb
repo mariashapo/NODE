{
 "cells": [
  {
   "cell_type": "code",
   "execution_count": 1,
   "metadata": {},
   "outputs": [],
   "source": [
    "import numpy as np\n",
    "import pandas as pd\n",
    "import jax\n",
    "import jax.numpy as jnp\n",
    "from jax import random\n",
    "from flax.training import train_state\n",
    "from jax.experimental.ode import odeint\n",
    "\n",
    "import time\n",
    "\n",
    "# RELOADING MODULES\n",
    "import importlib\n",
    "import neural_net_pyomo\n",
    "import matplotlib.pyplot as plt\n",
    "\n",
    "importlib.reload(neural_net_pyomo)\n",
    "NeuralODEPyomo = neural_net_pyomo.NeuralODEPyomo\n",
    "\n",
    "# UTILS DIRECTORY\n",
    "import sys\n",
    "import os\n",
    "collocation2_path = os.path.abspath(os.path.join('..', 'utils'))\n",
    "\n",
    "if collocation2_path not in sys.path:\n",
    "    sys.path.append(collocation2_path)\n",
    "\n",
    "from collocation import compute_weights, lagrange_derivative\n",
    "\n",
    "import non_parametric_collocation \n",
    "importlib.reload(non_parametric_collocation)\n",
    "collocate_data = non_parametric_collocation.collocate_data\n",
    "\n",
    "import data_generation \n",
    "importlib.reload(data_generation)\n",
    "generate_ode_data = data_generation.generate_ode_data"
   ]
  },
  {
   "cell_type": "code",
   "execution_count": 30,
   "metadata": {},
   "outputs": [],
   "source": [
    "t_train = np.squeeze(np.array(pd.read_csv('../data/daily_climate/train/X_train.csv'), dtype=jnp.float32)) # x is timepoints t\n",
    "t_test = np.squeeze(np.array(pd.read_csv('../data/daily_climate/test/X_test.csv'), dtype=jnp.float32))\n",
    "\n",
    "Y_train = np.squeeze(np.array(pd.read_csv('../data/daily_climate/train/y_train.csv'))) \n",
    "Y_test = np.squeeze(np.array(pd.read_csv('../data/daily_climate/test/y_test.csv'))) # y is the mean temperature"
   ]
  },
  {
   "cell_type": "code",
   "execution_count": 31,
   "metadata": {},
   "outputs": [
    {
     "data": {
      "text/plain": [
       "array([ 0.,  1.,  2.,  3.,  4.,  5.,  6.,  7.,  8.,  9., 10., 11., 12.,\n",
       "       13., 14., 15., 16., 17., 18., 19., 20., 21., 22., 23., 24., 25.],\n",
       "      dtype=float32)"
      ]
     },
     "execution_count": 31,
     "metadata": {},
     "output_type": "execute_result"
    }
   ],
   "source": [
    "t_train"
   ]
  },
  {
   "cell_type": "code",
   "execution_count": 33,
   "metadata": {},
   "outputs": [
    {
     "name": "stderr",
     "output_type": "stream",
     "text": [
      "/Users/mariiashapo/Library/CloudStorage/OneDrive-Personal/project_2324/NODE/utils/non_parametric_collocation.py:95: UserWarning: Data transposed to match expected dimensions.\n",
      "  warnings.warn(\"Data transposed to match expected dimensions.\")\n"
     ]
    }
   ],
   "source": [
    "estimated_derivative, estimated_solution = collocate_data(Y_train, t_train, 'EpanechnikovKernel', bandwidth=2)\n",
    "estimated_solution = np.array(estimated_solution)"
   ]
  },
  {
   "cell_type": "code",
   "execution_count": 34,
   "metadata": {},
   "outputs": [],
   "source": [
    "weights = compute_weights(t_train)\n",
    "D = np.array(lagrange_derivative(t_train, weights))"
   ]
  },
  {
   "cell_type": "code",
   "execution_count": 35,
   "metadata": {},
   "outputs": [
    {
     "name": "stdout",
     "output_type": "stream",
     "text": [
      "(26, 4)\n",
      "(26,)\n",
      "(4, 26)\n"
     ]
    }
   ],
   "source": [
    "print(Y_train.shape)\n",
    "print(t_train.shape)\n",
    "print(estimated_solution.shape)"
   ]
  },
  {
   "cell_type": "code",
   "execution_count": 36,
   "metadata": {},
   "outputs": [
    {
     "name": "stdout",
     "output_type": "stream",
     "text": [
      "Ipopt 3.14.16: max_iter=500\n",
      "halt_on_ampl_error=yes\n",
      "tol=1e-07\n",
      "print_level=5\n",
      "\n",
      "\n",
      "******************************************************************************\n",
      "This program contains Ipopt, a library for large-scale nonlinear optimization.\n",
      " Ipopt is released as open source code under the Eclipse Public License (EPL).\n",
      "         For more information visit https://github.com/coin-or/Ipopt\n",
      "******************************************************************************\n",
      "\n",
      "This is Ipopt version 3.14.16, running with linear solver MUMPS 5.7.1.\n",
      "\n",
      "Number of nonzeros in equality constraint Jacobian...:    59000\n",
      "Number of nonzeros in inequality constraint Jacobian.:        0\n",
      "Number of nonzeros in Lagrangian Hessian.............:   135814\n",
      "\n",
      "Total number of variables............................:      728\n",
      "                     variables with only lower bounds:        0\n",
      "                variables with lower and upper bounds:      104\n",
      "                     variables with only upper bounds:        0\n",
      "Total number of equality constraints.................:      100\n",
      "Total number of inequality constraints...............:        0\n",
      "        inequality constraints with only lower bounds:        0\n",
      "   inequality constraints with lower and upper bounds:        0\n",
      "        inequality constraints with only upper bounds:        0\n",
      "\n",
      "iter    objective    inf_pr   inf_du lg(mu)  ||d||  lg(rg) alpha_du alpha_pr  ls\n",
      "   0  2.2336752e+01 4.19e+04 1.00e+00  -1.0 0.00e+00    -  0.00e+00 0.00e+00   0\n",
      "   1  1.1881800e+02 2.00e+00 4.70e+00  -1.0 5.03e+00  -4.0 6.58e-01 1.00e+00h  1\n",
      "   2  1.2200513e+02 2.14e+00 3.38e+07  -1.0 2.37e+00   1.8 6.47e-01 1.00e+00h  1\n",
      "   3  1.2484011e+02 1.76e+00 1.52e+11  -1.0 4.45e+00   5.0 5.65e-01 1.00e+00h  1\n",
      "   4  1.2312568e+02 8.94e-02 5.15e+10  -1.0 2.57e+00   7.2 9.58e-01 1.00e+00f  1\n",
      "   5  1.2262197e+02 2.55e-02 3.61e+12  -1.0 2.10e+00   9.4 1.00e+00 1.00e+00f  1\n",
      "   6  1.2252161e+02 4.49e-04 3.43e+12  -1.0 1.41e-02  10.8 1.00e+00 1.00e+00h  1\n",
      "   7  1.2252035e+02 8.50e-07 4.23e+10  -1.0 3.54e-04  10.3 1.00e+00 1.00e+00h  1\n",
      "   8  1.2252020e+02 1.75e-06 1.45e+06  -1.0 2.20e-04   9.8 1.00e+00 1.00e+00h  1\n",
      "   9  1.2252021e+02 8.71e-07 2.07e+04  -2.5 9.41e-06   9.3 1.00e+00 1.00e+00h  1\n",
      "iter    objective    inf_pr   inf_du lg(mu)  ||d||  lg(rg) alpha_du alpha_pr  ls\n",
      "  10  1.2250080e+02 4.48e-03 3.09e+10  -3.8 9.16e-03   8.9 1.00e+00 1.00e+00H  1\n",
      "  11  1.2251170e+02 2.28e-03 4.67e+10  -3.8 1.65e-01   9.3 1.00e+00 5.00e-01h  2\n",
      "  12  1.2251862e+02 2.32e-04 7.67e+09  -3.8 8.42e-02   8.8 1.00e+00 1.00e+00h  1\n",
      "  13  1.2251874e+02 2.80e-06 3.41e+08  -3.8 2.88e-03   9.2 1.00e+00 1.00e+00h  1\n",
      "  14  1.2251883e+02 1.86e-06 2.83e+05  -3.8 1.28e-04   8.8 1.00e+00 1.00e+00h  1\n",
      "  15  1.2251884e+02 4.15e-07 1.66e+03  -3.8 8.60e-06   8.3 1.00e+00 1.00e+00h  1\n",
      "  16  1.2251883e+02 1.70e-08 4.04e+02  -5.7 6.29e-06   7.8 1.00e+00 1.00e+00h  1\n",
      "  17  1.2251882e+02 3.20e-10 2.70e+00  -5.7 1.26e-07   7.3 1.00e+00 1.00e+00h  1\n",
      "  18  1.2251881e+02 1.18e-10 1.56e+00  -5.7 2.18e-07   6.9 1.00e+00 1.00e+00f  1\n",
      "  19  1.2251875e+02 1.34e-10 1.56e+00  -5.7 6.55e-07   6.4 1.00e+00 1.00e+00f  1\n",
      "iter    objective    inf_pr   inf_du lg(mu)  ||d||  lg(rg) alpha_du alpha_pr  ls\n",
      "  20  1.2251860e+02 7.01e-11 1.56e+00  -5.7 1.97e-06   5.9 1.00e+00 1.00e+00f  1\n",
      "  21  1.2251812e+02 1.69e-10 1.56e+00  -5.7 5.90e-06   5.4 1.00e+00 1.00e+00f  1\n",
      "  22  1.2251670e+02 3.75e-10 1.56e+00  -5.7 1.77e-05   4.9 1.00e+00 1.00e+00f  1\n",
      "  23  1.2251244e+02 3.38e-09 1.56e+00  -5.7 5.31e-05   4.5 1.00e+00 1.00e+00f  1\n",
      "  24  1.2249965e+02 3.04e-08 1.56e+00  -5.7 1.59e-04   4.0 1.00e+00 1.00e+00f  1\n",
      "  25  1.2246131e+02 2.73e-07 1.56e+00  -5.7 4.77e-04   3.5 1.00e+00 1.00e+00f  1\n"
     ]
    }
   ],
   "source": [
    "layer_widths = [5, 20, 20, 4]\n",
    "\n",
    "# solver.options['print_level'] = 5\n",
    "params = {\"tol\":1e-7, \"print_level\": 5}\n",
    "\n",
    "start_timer_build = time.time()\n",
    "ode_model = NeuralODEPyomo(Y_train, t_train, D, layer_widths, max_iter = 500, act_func = \"tanh\", y_init = estimated_solution.T, extra_input = t_train, params = params) # , extra_input = t_ho\n",
    "ode_model.build_model()\n",
    "end_timer_build = time.time()\n",
    "\n",
    "result = ode_model.solve_model()\n",
    "u_model = ode_model.extract_solution().T"
   ]
  },
  {
   "cell_type": "code",
   "execution_count": null,
   "metadata": {},
   "outputs": [],
   "source": []
  },
  {
   "cell_type": "code",
   "execution_count": null,
   "metadata": {},
   "outputs": [],
   "source": [
    "def system_dynamics(y, t):\n",
    "    input = jnp.array([y[0], t])\n",
    "    du_dt = ode_model.predict(input)\n",
    "    return jnp.array([du_dt])\n",
    "\n",
    "y_pred_train = odeint(system_dynamics, Y_train[0], t_train)    \n",
    "mae_train = jnp.mean(jnp.abs(y_pred_train - Y_train))\n",
    "print (f\"Train MAE: {mae_train}\")\n",
    "\n",
    "y1 = y_pred_train[-1, :]\n",
    "y_pred_test = odeint(system_dynamics, y1, t_test[N-1:])\n",
    "mae_test = jnp.mean(jnp.abs(y_pred_test - y_test[N-1:]))\n",
    "print (f\"Test MAE: {mae_test}\")\n",
    "\n",
    "#---------------------------PLOTTING RESULTS--------------------------#\n",
    "plt.figure(figsize=(10, 5))\n",
    "plt.plot(t, y_pred_train, 'b', label='Predicted Solution')\n",
    "plt.plot(t_test[N-1:], y_pred_test, 'b--', label='Predicted Solution', omega = 0.5)\n",
    "\n",
    "#plt.plot(t_ho, v_model, 'r', label='Predicted Solution')\n",
    "plt.plot(t_test, y_test, 'g--', label='True Solution')\n",
    "\n",
    "plt.scatter(t, y_noisy.T, label='Noisy Data u(t)', alpha = 0.5)\n",
    "plt.xlabel('Time')\n",
    "plt.ylabel('u(t)')\n",
    "plt.axvline(x=end_time, color='r', linestyle='--', label='Train-test split')\n",
    "plt.legend(loc =\"lower right\")\n",
    "plt.grid(True)\n",
    "plt.show()"
   ]
  }
 ],
 "metadata": {
  "kernelspec": {
   "display_name": "collocation_env",
   "language": "python",
   "name": "python3"
  },
  "language_info": {
   "codemirror_mode": {
    "name": "ipython",
    "version": 3
   },
   "file_extension": ".py",
   "mimetype": "text/x-python",
   "name": "python",
   "nbconvert_exporter": "python",
   "pygments_lexer": "ipython3",
   "version": "3.9.18"
  }
 },
 "nbformat": 4,
 "nbformat_minor": 2
}
