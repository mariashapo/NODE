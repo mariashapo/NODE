{
 "cells": [
  {
   "cell_type": "code",
   "execution_count": 1,
   "metadata": {},
   "outputs": [],
   "source": [
    "import numpy as np\n",
    "import matplotlib.pyplot as plt\n",
    "\n",
    "# import pyomo.environ as pyo\n",
    "# from pyomo.environ import ConcreteModel, Var, ConstraintList, Objective, SolverFactory, value, RangeSet, Constraint, Param\n",
    "# from pyomo.dae import *\n",
    "\n",
    "import jax\n",
    "import jax.numpy as jnp\n",
    "\n",
    "from scipy.interpolate import interp1d\n",
    "\n",
    "import sys\n",
    "import os\n",
    "\n",
    "collocation2_path = os.path.abspath(os.path.join('..', 'utils'))\n",
    "\n",
    "# Add the directory to sys.path\n",
    "if collocation2_path not in sys.path:\n",
    "    sys.path.append(collocation2_path)\n",
    "\n",
    "from collocation import compute_weights, lagrange_derivative\n",
    "from interpolation import BarycentricInterpolation\n",
    "from data_generation import generate_ode_data\n",
    "from non_parametric_collocation import collocate_data\n",
    "from optimization_pyomo import optimization_model"
   ]
  },
  {
   "cell_type": "code",
   "execution_count": 2,
   "metadata": {},
   "outputs": [],
   "source": [
    "#---------------------------------------------DATA PARAMS---------------------------------------------#\n",
    "N = 200\n",
    "noise_level = 0.5\n",
    "ode_type, params = \"harmonic_oscillator\", {\"omega_squared\": 1}\n",
    "start_time, end_time = 0, 10\n",
    "spacing_type = \"chebyshev\"\n",
    "initial_state = jnp.array([0.0, 1.0])\n",
    "\n",
    "#--------------------------------------------GENERATE DATA--------------------------------------------#\n",
    "t, y, y_noisy, true_derivatives = generate_ode_data(N, noise_level, ode_type, params, start_time, end_time, spacing_type, initial_state)\n",
    "\n",
    "# numpy array is required for pyomo\n",
    "y_noisy = np.array(jnp.squeeze(y_noisy))\n",
    "t = np.array(jnp.squeeze(t))\n",
    "\n",
    "#---------------------------COLLOCATION MATRIX PREPARATION--------------------------#\n",
    "weights = compute_weights(t)\n",
    "D = np.array(lagrange_derivative(t, weights))"
   ]
  },
  {
   "cell_type": "code",
   "execution_count": 3,
   "metadata": {},
   "outputs": [
    {
     "name": "stdout",
     "output_type": "stream",
     "text": [
      "\n",
      "    Constructs and solves an optimization model using neural networks to fit observed data points to an ODE system with collocation constraints.\n",
      "\n",
      "    This function sets up a neural network within a Pyomo optimization framework to learn dynamics from observed data points, \n",
      "    minimizing the difference between observed states and predicted states by adjusting the neural network's weights and biases \n",
      "    subject to ODE constraints defined via a collocation matrix.\n",
      "\n",
      "    Parameters:\n",
      "    y_observed (np.ndarray): An array of observed data points with shape (N, 2), where N is the number of time points and 2 corresponds to the state variables u and v.\n",
      "    t (np.ndarray): An array of time points corresponding to the observations in y_observed.\n",
      "    first_derivative_matrix (np.ndarray): A matrix representing the first derivative constraints imposed by a collocation method on the ODE solution.\n",
      "    penalty_lambda (float, optional): A regularization parameter used to scale the penalty terms in the objective function. Default is 100.\n",
      "    max_iter (int, optional): The maximum number of iterations for the solver to run. Default is 500.\n",
      "    act_func (str, optional): The activation function used in the neural network. Supported options are 'tanh', 'sigmoid', and 'softplus'. Default is 'tanh'.\n",
      "    w_init_method (str, optional): Method to initialize weights; supported methods are 'random', 'xavier', and 'he'. Default is 'random'.\n",
      "\n",
      "    Returns:\n",
      "    ConcreteModel: A Pyomo ConcreteModel instance after solving. The model contains the solution, including the optimized values of state variables u and v, and the learned neural network parameters.\n",
      "\n",
      "    Raises:\n",
      "    ValueError: If an unsupported activation function or weight initialization method is specified.\n",
      "    \n"
     ]
    }
   ],
   "source": [
    "print(optimization_model.__doc__)"
   ]
  },
  {
   "cell_type": "code",
   "execution_count": null,
   "metadata": {},
   "outputs": [],
   "source": [
    "model = optimization_model(y_noisy, max_iter=500)"
   ]
  },
  {
   "cell_type": "code",
   "execution_count": null,
   "metadata": {},
   "outputs": [],
   "source": []
  }
 ],
 "metadata": {
  "kernelspec": {
   "display_name": "collocation_env",
   "language": "python",
   "name": "python3"
  },
  "language_info": {
   "codemirror_mode": {
    "name": "ipython",
    "version": 3
   },
   "file_extension": ".py",
   "mimetype": "text/x-python",
   "name": "python",
   "nbconvert_exporter": "python",
   "pygments_lexer": "ipython3",
   "version": "3.9.18"
  }
 },
 "nbformat": 4,
 "nbformat_minor": 2
}
