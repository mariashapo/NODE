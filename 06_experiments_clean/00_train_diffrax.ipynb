{
 "cells": [
  {
   "cell_type": "code",
   "execution_count": 1,
   "metadata": {},
   "outputs": [],
   "source": [
    "import pandas as pd\n",
    "import matplotlib.pyplot as plt\n",
    "import numpy as np\n",
    "from datetime import datetime, timedelta\n",
    "\n",
    "# jax\n",
    "import jax.numpy as jnp\n",
    "import time\n",
    "\n",
    "import sys\n",
    "import os\n",
    "import importlib\n",
    "import pickle\n",
    "import itertools\n",
    "\n",
    "path_ = os.path.abspath(os.path.join('..', '00_utils'))\n",
    "if path_ not in sys.path:\n",
    "    sys.path.append(path_)\n",
    "\n",
    "path_ = os.path.abspath(os.path.join('..', '00_models'))\n",
    "if path_ not in sys.path:\n",
    "    sys.path.append(path_)\n",
    "\n",
    "path_ = os.path.abspath(os.path.join('..', '00_utils_training'))\n",
    "if path_ not in sys.path:\n",
    "    sys.path.append(path_)\n",
    "\n",
    "import logging\n",
    "logging.basicConfig(level=logging.ERROR, filename='error_log.txt')\n",
    "\n",
    "import optimize_diffrax_rl"
   ]
  },
  {
   "cell_type": "code",
   "execution_count": 2,
   "metadata": {},
   "outputs": [],
   "source": [
    "importlib.reload(optimize_diffrax_rl)\n",
    "ExperimentRunner = optimize_diffrax_rl.ExperimentRunner"
   ]
  },
  {
   "cell_type": "code",
   "execution_count": 3,
   "metadata": {},
   "outputs": [
    {
     "name": "stdout",
     "output_type": "stream",
     "text": [
      "Generating default parameters for data\n",
      "Generating default parameters for model\n",
      "Running iteration 1 with parameters: 1\n",
      "Epoch 100, Loss: 0.3188007581995243\n",
      "Epoch 200, Loss: 0.1864720219847577\n",
      "Epoch 300, Loss: 0.12195367010197833\n",
      "Epoch 400, Loss: 0.106541392718977\n",
      "Epoch 500, Loss: 0.07727697536717684\n",
      "Epoch 600, Loss: 0.0703752283469337\n",
      "Epoch 700, Loss: 0.06722180054425332\n",
      "Epoch 800, Loss: 0.06625444706657413\n",
      "Epoch 900, Loss: 0.06561430375345993\n",
      "Epoch 1000, Loss: 0.06527610776913062\n",
      "Epoch 100, Loss: 0.9683698168357237\n",
      "Epoch 200, Loss: 0.6790588103575996\n",
      "Epoch 300, Loss: 0.5873211843950249\n",
      "Epoch 400, Loss: 0.5305257229001522\n",
      "Epoch 500, Loss: 0.468424984767969\n",
      "Epoch 600, Loss: 0.4238035587598031\n",
      "Epoch 700, Loss: 0.37655865223278073\n",
      "Epoch 800, Loss: 0.3449382346713796\n",
      "Epoch 900, Loss: 0.31029459840754486\n",
      "Epoch 1000, Loss: 0.2753071923473948\n",
      "Iteration i: 1/1 completed\n"
     ]
    }
   ],
   "source": [
    "extra_inputs = {}\n",
    "extra_inputs['params_sequence'] = {'sequence_len': 1, 'frequency': 1}\n",
    "extra_inputs['params_model'] = {'layer_sizes': [6, 64, 64, 1], 'penalty': 1e-5, 'learning_rate': 1e-3, 'num_epochs': [1000, 1000], 'pretrain': [0.2, 1]}\n",
    "extra_inputs['params_sequence'] = {'sequence_len': 1, 'frequency': 1}\n",
    "extra_inputs['params_results'] = {'plot':True, 'log' : True, 'split_time' : False}\n",
    "\n",
    "runner = ExperimentRunner('2015-01-01', 'convergence', extra_inputs)\n",
    "runner.run()"
   ]
  },
  {
   "cell_type": "code",
   "execution_count": 4,
   "metadata": {},
   "outputs": [
    {
     "data": {
      "text/plain": [
       "[[],\n",
       " [8.446103300526982,\n",
       "  5.805316639509833,\n",
       "  3.524640687784096,\n",
       "  2.4377769860867113,\n",
       "  1.5833811846072259,\n",
       "  1.2155161374043022,\n",
       "  1.074547381597868,\n",
       "  1.0195482226963086,\n",
       "  0.9872856516882951,\n",
       "  0.9606146497034942,\n",
       "  0.9207337557760201,\n",
       "  0.8805106779528538,\n",
       "  0.8401760269342512,\n",
       "  0.8089829212594358,\n",
       "  0.7817880269401392,\n",
       "  0.7593166155607913,\n",
       "  0.7326345454614562,\n",
       "  0.713485540006522,\n",
       "  0.6908473045474617,\n",
       "  0.6782385414990931,\n",
       "  0.6647463617835965,\n",
       "  0.6503505955068942,\n",
       "  0.6413676645703013,\n",
       "  0.6287670626058331,\n",
       "  0.6276101547614725,\n",
       "  0.612799962742723,\n",
       "  0.6069228011423209,\n",
       "  0.5982171603131671,\n",
       "  0.5918575835495666,\n",
       "  0.587312329303742,\n",
       "  0.5829715299671815,\n",
       "  0.5724641573204492,\n",
       "  0.5677018060680624,\n",
       "  0.5791266471975405,\n",
       "  0.5562726048959056,\n",
       "  0.5524653020624192,\n",
       "  0.5446380295768134,\n",
       "  0.5403018440016342,\n",
       "  0.5282337349684305,\n",
       "  0.5300616163259032,\n",
       "  0.5225740760655045,\n",
       "  0.518704600360735,\n",
       "  0.5105770044191555,\n",
       "  0.5058092818215015,\n",
       "  0.490964715175195,\n",
       "  0.48895183816941695,\n",
       "  0.4824634251125824,\n",
       "  0.47540387629248854,\n",
       "  0.47371499230306474,\n",
       "  0.46452103743796624,\n",
       "  0.4618322396463697,\n",
       "  0.45554357342719215,\n",
       "  0.4527315647059352,\n",
       "  0.4473245491223017,\n",
       "  0.4408443729410487,\n",
       "  0.4403083024870062,\n",
       "  0.43333500338693026,\n",
       "  0.42685215874069043,\n",
       "  0.42571508313119244,\n",
       "  0.4203070699495302,\n",
       "  0.41646015018195004,\n",
       "  0.41232653615595843,\n",
       "  0.4109055679777267,\n",
       "  0.40440454192799585,\n",
       "  0.3889701444725887,\n",
       "  0.39843214039456676,\n",
       "  0.3925697590221196,\n",
       "  0.38678454124306827,\n",
       "  0.3815630242691838,\n",
       "  0.3794159816388194,\n",
       "  0.3718084116314593,\n",
       "  0.37188234571149464,\n",
       "  0.36720774053663746,\n",
       "  0.36214214403407796,\n",
       "  0.35746803085081585,\n",
       "  0.35601022940467997,\n",
       "  0.34806803494958494,\n",
       "  0.3472619343796913,\n",
       "  0.3447295071211651,\n",
       "  0.33618132191969535,\n",
       "  0.3359323997726109,\n",
       "  0.333994881641656,\n",
       "  0.3298258311572503,\n",
       "  0.32490159490336806,\n",
       "  0.3189106995569445,\n",
       "  0.31480203461753387,\n",
       "  0.3147057268277308,\n",
       "  0.31307627647476116,\n",
       "  0.30750389775344206,\n",
       "  0.3086697231765794,\n",
       "  0.3007077083661754,\n",
       "  0.2950396860066144,\n",
       "  0.2925027244727226,\n",
       "  0.2914972403557395,\n",
       "  0.2898362505732923,\n",
       "  0.2890818389338827,\n",
       "  0.28380480151243886,\n",
       "  0.28039507291557,\n",
       "  0.27384150994273504,\n",
       "  0.2717193602755213]]"
      ]
     },
     "execution_count": 4,
     "metadata": {},
     "output_type": "execute_result"
    }
   ],
   "source": [
    "runner.losses"
   ]
  },
  {
   "cell_type": "code",
   "execution_count": 13,
   "metadata": {},
   "outputs": [
    {
     "data": {
      "text/plain": [
       "{'times_elapsed': 9.685075481732687,\n",
       " 'mse_diffrax': 0.2775134084976922,\n",
       " 'mse_diffrax_test': 0.8211285403569759}"
      ]
     },
     "execution_count": 13,
     "metadata": {},
     "output_type": "execute_result"
    }
   ],
   "source": [
    "runner.results_avg"
   ]
  },
  {
   "cell_type": "code",
   "execution_count": 14,
   "metadata": {},
   "outputs": [
    {
     "data": {
      "text/plain": [
       "{(0, '2015-01-01'): {'times_elapsed': 9.472509860992432,\n",
       "  'mse_diffrax': 0.2775134084976922,\n",
       "  'mse_diffrax_test': 0.8211285403569759},\n",
       " (1e-07, '2015-01-01'): {'times_elapsed': 9.560502052307129,\n",
       "  'mse_diffrax': 0.2775134084976922,\n",
       "  'mse_diffrax_test': 0.8211285403569759},\n",
       " (1e-05, '2015-01-01'): {'times_elapsed': 9.58388876914978,\n",
       "  'mse_diffrax': 0.2775134084976922,\n",
       "  'mse_diffrax_test': 0.8211285403569759},\n",
       " (0.001, '2015-01-01'): {'times_elapsed': 9.641717910766602,\n",
       "  'mse_diffrax': 0.2775134084976922,\n",
       "  'mse_diffrax_test': 0.8211285403569759},\n",
       " (0.01, '2015-01-01'): {'times_elapsed': 9.6963791847229,\n",
       "  'mse_diffrax': 0.2775134084976922,\n",
       "  'mse_diffrax_test': 0.8211285403569759},\n",
       " (0.1, '2015-01-01'): {'times_elapsed': 10.155455112457275,\n",
       "  'mse_diffrax': 0.2775134084976922,\n",
       "  'mse_diffrax_test': 0.8211285403569759}}"
      ]
     },
     "execution_count": 14,
     "metadata": {},
     "output_type": "execute_result"
    }
   ],
   "source": [
    "runner.results_full"
   ]
  },
  {
   "cell_type": "code",
   "execution_count": null,
   "metadata": {},
   "outputs": [],
   "source": []
  }
 ],
 "metadata": {
  "kernelspec": {
   "display_name": "collocation_env",
   "language": "python",
   "name": "python3"
  },
  "language_info": {
   "codemirror_mode": {
    "name": "ipython",
    "version": 3
   },
   "file_extension": ".py",
   "mimetype": "text/x-python",
   "name": "python",
   "nbconvert_exporter": "python",
   "pygments_lexer": "ipython3",
   "version": "3.9.18"
  }
 },
 "nbformat": 4,
 "nbformat_minor": 2
}
