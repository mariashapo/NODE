{
 "cells": [
  {
   "cell_type": "code",
   "execution_count": 1,
   "metadata": {},
   "outputs": [],
   "source": [
    "import pandas as pd\n",
    "import matplotlib.pyplot as plt\n",
    "import numpy as np\n",
    "from datetime import datetime, timedelta\n",
    "\n",
    "# jax\n",
    "import jax.numpy as jnp\n",
    "import time\n",
    "\n",
    "import sys\n",
    "import os\n",
    "import importlib\n",
    "import pickle\n",
    "import itertools\n",
    "\n",
    "path_ = os.path.abspath(os.path.join('..', '00_utils'))\n",
    "if path_ not in sys.path:\n",
    "    sys.path.append(path_)\n",
    "\n",
    "path_ = os.path.abspath(os.path.join('..', '00_models'))\n",
    "if path_ not in sys.path:\n",
    "    sys.path.append(path_)\n",
    "\n",
    "path_ = os.path.abspath(os.path.join('..', '00_utils_training'))\n",
    "if path_ not in sys.path:\n",
    "    sys.path.append(path_)\n",
    "\n",
    "import logging\n",
    "logging.basicConfig(level=logging.ERROR, filename='error_log.txt')\n",
    "\n",
    "import optimize_diffrax_rl"
   ]
  },
  {
   "cell_type": "code",
   "execution_count": 15,
   "metadata": {},
   "outputs": [],
   "source": [
    "importlib.reload(optimize_diffrax_rl)\n",
    "ExperimentRunner = optimize_diffrax_rl.ExperimentRunner"
   ]
  },
  {
   "cell_type": "code",
   "execution_count": null,
   "metadata": {},
   "outputs": [],
   "source": [
    "extra_inputs.keys()"
   ]
  },
  {
   "cell_type": "code",
   "execution_count": 18,
   "metadata": {},
   "outputs": [
    {
     "name": "stdout",
     "output_type": "stream",
     "text": [
      "Generating default parameters for data\n",
      "Generating default parameters for model\n",
      "Running iteration 1 with parameters: 1\n",
      "Start Data: 2018-01-01 00:00:00\n",
      "days_offset: 1\n",
      "Offset: 2017-12-31 00:00:00\n",
      "Epoch 100, Loss: 0.7469853604600729\n",
      "Iteration i: 1/5 completed\n",
      "Running iteration 2 with parameters: 1\n",
      "Start Data: 2018-01-03 00:00:00\n",
      "days_offset: 1\n",
      "Offset: 2018-01-02 00:00:00\n",
      "Epoch 100, Loss: 1.010971742707237\n",
      "Iteration i: 2/5 completed\n",
      "Running iteration 3 with parameters: 1\n",
      "Start Data: 2018-01-05 00:00:00\n",
      "days_offset: 1\n",
      "Offset: 2018-01-04 00:00:00\n",
      "Epoch 100, Loss: 0.962198747064621\n",
      "Iteration i: 3/5 completed\n",
      "Running iteration 4 with parameters: 1\n",
      "Start Data: 2018-01-07 00:00:00\n",
      "days_offset: 1\n",
      "Offset: 2018-01-06 00:00:00\n",
      "Epoch 100, Loss: 0.8148580317580065\n",
      "Iteration i: 4/5 completed\n",
      "Running iteration 5 with parameters: 1\n",
      "Start Data: 2018-01-09 00:00:00\n",
      "days_offset: 1\n",
      "Offset: 2018-01-08 00:00:00\n",
      "Epoch 100, Loss: 1.0583047247927009\n",
      "Iteration i: 5/5 completed\n"
     ]
    }
   ],
   "source": [
    "extra_inputs = {}\n",
    "extra_inputs['params_model'] = {'layer_sizes': [8, 64, 64, 1], 'penalty': 1e-5, 'learning_rate': 1e-3, 'num_epochs': 100, 'pretrain': False}\n",
    "extra_inputs['params_sequence'] = {'sequence_len': 1, 'frequency': 1}\n",
    "\n",
    "runner = ExperimentRunner('2018-01-01', 'default', extra_inputs)\n",
    "runner.run()"
   ]
  },
  {
   "cell_type": "code",
   "execution_count": 5,
   "metadata": {},
   "outputs": [
    {
     "ename": "AttributeError",
     "evalue": "type object 'Trainer' has no attribute 'experiment_results'",
     "output_type": "error",
     "traceback": [
      "\u001b[0;31m---------------------------------------------------------------------------\u001b[0m",
      "\u001b[0;31mAttributeError\u001b[0m                            Traceback (most recent call last)",
      "Cell \u001b[0;32mIn[5], line 1\u001b[0m\n\u001b[0;32m----> 1\u001b[0m \u001b[43mrunner\u001b[49m\u001b[38;5;241;43m.\u001b[39;49m\u001b[43mTrainer\u001b[49m\u001b[38;5;241;43m.\u001b[39;49m\u001b[43mexperiment_results\u001b[49m\n",
      "\u001b[0;31mAttributeError\u001b[0m: type object 'Trainer' has no attribute 'experiment_results'"
     ]
    }
   ],
   "source": [
    "runner.Trainer.experiment_results"
   ]
  },
  {
   "cell_type": "code",
   "execution_count": null,
   "metadata": {},
   "outputs": [],
   "source": []
  }
 ],
 "metadata": {
  "kernelspec": {
   "display_name": "collocation_env",
   "language": "python",
   "name": "python3"
  },
  "language_info": {
   "codemirror_mode": {
    "name": "ipython",
    "version": 3
   },
   "file_extension": ".py",
   "mimetype": "text/x-python",
   "name": "python",
   "nbconvert_exporter": "python",
   "pygments_lexer": "ipython3",
   "version": "3.9.18"
  }
 },
 "nbformat": 4,
 "nbformat_minor": 2
}
