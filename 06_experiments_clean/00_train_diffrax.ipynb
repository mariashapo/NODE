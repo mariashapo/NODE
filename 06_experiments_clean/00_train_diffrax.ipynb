{
 "cells": [
  {
   "cell_type": "code",
   "execution_count": 1,
   "metadata": {},
   "outputs": [],
   "source": [
    "import pandas as pd\n",
    "import matplotlib.pyplot as plt\n",
    "import numpy as np\n",
    "from datetime import datetime, timedelta\n",
    "\n",
    "# jax\n",
    "import jax.numpy as jnp\n",
    "import time\n",
    "\n",
    "import sys\n",
    "import os\n",
    "import importlib\n",
    "import pickle\n",
    "import itertools\n",
    "\n",
    "path_ = os.path.abspath(os.path.join('..', '00_utils'))\n",
    "if path_ not in sys.path:\n",
    "    sys.path.append(path_)\n",
    "\n",
    "path_ = os.path.abspath(os.path.join('..', '00_models'))\n",
    "if path_ not in sys.path:\n",
    "    sys.path.append(path_)\n",
    "\n",
    "path_ = os.path.abspath(os.path.join('..', '00_utils_training'))\n",
    "if path_ not in sys.path:\n",
    "    sys.path.append(path_)\n",
    "\n",
    "import logging\n",
    "logging.basicConfig(level=logging.ERROR, filename='error_log.txt')\n",
    "\n",
    "import optimize_diffrax_rl"
   ]
  },
  {
   "cell_type": "code",
   "execution_count": 10,
   "metadata": {},
   "outputs": [
    {
     "name": "stdout",
     "output_type": "stream",
     "text": [
      "Generating default parameters for data\n",
      "Generating default parameters for model\n",
      "Running iteration 1 with parameters: 1\n",
      "Epoch 100, Loss: 0.9680010380277585\n",
      "Epoch 200, Loss: 0.8609127890769297\n",
      "Epoch 300, Loss: 0.8493012110884823\n",
      "Epoch 400, Loss: 0.8386062209345728\n",
      "Epoch 500, Loss: 0.8314283376665809\n",
      "Epoch 600, Loss: 0.8213810255226688\n",
      "Epoch 700, Loss: 0.8057104938670067\n",
      "Epoch 800, Loss: 0.7914434417637398\n",
      "Epoch 900, Loss: 0.7748285935092669\n",
      "Epoch 1000, Loss: 0.7570085430513264\n",
      "Epoch 1100, Loss: 0.7410727423303746\n",
      "Epoch 1200, Loss: 0.7159915390888679\n",
      "Epoch 1300, Loss: 0.6892975463094827\n",
      "Epoch 1400, Loss: 0.665819849948142\n",
      "Epoch 1500, Loss: 0.6409393032152264\n",
      "Epoch 1600, Loss: 0.6064384984820584\n",
      "Epoch 1700, Loss: 0.5789947503923756\n",
      "Epoch 1800, Loss: 0.5472992160757331\n",
      "Epoch 1900, Loss: 0.5157015609923519\n",
      "Epoch 2000, Loss: 0.4848179250275858\n",
      "Epoch 2100, Loss: 0.45234848097496627\n",
      "Epoch 2200, Loss: 0.41759073217167525\n",
      "Epoch 2300, Loss: 0.38545592376906174\n",
      "Epoch 2400, Loss: 0.3584659197109305\n",
      "Epoch 2500, Loss: 0.3244065692165178\n",
      "Epoch 2600, Loss: 0.2950705827582756\n",
      "Epoch 2700, Loss: 0.2673979579788059\n",
      "Epoch 2800, Loss: 0.2383463190589505\n",
      "Epoch 2900, Loss: 0.21232189113932598\n",
      "Epoch 3000, Loss: 0.19045181530437513\n",
      "Epoch 3100, Loss: 0.16994959878033292\n",
      "Epoch 3200, Loss: 0.17851559967175146\n",
      "Epoch 3300, Loss: 0.133326108663987\n",
      "Epoch 3400, Loss: 0.11845375592798461\n",
      "Epoch 3500, Loss: 0.10309325349654122\n",
      "Epoch 3600, Loss: 0.09194687004130671\n",
      "Epoch 3700, Loss: 0.08206905194755779\n",
      "Epoch 3800, Loss: 0.07413256906464963\n",
      "Epoch 3900, Loss: 0.06557112075863497\n",
      "Epoch 4000, Loss: 0.05957201902953296\n",
      "Epoch 4100, Loss: 0.04820716847188652\n",
      "Epoch 4200, Loss: 0.04665307491552549\n",
      "Epoch 4300, Loss: 0.04261838994349421\n",
      "Epoch 4400, Loss: 0.03826740034724429\n",
      "Epoch 4500, Loss: 0.03474880976582158\n",
      "Epoch 4600, Loss: 0.0321463802163304\n",
      "Epoch 4700, Loss: 0.028572408451098343\n",
      "Epoch 4800, Loss: 0.028288196991773713\n",
      "Epoch 4900, Loss: 0.025846985792734426\n",
      "Epoch 5000, Loss: 0.0248512399420711\n",
      "Epoch 5100, Loss: 0.023515502568610933\n",
      "Epoch 5200, Loss: 0.02155048693960422\n",
      "Epoch 5300, Loss: 0.021019897561787564\n",
      "Epoch 5400, Loss: 0.019687788987360386\n",
      "Epoch 5500, Loss: 0.028485243899228997\n",
      "Epoch 5600, Loss: 0.018547863168657884\n",
      "Epoch 5700, Loss: 0.018288925880335004\n",
      "Epoch 5800, Loss: 0.017879829417015103\n",
      "Epoch 5900, Loss: 0.017113690450842902\n",
      "Epoch 6000, Loss: 0.016868089995956202\n",
      "Epoch 6100, Loss: 0.016495081976860275\n",
      "Epoch 6200, Loss: 0.01623651201770942\n",
      "Epoch 6300, Loss: 0.015893184067846372\n",
      "Epoch 6400, Loss: 0.015636660646290924\n",
      "Epoch 6500, Loss: 0.015037951338111984\n",
      "Epoch 6600, Loss: 0.015120672684435399\n",
      "Epoch 6700, Loss: 0.015061360652344234\n",
      "Epoch 6800, Loss: 0.014646499997962033\n",
      "Epoch 6900, Loss: 0.014276214746703179\n",
      "Epoch 7000, Loss: 0.01454429733815189\n",
      "Epoch 7100, Loss: 0.01418283132043394\n",
      "Epoch 7200, Loss: 0.013843859675396232\n",
      "Epoch 7300, Loss: 0.014014360800146114\n",
      "Epoch 7400, Loss: 0.013932660903505001\n",
      "Epoch 7500, Loss: 0.013934092936435188\n",
      "Epoch 7600, Loss: 0.01403487782939503\n",
      "Epoch 7700, Loss: 0.01363052693732758\n",
      "Epoch 7800, Loss: 0.01367298700628142\n",
      "Epoch 7900, Loss: 0.013565892375109578\n",
      "Epoch 8000, Loss: 0.014532907885019096\n",
      "Epoch 8100, Loss: 0.013478114021252097\n",
      "Epoch 8200, Loss: 0.013234773517675394\n",
      "Epoch 8300, Loss: 0.013016627325721942\n",
      "Epoch 8400, Loss: 0.013322536334920912\n",
      "Epoch 8500, Loss: 0.012939211565794573\n",
      "Epoch 8600, Loss: 0.01298754684850004\n",
      "Epoch 8700, Loss: 0.012917540330511859\n",
      "Epoch 8800, Loss: 0.012962931926462987\n",
      "Epoch 8900, Loss: 0.012886470135182024\n",
      "Epoch 9000, Loss: 0.012871952379761631\n",
      "Epoch 9100, Loss: 0.012789245505319145\n",
      "Epoch 9200, Loss: 0.013725613864801256\n",
      "Epoch 9300, Loss: 0.012801195421706244\n",
      "Epoch 9400, Loss: 0.012494236250894828\n",
      "Epoch 9500, Loss: 0.012487324687123033\n",
      "Epoch 9600, Loss: 0.012600839118367433\n",
      "Epoch 9700, Loss: 0.01247930523311027\n",
      "Epoch 9800, Loss: 0.012550575759526894\n",
      "Epoch 9900, Loss: 0.014141443105575982\n",
      "Epoch 10000, Loss: 0.01285989771761944\n",
      "Iteration i: 1/1 completed\n"
     ]
    }
   ],
   "source": [
    "importlib.reload(optimize_diffrax_rl)\n",
    "ExperimentRunner = optimize_diffrax_rl.ExperimentRunner\n",
    "\n",
    "extra_inputs = {}\n",
    "extra_inputs['params_model'] = {'layer_sizes': [6, 32, 1], 'penalty': 1e-5, 'learning_rate': 1e-3, 'num_epochs': [1000, 10000], 'pretrain': [0.2, 1]}\n",
    "extra_inputs['params_model'] = {'layer_sizes': [6, 32, 1], 'penalty': 1e-5, 'learning_rate': 1e-3, 'num_epochs': 10000, 'pretrain': False}\n",
    "extra_inputs['params_sequence'] = {'sequence_len': 1, 'frequency': 1}\n",
    "extra_inputs['params_results'] = {'plot':True, 'log' : False, 'split_time' : False}\n",
    "\n",
    "runner = ExperimentRunner('2015-01-01', 'default', extra_inputs)\n",
    "runner.run()"
   ]
  },
  {
   "cell_type": "markdown",
   "metadata": {},
   "source": [
    "0.02"
   ]
  },
  {
   "cell_type": "code",
   "execution_count": 11,
   "metadata": {},
   "outputs": [
    {
     "data": {
      "text/plain": [
       "{(1, '2015-01-01'): {'times_elapsed': 12.880117654800415,\n",
       "  'mse_diffrax': 0.005499842054099895,\n",
       "  'mse_diffrax_test': 0.10741692187274059}}"
      ]
     },
     "execution_count": 11,
     "metadata": {},
     "output_type": "execute_result"
    }
   ],
   "source": [
    "runner.results_full"
   ]
  },
  {
   "cell_type": "code",
   "execution_count": 6,
   "metadata": {},
   "outputs": [
    {
     "name": "stdout",
     "output_type": "stream",
     "text": [
      "Results saved to results/network_timings_2024-08-24_15-34-36_full.pkl\n",
      "Results saved to results/network_timings_2024-08-24_15-34-36_avg.pkl\n"
     ]
    }
   ],
   "source": [
    "runner.save_results('network_timings')"
   ]
  },
  {
   "cell_type": "code",
   "execution_count": null,
   "metadata": {},
   "outputs": [],
   "source": []
  }
 ],
 "metadata": {
  "kernelspec": {
   "display_name": "collocation_env",
   "language": "python",
   "name": "python3"
  },
  "language_info": {
   "codemirror_mode": {
    "name": "ipython",
    "version": 3
   },
   "file_extension": ".py",
   "mimetype": "text/x-python",
   "name": "python",
   "nbconvert_exporter": "python",
   "pygments_lexer": "ipython3",
   "version": "3.9.18"
  }
 },
 "nbformat": 4,
 "nbformat_minor": 2
}
