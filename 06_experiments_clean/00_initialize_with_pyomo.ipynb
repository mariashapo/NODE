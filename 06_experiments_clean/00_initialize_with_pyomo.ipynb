{
 "cells": [
  {
   "cell_type": "code",
   "execution_count": 1,
   "metadata": {},
   "outputs": [],
   "source": [
    "import numpy as np\n",
    "import itertools\n",
    "\n",
    "import jax\n",
    "import jax.numpy as jnp\n",
    "\n",
    "# -------------- helper libraries -------------- #\n",
    "import sys\n",
    "import os\n",
    "import time\n",
    "import pickle\n",
    "import matplotlib.pyplot as plt\n",
    "import pandas as pd\n",
    "import importlib\n",
    "\n",
    "def append_path(path):\n",
    "    if path not in sys.path:\n",
    "        sys.path.append(path)\n",
    "\n",
    "def reload_module(module_name, class_name):\n",
    "    module = importlib.import_module(module_name)\n",
    "    importlib.reload(module)\n",
    "    return getattr(module, class_name)\n",
    "        \n",
    "append_path(os.path.abspath(os.path.join('..', '00_utils')))\n",
    "append_path(os.path.abspath(os.path.join('..', '00_utils_training')))\n",
    "append_path(os.path.abspath(os.path.join('..', '00_models')))\n",
    "\n",
    "import logging\n",
    "logging.basicConfig(level=logging.ERROR, filename='error_log.txt')"
   ]
  },
  {
   "cell_type": "code",
   "execution_count": null,
   "metadata": {},
   "outputs": [],
   "source": []
  }
 ],
 "metadata": {
  "kernelspec": {
   "display_name": "collocation_env",
   "language": "python",
   "name": "python3"
  },
  "language_info": {
   "codemirror_mode": {
    "name": "ipython",
    "version": 3
   },
   "file_extension": ".py",
   "mimetype": "text/x-python",
   "name": "python",
   "nbconvert_exporter": "python",
   "pygments_lexer": "ipython3",
   "version": "3.9.18"
  }
 },
 "nbformat": 4,
 "nbformat_minor": 2
}
