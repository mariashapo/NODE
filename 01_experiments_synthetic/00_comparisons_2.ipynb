{
 "cells": [
  {
   "cell_type": "code",
   "execution_count": 189,
   "metadata": {},
   "outputs": [],
   "source": [
    "import numpy as np\n",
    "import pandas as pd\n",
    "import pickle\n",
    "import matplotlib.pyplot as plt\n",
    "import matplotlib.patches as mpatches\n",
    "import time\n",
    "\n",
    "import os\n",
    "import sys\n",
    "\n",
    "path_ = os.path.abspath(os.path.join('..', '00_utils'))\n",
    "if path_ not in sys.path:\n",
    "    sys.path.append(path_)\n",
    "    \n",
    "import analyse_results\n",
    "reload_module = analyse_results.reload_module\n",
    "\n",
    "Graphs = reload_module('analyse_results', 'Graphs')\n",
    "Results = reload_module('analyse_results', 'Results')"
   ]
  },
  {
   "cell_type": "markdown",
   "metadata": {},
   "source": [
    "## Network Size"
   ]
  },
  {
   "cell_type": "code",
   "execution_count": 206,
   "metadata": {},
   "outputs": [],
   "source": [
    "with open('results/jax_diffrax_results_new.pkl', 'rb') as file:\n",
    "    results_jax_diffrax = pickle.load(file)\n",
    "\n",
    "with open('results/jax_single_network_size.pkl', 'rb') as file:\n",
    "    results_jax_diffrax = pickle.load(file)\n",
    "    \n",
    "# pyomo_network_size\n",
    "with open('results/networks_size_pyomo.pkl', 'rb') as file:\n",
    "    results_pyomo = pickle.load(file)"
   ]
  },
  {
   "cell_type": "code",
   "execution_count": 202,
   "metadata": {},
   "outputs": [],
   "source": [
    "def custom_sort_key(lst):\n",
    "    return (len(lst), lst)"
   ]
  },
  {
   "cell_type": "code",
   "execution_count": 210,
   "metadata": {},
   "outputs": [
    {
     "data": {
      "text/plain": [
       "dict_keys(['acc_train_pm', 'acc_test_pm', 'time_pm'])"
      ]
     },
     "execution_count": 210,
     "metadata": {},
     "output_type": "execute_result"
    }
   ],
   "source": [
    "results_pyomo.keys()"
   ]
  },
  {
   "cell_type": "code",
   "execution_count": 217,
   "metadata": {},
   "outputs": [
    {
     "data": {
      "text/html": [
       "<div>\n",
       "<style scoped>\n",
       "    .dataframe tbody tr th:only-of-type {\n",
       "        vertical-align: middle;\n",
       "    }\n",
       "\n",
       "    .dataframe tbody tr th {\n",
       "        vertical-align: top;\n",
       "    }\n",
       "\n",
       "    .dataframe thead th {\n",
       "        text-align: right;\n",
       "    }\n",
       "</style>\n",
       "<table border=\"1\" class=\"dataframe\">\n",
       "  <thead>\n",
       "    <tr style=\"text-align: right;\">\n",
       "      <th></th>\n",
       "      <th>param1</th>\n",
       "      <th>param2</th>\n",
       "      <th>param3</th>\n",
       "      <th>time_elapsed</th>\n",
       "      <th>mse_train</th>\n",
       "      <th>mse_test</th>\n",
       "    </tr>\n",
       "  </thead>\n",
       "  <tbody>\n",
       "    <tr>\n",
       "      <th>0</th>\n",
       "      <td>[2, 8, 2]</td>\n",
       "      <td>0.00001</td>\n",
       "      <td>[1000, 5000]</td>\n",
       "      <td>5.648213</td>\n",
       "      <td>0.24518035</td>\n",
       "      <td>1.2241147</td>\n",
       "    </tr>\n",
       "    <tr>\n",
       "      <th>1</th>\n",
       "      <td>[2, 8, 2]</td>\n",
       "      <td>0.00001</td>\n",
       "      <td>[1000, 7500]</td>\n",
       "      <td>7.154367</td>\n",
       "      <td>0.13988426</td>\n",
       "      <td>1.4688191</td>\n",
       "    </tr>\n",
       "    <tr>\n",
       "      <th>2</th>\n",
       "      <td>[2, 8, 2]</td>\n",
       "      <td>0.00001</td>\n",
       "      <td>[1000, 10000]</td>\n",
       "      <td>9.106754</td>\n",
       "      <td>0.11573855</td>\n",
       "      <td>1.2738026</td>\n",
       "    </tr>\n",
       "    <tr>\n",
       "      <th>3</th>\n",
       "      <td>[2, 8, 2]</td>\n",
       "      <td>0.00010</td>\n",
       "      <td>[1000, 5000]</td>\n",
       "      <td>6.372325</td>\n",
       "      <td>0.24506076</td>\n",
       "      <td>1.226614</td>\n",
       "    </tr>\n",
       "    <tr>\n",
       "      <th>4</th>\n",
       "      <td>[2, 8, 2]</td>\n",
       "      <td>0.00010</td>\n",
       "      <td>[1000, 7500]</td>\n",
       "      <td>6.899179</td>\n",
       "      <td>0.13776134</td>\n",
       "      <td>1.3288945</td>\n",
       "    </tr>\n",
       "  </tbody>\n",
       "</table>\n",
       "</div>"
      ],
      "text/plain": [
       "      param1   param2         param3  time_elapsed   mse_train   mse_test\n",
       "0  [2, 8, 2]  0.00001   [1000, 5000]      5.648213  0.24518035  1.2241147\n",
       "1  [2, 8, 2]  0.00001   [1000, 7500]      7.154367  0.13988426  1.4688191\n",
       "2  [2, 8, 2]  0.00001  [1000, 10000]      9.106754  0.11573855  1.2738026\n",
       "3  [2, 8, 2]  0.00010   [1000, 5000]      6.372325  0.24506076   1.226614\n",
       "4  [2, 8, 2]  0.00010   [1000, 7500]      6.899179  0.13776134  1.3288945"
      ]
     },
     "metadata": {},
     "output_type": "display_data"
    }
   ],
   "source": [
    "df_jd = Results.collect_data_toy(results_jax_diffrax)\n",
    "#df_pyomo = Results.collect_data_toy(results_pyomo)\n",
    "display(df_jd.head())\n",
    "#display(df_pyomo.head())\n",
    "\n",
    "jd_train = Results.prep_for_boxplots(df_jd,  'param1',  'mse_train')\n",
    "jd_test = Results.prep_for_boxplots(df_jd,  'param1',  'mse_test')\n",
    "jd_time = Results.prep_for_boxplots(df_jd,  'param1',  'time_elapsed')\n",
    "# pyomo = Results.prep_for_boxplots(df_pyomo,  'param1',  'mse_train')\n",
    "\n",
    "acc_train_pm = results_pyomo['acc_train_pm']\n",
    "acc_test_pm = results_pyomo['acc_test_pm']\n",
    "time_pm = results_pyomo['time_pm']"
   ]
  },
  {
   "cell_type": "code",
   "execution_count": 218,
   "metadata": {},
   "outputs": [],
   "source": [
    "def sort(df, key):\n",
    "    df['sort_key'] = df[key].apply(custom_sort_key)\n",
    "    df = df.sort_values(by='sort_key')\n",
    "    return df\n",
    "\n",
    "df_train = sort(jd_train, 'x_labels')\n",
    "df_test = sort(jd_test, 'x_labels')\n",
    "df_time = sort(jd_time, 'x_labels')\n"
   ]
  },
  {
   "cell_type": "code",
   "execution_count": 220,
   "metadata": {},
   "outputs": [
    {
     "data": {
      "image/png": "[encoded data removed]",
      "text/plain": [
       "<Figure size 1000x600 with 1 Axes>"
      ]
     },
     "metadata": {},
     "output_type": "display_data"
    },
    {
     "data": {
      "image/png": "[encoded data removed]",
      "text/plain": [
       "<Figure size 1000x600 with 1 Axes>"
      ]
     },
     "metadata": {},
     "output_type": "display_data"
    },
    {
     "data": {
      "image/png": "[encoded data removed]",
      "text/plain": [
       "<Figure size 1000x600 with 1 Axes>"
      ]
     },
     "metadata": {},
     "output_type": "display_data"
    }
   ],
   "source": [
    "Graphs.plot_boxplots(acc_train_pm, df_train.mse_train, df_train.x_labels.tolist(), \n",
    "              'Boxplot of MSE (train set) for different model sizes', \n",
    "              'MSE (train set)')\n",
    "\n",
    "Graphs.plot_boxplots(acc_test_pm, df_test.mse_test, df_train.x_labels.tolist(), \n",
    "              'Boxplot of MSE (test set) for different model sizes', \n",
    "              'MSE (test set)')\n",
    "\n",
    "Graphs.plot_boxplots(time_pm, df_time.time_elapsed, df_train.x_labels.tolist(), \n",
    "              'Boxplot of time elapsed for different model sizes (Van der Pol)', \n",
    "              'Time Elapsed (seconds)',\n",
    "              colors=('darkblue', 'darkgreen'))"
   ]
  },
  {
   "cell_type": "code",
   "execution_count": 196,
   "metadata": {},
   "outputs": [],
   "source": [
    "# Graphs.plot_boxplots(pyomo.mse_train, jd.mse_train, jd.x_labels.tolist(), 'toy', 'jax_diffrax')"
   ]
  },
  {
   "cell_type": "markdown",
   "metadata": {},
   "source": [
    "## Regularization"
   ]
  },
  {
   "cell_type": "code",
   "execution_count": 58,
   "metadata": {},
   "outputs": [],
   "source": [
    "with open('results/jax_regularization_new.pkl', 'rb') as file:\n",
    "    results_jax_diffrax_reg = pickle.load(file)\n",
    "    \n",
    "with open('results/jax_regularization_vdp_new.pkl', 'rb') as file:\n",
    "    results_jax_diffrax_reg_vdp = pickle.load(file)"
   ]
  },
  {
   "cell_type": "code",
   "execution_count": 57,
   "metadata": {},
   "outputs": [
    {
     "data": {
      "text/html": [
       "<div>\n",
       "<style scoped>\n",
       "    .dataframe tbody tr th:only-of-type {\n",
       "        vertical-align: middle;\n",
       "    }\n",
       "\n",
       "    .dataframe tbody tr th {\n",
       "        vertical-align: top;\n",
       "    }\n",
       "\n",
       "    .dataframe thead th {\n",
       "        text-align: right;\n",
       "    }\n",
       "</style>\n",
       "<table border=\"1\" class=\"dataframe\">\n",
       "  <thead>\n",
       "    <tr style=\"text-align: right;\">\n",
       "      <th></th>\n",
       "      <th>param1</th>\n",
       "      <th>time_elapsed</th>\n",
       "      <th>mse_train</th>\n",
       "      <th>mse_test</th>\n",
       "    </tr>\n",
       "  </thead>\n",
       "  <tbody>\n",
       "    <tr>\n",
       "      <th>0</th>\n",
       "      <td>0.000000</td>\n",
       "      <td>6.474164</td>\n",
       "      <td>0.0005807362</td>\n",
       "      <td>0.0028394673</td>\n",
       "    </tr>\n",
       "    <tr>\n",
       "      <th>1</th>\n",
       "      <td>0.000001</td>\n",
       "      <td>9.054825</td>\n",
       "      <td>0.00058053515</td>\n",
       "      <td>0.0028393911</td>\n",
       "    </tr>\n",
       "    <tr>\n",
       "      <th>2</th>\n",
       "      <td>0.000100</td>\n",
       "      <td>6.025353</td>\n",
       "      <td>0.0005636947</td>\n",
       "      <td>0.0028195188</td>\n",
       "    </tr>\n",
       "    <tr>\n",
       "      <th>3</th>\n",
       "      <td>0.001000</td>\n",
       "      <td>6.005993</td>\n",
       "      <td>0.00050019333</td>\n",
       "      <td>0.0025141044</td>\n",
       "    </tr>\n",
       "    <tr>\n",
       "      <th>4</th>\n",
       "      <td>0.010000</td>\n",
       "      <td>6.002653</td>\n",
       "      <td>0.00089586957</td>\n",
       "      <td>0.0020690216</td>\n",
       "    </tr>\n",
       "    <tr>\n",
       "      <th>5</th>\n",
       "      <td>0.100000</td>\n",
       "      <td>5.783183</td>\n",
       "      <td>0.42673513</td>\n",
       "      <td>0.59479266</td>\n",
       "    </tr>\n",
       "    <tr>\n",
       "      <th>6</th>\n",
       "      <td>1.000000</td>\n",
       "      <td>5.708235</td>\n",
       "      <td>0.5204039</td>\n",
       "      <td>0.83104086</td>\n",
       "    </tr>\n",
       "  </tbody>\n",
       "</table>\n",
       "</div>"
      ],
      "text/plain": [
       "     param1  time_elapsed      mse_train      mse_test\n",
       "0  0.000000      6.474164   0.0005807362  0.0028394673\n",
       "1  0.000001      9.054825  0.00058053515  0.0028393911\n",
       "2  0.000100      6.025353   0.0005636947  0.0028195188\n",
       "3  0.001000      6.005993  0.00050019333  0.0025141044\n",
       "4  0.010000      6.002653  0.00089586957  0.0020690216\n",
       "5  0.100000      5.783183     0.42673513    0.59479266\n",
       "6  1.000000      5.708235      0.5204039    0.83104086"
      ]
     },
     "execution_count": 57,
     "metadata": {},
     "output_type": "execute_result"
    }
   ],
   "source": [
    "df_ho = Results.collect_data_toy(results_jax_diffrax_reg)\n",
    "df_ho\n",
    "#df.rename(columns={'param1': 'time (s)'}"
   ]
  },
  {
   "cell_type": "code",
   "execution_count": 59,
   "metadata": {},
   "outputs": [
    {
     "data": {
      "text/html": [
       "<div>\n",
       "<style scoped>\n",
       "    .dataframe tbody tr th:only-of-type {\n",
       "        vertical-align: middle;\n",
       "    }\n",
       "\n",
       "    .dataframe tbody tr th {\n",
       "        vertical-align: top;\n",
       "    }\n",
       "\n",
       "    .dataframe thead th {\n",
       "        text-align: right;\n",
       "    }\n",
       "</style>\n",
       "<table border=\"1\" class=\"dataframe\">\n",
       "  <thead>\n",
       "    <tr style=\"text-align: right;\">\n",
       "      <th></th>\n",
       "      <th>param1</th>\n",
       "      <th>time_elapsed</th>\n",
       "      <th>mse_train</th>\n",
       "      <th>mse_test</th>\n",
       "    </tr>\n",
       "  </thead>\n",
       "  <tbody>\n",
       "    <tr>\n",
       "      <th>0</th>\n",
       "      <td>0.000000</td>\n",
       "      <td>6.436152</td>\n",
       "      <td>0.067447595</td>\n",
       "      <td>0.92960733</td>\n",
       "    </tr>\n",
       "    <tr>\n",
       "      <th>1</th>\n",
       "      <td>0.000001</td>\n",
       "      <td>9.384097</td>\n",
       "      <td>0.0724483</td>\n",
       "      <td>1.0092293</td>\n",
       "    </tr>\n",
       "    <tr>\n",
       "      <th>2</th>\n",
       "      <td>0.000100</td>\n",
       "      <td>6.388523</td>\n",
       "      <td>0.061078433</td>\n",
       "      <td>0.99860257</td>\n",
       "    </tr>\n",
       "    <tr>\n",
       "      <th>3</th>\n",
       "      <td>0.001000</td>\n",
       "      <td>6.337719</td>\n",
       "      <td>0.07563466</td>\n",
       "      <td>1.1002774</td>\n",
       "    </tr>\n",
       "    <tr>\n",
       "      <th>4</th>\n",
       "      <td>0.010000</td>\n",
       "      <td>6.232966</td>\n",
       "      <td>0.20128809</td>\n",
       "      <td>0.8228618</td>\n",
       "    </tr>\n",
       "    <tr>\n",
       "      <th>5</th>\n",
       "      <td>0.100000</td>\n",
       "      <td>6.117193</td>\n",
       "      <td>0.43868512</td>\n",
       "      <td>2.5796385</td>\n",
       "    </tr>\n",
       "    <tr>\n",
       "      <th>6</th>\n",
       "      <td>1.000000</td>\n",
       "      <td>5.900693</td>\n",
       "      <td>3.090921</td>\n",
       "      <td>5.8198147</td>\n",
       "    </tr>\n",
       "  </tbody>\n",
       "</table>\n",
       "</div>"
      ],
      "text/plain": [
       "     param1  time_elapsed    mse_train    mse_test\n",
       "0  0.000000      6.436152  0.067447595  0.92960733\n",
       "1  0.000001      9.384097    0.0724483   1.0092293\n",
       "2  0.000100      6.388523  0.061078433  0.99860257\n",
       "3  0.001000      6.337719   0.07563466   1.1002774\n",
       "4  0.010000      6.232966   0.20128809   0.8228618\n",
       "5  0.100000      6.117193   0.43868512   2.5796385\n",
       "6  1.000000      5.900693     3.090921   5.8198147"
      ]
     },
     "execution_count": 59,
     "metadata": {},
     "output_type": "execute_result"
    }
   ],
   "source": [
    "df_vdp = Results.collect_data_toy(results_jax_diffrax_reg_vdp)\n",
    "df_vdp"
   ]
  },
  {
   "cell_type": "markdown",
   "metadata": {},
   "source": [
    "## Activation"
   ]
  },
  {
   "cell_type": "code",
   "execution_count": 199,
   "metadata": {},
   "outputs": [],
   "source": [
    "with open ('results/jax_activation.pkl', 'rb') as file:\n",
    "    results_jax_activation = pickle.load(file)"
   ]
  },
  {
   "cell_type": "code",
   "execution_count": 200,
   "metadata": {},
   "outputs": [
    {
     "data": {
      "text/html": [
       "<div>\n",
       "<style scoped>\n",
       "    .dataframe tbody tr th:only-of-type {\n",
       "        vertical-align: middle;\n",
       "    }\n",
       "\n",
       "    .dataframe tbody tr th {\n",
       "        vertical-align: top;\n",
       "    }\n",
       "\n",
       "    .dataframe thead th {\n",
       "        text-align: right;\n",
       "    }\n",
       "</style>\n",
       "<table border=\"1\" class=\"dataframe\">\n",
       "  <thead>\n",
       "    <tr style=\"text-align: right;\">\n",
       "      <th></th>\n",
       "      <th>param1</th>\n",
       "      <th>param2</th>\n",
       "      <th>time_elapsed</th>\n",
       "      <th>mse_train</th>\n",
       "      <th>mse_test</th>\n",
       "    </tr>\n",
       "  </thead>\n",
       "  <tbody>\n",
       "    <tr>\n",
       "      <th>0</th>\n",
       "      <td>tanh</td>\n",
       "      <td>vdp</td>\n",
       "      <td>6.627704</td>\n",
       "      <td>0.07563466</td>\n",
       "      <td>1.1002774</td>\n",
       "    </tr>\n",
       "    <tr>\n",
       "      <th>1</th>\n",
       "      <td>tanh</td>\n",
       "      <td>ho</td>\n",
       "      <td>6.273873</td>\n",
       "      <td>0.00050019333</td>\n",
       "      <td>0.0025141044</td>\n",
       "    </tr>\n",
       "    <tr>\n",
       "      <th>2</th>\n",
       "      <td>tanh</td>\n",
       "      <td>do</td>\n",
       "      <td>6.500363</td>\n",
       "      <td>7.38234e-05</td>\n",
       "      <td>0.00038291252</td>\n",
       "    </tr>\n",
       "    <tr>\n",
       "      <th>3</th>\n",
       "      <td>relu</td>\n",
       "      <td>vdp</td>\n",
       "      <td>5.999262</td>\n",
       "      <td>0.23687467</td>\n",
       "      <td>0.5228482</td>\n",
       "    </tr>\n",
       "    <tr>\n",
       "      <th>4</th>\n",
       "      <td>relu</td>\n",
       "      <td>ho</td>\n",
       "      <td>5.918798</td>\n",
       "      <td>0.0011768446</td>\n",
       "      <td>0.009721099</td>\n",
       "    </tr>\n",
       "    <tr>\n",
       "      <th>5</th>\n",
       "      <td>relu</td>\n",
       "      <td>do</td>\n",
       "      <td>6.074695</td>\n",
       "      <td>0.00042997755</td>\n",
       "      <td>0.031728044</td>\n",
       "    </tr>\n",
       "    <tr>\n",
       "      <th>6</th>\n",
       "      <td>sigmoid</td>\n",
       "      <td>vdp</td>\n",
       "      <td>6.333864</td>\n",
       "      <td>0.41269898</td>\n",
       "      <td>1.6332616</td>\n",
       "    </tr>\n",
       "    <tr>\n",
       "      <th>7</th>\n",
       "      <td>sigmoid</td>\n",
       "      <td>ho</td>\n",
       "      <td>6.168970</td>\n",
       "      <td>0.0016366731</td>\n",
       "      <td>0.0037894556</td>\n",
       "    </tr>\n",
       "    <tr>\n",
       "      <th>8</th>\n",
       "      <td>sigmoid</td>\n",
       "      <td>do</td>\n",
       "      <td>5.810764</td>\n",
       "      <td>0.000104914165</td>\n",
       "      <td>0.0002763628</td>\n",
       "    </tr>\n",
       "  </tbody>\n",
       "</table>\n",
       "</div>"
      ],
      "text/plain": [
       "    param1 param2  time_elapsed       mse_train       mse_test\n",
       "0     tanh    vdp      6.627704      0.07563466      1.1002774\n",
       "1     tanh     ho      6.273873   0.00050019333   0.0025141044\n",
       "2     tanh     do      6.500363     7.38234e-05  0.00038291252\n",
       "3     relu    vdp      5.999262      0.23687467      0.5228482\n",
       "4     relu     ho      5.918798    0.0011768446    0.009721099\n",
       "5     relu     do      6.074695   0.00042997755    0.031728044\n",
       "6  sigmoid    vdp      6.333864      0.41269898      1.6332616\n",
       "7  sigmoid     ho      6.168970    0.0016366731   0.0037894556\n",
       "8  sigmoid     do      5.810764  0.000104914165   0.0002763628"
      ]
     },
     "execution_count": 200,
     "metadata": {},
     "output_type": "execute_result"
    }
   ],
   "source": [
    "df_activation = Results.collect_data_toy(results_jax_activation)\n",
    "df_activation"
   ]
  },
  {
   "cell_type": "code",
   "execution_count": null,
   "metadata": {},
   "outputs": [],
   "source": []
  }
 ],
 "metadata": {
  "kernelspec": {
   "display_name": "collocation_env",
   "language": "python",
   "name": "python3"
  },
  "language_info": {
   "codemirror_mode": {
    "name": "ipython",
    "version": 3
   },
   "file_extension": ".py",
   "mimetype": "text/x-python",
   "name": "python",
   "nbconvert_exporter": "python",
   "pygments_lexer": "ipython3",
   "version": "3.9.18"
  }
 },
 "nbformat": 4,
 "nbformat_minor": 2
}
