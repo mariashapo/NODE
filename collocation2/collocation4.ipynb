{
 "cells": [
  {
   "cell_type": "markdown",
   "metadata": {},
   "source": [
    "---\n",
    "# Collocation Method for Harmonic Oscillator\n",
    "\n",
    "The harmonic oscillator system of first-order differential equations:\n",
    "\n",
    "$$\n",
    "\\begin{cases}\n",
    "\\frac{dx_1}{dt} = x_2 \\\\\n",
    "\\frac{dx_2}{dt} = -\\omega^2 x_1\n",
    "\\end{cases}\n",
    "$$\n",
    "\n",
    "with initial conditions:\n",
    "\n",
    "$$\n",
    "x_1(0) = x_{1,0}, \\quad x_2(0) = x_{2,0}\n",
    "$$\n",
    "\n",
    "can be discretized using the collocation method as follows."
   ]
  },
  {
   "cell_type": "markdown",
   "metadata": {},
   "source": [
    "---\n",
    "## Discretization and Approximation\n",
    "\n",
    "Choose $N$ collocation points $t_1, t_2, \\ldots, t_N$ in $[0, T]$.\n",
    "\n",
    "Approximate $x_1(t)$ and $x_2(t)$ by:\n",
    "\n",
    "$$\n",
    "x_1(t) \\approx p_1(t) = \\sum_{j=0}^{N} c_{1,j} \\phi_j(t)\n",
    "$$\n",
    "\n",
    "$$\n",
    "x_2(t) \\approx p_2(t) = \\sum_{j=0}^{N} c_{2,j} \\phi_j(t)\n",
    "$$\n"
   ]
  },
  {
   "cell_type": "markdown",
   "metadata": {},
   "source": [
    "---\n",
    "## Collocation Conditions\n",
    "\n",
    "Recalling \n",
    "$\n",
    "\\begin{cases}\n",
    "\\frac{dx_1}{dt} = x_2 \\\\\n",
    "\\frac{dx_2}{dt} = -\\omega^2 x_1\n",
    "\\end{cases}\n",
    "$\n",
    "\n",
    "At each collocation point $t_i$, we can obtain:\n",
    "\n",
    "$$\n",
    "\\sum_{j=0}^{N} c_{1,j} \\frac{d \\phi_j(t_i)}{dt} = \\sum_{j=0}^{N} c_{2,j} \\phi_j(t_i)\n",
    "$$\n",
    "\n",
    "$$\n",
    "\\sum_{j=0}^{N} c_{2,j} \\frac{d \\phi_j(t_i)}{dt} = -\\omega^2 \\sum_{j=0}^{N} c_{1,j} \\phi_j(t_i)\n",
    "$$\n"
   ]
  },
  {
   "cell_type": "markdown",
   "metadata": {},
   "source": [
    "---\n",
    "## Initial Conditions\n",
    "\n",
    "To solve for the coefficients $c_{1,j}$ and $c_{2,j}$:\n",
    "\n",
    "$$\n",
    "\\sum_{j=0}^{N} c_{1,j} \\phi_j(0) = x_{1,0}\n",
    "$$\n",
    "\n",
    "$$\n",
    "\\sum_{j=0}^{N} c_{2,j} \\phi_j(0) = x_{2,0}\n",
    "$$\n",
    "---"
   ]
  },
  {
   "cell_type": "code",
   "execution_count": 314,
   "metadata": {},
   "outputs": [],
   "source": [
    "import jax.numpy as jnp\n",
    "from jax import grad, jit\n",
    "from jax.scipy.linalg import solve\n",
    "import matplotlib.pyplot as plt\n",
    "\n",
    "from interpolation import BarycentricInterpolation\n",
    "from collocation import lagrange_basis, lagrange_derivative, lagrange_basis_node, compute_weights"
   ]
  },
  {
   "cell_type": "markdown",
   "metadata": {},
   "source": [
    "#### Define the number of collocation points and the time interval"
   ]
  },
  {
   "cell_type": "code",
   "execution_count": 315,
   "metadata": {},
   "outputs": [
    {
     "data": {
      "text/plain": [
       "array([0.        , 0.06030738, 0.23395556, 0.5       , 0.82635182,\n",
       "       1.17364818, 1.5       , 1.76604444, 1.93969262, 2.        ])"
      ]
     },
     "execution_count": 315,
     "metadata": {},
     "output_type": "execute_result"
    }
   ],
   "source": [
    "N = 10\n",
    "omega = 5.0 # Angular frequency of the harmonic oscillator\n",
    "\n",
    "T = 2\n",
    "interpolator = BarycentricInterpolation(N, start = 0, stop = T)\n",
    "\n",
    "collocation_points = interpolator.nodes\n",
    "\n",
    "collocation_points"
   ]
  },
  {
   "cell_type": "markdown",
   "metadata": {},
   "source": [
    "### Discretization and Collocation"
   ]
  },
  {
   "cell_type": "code",
   "execution_count": 316,
   "metadata": {},
   "outputs": [],
   "source": [
    "phi = lagrange_basis_node(collocation_points)\n",
    "\n",
    "weights = compute_weights(collocation_points)\n",
    "\n",
    "dphi_dt = lagrange_derivative(collocation_points, weights)"
   ]
  },
  {
   "cell_type": "markdown",
   "metadata": {},
   "source": [
    "### Initial Conditions"
   ]
  },
  {
   "cell_type": "code",
   "execution_count": 317,
   "metadata": {},
   "outputs": [],
   "source": [
    "# Initial conditions\n",
    "x1_0 = 1.0\n",
    "x2_0 = 0.0"
   ]
  },
  {
   "cell_type": "markdown",
   "metadata": {},
   "source": [
    "### Collocation Conditions"
   ]
  },
  {
   "cell_type": "markdown",
   "metadata": {},
   "source": [
    "`CC.1` We approximate $ x_1(t) $ and $ x_2(t) $ using basis functions $ \\phi_j(t) $\n",
    "\n",
    "$$\n",
    "x_1(t) \\approx p_1(t) = \\sum_{j=0}^{N} c_{1,j} \\phi_j(t)\n",
    "$$\n",
    "\n",
    "$$\n",
    "x_2(t) \\approx p_2(t) = \\sum_{j=0}^{N} c_{2,j} \\phi_j(t)\n",
    "$$"
   ]
  },
  {
   "cell_type": "markdown",
   "metadata": {},
   "source": [
    "`CC.2` At each collocation point $ t_i $:\n",
    "\n",
    "1. Following $ \\frac{dx_1}{dt} = x_2 $, we obtain:\n",
    "$$\n",
    "\\sum_{j=0}^{N} c_{1,j} \\frac{d \\phi_j(t_i)}{dt} = \\sum_{j=0}^{N} c_{2,j} \\phi_j(t_i)\n",
    "$$\n",
    "\n",
    "2. Following $ \\frac{dx_2}{dt} = -\\omega^2 x_1 $, we obtain:\n",
    "$$\n",
    "\\sum_{j=0}^{N} c_{2,j} \\frac{d \\phi_j(t_i)}{dt} = -\\omega^2 \\sum_{j=0}^{N} c_{1,j} \\phi_j(t_i)\n",
    "$$\n"
   ]
  },
  {
   "cell_type": "markdown",
   "metadata": {},
   "source": [
    "`CC.3` Matrix Representation\n",
    "\n",
    "To form a system of equations, we organize the terms involving the coefficients $ c_{1,j} $ and $ c_{2,j} $ into matrix form.\n",
    "\n",
    "- Let $ dphi\\_dt $ be the matrix of the derivatives of the basis functions evaluated at the collocation points.\n",
    "- Let $ phi $ be the matrix of the basis functions evaluated at the collocation points.\n",
    "$$"
   ]
  },
  {
   "cell_type": "markdown",
   "metadata": {},
   "source": [
    "---\n",
    "For the `first collocation condition` $ \\frac{dx_1}{dt} = x_2 $:\n",
    "\n",
    "$$\n",
    "dphi\\_dt \\cdot \\mathbf{c_1} = phi \\cdot \\mathbf{c_2}\n",
    "$$\n",
    "\n",
    "This can be written in block matrix form as:\n",
    "$$\n",
    "[dphi\\_dt \\quad -phi] \\cdot \\begin{bmatrix} \\mathbf{c_1} \\\\ \\mathbf{c_2} \\end{bmatrix} = \\mathbf{0}\n",
    "$$"
   ]
  },
  {
   "cell_type": "markdown",
   "metadata": {},
   "source": [
    "---\n",
    "For `the second collocation condition` $ \\frac{dx_2}{dt} = -\\omega^2 x_1 $:\n",
    "\n",
    "$$\n",
    "dphi\\_dt \\cdot \\mathbf{c_2} = -\\omega^2 \\cdot phi \\cdot \\mathbf{c_1}\n",
    "$$\n",
    "\n",
    "This can be written in block matrix form as:\n",
    "$$\n",
    "[\\omega^2 \\cdot phi \\quad dphi\\_dt] \\cdot \\begin{bmatrix} \\mathbf{c_1} \\\\ \\mathbf{c_2} \\end{bmatrix} = \\mathbf{0}\n",
    "$$\n",
    "---"
   ]
  },
  {
   "cell_type": "markdown",
   "metadata": {},
   "source": [
    "`CC.4` Constructing the Matrix $ A $\n",
    "\n",
    "Combining these two sets of equations, we form the block matrix $ A $:\n",
    "\n",
    "$$\n",
    "A = \\begin{bmatrix}\n",
    "dphi\\_dt & -phi \\\\\n",
    "\\omega^2 \\cdot phi & dphi\\_dt\n",
    "\\end{bmatrix}\n",
    "$$"
   ]
  },
  {
   "cell_type": "markdown",
   "metadata": {},
   "source": [
    "`CC.5`\n",
    "The complete linear system we need to solve is:\n",
    "\n",
    "$$\n",
    "A \\cdot \\begin{bmatrix} \\mathbf{c_1} \\\\ \\mathbf{c_2} \\end{bmatrix} = \\mathbf{b},\n",
    "$$\n",
    "\n",
    "where $b$ is **0** for each `collocation condition` part.\n"
   ]
  },
  {
   "cell_type": "code",
   "execution_count": 318,
   "metadata": {},
   "outputs": [
    {
     "data": {
      "text/plain": [
       "(20, 20)"
      ]
     },
     "execution_count": 318,
     "metadata": {},
     "output_type": "execute_result"
    }
   ],
   "source": [
    "A = jnp.block([\n",
    "    [dphi_dt, -phi],\n",
    "    [omega**2 * phi, dphi_dt]\n",
    "])\n",
    "\n",
    "A.shape"
   ]
  },
  {
   "cell_type": "markdown",
   "metadata": {},
   "source": [
    "The shape is $N$ x $N$"
   ]
  },
  {
   "cell_type": "markdown",
   "metadata": {},
   "source": [
    "`CC.6` Initial Conditions + Collocation Conditions"
   ]
  },
  {
   "cell_type": "markdown",
   "metadata": {},
   "source": [
    "* The initial + collocation conditions are represented by vector *b*\n",
    "* The full shape is expected to be $(N + 1) * 2$ "
   ]
  },
  {
   "cell_type": "markdown",
   "metadata": {},
   "source": [
    "Initial Conditions Matrix:\n",
    "\n",
    "$$\n",
    "I_{x1} = \\begin{bmatrix} \n",
    "\\phi_j(0) \n",
    "\\end{bmatrix}_{j=0}^{N} \\quad \\text{and zeros for } c_{2,j}\n",
    "$$\n",
    "\n",
    "$$\n",
    "I_{x2} = \\text{zeros for } c_{1,j} \\quad \\begin{bmatrix} \n",
    "\\phi_j(0) \n",
    "\\end{bmatrix}_{j=0}^{N}\n",
    "$$\n"
   ]
  },
  {
   "cell_type": "markdown",
   "metadata": {},
   "source": [
    "Right-Hand Side Vector $b_{\\text{aug}}$:\n",
    "\n",
    "$$\n",
    "b_{\\text{aug}} = \\begin{bmatrix} \n",
    "0 \\\\ \n",
    "\\vdots \\\\ \n",
    "0 \\\\ \n",
    "x_{1,0} \\\\ \n",
    "x_{2,0} \n",
    "\\end{bmatrix}\n",
    "$$"
   ]
  },
  {
   "cell_type": "code",
   "execution_count": 319,
   "metadata": {},
   "outputs": [
    {
     "data": {
      "text/plain": [
       "Array([0., 0., 0., 0., 0., 0., 0., 0., 0., 0., 0., 0., 0., 0., 0., 0., 0.,\n",
       "       0., 0., 0., 1., 0.], dtype=float32)"
      ]
     },
     "execution_count": 319,
     "metadata": {},
     "output_type": "execute_result"
    }
   ],
   "source": [
    "b = jnp.zeros(2 * (N))\n",
    "\n",
    "b_aug = jnp.concatenate([b, jnp.array([x1_0, x2_0])])\n",
    "\n",
    "b_aug.shape\n",
    "\n",
    "b_aug"
   ]
  },
  {
   "cell_type": "markdown",
   "metadata": {},
   "source": [
    "Augmented Matrix $A_{\\text{aug}}$:\n",
    "\n",
    "$$\n",
    "A_{\\text{aug}} = \\begin{bmatrix} \n",
    "A \\\\ \n",
    "I_{x1} \\\\ \n",
    "I_{x2} \n",
    "\\end{bmatrix}\n",
    "$$"
   ]
  },
  {
   "cell_type": "code",
   "execution_count": 320,
   "metadata": {},
   "outputs": [
    {
     "data": {
      "text/plain": [
       "(22, 20)"
      ]
     },
     "execution_count": 320,
     "metadata": {},
     "output_type": "execute_result"
    }
   ],
   "source": [
    "I_x1 = jnp.zeros((1, 2 * (N)))\n",
    "I_x1 = I_x1.at[0, :N].set(phi[0, :])\n",
    "\n",
    "I_x2 = jnp.zeros((1, 2 * (N)))\n",
    "I_x2 = I_x2.at[0, N:].set(phi[0, :])\n",
    "\n",
    "# Augment A with initial conditions\n",
    "A_aug = jnp.vstack([A, I_x1, I_x2])\n",
    "\n",
    "A_aug.shape"
   ]
  },
  {
   "cell_type": "markdown",
   "metadata": {},
   "source": [
    "`CC.7` Solve"
   ]
  },
  {
   "cell_type": "markdown",
   "metadata": {},
   "source": [
    "The original system is given by:\n",
    "\n",
    "$$ A c = b $$\n",
    "\n",
    "To solve this system using the normal equations, we transform it into:\n",
    "\n",
    "$$ A^T A c = A^T b $$"
   ]
  },
  {
   "cell_type": "code",
   "execution_count": 321,
   "metadata": {},
   "outputs": [],
   "source": [
    "# Solve the linear system for the coefficients\n",
    "c = solve(A_aug.T @ A_aug, A_aug.T @ b_aug)"
   ]
  },
  {
   "cell_type": "markdown",
   "metadata": {},
   "source": [
    "`CC.8` Extract Coefficients"
   ]
  },
  {
   "cell_type": "code",
   "execution_count": 322,
   "metadata": {},
   "outputs": [
    {
     "name": "stdout",
     "output_type": "stream",
     "text": [
      "C1:\n",
      " [ 0.93230087  0.89302677  0.36331296 -0.7544368  -0.48718932  0.81301093\n",
      "  0.34660926 -0.75231147 -0.8918316  -0.7811125 ]\n",
      "C2:\n",
      " [-2.9046694e-03 -1.3872789e+00 -4.3171334e+00 -2.7357390e+00\n",
      "  3.8106930e+00  1.8926392e+00 -4.2381058e+00 -2.6784689e+00\n",
      "  1.1471013e+00  2.4158025e+00]\n"
     ]
    }
   ],
   "source": [
    "# Extract the coefficients for x1 and x2\n",
    "c1 = c[:N]\n",
    "c2 = c[N:2*(N)]\n",
    "\n",
    "# print(c1.shape)\n",
    "print(\"C1:\\n\", c1)\n",
    "print(\"C2:\\n\", c2)"
   ]
  },
  {
   "cell_type": "code",
   "execution_count": 323,
   "metadata": {},
   "outputs": [
    {
     "data": {
      "text/plain": [
       "<function collocation.lagrange_basis(xi, x)>"
      ]
     },
     "metadata": {},
     "output_type": "display_data"
    }
   ],
   "source": [
    "display(lagrange_basis)"
   ]
  },
  {
   "cell_type": "code",
   "execution_count": 324,
   "metadata": {},
   "outputs": [],
   "source": [
    "def lagrange_basis_(j, t, points):\n",
    "    terms = [(t - points[m]) / (points[j] - points[m]) for m in range(len(points)) if m != j]\n",
    "    return jnp.prod(jnp.array(terms))\n",
    "\n",
    "# Define the matrix of basis functions evaluated at test points\n",
    "def lagrange_basis_matrix(points, t_test):\n",
    "    N = len(points) - 1\n",
    "    return jnp.array([[lagrange_basis_(j, t, points) for j in range(N + 1)] for t in t_test])"
   ]
  },
  {
   "cell_type": "code",
   "execution_count": 325,
   "metadata": {},
   "outputs": [],
   "source": [
    "t_test = jnp.linspace(0, T, 100)\n",
    "lb = lagrange_basis_matrix(collocation_points, t_test)\n",
    "\n",
    "x1_test = lb @ c1\n",
    "x2_test = lb @ c2"
   ]
  },
  {
   "cell_type": "code",
   "execution_count": 326,
   "metadata": {},
   "outputs": [
    {
     "name": "stdout",
     "output_type": "stream",
     "text": [
      "x1_test shape: (100,)\n",
      "x2_test shape: (100,)\n"
     ]
    },
    {
     "data": {
      "image/png": "[encoded data removed]",
      "text/plain": [
       "<Figure size 640x480 with 1 Axes>"
      ]
     },
     "metadata": {},
     "output_type": "display_data"
    }
   ],
   "source": [
    "import matplotlib.pyplot as plt\n",
    "\n",
    "x1_correct = x1_0 * jnp.cos(omega * t_test) + (x2_0 / omega) * jnp.sin(omega * t_test)\n",
    "x2_correct = x2_0 * jnp.cos(omega * t_test) - x1_0 * omega * jnp.sin(omega * t_test)\n",
    "\n",
    "# Display the results\n",
    "print(\"x1_test shape:\", x1_test.shape)\n",
    "print(\"x2_test shape:\", x2_test.shape)\n",
    "\n",
    "# Plot the results\n",
    "plt.plot(t_test, x1_test, label='Approximate x1(t)')\n",
    "plt.plot(t_test, x2_test, label='Approximate x2(t)')\n",
    "plt.plot(t_test, x1_correct, '--', label='Correct x1(t)')\n",
    "plt.plot(t_test, x2_correct, '--', label='Correct x2(t)')\n",
    "plt.legend()\n",
    "plt.xlabel('Time')\n",
    "plt.ylabel('Value')\n",
    "plt.title('Approximate vs. Correct solutions using Collocation Method')\n",
    "plt.show()"
   ]
  },
  {
   "cell_type": "markdown",
   "metadata": {},
   "source": [
    "### Complete Script"
   ]
  },
  {
   "cell_type": "code",
   "execution_count": 327,
   "metadata": {},
   "outputs": [],
   "source": [
    "# Parameters\n",
    "N = 20\n",
    "omega = 2.0 \n",
    "T = 10\n",
    "\n",
    "interpolator = BarycentricInterpolation(N, start=0, stop=T)\n",
    "collocation_points = interpolator.nodes\n",
    "\n",
    "phi = lagrange_basis_node(collocation_points)\n",
    "weights = compute_weights(collocation_points)\n",
    "dphi_dt = lagrange_derivative(collocation_points, weights)\n",
    "\n",
    "x1_0 = 1.0\n",
    "x2_0 = 0.0\n",
    "\n",
    "# Form the collocation matrix A\n",
    "A = jnp.block([\n",
    "    [dphi_dt, -phi],       # First collocation condition: dx1/dt = x2\n",
    "    [omega**2 * phi, dphi_dt]  # Second collocation condition: dx2/dt = -omega^2 * x1\n",
    "])\n",
    "\n",
    "b = jnp.zeros(2 * (N))\n",
    "b_aug = jnp.concatenate([b, jnp.array([x1_0, x2_0])])\n",
    "\n",
    "I_x1 = jnp.zeros((1, 2 * (N)))\n",
    "I_x1 = I_x1.at[0, :N].set(phi[0, :])\n",
    "\n",
    "I_x2 = jnp.zeros((1, 2 * (N)))\n",
    "I_x2 = I_x2.at[0, N:].set(phi[0, :])\n",
    "\n",
    "A_aug = jnp.vstack([A, I_x1, I_x2])\n",
    "\n",
    "# Solve the linear system using the normal equations\n",
    "# A^T A c = A^T b\n",
    "c = solve(A_aug.T @ A_aug, A_aug.T @ b_aug)\n",
    "\n",
    "c1 = c[:N]\n",
    "c2 = c[N:]"
   ]
  },
  {
   "cell_type": "code",
   "execution_count": 329,
   "metadata": {},
   "outputs": [
    {
     "ename": "TypeError",
     "evalue": "lagrange_basis() missing 1 required positional argument: 'points'",
     "output_type": "error",
     "traceback": [
      "\u001b[0;31m---------------------------------------------------------------------------\u001b[0m",
      "\u001b[0;31mTypeError\u001b[0m                                 Traceback (most recent call last)",
      "Cell \u001b[0;32mIn[329], line 1\u001b[0m\n\u001b[0;32m----> 1\u001b[0m \u001b[43mlagrange_basis\u001b[49m\u001b[43m(\u001b[49m\u001b[43mcollocation_points\u001b[49m\u001b[43m,\u001b[49m\u001b[43m \u001b[49m\u001b[43mt_test\u001b[49m\u001b[43m)\u001b[49m\n",
      "\u001b[0;31mTypeError\u001b[0m: lagrange_basis() missing 1 required positional argument: 'points'"
     ]
    }
   ],
   "source": [
    "lagrange_basis(collocation_points, t_test)"
   ]
  },
  {
   "cell_type": "code",
   "execution_count": 328,
   "metadata": {},
   "outputs": [
    {
     "ename": "TypeError",
     "evalue": "lagrange_basis() missing 1 required positional argument: 'points'",
     "output_type": "error",
     "traceback": [
      "\u001b[0;31m---------------------------------------------------------------------------\u001b[0m",
      "\u001b[0;31mTypeError\u001b[0m                                 Traceback (most recent call last)",
      "Cell \u001b[0;32mIn[328], line 3\u001b[0m\n\u001b[1;32m      1\u001b[0m \u001b[38;5;66;03m# Test the approximations\u001b[39;00m\n\u001b[1;32m      2\u001b[0m t_test \u001b[38;5;241m=\u001b[39m jnp\u001b[38;5;241m.\u001b[39mlinspace(\u001b[38;5;241m0\u001b[39m, T, \u001b[38;5;241m100\u001b[39m)\n\u001b[0;32m----> 3\u001b[0m lb \u001b[38;5;241m=\u001b[39m jnp\u001b[38;5;241m.\u001b[39mtranspose(\u001b[43mlagrange_basis\u001b[49m\u001b[43m(\u001b[49m\u001b[43mcollocation_points\u001b[49m\u001b[43m,\u001b[49m\u001b[43m \u001b[49m\u001b[43mt_test\u001b[49m\u001b[43m)\u001b[49m)\n\u001b[1;32m      5\u001b[0m x1_test \u001b[38;5;241m=\u001b[39m lb \u001b[38;5;241m@\u001b[39m c1\n\u001b[1;32m      6\u001b[0m x2_test \u001b[38;5;241m=\u001b[39m lb \u001b[38;5;241m@\u001b[39m c2\n",
      "\u001b[0;31mTypeError\u001b[0m: lagrange_basis() missing 1 required positional argument: 'points'"
     ]
    }
   ],
   "source": [
    "# Test the approximations\n",
    "t_test = jnp.linspace(0, T, 100)\n",
    "lb = jnp.transpose(lagrange_basis(collocation_points, t_test))\n",
    "\n",
    "x1_test = lb @ c1\n",
    "x2_test = lb @ c2\n",
    "\n",
    "# Compute the correct solutions\n",
    "x1_correct = x1_0 * jnp.cos(omega * t_test) + (x2_0 / omega) * jnp.sin(omega * t_test)\n",
    "x2_correct = x2_0 * jnp.cos(omega * t_test) - x1_0 * omega * jnp.sin(omega * t_test)\n",
    "\n",
    "plt.plot(t_test, x1_test, label='Approximate x1(t)')\n",
    "plt.plot(t_test, x2_test, label='Approximate x2(t)')\n",
    "plt.plot(t_test, x1_correct, '--', label='Correct x1(t)')\n",
    "plt.plot(t_test, x2_correct, '--', label='Correct x2(t)')\n",
    "plt.legend()\n",
    "plt.xlabel('Time')\n",
    "plt.ylabel('Value')\n",
    "plt.title('Approximate vs. Correct solutions using Collocation Method')\n",
    "plt.grid(True)\n",
    "plt.show()"
   ]
  },
  {
   "cell_type": "markdown",
   "metadata": {},
   "source": [
    "### Can it be also solved as an optimization problem?"
   ]
  },
  {
   "cell_type": "code",
   "execution_count": 313,
   "metadata": {},
   "outputs": [],
   "source": [
    "from jax.scipy.optimize import minimize"
   ]
  },
  {
   "cell_type": "code",
   "execution_count": 312,
   "metadata": {},
   "outputs": [
    {
     "ename": "ValueError",
     "evalue": "Incompatible shapes for broadcasting: (5,) and requested shape (6,)",
     "output_type": "error",
     "traceback": [
      "\u001b[0;31m---------------------------------------------------------------------------\u001b[0m",
      "\u001b[0;31mValueError\u001b[0m                                Traceback (most recent call last)",
      "Cell \u001b[0;32mIn[312], line 37\u001b[0m\n\u001b[1;32m     35\u001b[0m \u001b[38;5;66;03m# Initial conditions matrix I\u001b[39;00m\n\u001b[1;32m     36\u001b[0m I_x1 \u001b[38;5;241m=\u001b[39m jnp\u001b[38;5;241m.\u001b[39mzeros((\u001b[38;5;241m1\u001b[39m, \u001b[38;5;241m2\u001b[39m \u001b[38;5;241m*\u001b[39m (N \u001b[38;5;241m+\u001b[39m \u001b[38;5;241m1\u001b[39m)))\n\u001b[0;32m---> 37\u001b[0m I_x1 \u001b[38;5;241m=\u001b[39m \u001b[43mI_x1\u001b[49m\u001b[38;5;241;43m.\u001b[39;49m\u001b[43mat\u001b[49m\u001b[43m[\u001b[49m\u001b[38;5;241;43m0\u001b[39;49m\u001b[43m,\u001b[49m\u001b[43m \u001b[49m\u001b[43m:\u001b[49m\u001b[43mN\u001b[49m\u001b[38;5;241;43m+\u001b[39;49m\u001b[38;5;241;43m1\u001b[39;49m\u001b[43m]\u001b[49m\u001b[38;5;241;43m.\u001b[39;49m\u001b[43mset\u001b[49m\u001b[43m(\u001b[49m\u001b[43mphi\u001b[49m\u001b[43m[\u001b[49m\u001b[38;5;241;43m0\u001b[39;49m\u001b[43m,\u001b[49m\u001b[43m \u001b[49m\u001b[43m:\u001b[49m\u001b[43m]\u001b[49m\u001b[43m)\u001b[49m\n\u001b[1;32m     39\u001b[0m I_x2 \u001b[38;5;241m=\u001b[39m jnp\u001b[38;5;241m.\u001b[39mzeros((\u001b[38;5;241m1\u001b[39m, \u001b[38;5;241m2\u001b[39m \u001b[38;5;241m*\u001b[39m (N \u001b[38;5;241m+\u001b[39m \u001b[38;5;241m1\u001b[39m)))\n\u001b[1;32m     40\u001b[0m I_x2 \u001b[38;5;241m=\u001b[39m I_x2\u001b[38;5;241m.\u001b[39mat[\u001b[38;5;241m0\u001b[39m, N\u001b[38;5;241m+\u001b[39m\u001b[38;5;241m1\u001b[39m:]\u001b[38;5;241m.\u001b[39mset(phi[\u001b[38;5;241m0\u001b[39m, :])\n",
      "File \u001b[0;32m~/anaconda3/envs/collocation_env/lib/python3.9/site-packages/jax/_src/numpy/array_methods.py:493\u001b[0m, in \u001b[0;36m_IndexUpdateRef.set\u001b[0;34m(self, values, indices_are_sorted, unique_indices, mode)\u001b[0m\n\u001b[1;32m    484\u001b[0m \u001b[38;5;28;01mdef\u001b[39;00m \u001b[38;5;21mset\u001b[39m(\u001b[38;5;28mself\u001b[39m, values, \u001b[38;5;241m*\u001b[39m, indices_are_sorted\u001b[38;5;241m=\u001b[39m\u001b[38;5;28;01mFalse\u001b[39;00m, unique_indices\u001b[38;5;241m=\u001b[39m\u001b[38;5;28;01mFalse\u001b[39;00m,\n\u001b[1;32m    485\u001b[0m         mode\u001b[38;5;241m=\u001b[39m\u001b[38;5;28;01mNone\u001b[39;00m):\n\u001b[1;32m    486\u001b[0m \u001b[38;5;250m  \u001b[39m\u001b[38;5;124;03m\"\"\"Pure equivalent of ``x[idx] = y``.\u001b[39;00m\n\u001b[1;32m    487\u001b[0m \n\u001b[1;32m    488\u001b[0m \u001b[38;5;124;03m  Returns the value of ``x`` that would result from the NumPy-style\u001b[39;00m\n\u001b[0;32m   (...)\u001b[0m\n\u001b[1;32m    491\u001b[0m \u001b[38;5;124;03m  See :mod:`jax.ops` for details.\u001b[39;00m\n\u001b[1;32m    492\u001b[0m \u001b[38;5;124;03m  \"\"\"\u001b[39;00m\n\u001b[0;32m--> 493\u001b[0m   \u001b[38;5;28;01mreturn\u001b[39;00m \u001b[43mscatter\u001b[49m\u001b[38;5;241;43m.\u001b[39;49m\u001b[43m_scatter_update\u001b[49m\u001b[43m(\u001b[49m\u001b[38;5;28;43mself\u001b[39;49m\u001b[38;5;241;43m.\u001b[39;49m\u001b[43marray\u001b[49m\u001b[43m,\u001b[49m\u001b[43m \u001b[49m\u001b[38;5;28;43mself\u001b[39;49m\u001b[38;5;241;43m.\u001b[39;49m\u001b[43mindex\u001b[49m\u001b[43m,\u001b[49m\u001b[43m \u001b[49m\u001b[43mvalues\u001b[49m\u001b[43m,\u001b[49m\u001b[43m \u001b[49m\u001b[43mlax\u001b[49m\u001b[38;5;241;43m.\u001b[39;49m\u001b[43mscatter\u001b[49m\u001b[43m,\u001b[49m\n\u001b[1;32m    494\u001b[0m \u001b[43m                                 \u001b[49m\u001b[43mindices_are_sorted\u001b[49m\u001b[38;5;241;43m=\u001b[39;49m\u001b[43mindices_are_sorted\u001b[49m\u001b[43m,\u001b[49m\n\u001b[1;32m    495\u001b[0m \u001b[43m                                 \u001b[49m\u001b[43munique_indices\u001b[49m\u001b[38;5;241;43m=\u001b[39;49m\u001b[43munique_indices\u001b[49m\u001b[43m,\u001b[49m\u001b[43m \u001b[49m\u001b[43mmode\u001b[49m\u001b[38;5;241;43m=\u001b[39;49m\u001b[43mmode\u001b[49m\u001b[43m)\u001b[49m\n",
      "File \u001b[0;32m~/anaconda3/envs/collocation_env/lib/python3.9/site-packages/jax/_src/ops/scatter.py:80\u001b[0m, in \u001b[0;36m_scatter_update\u001b[0;34m(x, idx, y, scatter_op, indices_are_sorted, unique_indices, mode, normalize_indices)\u001b[0m\n\u001b[1;32m     77\u001b[0m \u001b[38;5;66;03m# XLA gathers and scatters are very similar in structure; the scatter logic\u001b[39;00m\n\u001b[1;32m     78\u001b[0m \u001b[38;5;66;03m# is more or less a transpose of the gather equivalent.\u001b[39;00m\n\u001b[1;32m     79\u001b[0m treedef, static_idx, dynamic_idx \u001b[38;5;241m=\u001b[39m jnp\u001b[38;5;241m.\u001b[39m_split_index_for_jit(idx, x\u001b[38;5;241m.\u001b[39mshape)\n\u001b[0;32m---> 80\u001b[0m \u001b[38;5;28;01mreturn\u001b[39;00m \u001b[43m_scatter_impl\u001b[49m\u001b[43m(\u001b[49m\u001b[43mx\u001b[49m\u001b[43m,\u001b[49m\u001b[43m \u001b[49m\u001b[43my\u001b[49m\u001b[43m,\u001b[49m\u001b[43m \u001b[49m\u001b[43mscatter_op\u001b[49m\u001b[43m,\u001b[49m\u001b[43m \u001b[49m\u001b[43mtreedef\u001b[49m\u001b[43m,\u001b[49m\u001b[43m \u001b[49m\u001b[43mstatic_idx\u001b[49m\u001b[43m,\u001b[49m\u001b[43m \u001b[49m\u001b[43mdynamic_idx\u001b[49m\u001b[43m,\u001b[49m\n\u001b[1;32m     81\u001b[0m \u001b[43m                     \u001b[49m\u001b[43mindices_are_sorted\u001b[49m\u001b[43m,\u001b[49m\u001b[43m \u001b[49m\u001b[43munique_indices\u001b[49m\u001b[43m,\u001b[49m\u001b[43m \u001b[49m\u001b[43mmode\u001b[49m\u001b[43m,\u001b[49m\n\u001b[1;32m     82\u001b[0m \u001b[43m                     \u001b[49m\u001b[43mnormalize_indices\u001b[49m\u001b[43m)\u001b[49m\n",
      "File \u001b[0;32m~/anaconda3/envs/collocation_env/lib/python3.9/site-packages/jax/_src/ops/scatter.py:118\u001b[0m, in \u001b[0;36m_scatter_impl\u001b[0;34m(x, y, scatter_op, treedef, static_idx, dynamic_idx, indices_are_sorted, unique_indices, mode, normalize_indices)\u001b[0m\n\u001b[1;32m    115\u001b[0m x, y \u001b[38;5;241m=\u001b[39m promote_dtypes(x, y)\n\u001b[1;32m    117\u001b[0m \u001b[38;5;66;03m# Broadcast `y` to the slice output shape.\u001b[39;00m\n\u001b[0;32m--> 118\u001b[0m y \u001b[38;5;241m=\u001b[39m \u001b[43mjnp\u001b[49m\u001b[38;5;241;43m.\u001b[39;49m\u001b[43mbroadcast_to\u001b[49m\u001b[43m(\u001b[49m\u001b[43my\u001b[49m\u001b[43m,\u001b[49m\u001b[43m \u001b[49m\u001b[38;5;28;43mtuple\u001b[39;49m\u001b[43m(\u001b[49m\u001b[43mindexer\u001b[49m\u001b[38;5;241;43m.\u001b[39;49m\u001b[43mslice_shape\u001b[49m\u001b[43m)\u001b[49m\u001b[43m)\u001b[49m\n\u001b[1;32m    119\u001b[0m \u001b[38;5;66;03m# Collapse any `None`/`jnp.newaxis` dimensions.\u001b[39;00m\n\u001b[1;32m    120\u001b[0m y \u001b[38;5;241m=\u001b[39m jnp\u001b[38;5;241m.\u001b[39msqueeze(y, axis\u001b[38;5;241m=\u001b[39mindexer\u001b[38;5;241m.\u001b[39mnewaxis_dims)\n",
      "File \u001b[0;32m~/anaconda3/envs/collocation_env/lib/python3.9/site-packages/jax/_src/numpy/lax_numpy.py:1481\u001b[0m, in \u001b[0;36mbroadcast_to\u001b[0;34m(array, shape)\u001b[0m\n\u001b[1;32m   1477\u001b[0m \u001b[38;5;129m@util\u001b[39m\u001b[38;5;241m.\u001b[39mimplements(np\u001b[38;5;241m.\u001b[39mbroadcast_to, lax_description\u001b[38;5;241m=\u001b[39m\u001b[38;5;124m\"\"\"\u001b[39m\u001b[38;5;130;01m\\\u001b[39;00m\n\u001b[1;32m   1478\u001b[0m \u001b[38;5;124mThe JAX version does not necessarily return a view of the input.\u001b[39m\n\u001b[1;32m   1479\u001b[0m \u001b[38;5;124m\"\"\"\u001b[39m)\n\u001b[1;32m   1480\u001b[0m \u001b[38;5;28;01mdef\u001b[39;00m \u001b[38;5;21mbroadcast_to\u001b[39m(array: ArrayLike, shape: DimSize \u001b[38;5;241m|\u001b[39m Shape) \u001b[38;5;241m-\u001b[39m\u001b[38;5;241m>\u001b[39m Array:\n\u001b[0;32m-> 1481\u001b[0m   \u001b[38;5;28;01mreturn\u001b[39;00m \u001b[43mutil\u001b[49m\u001b[38;5;241;43m.\u001b[39;49m\u001b[43m_broadcast_to\u001b[49m\u001b[43m(\u001b[49m\u001b[43marray\u001b[49m\u001b[43m,\u001b[49m\u001b[43m \u001b[49m\u001b[43mshape\u001b[49m\u001b[43m)\u001b[49m\n",
      "File \u001b[0;32m~/anaconda3/envs/collocation_env/lib/python3.9/site-packages/jax/_src/numpy/util.py:430\u001b[0m, in \u001b[0;36m_broadcast_to\u001b[0;34m(arr, shape)\u001b[0m\n\u001b[1;32m    428\u001b[0m \u001b[38;5;28;01mif\u001b[39;00m nlead \u001b[38;5;241m<\u001b[39m \u001b[38;5;241m0\u001b[39m \u001b[38;5;129;01mor\u001b[39;00m \u001b[38;5;129;01mnot\u001b[39;00m compatible:\n\u001b[1;32m    429\u001b[0m   msg \u001b[38;5;241m=\u001b[39m \u001b[38;5;124m\"\u001b[39m\u001b[38;5;124mIncompatible shapes for broadcasting: \u001b[39m\u001b[38;5;132;01m{}\u001b[39;00m\u001b[38;5;124m and requested shape \u001b[39m\u001b[38;5;132;01m{}\u001b[39;00m\u001b[38;5;124m\"\u001b[39m\n\u001b[0;32m--> 430\u001b[0m   \u001b[38;5;28;01mraise\u001b[39;00m \u001b[38;5;167;01mValueError\u001b[39;00m(msg\u001b[38;5;241m.\u001b[39mformat(arr_shape, shape))\n\u001b[1;32m    431\u001b[0m diff, \u001b[38;5;241m=\u001b[39m np\u001b[38;5;241m.\u001b[39mwhere(\u001b[38;5;28mtuple\u001b[39m(\u001b[38;5;129;01mnot\u001b[39;00m core\u001b[38;5;241m.\u001b[39mdefinitely_equal(arr_d, shape_d)\n\u001b[1;32m    432\u001b[0m                        \u001b[38;5;28;01mfor\u001b[39;00m arr_d, shape_d \u001b[38;5;129;01min\u001b[39;00m safe_zip(arr_shape, shape_tail)))\n\u001b[1;32m    433\u001b[0m new_dims \u001b[38;5;241m=\u001b[39m \u001b[38;5;28mtuple\u001b[39m(\u001b[38;5;28mrange\u001b[39m(nlead)) \u001b[38;5;241m+\u001b[39m \u001b[38;5;28mtuple\u001b[39m(nlead \u001b[38;5;241m+\u001b[39m diff)\n",
      "\u001b[0;31mValueError\u001b[0m: Incompatible shapes for broadcasting: (5,) and requested shape (6,)"
     ]
    }
   ],
   "source": [
    "# Objective function for optimization\n",
    "def objective(c, A, b):\n",
    "    residuals = A @ c - b\n",
    "    return jnp.sum(residuals**2)\n",
    "\n",
    "# Initial guess for c\n",
    "initial_c = jnp.zeros(A_aug.shape[1])\n",
    "\n",
    "# Solve the optimization problem\n",
    "result = minimize(objective, initial_c, args=(A_aug, b_aug), method='BFGS')\n",
    "c_opt = result.x\n",
    "\n",
    "# Display the result\n",
    "print(\"Optimal solution vector c:\", c_opt)\n",
    "print(\"Shape of c:\", c_opt.shape)\n",
    "\n",
    "# Extract coefficients\n",
    "c1 = c_opt[:N+1]\n",
    "c2 = c_opt[N+1:]\n",
    "\n",
    "# Define the Lagrange basis function for a single point\n",
    "def lagrange_basis(j, t, points):\n",
    "    terms = [(t - points[m]) / (points[j] - points[m]) for m in range(len(points)) if m != j]\n",
    "    return jnp.prod(jnp.array(terms))\n",
    "\n",
    "# Define the matrix of basis functions evaluated at test points\n",
    "def lagrange_basis_matrix(points, t_test):\n",
    "    N = len(points) - 1\n",
    "    return jnp.array([[lagrange_basis(j, t, points) for j in range(N + 1)] for t in t_test])\n",
    "\n",
    "# Test the approximations\n",
    "t_test = jnp.linspace(0, T, 100)\n",
    "lb = lagrange_basis_matrix(collocation_points, t_test)\n",
    "\n",
    "x1_test = lb @ c1\n",
    "x2_test = lb @ c2\n",
    "\n",
    "# Compute the correct solutions\n",
    "x1_correct = x1_0 * jnp.cos(omega * t_test) + (x2_0 / omega) * jnp.sin(omega * t_test)\n",
    "x2_correct = x2_0 * jnp.cos(omega * t_test) - x1_0 * omega * jnp.sin(omega * t_test)\n",
    "\n",
    "# Display the results\n",
    "print(\"x1_test shape:\", x1_test.shape)\n",
    "print(\"x2_test shape:\", x2_test.shape)\n",
    "\n",
    "# Plot the results\n",
    "import matplotlib.pyplot as plt\n",
    "\n",
    "plt.plot(t_test, x1_test, label='Approximate x1(t)')\n",
    "plt.plot(t_test, x2_test, label='Approximate x2(t)')\n",
    "plt.plot(t_test, x1_correct, '--', label='Correct x1(t)')\n",
    "plt.plot(t_test, x2_correct, '--', label='Correct x2(t)')\n",
    "plt.legend()\n",
    "plt.xlabel('Time')\n",
    "plt.ylabel('Value')\n",
    "plt.title('Approximate vs. Correct solutions using Collocation Method')\n",
    "plt.show()\n"
   ]
  },
  {
   "cell_type": "code",
   "execution_count": null,
   "metadata": {},
   "outputs": [],
   "source": []
  },
  {
   "cell_type": "code",
   "execution_count": null,
   "metadata": {},
   "outputs": [],
   "source": []
  },
  {
   "cell_type": "code",
   "execution_count": null,
   "metadata": {},
   "outputs": [],
   "source": []
  },
  {
   "cell_type": "code",
   "execution_count": 8,
   "metadata": {},
   "outputs": [],
   "source": [
    "# Coefficients of the collocation equation\n",
    "C = np.zeros((degree+1, degree+1))\n",
    "D = np.zeros(degree+1)\n",
    "B = np.zeros(degree+1)"
   ]
  },
  {
   "cell_type": "code",
   "execution_count": 3,
   "metadata": {},
   "outputs": [
    {
     "ename": "Exception",
     "evalue": "CasADi matrices are not iterable by design.\n                      Did you mean to iterate over m.nz, with m IM/DM/SX?\n                      Did you mean to iterate over horzsplit(m,1)/vertsplit(m,1) with m IM/DM/SX/MX?\n                      ",
     "output_type": "error",
     "traceback": [
      "\u001b[0;31m---------------------------------------------------------------------------\u001b[0m",
      "\u001b[0;31mException\u001b[0m                                 Traceback (most recent call last)",
      "\u001b[0;32m/var/folders/2v/gfm3z1tn5fj8zss_r9hrgnv80000gn/T/ipykernel_76729/1884594343.py\u001b[0m in \u001b[0;36m?\u001b[0;34m()\u001b[0m\n\u001b[1;32m     64\u001b[0m \u001b[0mmu\u001b[0m \u001b[0;34m=\u001b[0m \u001b[0;36m1.0\u001b[0m\u001b[0;34m\u001b[0m\u001b[0;34m\u001b[0m\u001b[0m\n\u001b[1;32m     65\u001b[0m \u001b[0mT\u001b[0m \u001b[0;34m=\u001b[0m \u001b[0;36m10\u001b[0m  \u001b[0;31m# Total time\u001b[0m\u001b[0;34m\u001b[0m\u001b[0;34m\u001b[0m\u001b[0m\n\u001b[1;32m     66\u001b[0m \u001b[0mN\u001b[0m \u001b[0;34m=\u001b[0m \u001b[0;36m100\u001b[0m  \u001b[0;31m# Number of discretization points\u001b[0m\u001b[0;34m\u001b[0m\u001b[0;34m\u001b[0m\u001b[0m\n\u001b[1;32m     67\u001b[0m \u001b[0mdegree\u001b[0m \u001b[0;34m=\u001b[0m \u001b[0;36m3\u001b[0m  \u001b[0;31m# Degree of the polynomial\u001b[0m\u001b[0;34m\u001b[0m\u001b[0;34m\u001b[0m\u001b[0m\n\u001b[0;32m---> 68\u001b[0;31m \u001b[0;34m\u001b[0m\u001b[0m\n\u001b[0m\u001b[1;32m     69\u001b[0m \u001b[0;31m# Collocation points\u001b[0m\u001b[0;34m\u001b[0m\u001b[0;34m\u001b[0m\u001b[0m\n\u001b[1;32m     70\u001b[0m \u001b[0mtau_root\u001b[0m \u001b[0;34m=\u001b[0m \u001b[0mnp\u001b[0m\u001b[0;34m.\u001b[0m\u001b[0mappend\u001b[0m\u001b[0;34m(\u001b[0m\u001b[0;36m0\u001b[0m\u001b[0;34m,\u001b[0m \u001b[0mnp\u001b[0m\u001b[0;34m.\u001b[0m\u001b[0marray\u001b[0m\u001b[0;34m(\u001b[0m\u001b[0mcollocation_points\u001b[0m\u001b[0;34m(\u001b[0m\u001b[0mdegree\u001b[0m\u001b[0;34m,\u001b[0m \u001b[0;34m'legendre'\u001b[0m\u001b[0;34m)\u001b[0m\u001b[0;34m)\u001b[0m\u001b[0;34m)\u001b[0m\u001b[0;34m\u001b[0m\u001b[0;34m\u001b[0m\u001b[0m\n\u001b[1;32m     71\u001b[0m \u001b[0;34m\u001b[0m\u001b[0m\n",
      "\u001b[0;32m~/anaconda3/envs/collocation_env/lib/python3.9/site-packages/casadi/casadi.py\u001b[0m in \u001b[0;36m?\u001b[0;34m(self)\u001b[0m\n\u001b[1;32m  16298\u001b[0m     \u001b[0;32mdef\u001b[0m \u001b[0m__iter__\u001b[0m\u001b[0;34m(\u001b[0m\u001b[0mself\u001b[0m\u001b[0;34m)\u001b[0m\u001b[0;34m:\u001b[0m\u001b[0;34m\u001b[0m\u001b[0;34m\u001b[0m\u001b[0m\n\u001b[0;32m> 16299\u001b[0;31m       raise Exception(\"\"\"CasADi matrices are not iterable by design.\n\u001b[0m\u001b[1;32m  16300\u001b[0m                       \u001b[0mDid\u001b[0m \u001b[0myou\u001b[0m \u001b[0mmean\u001b[0m \u001b[0mto\u001b[0m \u001b[0miterate\u001b[0m \u001b[0mover\u001b[0m \u001b[0mm\u001b[0m\u001b[0;34m.\u001b[0m\u001b[0mnz\u001b[0m\u001b[0;34m,\u001b[0m \u001b[0;32mwith\u001b[0m \u001b[0mm\u001b[0m \u001b[0mIM\u001b[0m\u001b[0;34m/\u001b[0m\u001b[0mDM\u001b[0m\u001b[0;34m/\u001b[0m\u001b[0mSX\u001b[0m\u001b[0;31m?\u001b[0m\u001b[0;34m\u001b[0m\u001b[0;34m\u001b[0m\u001b[0m\n\u001b[1;32m  16301\u001b[0m                       \u001b[0mDid\u001b[0m \u001b[0myou\u001b[0m \u001b[0mmean\u001b[0m \u001b[0mto\u001b[0m \u001b[0miterate\u001b[0m \u001b[0mover\u001b[0m \u001b[0mhorzsplit\u001b[0m\u001b[0;34m(\u001b[0m\u001b[0mm\u001b[0m\u001b[0;34m,\u001b[0m\u001b[0;36m1\u001b[0m\u001b[0;34m)\u001b[0m\u001b[0;34m/\u001b[0m\u001b[0mvertsplit\u001b[0m\u001b[0;34m(\u001b[0m\u001b[0mm\u001b[0m\u001b[0;34m,\u001b[0m\u001b[0;36m1\u001b[0m\u001b[0;34m)\u001b[0m \u001b[0;32mwith\u001b[0m \u001b[0mm\u001b[0m \u001b[0mIM\u001b[0m\u001b[0;34m/\u001b[0m\u001b[0mDM\u001b[0m\u001b[0;34m/\u001b[0m\u001b[0mSX\u001b[0m\u001b[0;34m/\u001b[0m\u001b[0mMX\u001b[0m\u001b[0;31m?\u001b[0m\u001b[0;34m\u001b[0m\u001b[0;34m\u001b[0m\u001b[0m\n\u001b[1;32m  16302\u001b[0m                       \"\"\")\n",
      "\u001b[0;31mException\u001b[0m: CasADi matrices are not iterable by design.\n                      Did you mean to iterate over m.nz, with m IM/DM/SX?\n                      Did you mean to iterate over horzsplit(m,1)/vertsplit(m,1) with m IM/DM/SX/MX?\n                      "
     ]
    }
   ],
   "source": [
    "# Construct polynomial basis\n",
    "for j in range(degree+1):\n",
    "    # Construct the Lagrange polynomial\n",
    "    L = np.poly1d([1])\n",
    "    for r in range(degree+1):\n",
    "        if r != j:\n",
    "            L *= np.poly1d([1, -tau_root[r]]) / (tau_root[j] - tau_root[r])\n",
    "    D[j] = L(1.0)\n",
    "    Ldot = np.polyder(L)\n",
    "    for r in range(degree+1):\n",
    "        C[j, r] = Ldot(tau_root[r])\n",
    "    integral_L = np.polyint(L)\n",
    "    B[j] = integral_L(1.0)\n",
    "\n",
    "# Time points\n",
    "h = T / N\n",
    "t = np.linspace(0, T, N+1)\n",
    "\n",
    "# Declare variables\n",
    "X1 = MX.sym('X1', N+1)\n",
    "X2 = MX.sym('X2', N+1)\n",
    "U = MX.sym('U', N)\n",
    "\n",
    "# Collocation variables\n",
    "X1c = [MX.sym(f'X1c_{j}') for j in range(degree)]\n",
    "X2c = [MX.sym(f'X2c_{j}') for j in range(degree)]\n",
    "\n",
    "# Initial conditions\n",
    "x1_0 = 2.0\n",
    "x2_0 = 0.0\n",
    "\n",
    "# System dynamics\n",
    "def f(x1, x2, u):\n",
    "    return vertcat(x2, mu * (1 - x1**2) * x2 - x1)\n",
    "\n",
    "# Create the collocation equations\n",
    "g = []\n",
    "g.append(X1[0] - x1_0)\n",
    "g.append(X2[0] - x2_0)\n",
    "\n",
    "for k in range(N):\n",
    "    X1k_end = D[0] * X1[k]\n",
    "    X2k_end = D[0] * X2[k]\n",
    "    for j in range(1, degree+1):\n",
    "        xp1 = C[0, j] * X1[k]\n",
    "        xp2 = C[0, j] * X2[k]\n",
    "        for r in range(1, degree+1):\n",
    "            xp1 += C[r, j] * X1c[r-1]\n",
    "            xp2 += C[r, j] * X2c[r-1]\n",
    "        [fk1, fk2] = f(X1c[j-1], X2c[j-1], U[k])\n",
    "        g.append(h * fk1 - xp1)\n",
    "        g.append(h * fk2 - xp2)\n",
    "        X1k_end += D[j] * X1c[j-1]\n",
    "        X2k_end += D[j] * X2c[j-1]\n",
    "    g.append(X1[k+1] - X1k_end)\n",
    "    g.append(X2[k+1] - X2k_end)\n",
    "\n",
    "g = vertcat(*g)\n",
    "\n",
    "# Create NLP\n",
    "w = vertcat(X1, X2, U, vertcat(*X1c), vertcat(*X2c))\n",
    "nlp = {'x': w, 'f': dot(U, U), 'g': g}\n",
    "solver = nlpsol('solver', 'ipopt', nlp)\n",
    "\n",
    "# Initial guess\n",
    "w0 = np.zeros((N+1)*2 + N + degree*2)\n",
    "\n",
    "# Solve NLP\n",
    "sol = solver(x0=w0, lbg=0, ubg=0)\n",
    "\n",
    "# Extract solution\n",
    "X1_opt = np.array(sol['x'][0:N+1])\n",
    "X2_opt = np.array(sol['x'][N+1:2*(N+1)])\n",
    "U_opt = np.array(sol['x'][2*(N+1):2*(N+1)+N])\n",
    "\n",
    "# Plot results\n",
    "plt.figure()\n",
    "plt.plot(t, X1_opt, label='x1')\n",
    "plt.plot(t, X2_opt, label='x2')\n",
    "plt.xlabel('Time')\n",
    "plt.ylabel('States')\n",
    "plt.legend()\n",
    "plt.show()\n"
   ]
  },
  {
   "cell_type": "code",
   "execution_count": null,
   "metadata": {},
   "outputs": [],
   "source": []
  },
  {
   "cell_type": "code",
   "execution_count": null,
   "metadata": {},
   "outputs": [],
   "source": []
  },
  {
   "cell_type": "code",
   "execution_count": null,
   "metadata": {},
   "outputs": [],
   "source": []
  },
  {
   "cell_type": "code",
   "execution_count": null,
   "metadata": {},
   "outputs": [],
   "source": []
  },
  {
   "cell_type": "code",
   "execution_count": 9,
   "metadata": {},
   "outputs": [
    {
     "name": "stderr",
     "output_type": "stream",
     "text": [
      "/Users/mariiashapo/anaconda3/envs/collocation_env/lib/python3.9/site-packages/numpy/lib/polynomial.py:1374: RuntimeWarning: divide by zero encountered in divide\n",
      "  return poly1d(self.coeffs/other)\n",
      "/Users/mariiashapo/anaconda3/envs/collocation_env/lib/python3.9/site-packages/numpy/lib/polynomial.py:1374: RuntimeWarning: invalid value encountered in divide\n",
      "  return poly1d(self.coeffs/other)\n",
      "/Users/mariiashapo/anaconda3/envs/collocation_env/lib/python3.9/site-packages/numpy/lib/polynomial.py:780: RuntimeWarning: invalid value encountered in multiply\n",
      "  y = y * x + pv\n"
     ]
    },
    {
     "ename": "ValueError",
     "evalue": "negative dimensions are not allowed",
     "output_type": "error",
     "traceback": [
      "\u001b[0;31m---------------------------------------------------------------------------\u001b[0m",
      "\u001b[0;31mValueError\u001b[0m                                Traceback (most recent call last)",
      "Cell \u001b[0;32mIn[9], line 89\u001b[0m\n\u001b[1;32m     86\u001b[0m vars0 \u001b[38;5;241m=\u001b[39m np\u001b[38;5;241m.\u001b[39mzeros(\u001b[38;5;241m2\u001b[39m\u001b[38;5;241m*\u001b[39m(N\u001b[38;5;241m+\u001b[39m\u001b[38;5;241m1\u001b[39m) \u001b[38;5;241m+\u001b[39m N)\n\u001b[1;32m     88\u001b[0m \u001b[38;5;66;03m# Solve the problem using SciPy's minimize function\u001b[39;00m\n\u001b[0;32m---> 89\u001b[0m solution \u001b[38;5;241m=\u001b[39m \u001b[43mminimize\u001b[49m\u001b[43m(\u001b[49m\u001b[43mobjective\u001b[49m\u001b[43m,\u001b[49m\u001b[43m \u001b[49m\u001b[43mvars0\u001b[49m\u001b[43m,\u001b[49m\u001b[43m \u001b[49m\u001b[43mconstraints\u001b[49m\u001b[38;5;241;43m=\u001b[39;49m\u001b[43m{\u001b[49m\u001b[38;5;124;43m'\u001b[39;49m\u001b[38;5;124;43mtype\u001b[39;49m\u001b[38;5;124;43m'\u001b[39;49m\u001b[43m:\u001b[49m\u001b[43m \u001b[49m\u001b[38;5;124;43m'\u001b[39;49m\u001b[38;5;124;43meq\u001b[39;49m\u001b[38;5;124;43m'\u001b[39;49m\u001b[43m,\u001b[49m\u001b[43m \u001b[49m\u001b[38;5;124;43m'\u001b[39;49m\u001b[38;5;124;43mfun\u001b[39;49m\u001b[38;5;124;43m'\u001b[39;49m\u001b[43m:\u001b[49m\u001b[43m \u001b[49m\u001b[43mconstraints\u001b[49m\u001b[43m}\u001b[49m\u001b[43m,\u001b[49m\u001b[43m \u001b[49m\u001b[43mmethod\u001b[49m\u001b[38;5;241;43m=\u001b[39;49m\u001b[38;5;124;43m'\u001b[39;49m\u001b[38;5;124;43mSLSQP\u001b[39;49m\u001b[38;5;124;43m'\u001b[39;49m\u001b[43m)\u001b[49m\n\u001b[1;32m     91\u001b[0m \u001b[38;5;66;03m# Extract solution\u001b[39;00m\n\u001b[1;32m     92\u001b[0m vars_opt \u001b[38;5;241m=\u001b[39m solution\u001b[38;5;241m.\u001b[39mx\n",
      "File \u001b[0;32m~/anaconda3/envs/collocation_env/lib/python3.9/site-packages/scipy/optimize/_minimize.py:722\u001b[0m, in \u001b[0;36mminimize\u001b[0;34m(fun, x0, args, method, jac, hess, hessp, bounds, constraints, tol, callback, options)\u001b[0m\n\u001b[1;32m    719\u001b[0m     res \u001b[38;5;241m=\u001b[39m _minimize_cobyla(fun, x0, args, constraints, callback\u001b[38;5;241m=\u001b[39mcallback,\n\u001b[1;32m    720\u001b[0m                            bounds\u001b[38;5;241m=\u001b[39mbounds, \u001b[38;5;241m*\u001b[39m\u001b[38;5;241m*\u001b[39moptions)\n\u001b[1;32m    721\u001b[0m \u001b[38;5;28;01melif\u001b[39;00m meth \u001b[38;5;241m==\u001b[39m \u001b[38;5;124m'\u001b[39m\u001b[38;5;124mslsqp\u001b[39m\u001b[38;5;124m'\u001b[39m:\n\u001b[0;32m--> 722\u001b[0m     res \u001b[38;5;241m=\u001b[39m \u001b[43m_minimize_slsqp\u001b[49m\u001b[43m(\u001b[49m\u001b[43mfun\u001b[49m\u001b[43m,\u001b[49m\u001b[43m \u001b[49m\u001b[43mx0\u001b[49m\u001b[43m,\u001b[49m\u001b[43m \u001b[49m\u001b[43margs\u001b[49m\u001b[43m,\u001b[49m\u001b[43m \u001b[49m\u001b[43mjac\u001b[49m\u001b[43m,\u001b[49m\u001b[43m \u001b[49m\u001b[43mbounds\u001b[49m\u001b[43m,\u001b[49m\n\u001b[1;32m    723\u001b[0m \u001b[43m                          \u001b[49m\u001b[43mconstraints\u001b[49m\u001b[43m,\u001b[49m\u001b[43m \u001b[49m\u001b[43mcallback\u001b[49m\u001b[38;5;241;43m=\u001b[39;49m\u001b[43mcallback\u001b[49m\u001b[43m,\u001b[49m\u001b[43m \u001b[49m\u001b[38;5;241;43m*\u001b[39;49m\u001b[38;5;241;43m*\u001b[39;49m\u001b[43moptions\u001b[49m\u001b[43m)\u001b[49m\n\u001b[1;32m    724\u001b[0m \u001b[38;5;28;01melif\u001b[39;00m meth \u001b[38;5;241m==\u001b[39m \u001b[38;5;124m'\u001b[39m\u001b[38;5;124mtrust-constr\u001b[39m\u001b[38;5;124m'\u001b[39m:\n\u001b[1;32m    725\u001b[0m     res \u001b[38;5;241m=\u001b[39m _minimize_trustregion_constr(fun, x0, args, jac, hess, hessp,\n\u001b[1;32m    726\u001b[0m                                        bounds, constraints,\n\u001b[1;32m    727\u001b[0m                                        callback\u001b[38;5;241m=\u001b[39mcallback, \u001b[38;5;241m*\u001b[39m\u001b[38;5;241m*\u001b[39moptions)\n",
      "File \u001b[0;32m~/anaconda3/envs/collocation_env/lib/python3.9/site-packages/scipy/optimize/_slsqp_py.py:353\u001b[0m, in \u001b[0;36m_minimize_slsqp\u001b[0;34m(func, x0, args, jac, bounds, constraints, maxiter, ftol, iprint, disp, eps, callback, finite_diff_rel_step, **unknown_options)\u001b[0m\n\u001b[1;32m    350\u001b[0m len_w \u001b[38;5;241m=\u001b[39m (\u001b[38;5;241m3\u001b[39m\u001b[38;5;241m*\u001b[39mn1\u001b[38;5;241m+\u001b[39mm)\u001b[38;5;241m*\u001b[39m(n1\u001b[38;5;241m+\u001b[39m\u001b[38;5;241m1\u001b[39m)\u001b[38;5;241m+\u001b[39m(n1\u001b[38;5;241m-\u001b[39mmeq\u001b[38;5;241m+\u001b[39m\u001b[38;5;241m1\u001b[39m)\u001b[38;5;241m*\u001b[39m(mineq\u001b[38;5;241m+\u001b[39m\u001b[38;5;241m2\u001b[39m) \u001b[38;5;241m+\u001b[39m \u001b[38;5;241m2\u001b[39m\u001b[38;5;241m*\u001b[39mmineq\u001b[38;5;241m+\u001b[39m(n1\u001b[38;5;241m+\u001b[39mmineq)\u001b[38;5;241m*\u001b[39m(n1\u001b[38;5;241m-\u001b[39mmeq) \\\n\u001b[1;32m    351\u001b[0m         \u001b[38;5;241m+\u001b[39m \u001b[38;5;241m2\u001b[39m\u001b[38;5;241m*\u001b[39mmeq \u001b[38;5;241m+\u001b[39m n1 \u001b[38;5;241m+\u001b[39m ((n\u001b[38;5;241m+\u001b[39m\u001b[38;5;241m1\u001b[39m)\u001b[38;5;241m*\u001b[39mn)\u001b[38;5;241m/\u001b[39m\u001b[38;5;241m/\u001b[39m\u001b[38;5;241m2\u001b[39m \u001b[38;5;241m+\u001b[39m \u001b[38;5;241m2\u001b[39m\u001b[38;5;241m*\u001b[39mm \u001b[38;5;241m+\u001b[39m \u001b[38;5;241m3\u001b[39m\u001b[38;5;241m*\u001b[39mn \u001b[38;5;241m+\u001b[39m \u001b[38;5;241m3\u001b[39m\u001b[38;5;241m*\u001b[39mn1 \u001b[38;5;241m+\u001b[39m \u001b[38;5;241m1\u001b[39m\n\u001b[1;32m    352\u001b[0m len_jw \u001b[38;5;241m=\u001b[39m mineq\n\u001b[0;32m--> 353\u001b[0m w \u001b[38;5;241m=\u001b[39m \u001b[43mzeros\u001b[49m\u001b[43m(\u001b[49m\u001b[43mlen_w\u001b[49m\u001b[43m)\u001b[49m\n\u001b[1;32m    354\u001b[0m jw \u001b[38;5;241m=\u001b[39m zeros(len_jw)\n\u001b[1;32m    356\u001b[0m \u001b[38;5;66;03m# Decompose bounds into xl and xu\u001b[39;00m\n",
      "\u001b[0;31mValueError\u001b[0m: negative dimensions are not allowed"
     ]
    }
   ],
   "source": [
    "import numpy as np\n",
    "import jax\n",
    "import jax.numpy as jnp\n",
    "from scipy.optimize import minimize\n",
    "import matplotlib.pyplot as plt\n",
    "\n",
    "# Define parameters\n",
    "mu = 1.0\n",
    "T = 10  # Total time\n",
    "N = 100  # Number of discretization points\n",
    "degree = 3  # Degree of the polynomial\n",
    "\n",
    "# Collocation points\n",
    "tau_root = np.append(0, np.polynomial.legendre.leggauss(degree)[0])\n",
    "\n",
    "# Coefficients of the collocation equation\n",
    "C = np.zeros((degree+1, degree+1))\n",
    "D = np.zeros(degree+1)\n",
    "B = np.zeros(degree+1)\n",
    "\n",
    "# Construct polynomial basis\n",
    "for j in range(degree+1):\n",
    "    # Construct the Lagrange polynomial\n",
    "    L = np.poly1d([1])\n",
    "    for r in range(degree+1):\n",
    "        if r != j:\n",
    "            L *= np.poly1d([1, -tau_root[r]]) / (tau_root[j] - tau_root[r])\n",
    "    D[j] = L(1.0)\n",
    "    Ldot = np.polyder(L)\n",
    "    for r in range(degree+1):\n",
    "        C[j, r] = Ldot(tau_root[r])\n",
    "    integral_L = np.polyint(L)\n",
    "    B[j] = integral_L(1.0)\n",
    "\n",
    "# Time points\n",
    "h = T / N\n",
    "t = np.linspace(0, T, N+1)\n",
    "\n",
    "# Initial conditions\n",
    "x1_0 = 2.0\n",
    "x2_0 = 0.0\n",
    "\n",
    "# System dynamics\n",
    "def f(x1, x2, u):\n",
    "    return jnp.array([x2, mu * (1 - x1**2) * x2 - x1])\n",
    "\n",
    "# Objective function to minimize\n",
    "def objective(vars):\n",
    "    U = vars[:N]\n",
    "    X1 = vars[N:N+N+1]\n",
    "    X2 = vars[N+N+1:]\n",
    "    \n",
    "    cost = jnp.sum(U**2)\n",
    "    return cost\n",
    "\n",
    "# Constraints\n",
    "def constraints(vars):\n",
    "    U = vars[:N]\n",
    "    X1 = vars[N:N+N+1]\n",
    "    X2 = vars[N+N+1:]\n",
    "    \n",
    "    g = []\n",
    "    g.append(X1[0] - x1_0)\n",
    "    g.append(X2[0] - x2_0)\n",
    "    \n",
    "    for k in range(N):\n",
    "        X1k_end = D[0] * X1[k]\n",
    "        X2k_end = D[0] * X2[k]\n",
    "        for j in range(1, degree+1):\n",
    "            xp1 = C[0, j] * X1[k]\n",
    "            xp2 = C[0, j] * X2[k]\n",
    "            for r in range(1, degree+1):\n",
    "                xp1 += C[r, j] * vars[N+N+1 + r-1]\n",
    "                xp2 += C[r, j] * vars[N+N+1 + r-1]\n",
    "            fk = f(vars[N+N+1 + j-1], vars[N+N+1 + j-1], U[k])\n",
    "            g.append(h * fk[0] - xp1)\n",
    "            g.append(h * fk[1] - xp2)\n",
    "            X1k_end += D[j] * vars[N+N+1 + j-1]\n",
    "            X2k_end += D[j] * vars[N+N+1 + j-1]\n",
    "        g.append(X1[k+1] - X1k_end)\n",
    "        g.append(X2[k+1] - X2k_end)\n",
    "    \n",
    "    return jnp.array(g)\n",
    "\n",
    "# Initial guess\n",
    "vars0 = np.zeros(2*(N+1) + N)\n",
    "\n",
    "# Solve the problem using SciPy's minimize function\n",
    "solution = minimize(objective, vars0, constraints={'type': 'eq', 'fun': constraints}, method='SLSQP')\n",
    "\n",
    "# Extract solution\n",
    "vars_opt = solution.x\n",
    "U_opt = vars_opt[:N]\n",
    "X1_opt = vars_opt[N:N+N+1]\n",
    "X2_opt = vars_opt[N+N+1:]\n",
    "\n",
    "# Plot results\n",
    "plt.figure()\n",
    "plt.plot(t, X1_opt, label='x1')\n",
    "plt.plot(t, X2_opt, label='x2')\n",
    "plt.xlabel('Time')\n",
    "plt.ylabel('States')\n",
    "plt.legend()\n",
    "plt.show()\n"
   ]
  },
  {
   "cell_type": "code",
   "execution_count": null,
   "metadata": {},
   "outputs": [],
   "source": []
  }
 ],
 "metadata": {
  "kernelspec": {
   "display_name": "jax_env",
   "language": "python",
   "name": "python3"
  },
  "language_info": {
   "codemirror_mode": {
    "name": "ipython",
    "version": 3
   },
   "file_extension": ".py",
   "mimetype": "text/x-python",
   "name": "python",
   "nbconvert_exporter": "python",
   "pygments_lexer": "ipython3",
   "version": "3.9.18"
  }
 },
 "nbformat": 4,
 "nbformat_minor": 2
}
